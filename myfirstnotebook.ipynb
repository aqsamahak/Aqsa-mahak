{
 "cells": [
  {
   "cell_type": "code",
   "execution_count": 8,
   "id": "0755bb64-bb81-4fe6-8d39-ad879e55471f",
   "metadata": {},
   "outputs": [
    {
     "name": "stdout",
     "output_type": "stream",
     "text": [
      "hello world\n"
     ]
    }
   ],
   "source": [
    "print(\"hello world\")"
   ]
  },
  {
   "cell_type": "code",
   "execution_count": 2,
   "id": "cb3c1e25-d808-4735-8dcc-2201e63987bc",
   "metadata": {},
   "outputs": [
    {
     "name": "stdout",
     "output_type": "stream",
     "text": [
      "aqsa mahak\n"
     ]
    }
   ],
   "source": [
    "print(\"aqsa mahak\")"
   ]
  },
  {
   "cell_type": "code",
   "execution_count": 3,
   "id": "bd7f7033-a656-4048-a990-4092d225f0cf",
   "metadata": {},
   "outputs": [
    {
     "name": "stdout",
     "output_type": "stream",
     "text": [
      "4\n"
     ]
    }
   ],
   "source": [
    "print(2+2)"
   ]
  },
  {
   "cell_type": "code",
   "execution_count": 10,
   "id": "206bc198-0bfd-493f-be3c-c7ab28e320a5",
   "metadata": {},
   "outputs": [
    {
     "name": "stdout",
     "output_type": "stream",
     "text": [
      "aqsa mahak\n"
     ]
    }
   ],
   "source": [
    "print(\"aqsa mahak\")"
   ]
  },
  {
   "cell_type": "code",
   "execution_count": 5,
   "id": "51c24a0a-3a34-489c-9401-398e3ae86d18",
   "metadata": {},
   "outputs": [
    {
     "name": "stdout",
     "output_type": "stream",
     "text": [
      "aqsa mahak\n"
     ]
    }
   ],
   "source": [
    "print(\"aqsa mahak\")"
   ]
  },
  {
   "cell_type": "code",
   "execution_count": 6,
   "id": "f5aef30f-10f6-48ff-97bd-f69ce026131a",
   "metadata": {},
   "outputs": [
    {
     "name": "stdout",
     "output_type": "stream",
     "text": [
      "solar system\n"
     ]
    }
   ],
   "source": [
    "print (\"solar system\")"
   ]
  },
  {
   "cell_type": "code",
   "execution_count": 8,
   "id": "f524e3fa-8684-4a15-8ad8-50b67691754d",
   "metadata": {},
   "outputs": [
    {
     "name": "stdout",
     "output_type": "stream",
     "text": [
      "10\n"
     ]
    }
   ],
   "source": [
    "print(4+6)"
   ]
  },
  {
   "cell_type": "code",
   "execution_count": 9,
   "id": "e5694259-136c-40dc-8089-01798d5e85dc",
   "metadata": {},
   "outputs": [
    {
     "name": "stdout",
     "output_type": "stream",
     "text": [
      "10\n"
     ]
    }
   ],
   "source": [
    "print(4+6)"
   ]
  },
  {
   "cell_type": "raw",
   "id": "78caec8b-6e2a-42c9-97c6-460e100b0f56",
   "metadata": {},
   "source": [
    "print"
   ]
  },
  {
   "cell_type": "code",
   "execution_count": 1,
   "id": "6a91913a-88e2-4a27-89ca-caf325eeddcd",
   "metadata": {},
   "outputs": [
    {
     "name": "stdout",
     "output_type": "stream",
     "text": [
      "world wide web\n"
     ]
    }
   ],
   "source": [
    "print(\"world wide web\")"
   ]
  },
  {
   "cell_type": "code",
   "execution_count": 2,
   "id": "78c70be5-42e9-4044-a5d1-7b2ccd765466",
   "metadata": {},
   "outputs": [
    {
     "name": "stdout",
     "output_type": "stream",
     "text": [
      "8\n"
     ]
    }
   ],
   "source": [
    "print (3+5)"
   ]
  },
  {
   "cell_type": "code",
   "execution_count": 4,
   "id": "563fb8e3-b143-4f2b-a32b-911ea5b643b2",
   "metadata": {},
   "outputs": [
    {
     "name": "stdout",
     "output_type": "stream",
     "text": [
      "lenovo laptop\n"
     ]
    }
   ],
   "source": [
    "print(\"lenovo laptop\")"
   ]
  },
  {
   "cell_type": "raw",
   "id": "000ea4b8-1b59-422a-8523-9ed70464c9ba",
   "metadata": {},
   "source": []
  },
  {
   "cell_type": "code",
   "execution_count": 7,
   "id": "b4dbf488-9522-44c4-b6ef-4c7bc7766520",
   "metadata": {},
   "outputs": [
    {
     "name": "stdout",
     "output_type": "stream",
     "text": [
      "3.0\n"
     ]
    }
   ],
   "source": [
    "print (9/3)"
   ]
  },
  {
   "cell_type": "code",
   "execution_count": 8,
   "id": "6c9aad66-3e43-427b-8ca8-ce84b51270dc",
   "metadata": {},
   "outputs": [
    {
     "name": "stdout",
     "output_type": "stream",
     "text": [
      "python +java +c++ is the language of computer\n"
     ]
    }
   ],
   "source": [
    "print(\"python +java +c++ is the language of computer\")"
   ]
  },
  {
   "cell_type": "code",
   "execution_count": 11,
   "id": "326a2a0a-c2c7-4a5c-91e0-c848ed9a32e0",
   "metadata": {},
   "outputs": [
    {
     "name": "stdout",
     "output_type": "stream",
     "text": [
      "integrate development environment\n"
     ]
    }
   ],
   "source": [
    "print (\"integrate development environment\")"
   ]
  },
  {
   "cell_type": "code",
   "execution_count": 12,
   "id": "9986dec7-5a88-4d40-a4a1-6cace2e56169",
   "metadata": {},
   "outputs": [
    {
     "name": "stdout",
     "output_type": "stream",
     "text": [
      "numpy,scipy,py torch,tensor flow,theano,pandas,keras,scikit learning,matlopil,seaborn\n"
     ]
    }
   ],
   "source": [
    "print(\"numpy,scipy,py torch,tensor flow,theano,pandas,keras,scikit learning,matlopil,seaborn\")"
   ]
  },
  {
   "cell_type": "code",
   "execution_count": 13,
   "id": "28cc4f29-f1fe-49bc-a68a-edef6fde7a4f",
   "metadata": {},
   "outputs": [
    {
     "name": "stdout",
     "output_type": "stream",
     "text": [
      "local area network\n"
     ]
    }
   ],
   "source": [
    "print(\"local area network\")\n"
   ]
  },
  {
   "cell_type": "code",
   "execution_count": 1,
   "id": "8f72fa22-e9b5-46e3-89de-4b88e4fcece5",
   "metadata": {},
   "outputs": [
    {
     "name": "stdout",
     "output_type": "stream",
     "text": [
      "python is the high level programming language\n"
     ]
    }
   ],
   "source": [
    "print(\"python is the high level programming language\")"
   ]
  },
  {
   "cell_type": "code",
   "execution_count": 4,
   "id": "60ecadab-dfb9-4ccb-9a13-f50df2f41373",
   "metadata": {},
   "outputs": [
    {
     "name": "stdout",
     "output_type": "stream",
     "text": [
      "mobile system\n"
     ]
    }
   ],
   "source": [
    "print(\"mobile system\")"
   ]
  },
  {
   "cell_type": "code",
   "execution_count": 6,
   "id": "e8e00cc7-d3e0-4a72-b4d4-440c05785931",
   "metadata": {},
   "outputs": [
    {
     "name": "stdout",
     "output_type": "stream",
     "text": [
      "11\n"
     ]
    }
   ],
   "source": [
    "print(5+6)"
   ]
  },
  {
   "cell_type": "markdown",
   "id": "ade1b126-89d5-4783-9990-87ff6e5003e8",
   "metadata": {},
   "source": [
    "print (\"aqsa mahak\")"
   ]
  },
  {
   "cell_type": "code",
   "execution_count": null,
   "id": "d9688b99-9274-4fd5-95e6-e3b0eebc7232",
   "metadata": {},
   "outputs": [],
   "source": []
  }
 ],
 "metadata": {
  "kernelspec": {
   "display_name": "Python 3 (ipykernel)",
   "language": "python",
   "name": "python3"
  },
  "language_info": {
   "codemirror_mode": {
    "name": "ipython",
    "version": 3
   },
   "file_extension": ".py",
   "mimetype": "text/x-python",
   "name": "python",
   "nbconvert_exporter": "python",
   "pygments_lexer": "ipython3",
   "version": "3.13.5"
  }
 },
 "nbformat": 4,
 "nbformat_minor": 5
}
