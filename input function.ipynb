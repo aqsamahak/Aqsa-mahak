{
 "cells": [
  {
   "cell_type": "markdown",
   "id": "4f3c97d4-afbb-451b-ab8b-03a30e65bb19",
   "metadata": {},
   "source": [
    "## input function"
   ]
  },
  {
   "cell_type": "code",
   "execution_count": 11,
   "id": "7922758f-6c6b-45f5-9aa8-c5027b551c83",
   "metadata": {},
   "outputs": [
    {
     "name": "stdin",
     "output_type": "stream",
     "text": [
      "enter amount in words: ten thousand\n"
     ]
    }
   ],
   "source": [
    "amount=input(\"enter amount in words:\")\n",
    "             "
   ]
  },
  {
   "cell_type": "code",
   "execution_count": 1,
   "id": "558b1404-9c19-4127-9642-574ba06ddb25",
   "metadata": {},
   "outputs": [
    {
     "name": "stdin",
     "output_type": "stream",
     "text": [
      "enter amount in digit: \"10,000\"\n"
     ]
    }
   ],
   "source": [
    "amount=input(\"enter amount in digit:\")"
   ]
  },
  {
   "cell_type": "code",
   "execution_count": 14,
   "id": "e4b42cae-1958-4582-a2f7-3a9e1f82bbec",
   "metadata": {},
   "outputs": [
    {
     "name": "stdout",
     "output_type": "stream",
     "text": [
      "<class 'str'>\n"
     ]
    }
   ],
   "source": [
    "print(type(amount))      ## the type of data from input function is always a string"
   ]
  },
  {
   "cell_type": "code",
   "execution_count": 6,
   "id": "971c010f-4892-4ad3-a681-2d6020628c4d",
   "metadata": {},
   "outputs": [
    {
     "name": "stdin",
     "output_type": "stream",
     "text": [
      "enter amountin digits: 89\n"
     ]
    }
   ],
   "source": [
    "amount1=input(\"enter amountin digits:\")"
   ]
  },
  {
   "cell_type": "code",
   "execution_count": 5,
   "id": "96cb1448-cd76-437b-bd18-54000aff8cc6",
   "metadata": {},
   "outputs": [
    {
     "name": "stdin",
     "output_type": "stream",
     "text": [
      "enter amount in digits: 56\n"
     ]
    }
   ],
   "source": [
    "amount2=input(\"enter amount in digits:\")"
   ]
  },
  {
   "cell_type": "code",
   "execution_count": 7,
   "id": "4ef8dd34-20bf-4bce-8f21-ad9dba4e6cf1",
   "metadata": {},
   "outputs": [
    {
     "name": "stdout",
     "output_type": "stream",
     "text": [
      "8956\n"
     ]
    }
   ],
   "source": [
    "print(amount1+amount2)"
   ]
  },
  {
   "cell_type": "code",
   "execution_count": 5,
   "id": "a2843bcb-634e-47b4-bc6e-af62fc61b293",
   "metadata": {},
   "outputs": [
    {
     "name": "stdin",
     "output_type": "stream",
     "text": [
      "enter amountin digits: 90\n"
     ]
    }
   ],
   "source": [
    "amount1=int(input(\"enter amountin digits:\"))"
   ]
  },
  {
   "cell_type": "code",
   "execution_count": 10,
   "id": "78c74300-4163-4218-aab7-ec23f2d889c3",
   "metadata": {},
   "outputs": [
    {
     "name": "stdin",
     "output_type": "stream",
     "text": [
      "enter amount in digits: 78\n"
     ]
    }
   ],
   "source": [
    "amount2=int(input(\"enter amount in digits:\"))"
   ]
  },
  {
   "cell_type": "code",
   "execution_count": 11,
   "id": "f8fc3144-8bc8-489b-8efd-9a667058afdd",
   "metadata": {},
   "outputs": [
    {
     "name": "stdout",
     "output_type": "stream",
     "text": [
      "168\n"
     ]
    }
   ],
   "source": [
    "print(amount1+amount2)"
   ]
  },
  {
   "cell_type": "code",
   "execution_count": 13,
   "id": "02d6e3c3-125c-4756-a669-01a07a7fac11",
   "metadata": {},
   "outputs": [
    {
     "name": "stdin",
     "output_type": "stream",
     "text": [
      "enter the number 45\n",
      "enter number of marks 78\n"
     ]
    }
   ],
   "source": [
    "a=input(\"enter the number\")\n",
    "b=input(\"enter number of marks\")"
   ]
  },
  {
   "cell_type": "code",
   "execution_count": 14,
   "id": "8cd5d052-e803-4b3e-991a-89aab06040d2",
   "metadata": {},
   "outputs": [
    {
     "name": "stdout",
     "output_type": "stream",
     "text": [
      "4578\n"
     ]
    }
   ],
   "source": [
    "sona=print(a+b)"
   ]
  },
  {
   "cell_type": "code",
   "execution_count": 15,
   "id": "0c26d617-5325-432e-a6d7-608d01fe4868",
   "metadata": {},
   "outputs": [
    {
     "name": "stdin",
     "output_type": "stream",
     "text": [
      "enter the number 65\n",
      "enter number of marks 77\n"
     ]
    }
   ],
   "source": [
    "a= int(input(\"enter the number\"))\n",
    "b=int(input(\"enter number of marks\"))"
   ]
  },
  {
   "cell_type": "code",
   "execution_count": 16,
   "id": "aeb56ada-5c5c-463c-855b-4901b78895fb",
   "metadata": {},
   "outputs": [
    {
     "name": "stdout",
     "output_type": "stream",
     "text": [
      "142\n"
     ]
    }
   ],
   "source": [
    "sign=print(a+b)"
   ]
  },
  {
   "cell_type": "markdown",
   "id": "8302b837-b788-4adc-a05a-bfb8c99a9f0c",
   "metadata": {},
   "source": [
    "## basic calculator"
   ]
  },
  {
   "cell_type": "code",
   "execution_count": 15,
   "id": "a6094e0b-97aa-4e12-b5a8-003ea9d787d3",
   "metadata": {},
   "outputs": [
    {
     "name": "stdin",
     "output_type": "stream",
     "text": [
      "enter second number: 89\n"
     ]
    }
   ],
   "source": [
    "num2=float(input(\"enter second number:\"))\n",
    "        "
   ]
  },
  {
   "cell_type": "code",
   "execution_count": 16,
   "id": "5dd8d43c-b6da-49e3-9d8b-f8483e90c822",
   "metadata": {},
   "outputs": [
    {
     "name": "stdout",
     "output_type": "stream",
     "text": [
      "179.0\n"
     ]
    }
   ],
   "source": [
    "result=num1+num2\n",
    "print(result)"
   ]
  },
  {
   "cell_type": "code",
   "execution_count": 17,
   "id": "071f10eb-1e5b-4f31-8550-2e0b065d84fc",
   "metadata": {},
   "outputs": [
    {
     "name": "stdin",
     "output_type": "stream",
     "text": [
      "enter first number: 89\n"
     ]
    }
   ],
   "source": [
    "num1=float(input(\"enter first number:\"))"
   ]
  },
  {
   "cell_type": "code",
   "execution_count": 18,
   "id": "bf1a90bf-7066-4681-8746-0efbffa6650e",
   "metadata": {},
   "outputs": [
    {
     "name": "stdin",
     "output_type": "stream",
     "text": [
      "enter second number: 67\n"
     ]
    }
   ],
   "source": [
    "num2=float(input(\"enter second number:\"))\n"
   ]
  },
  {
   "cell_type": "code",
   "execution_count": 19,
   "id": "4def4b9e-ff58-4a6d-9e9f-59fa28bee9c1",
   "metadata": {},
   "outputs": [
    {
     "name": "stdout",
     "output_type": "stream",
     "text": [
      "22.0\n"
     ]
    }
   ],
   "source": [
    "roman=num1-num2\n",
    "print(roman)"
   ]
  },
  {
   "cell_type": "code",
   "execution_count": 20,
   "id": "5529106f-5c23-4413-a375-f1c531ec046a",
   "metadata": {},
   "outputs": [
    {
     "name": "stdin",
     "output_type": "stream",
     "text": [
      "enter first number: 78\n"
     ]
    }
   ],
   "source": [
    "num1=float(input(\"enter first number:\"))\n"
   ]
  },
  {
   "cell_type": "code",
   "execution_count": 21,
   "id": "7d3c960a-5f47-414f-b2f4-4c81698b3f9a",
   "metadata": {},
   "outputs": [
    {
     "name": "stdin",
     "output_type": "stream",
     "text": [
      "enter second number: 45\n"
     ]
    }
   ],
   "source": [
    "num2=float(input(\"enter second number:\"))\n"
   ]
  },
  {
   "cell_type": "code",
   "execution_count": 22,
   "id": "af2ac5f2-ff95-4543-b280-699b44e944d0",
   "metadata": {},
   "outputs": [
    {
     "name": "stdout",
     "output_type": "stream",
     "text": [
      "3510.0\n"
     ]
    }
   ],
   "source": [
    "roman=num1*num2\n",
    "print(roman)"
   ]
  },
  {
   "cell_type": "code",
   "execution_count": 17,
   "id": "ab32afc5-0523-4df1-bdc6-9f0cfc177d47",
   "metadata": {},
   "outputs": [
    {
     "name": "stdin",
     "output_type": "stream",
     "text": [
      "enter the no 67\n",
      "enter the no 90\n"
     ]
    }
   ],
   "source": [
    "aqsa=float(input(\"enter the no\"))\n",
    "sona=float(input(\"enter the no\"))\n"
   ]
  },
  {
   "cell_type": "code",
   "execution_count": 20,
   "id": "61ba2528-09da-4aa1-a475-559c2dcfaa56",
   "metadata": {},
   "outputs": [
    {
     "name": "stdout",
     "output_type": "stream",
     "text": [
      "6030.0\n",
      "157.0\n",
      "-23.0\n"
     ]
    }
   ],
   "source": [
    "print(aqsa*sona)\n",
    "print(aqsa+sona)\n",
    "print(aqsa-sona)"
   ]
  },
  {
   "cell_type": "code",
   "execution_count": null,
   "id": "5c13a749-ec96-45b8-9300-47acfaa423aa",
   "metadata": {},
   "outputs": [],
   "source": []
  },
  {
   "cell_type": "code",
   "execution_count": null,
   "id": "cc5caf0d-3676-4b51-b176-7d72082bac0d",
   "metadata": {},
   "outputs": [],
   "source": []
  },
  {
   "cell_type": "code",
   "execution_count": null,
   "id": "264b4091-7b1d-4c96-916e-8458265e4e48",
   "metadata": {},
   "outputs": [],
   "source": []
  },
  {
   "cell_type": "code",
   "execution_count": null,
   "id": "ec0f572e-b443-43c4-a9dd-50303122d704",
   "metadata": {},
   "outputs": [],
   "source": []
  },
  {
   "cell_type": "markdown",
   "id": "05836faa-5eea-47d8-bbca-7b09796ae5ab",
   "metadata": {},
   "source": [
    "##  conditional statement (if ,else,elif)"
   ]
  },
  {
   "cell_type": "code",
   "execution_count": 28,
   "id": "972478b3-c18c-4cfa-a9eb-f42af0c28561",
   "metadata": {},
   "outputs": [
    {
     "name": "stdin",
     "output_type": "stream",
     "text": [
      "enter the first number 80\n"
     ]
    }
   ],
   "source": [
    "num1=float(input(\"enter the first number:\"))"
   ]
  },
  {
   "cell_type": "code",
   "execution_count": 26,
   "id": "79a832c7-5fe2-48f6-8543-96ff2380698f",
   "metadata": {},
   "outputs": [
    {
     "name": "stdin",
     "output_type": "stream",
     "text": [
      "enter the second number 45\n"
     ]
    }
   ],
   "source": [
    "num2=float(input(\"enter the second number:\"))"
   ]
  },
  {
   "cell_type": "code",
   "execution_count": 38,
   "id": "1484af0f-d06d-405c-a2c1-da90ca30c74a",
   "metadata": {},
   "outputs": [
    {
     "name": "stdout",
     "output_type": "stream",
     "text": [
      "125.0\n"
     ]
    }
   ],
   "source": [
    "operator=(num1+num2)\n",
    "print(operator)"
   ]
  },
  {
   "cell_type": "code",
   "execution_count": 12,
   "id": "bab617da-8993-4cef-97e0-23455355f093",
   "metadata": {},
   "outputs": [
    {
     "name": "stdin",
     "output_type": "stream",
     "text": [
      "enter the first number: 56\n",
      "enter the second number: 34\n",
      "enter operator(user choice =+,-,/,*) *\n"
     ]
    },
    {
     "name": "stdout",
     "output_type": "stream",
     "text": [
      "1904.0\n"
     ]
    }
   ],
   "source": [
    "num1=float(input(\"enter the first number:\"))\n",
    "num2=float(input(\"enter the second number:\"))\n",
    "operator=input(\"enter operator(user choice =+,-,/,*)\")\n",
    "if operator== \"+\":\n",
    "    result=num1+num2\n",
    "elif operator== \"-\":\n",
    "    result=num1-num2\n",
    "elif operator== \"*\":\n",
    "    result=num1*num2\n",
    "print(result)"
   ]
  },
  {
   "cell_type": "code",
   "execution_count": 13,
   "id": "a11e2ea0-f686-4ee5-aefd-ebd1ae71cb85",
   "metadata": {},
   "outputs": [
    {
     "name": "stdout",
     "output_type": "stream",
     "text": [
      "1904.0\n"
     ]
    }
   ],
   "source": [
    "print(result)"
   ]
  },
  {
   "cell_type": "code",
   "execution_count": 18,
   "id": "f35d38e8-373d-4959-a3c7-97dc7a8cbdd5",
   "metadata": {},
   "outputs": [
    {
     "name": "stdin",
     "output_type": "stream",
     "text": [
      "number of age 13\n"
     ]
    },
    {
     "name": "stdout",
     "output_type": "stream",
     "text": [
      "great\n"
     ]
    }
   ],
   "source": [
    "a=int(input(\"number of age\"))\n",
    "if (a>18):\n",
    "    print(\"good\")\n",
    "elif(a<34):\n",
    "    print(\"great\")\n",
    "else:\n",
    "    print(\"sona\")"
   ]
  },
  {
   "cell_type": "code",
   "execution_count": 37,
   "id": "db1cd7dd-81c2-4616-b36e-951f40584605",
   "metadata": {},
   "outputs": [
    {
     "name": "stdin",
     "output_type": "stream",
     "text": [
      "enter the rate of game 56\n"
     ]
    },
    {
     "name": "stdout",
     "output_type": "stream",
     "text": [
      "excellent\n"
     ]
    }
   ],
   "source": [
    "game=float(input(\"enter the rate of game\"))\n",
    "if  game>50 :\n",
    "    print(\"excellent\")\n",
    "elif game< 50 :\n",
    "    print (\"good\")\n",
    "elif game==0:\n",
    "    print(\"good\")\n",
    "else:\n",
    "    print(\"aqsa\")"
   ]
  },
  {
   "cell_type": "code",
   "execution_count": 48,
   "id": "ee072d3d-4fa3-481a-b7c5-0770bfdff4b8",
   "metadata": {},
   "outputs": [
    {
     "name": "stdin",
     "output_type": "stream",
     "text": [
      "enter the first number: 67\n",
      "enter the second number: 90\n",
      "enter operator(user choice +,-,*,) *\n"
     ]
    },
    {
     "name": "stdout",
     "output_type": "stream",
     "text": [
      "6030.0\n"
     ]
    }
   ],
   "source": [
    "num1=float(input(\"enter the first number:\"))\n",
    "num2=float(input(\"enter the second number:\"))\n",
    "operator=input(\"enter operator(user choice +,-,*,)\")\n",
    "if operator== \"+\":\n",
    "    print(num1+num2)\n",
    "elif operator== \"-\":\n",
    "    print(num1+num2)\n",
    "elif operator== \"*\":\n",
    "    print(num1*num2)\n",
    "else:\n",
    "    print(\"sonal\")"
   ]
  },
  {
   "cell_type": "code",
   "execution_count": 2,
   "id": "65c776b3-56f5-4577-866b-52887105bb19",
   "metadata": {},
   "outputs": [
    {
     "name": "stdin",
     "output_type": "stream",
     "text": [
      "enter the rate of game 56\n"
     ]
    },
    {
     "name": "stdout",
     "output_type": "stream",
     "text": [
      "excellent\n",
      "aqsa\n"
     ]
    }
   ],
   "source": [
    "game=float(input(\"enter the rate of game\"))\n",
    "if game>50 :\n",
    "    print(\"excellent\")\n",
    "if game< 50 :\n",
    "    print (\"good\")\n",
    "if game==0:\n",
    "    print(\"good\")\n",
    "else:\n",
    "    print(\"aqsa\")"
   ]
  },
  {
   "cell_type": "code",
   "execution_count": 56,
   "id": "181b354b-aa83-437d-84e3-ee5a1600477a",
   "metadata": {},
   "outputs": [
    {
     "name": "stdin",
     "output_type": "stream",
     "text": [
      "enter the number 67\n"
     ]
    },
    {
     "name": "stdout",
     "output_type": "stream",
     "text": [
      "positive\n",
      "aqsa\n"
     ]
    }
   ],
   "source": [
    "num=int(input(\"enter the number\"))\n",
    "if num>0:\n",
    "    print(\"positive\")\n",
    "if num<0:\n",
    "    print(\"negative\")\n",
    "else:\n",
    "    print(\"aqsa\")\n",
    "\n",
    "        "
   ]
  },
  {
   "cell_type": "code",
   "execution_count": 59,
   "id": "1db0ce40-d33c-4c1f-816b-fc8ae7fc873e",
   "metadata": {},
   "outputs": [
    {
     "name": "stdin",
     "output_type": "stream",
     "text": [
      "enter the number 0\n"
     ]
    },
    {
     "name": "stdout",
     "output_type": "stream",
     "text": [
      "even\n"
     ]
    }
   ],
   "source": [
    "num=int(input(\"enter the number\"))\n",
    "if num/2==0:\n",
    "   print(\"even\")\n",
    "else:\n",
    "    print(\"odd\")"
   ]
  },
  {
   "cell_type": "code",
   "execution_count": 1,
   "id": "7cf3a5d0-0183-4ac3-8bb6-74f5b0b503a1",
   "metadata": {},
   "outputs": [
    {
     "name": "stdin",
     "output_type": "stream",
     "text": [
      "enter the no 2\n",
      "enter the no 4\n",
      "enter the no 6\n"
     ]
    },
    {
     "name": "stdout",
     "output_type": "stream",
     "text": [
      "4\n",
      "6\n",
      "number\n"
     ]
    }
   ],
   "source": [
    "a=int(input(\"enter the no\"))\n",
    "b=int(input(\"enter the no\"))\n",
    "c=int(input(\"enter the no\"))\n",
    "if a>b and a>=b:\n",
    "   print(a)\n",
    "if a<b and a<=b:\n",
    "    print(b)\n",
    "if a>c :\n",
    "    print(a)\n",
    "if a<c:\n",
    "    print(c)\n",
    "if a>c  and a>=c:\n",
    "    print(c)\n",
    "else:\n",
    "    print(\"number\")\n",
    "    "
   ]
  },
  {
   "cell_type": "code",
   "execution_count": 4,
   "id": "80a75a8c-381d-4c98-b8d4-6cfec8af4adc",
   "metadata": {},
   "outputs": [
    {
     "name": "stdin",
     "output_type": "stream",
     "text": [
      "enter the number 3\n"
     ]
    },
    {
     "name": "stdout",
     "output_type": "stream",
     "text": [
      "odd\n"
     ]
    }
   ],
   "source": [
    "num1=int(input(\"enter the number\"))\n",
    "if num1==2:\n",
    "    print(\"even\")\n",
    "if num1==3:\n",
    "   print(\"odd\")\n",
    "else:\n",
    "    print(\"num\")"
   ]
  },
  {
   "cell_type": "code",
   "execution_count": 5,
   "id": "292d9532-976f-4290-b4a5-91561075b02c",
   "metadata": {},
   "outputs": [
    {
     "name": "stdin",
     "output_type": "stream",
     "text": [
      "day of week 4\n"
     ]
    },
    {
     "name": "stdout",
     "output_type": "stream",
     "text": [
      "wednesday\n"
     ]
    }
   ],
   "source": [
    "day=int(input(\"day of week\"))\n",
    "if day==1:\n",
    "    print(\"sunday\")\n",
    "if day==2:\n",
    "    print(\"monday\")\n",
    "if day==3:\n",
    "    print(\"tuesday\")\n",
    "if day==4:\n",
    "    print(\"wednesday\")\n",
    "elif day==5:\n",
    "    print(\"thursday\")\n",
    "elif day==6:\n",
    "    print(\"friday\")\n",
    "elif day==7:\n",
    "    print(\"saturday\")\n",
    "else:\n",
    "    print(\"week of name\")"
   ]
  },
  {
   "cell_type": "code",
   "execution_count": 4,
   "id": "23c646ef-9981-44b9-a299-67d977187621",
   "metadata": {},
   "outputs": [
    {
     "name": "stdin",
     "output_type": "stream",
     "text": [
      "ticket price 13\n"
     ]
    },
    {
     "name": "stdout",
     "output_type": "stream",
     "text": [
      "100\n",
      "price\n"
     ]
    }
   ],
   "source": [
    "age=int(input(\"ticket price\"))\n",
    "if age>18:\n",
    "    print(150)\n",
    "if age<18:\n",
    "    print(100)\n",
    "if age==18:\n",
    "    print(50)\n",
    "else:\n",
    "    print(\"price\")"
   ]
  },
  {
   "cell_type": "code",
   "execution_count": 8,
   "id": "16f367b6-7071-4ec5-ab54-f00d5ad2f7de",
   "metadata": {},
   "outputs": [
    {
     "name": "stdin",
     "output_type": "stream",
     "text": [
      "no of student 34\n"
     ]
    },
    {
     "name": "stdout",
     "output_type": "stream",
     "text": [
      "good\n"
     ]
    }
   ],
   "source": [
    "no=int(input(\"no of student\"))\n",
    "if no>100:\n",
    "    print(\"excellent\")\n",
    "if no<100:\n",
    "    print(\"good\")\n",
    "elif no==50:\n",
    "    print(\"average\")\n",
    "else:\n",
    "    print(\"student marks:\")"
   ]
  },
  {
   "cell_type": "code",
   "execution_count": 2,
   "id": "6532602c-0daa-473d-adce-27889fb7cc04",
   "metadata": {},
   "outputs": [
    {
     "name": "stdin",
     "output_type": "stream",
     "text": [
      " 34\n"
     ]
    }
   ],
   "source": [
    "num=int(input())"
   ]
  },
  {
   "cell_type": "code",
   "execution_count": 4,
   "id": "7999cb15-d2a7-4483-8c7a-2c5ff9336ddc",
   "metadata": {},
   "outputs": [
    {
     "name": "stdin",
     "output_type": "stream",
     "text": [
      "enter a number 45\n"
     ]
    }
   ],
   "source": [
    "num=input(\"enter a number\")"
   ]
  },
  {
   "cell_type": "code",
   "execution_count": 7,
   "id": "33a55191-721a-48b3-aced-b31b39a86d38",
   "metadata": {},
   "outputs": [
    {
     "name": "stdin",
     "output_type": "stream",
     "text": [
      "fill up your name \"aqsa\"\n"
     ]
    }
   ],
   "source": [
    "yourname=input(\"fill up your name\")\n"
   ]
  },
  {
   "cell_type": "code",
   "execution_count": 11,
   "id": "70077c7a-8cf1-42a1-860f-d0036184d9dc",
   "metadata": {},
   "outputs": [
    {
     "name": "stdout",
     "output_type": "stream",
     "text": [
      "10\n"
     ]
    }
   ],
   "source": [
    "x=2\n",
    "y=5\n",
    "result=x*y\n",
    "print(result)"
   ]
  },
  {
   "cell_type": "code",
   "execution_count": 13,
   "id": "33442f1c-fe72-462b-ac2b-6d1a8ff85838",
   "metadata": {},
   "outputs": [
    {
     "name": "stdin",
     "output_type": "stream",
     "text": [
      "enter the number 45\n"
     ]
    }
   ],
   "source": [
    "num1=float(input(\"enter the number\"))\n",
    "           "
   ]
  },
  {
   "cell_type": "code",
   "execution_count": 14,
   "id": "29b7e76b-b800-42dd-bc84-d8dd9a452f11",
   "metadata": {},
   "outputs": [
    {
     "name": "stdout",
     "output_type": "stream",
     "text": [
      "<class 'float'>\n"
     ]
    }
   ],
   "source": [
    "print(type(num1))"
   ]
  },
  {
   "cell_type": "code",
   "execution_count": 15,
   "id": "28007b77-f4d1-423a-bbbe-de7af1778ac1",
   "metadata": {},
   "outputs": [
    {
     "name": "stdin",
     "output_type": "stream",
     "text": [
      "enter a  first number 2\n",
      "enter a second number 4\n"
     ]
    }
   ],
   "source": [
    "num1=float(input(\"enter a  first number\"))\n",
    "num2=float(input(\"enter a second number\"))"
   ]
  },
  {
   "cell_type": "code",
   "execution_count": 16,
   "id": "1dec81b1-e0c1-4017-99e6-a44581254311",
   "metadata": {},
   "outputs": [
    {
     "data": {
      "text/plain": [
       "6.0"
      ]
     },
     "execution_count": 16,
     "metadata": {},
     "output_type": "execute_result"
    }
   ],
   "source": [
    "num1+num2"
   ]
  },
  {
   "cell_type": "code",
   "execution_count": 21,
   "id": "f789b984-3991-4169-9bf8-ca59f615d893",
   "metadata": {},
   "outputs": [
    {
     "name": "stdin",
     "output_type": "stream",
     "text": [
      "enter a  first number *\n"
     ]
    },
    {
     "ename": "ValueError",
     "evalue": "could not convert string to float: '*'",
     "output_type": "error",
     "traceback": [
      "\u001b[1;31m---------------------------------------------------------------------------\u001b[0m",
      "\u001b[1;31mValueError\u001b[0m                                Traceback (most recent call last)",
      "Cell \u001b[1;32mIn[21], line 1\u001b[0m\n\u001b[1;32m----> 1\u001b[0m num1\u001b[38;5;241m=\u001b[39m\u001b[38;5;28mfloat\u001b[39m(\u001b[38;5;28minput\u001b[39m(\u001b[38;5;124m\"\u001b[39m\u001b[38;5;124menter a  first number\u001b[39m\u001b[38;5;124m\"\u001b[39m))\n\u001b[0;32m      2\u001b[0m num2\u001b[38;5;241m=\u001b[39m\u001b[38;5;28mfloat\u001b[39m(\u001b[38;5;28minput\u001b[39m(\u001b[38;5;124m\"\u001b[39m\u001b[38;5;124menter a second number\u001b[39m\u001b[38;5;124m\"\u001b[39m))\n\u001b[0;32m      3\u001b[0m \u001b[38;5;28;01mif\u001b[39;00m num1\u001b[38;5;241m*\u001b[39mnum2\u001b[38;5;241m>\u001b[39mnum1:\n",
      "\u001b[1;31mValueError\u001b[0m: could not convert string to float: '*'"
     ]
    }
   ],
   "source": [
    "num1=float(input(\"enter a  first number\"))\n",
    "num2=float(input(\"enter a second number\"))\n",
    "if num1*num2>num1:\n",
    "    print(\"good amt\")\n",
    "elif num1*num2<15:\n",
    "    print(\"nice\")\n",
    "else:\n",
    "    print(\"out of coden:\")\n"
   ]
  },
  {
   "cell_type": "code",
   "execution_count": 23,
   "id": "f2f3b992-c6bd-4f92-8f84-468e88312bce",
   "metadata": {},
   "outputs": [
    {
     "name": "stdin",
     "output_type": "stream",
     "text": [
      "enter a  first number 1\n",
      "enter a second number 1\n"
     ]
    },
    {
     "name": "stdout",
     "output_type": "stream",
     "text": [
      "nice\n"
     ]
    }
   ],
   "source": [
    "num1=float(input(\"enter a  first number\"))\n",
    "num2=float(input(\"enter a second number\"))\n",
    "if num1*num2>num1:\n",
    "    print(\"good amt\")\n",
    "elif num1*num2<15:\n",
    "    print(\"nice\")\n",
    "else:\n",
    "    print(\"out of coden:\")\n",
    "    \n"
   ]
  },
  {
   "cell_type": "code",
   "execution_count": 31,
   "id": "e1614ebf-083a-4ed2-ab92-a4db04043bd7",
   "metadata": {},
   "outputs": [
    {
     "name": "stdin",
     "output_type": "stream",
     "text": [
      "enter a  first number #\n"
     ]
    },
    {
     "ename": "ValueError",
     "evalue": "could not convert string to float: '#'",
     "output_type": "error",
     "traceback": [
      "\u001b[1;31m---------------------------------------------------------------------------\u001b[0m",
      "\u001b[1;31mValueError\u001b[0m                                Traceback (most recent call last)",
      "Cell \u001b[1;32mIn[31], line 1\u001b[0m\n\u001b[1;32m----> 1\u001b[0m num1\u001b[38;5;241m=\u001b[39m\u001b[38;5;28mfloat\u001b[39m(\u001b[38;5;28minput\u001b[39m(\u001b[38;5;124m\"\u001b[39m\u001b[38;5;124menter a  first number\u001b[39m\u001b[38;5;124m\"\u001b[39m))\n\u001b[0;32m      2\u001b[0m num2\u001b[38;5;241m=\u001b[39m\u001b[38;5;28mfloat\u001b[39m(\u001b[38;5;28minput\u001b[39m(\u001b[38;5;124m\"\u001b[39m\u001b[38;5;124menter a second number\u001b[39m\u001b[38;5;124m\"\u001b[39m))\n\u001b[0;32m      3\u001b[0m \u001b[38;5;28;01mif\u001b[39;00m num1\u001b[38;5;241m*\u001b[39mnum2\u001b[38;5;241m>\u001b[39mnum1:\n",
      "\u001b[1;31mValueError\u001b[0m: could not convert string to float: '#'"
     ]
    }
   ],
   "source": [
    "num1=float(input(\"enter a  first number\"))\n",
    "num2=float(input(\"enter a second number\"))\n",
    "if num1*num2>num1:\n",
    "    print(\"good amt\")\n",
    "elif num1*num2<15:\n",
    "    print(\"nice\")\n",
    "else:\n",
    "    print(\"out of coden\")\n"
   ]
  },
  {
   "cell_type": "code",
   "execution_count": 36,
   "id": "fbfaa192-ca66-4729-bffa-493030fee140",
   "metadata": {},
   "outputs": [
    {
     "name": "stdin",
     "output_type": "stream",
     "text": [
      "enter a  first number 15\n",
      "enter a second number 1\n"
     ]
    },
    {
     "name": "stdout",
     "output_type": "stream",
     "text": [
      "out of coden:\n"
     ]
    }
   ],
   "source": [
    "num1=float(input(\"enter a  first number\"))\n",
    "num2=float(input(\"enter a second number\"))\n",
    "if num1*num2>num1:\n",
    "    print(\"good amt\")\n",
    "elif num1*num2<15:\n",
    "    print(\"nice\")\n",
    "else:\n",
    "    print(\"out of coden:\")\n"
   ]
  },
  {
   "cell_type": "code",
   "execution_count": 5,
   "id": "327bbfc2-08cb-4f04-8921-b5a65a73f30f",
   "metadata": {},
   "outputs": [
    {
     "name": "stdin",
     "output_type": "stream",
     "text": [
      "enter first number 74\n",
      "enter a second number 45\n",
      "user demand('+','-','*','/') 98\n"
     ]
    },
    {
     "name": "stdout",
     "output_type": "stream",
     "text": [
      "invalid operator\n",
      "result of operator:\n"
     ]
    }
   ],
   "source": [
    "num1=float(input(\"enter first number\"))\n",
    "num2=float(input(\"enter a second number\"))\n",
    "operator=input(\"user demand('+','-','*','/')\")\n",
    "if operator== \"+\":\n",
    "    print(num1+num2)\n",
    "elif operator== \"-\":\n",
    "    print(num1+num2)\n",
    "elif operator== \"*\":\n",
    "    print(num1*num2)\n",
    "else:\n",
    "    print(\"invalid operator\")\n",
    "    print(\"result of operator:\")"
   ]
  },
  {
   "cell_type": "code",
   "execution_count": 60,
   "id": "6df2f9f3-e59f-4e1f-9643-e83ddd49be35",
   "metadata": {},
   "outputs": [
    {
     "name": "stdin",
     "output_type": "stream",
     "text": [
      "enter first number 45\n",
      "enter a second number 67\n",
      "user demand('+','-','*','/') 56\n"
     ]
    },
    {
     "name": "stdout",
     "output_type": "stream",
     "text": [
      "invalid operator\n"
     ]
    },
    {
     "ename": "NameError",
     "evalue": "name 'result' is not defined",
     "output_type": "error",
     "traceback": [
      "\u001b[1;31m---------------------------------------------------------------------------\u001b[0m",
      "\u001b[1;31mNameError\u001b[0m                                 Traceback (most recent call last)",
      "Cell \u001b[1;32mIn[60], line 12\u001b[0m\n\u001b[0;32m     10\u001b[0m \u001b[38;5;28;01melse\u001b[39;00m:\n\u001b[0;32m     11\u001b[0m     \u001b[38;5;28mprint\u001b[39m(\u001b[38;5;124m\"\u001b[39m\u001b[38;5;124minvalid operator\u001b[39m\u001b[38;5;124m\"\u001b[39m)\n\u001b[1;32m---> 12\u001b[0m     \u001b[38;5;28mprint\u001b[39m(\u001b[38;5;124m\"\u001b[39m\u001b[38;5;124mresult of operator:\u001b[39m\u001b[38;5;124m\"\u001b[39m,result)\n",
      "\u001b[1;31mNameError\u001b[0m: name 'result' is not defined"
     ]
    }
   ],
   "source": [
    "num1=float(input(\"enter first number\"))\n",
    "num2=float(input(\"enter a second number\"))\n",
    "operator=input(\"user demand('+','-','*','/')\")\n",
    "if operator== \"+\":\n",
    "    print(num1+num2)\n",
    "elif operator== \"-\":\n",
    "    print(num1+num2)\n",
    "elif operator== \"*\":\n",
    "    print(num1*num2)\n",
    "else:\n",
    "    print(\"invalid operator\")\n",
    "    print(\"result of operator:\",result)"
   ]
  },
  {
   "cell_type": "code",
   "execution_count": 7,
   "id": "67678f4d-ff1c-4225-8ea6-d30cbc40d299",
   "metadata": {},
   "outputs": [
    {
     "name": "stdin",
     "output_type": "stream",
     "text": [
      "enter first number 8\n",
      "enter a second number 4\n",
      "user demand('+','-','*','/') 92\n"
     ]
    },
    {
     "name": "stdout",
     "output_type": "stream",
     "text": [
      "invalid operator\n",
      "result of operator: None\n"
     ]
    }
   ],
   "source": [
    "num1=float(input(\"enter first number\"))\n",
    "num2=float(input(\"enter a second number\"))\n",
    "operator=input(\"user demand('+','-','*','/')\")\n",
    "if operator== \"+\":\n",
    "    result=print(num1+num2)\n",
    "elif operator== \"-\":\n",
    "    result=print(num1+num2)\n",
    "elif operator== \"*\":\n",
    "    result=print(num1*num2)\n",
    "else:\n",
    "    print(\"invalid operator\")\n",
    "    print(\"result of operator:\",result)"
   ]
  },
  {
   "cell_type": "code",
   "execution_count": 5,
   "id": "bc27b5ec-ffd2-43b6-9c63-347f2a7b462b",
   "metadata": {},
   "outputs": [
    {
     "name": "stdin",
     "output_type": "stream",
     "text": [
      "enter first number 47\n",
      "enter a second number 45\n",
      "user demand('+','-','*','/') 52\n"
     ]
    },
    {
     "name": "stdout",
     "output_type": "stream",
     "text": [
      "invalid operator\n",
      "\n"
     ]
    }
   ],
   "source": [
    "num1=float(input(\"enter first number\"))\n",
    "num2=float(input(\"enter a second number\"))\n",
    "operator=input(\"user demand('+','-','*','/')\")\n",
    "if operator== \"+\":\n",
    "    result=print(num1+num2)\n",
    "elif operator== \"-\":\n",
    "    result=print(num1-num2)\n",
    "elif operator== \"*\":\n",
    "    result=print(num1*num2)\n",
    "else:\n",
    "    print(\"invalid operator\")\n",
    "    print()"
   ]
  },
  {
   "cell_type": "code",
   "execution_count": 27,
   "id": "90e2e3ab-6fff-4b7b-b344-68bd515098a6",
   "metadata": {},
   "outputs": [
    {
     "name": "stdin",
     "output_type": "stream",
     "text": [
      "enter first number 45\n",
      "enter a second number 12\n",
      "user demand('+','-','*','/') 45\n"
     ]
    },
    {
     "name": "stdout",
     "output_type": "stream",
     "text": [
      "invalid operator\n",
      "result of operator: None\n"
     ]
    }
   ],
   "source": [
    "num1=float(input(\"enter first number\"))\n",
    "num2=float(input(\"enter a second number\"))\n",
    "operator=input(\"user demand('+','-','*','/')\")\n",
    "if operator== \"+\":\n",
    "    result=print(num1+num2)\n",
    "elif operator== \"-\":\n",
    "    result=print(num1+num2)\n",
    "elif operator== \"*\":\n",
    "    result=print(num1*num2)\n",
    "else:\n",
    "    print(\"invalid operator\")\n",
    "    print(\"result of operator:\",result)\n",
    "    "
   ]
  },
  {
   "cell_type": "code",
   "execution_count": 16,
   "id": "fd2a8787-6b7c-4379-a75f-076890f8bf04",
   "metadata": {},
   "outputs": [
    {
     "name": "stdout",
     "output_type": "stream",
     "text": [
      "normal tea\n",
      "lemon tea\n"
     ]
    }
   ],
   "source": [
    "ingredient1= (\"enter a name\")\n",
    "ingredient2=(\"enter a name\")\n",
    "ingredient3=(\"enter a name\")\n",
    "ingredient4=(\"enter a name\")\n",
    "ingredient5=(\"enter a name\")\n",
    "ingredient6=(\"enter a name\")\n",
    "ingredient7=(\"enter a name\")\n",
    "ingredient8=(\"enter a name\")\n",
    "if ingredient1+ingredient3+ingredient4+ingredient7:\n",
    "    print(\"normal tea\")\n",
    "if ingredient1+ingredient4+ingredient2:\n",
    "    print(\"lemon tea\")\n",
    "else:\n",
    "    print(\"tea\")\n",
    "\n",
    "\n"
   ]
  },
  {
   "cell_type": "code",
   "execution_count": 2,
   "id": "86407922-3ba3-4467-9cf2-1773ad3a0006",
   "metadata": {},
   "outputs": [
    {
     "name": "stdin",
     "output_type": "stream",
     "text": [
      "enter a number water\n",
      "enter a number milk\n",
      "enter a number sugar\n",
      "enter a number tea leaves\n",
      "enter a number ginger\n",
      "enter a number masala\n",
      "enter a number cardamom\n",
      "choice  choice1+choice3+choicechoice6+choice7\n"
     ]
    },
    {
     "name": "stdout",
     "output_type": "stream",
     "text": [
      "tea\n"
     ]
    }
   ],
   "source": [
    "choice1=input(\"enter a number\")\n",
    "choice2=input(\"enter a number\")\n",
    "choice3=input(\"enter a number\")\n",
    "choice4=input(\"enter a number\")\n",
    "choice5=input(\"enter a number\")\n",
    "choice6=input(\"enter a number\")\n",
    "choice7=input(\"enter a number\")\n",
    "operator=input(\"choice\")\n",
    "if choice== 'choice1'+'choice3'+'choice6'+'choice7:\n",
    "    print(\"lemon tea\")\n",
    "if choice== 'choice1'+'choice2'+'choice6'+'choice7':\n",
    "    print(\"normal tea\")\n",
    "elif choice== choice1+choice2+choice6+choice7+choice5:\n",
    "    print(\"masala tea\")\n",
    "else: \n",
    "    print(\"tea\")"
   ]
  },
  {
   "cell_type": "code",
   "execution_count": 6,
   "id": "1407f76d-ae92-4086-87c6-c1817083bfb0",
   "metadata": {},
   "outputs": [
    {
     "name": "stdin",
     "output_type": "stream",
     "text": [
      "tea tea\n",
      "enter operator (milk/water/cardamom/sugar/ginger/lemon): lemon\n"
     ]
    },
    {
     "name": "stdout",
     "output_type": "stream",
     "text": [
      "lemon tea\n"
     ]
    }
   ],
   "source": [
    "num=input(\"tea\")\n",
    "operator=input(\"enter operator (milk/water/cardamom/sugar/ginger/lemon):\")\n",
    "if operator== 'milk':\n",
    "    print(\"normal tea\")\n",
    "elif operator== 'lemon':\n",
    "    print(\"lemon tea\")\n",
    "elif operator== 'ginger':\n",
    "     print(\"masala tea\")\n",
    "else:\n",
    "    print(\"operator:\")\n"
   ]
  },
  {
   "cell_type": "code",
   "execution_count": 9,
   "id": "2c0c07a5-be20-4ca2-a1f5-b293b72d762f",
   "metadata": {},
   "outputs": [
    {
     "name": "stdin",
     "output_type": "stream",
     "text": [
      "choice tea\n",
      "milkgingerwatermilksugar \"milk\"\n"
     ]
    },
    {
     "ename": "NameError",
     "evalue": "name 'choice' is not defined",
     "output_type": "error",
     "traceback": [
      "\u001b[1;31m---------------------------------------------------------------------------\u001b[0m",
      "\u001b[1;31mNameError\u001b[0m                                 Traceback (most recent call last)",
      "Cell \u001b[1;32mIn[9], line 3\u001b[0m\n\u001b[0;32m      1\u001b[0m tea\u001b[38;5;241m=\u001b[39m\u001b[38;5;28minput\u001b[39m(\u001b[38;5;124m\"\u001b[39m\u001b[38;5;124mchoice\u001b[39m\u001b[38;5;124m\"\u001b[39m)\n\u001b[0;32m      2\u001b[0m aqsa\u001b[38;5;241m=\u001b[39m\u001b[38;5;28minput\u001b[39m(\u001b[38;5;124m\"\u001b[39m\u001b[38;5;124mmilk\u001b[39m\u001b[38;5;124m\"\u001b[39m\u001b[38;5;241m+\u001b[39m\u001b[38;5;124m\"\u001b[39m\u001b[38;5;124mginger\u001b[39m\u001b[38;5;124m\"\u001b[39m\u001b[38;5;241m+\u001b[39m\u001b[38;5;124m\"\u001b[39m\u001b[38;5;124mwater\u001b[39m\u001b[38;5;124m\"\u001b[39m\u001b[38;5;241m+\u001b[39m\u001b[38;5;124m\"\u001b[39m\u001b[38;5;124mmilk\u001b[39m\u001b[38;5;124m\"\u001b[39m\u001b[38;5;241m+\u001b[39m\u001b[38;5;124m\"\u001b[39m\u001b[38;5;124msugar\u001b[39m\u001b[38;5;124m\"\u001b[39m)\n\u001b[1;32m----> 3\u001b[0m \u001b[38;5;28;01mif\u001b[39;00m choice\u001b[38;5;241m==\u001b[39m \u001b[38;5;124m\"\u001b[39m\u001b[38;5;124mmilk\u001b[39m\u001b[38;5;124m\"\u001b[39m\u001b[38;5;241m+\u001b[39m\u001b[38;5;124m\"\u001b[39m\u001b[38;5;124mginger\u001b[39m\u001b[38;5;124m\"\u001b[39m\u001b[38;5;241m+\u001b[39m\u001b[38;5;124m\"\u001b[39m\u001b[38;5;124mwater\u001b[39m\u001b[38;5;124m\"\u001b[39m\u001b[38;5;241m+\u001b[39m\u001b[38;5;124m\"\u001b[39m\u001b[38;5;124mmilk\u001b[39m\u001b[38;5;124m\"\u001b[39m\u001b[38;5;241m+\u001b[39m\u001b[38;5;124m\"\u001b[39m\u001b[38;5;124msugar\u001b[39m\u001b[38;5;124m\"\u001b[39m:\n\u001b[0;32m      4\u001b[0m     \u001b[38;5;28mprint\u001b[39m(\u001b[38;5;124m\"\u001b[39m\u001b[38;5;124mnormal\u001b[39m\u001b[38;5;124m\"\u001b[39m)\n\u001b[0;32m      5\u001b[0m \u001b[38;5;28;01melif\u001b[39;00m choice\u001b[38;5;241m==\u001b[39m \u001b[38;5;124m\"\u001b[39m\u001b[38;5;124mmilk\u001b[39m\u001b[38;5;124m\"\u001b[39m\u001b[38;5;241m+\u001b[39m\u001b[38;5;124m\"\u001b[39m\u001b[38;5;124mginger\u001b[39m\u001b[38;5;124m\"\u001b[39m\u001b[38;5;241m+\u001b[39m\u001b[38;5;124m\"\u001b[39m\u001b[38;5;124mwater\u001b[39m\u001b[38;5;124m\"\u001b[39m\u001b[38;5;241m+\u001b[39m\u001b[38;5;124m\"\u001b[39m\u001b[38;5;124mmilk\u001b[39m\u001b[38;5;124m\"\u001b[39m\u001b[38;5;241m+\u001b[39m\u001b[38;5;124m\"\u001b[39m\u001b[38;5;124msugar\u001b[39m\u001b[38;5;124m\"\u001b[39m\u001b[38;5;241m+\u001b[39m\u001b[38;5;124m\"\u001b[39m\u001b[38;5;124mmasala\u001b[39m\u001b[38;5;124m\"\u001b[39m:\n",
      "\u001b[1;31mNameError\u001b[0m: name 'choice' is not defined"
     ]
    }
   ],
   "source": [
    "tea=input(\"choice\")\n",
    "aqsa=input(\"milk\"+\"ginger\"+\"water\"+\"milk\"+\"sugar\")\n",
    "if choice== \"milk\"+\"ginger\"+\"water\"+\"milk\"+\"sugar\":\n",
    "    print(\"normal\")\n",
    "elif choice== \"milk\"+\"ginger\"+\"water\"+\"milk\"+\"sugar\"+\"masala\":\n",
    "    print(\"masala tea\")\n",
    "else:\n",
    "    print(\"choice\")\n"
   ]
  },
  {
   "cell_type": "code",
   "execution_count": 4,
   "id": "e011f118-20a4-4b35-ae29-67d3dca7d4c1",
   "metadata": {},
   "outputs": [
    {
     "name": "stdin",
     "output_type": "stream",
     "text": [
      "choice masala tea\n",
      "customer demand('milk'/'ginger'/'water'/'milk'/'sugar'): 'milk'\n"
     ]
    },
    {
     "name": "stdout",
     "output_type": "stream",
     "text": [
      "rate\n"
     ]
    }
   ],
   "source": [
    "tea=input(\"choice\")\n",
    "choice=input(\"customer demand('milk'/'ginger'/'water'/'milk'/'sugar'):\")\n",
    "if choice== \"milk\":\n",
    "    print(\"normal\")\n",
    "elif choice== \"masala\":\n",
    "    print(\"masala tea\")\n",
    "else:\n",
    "    print(\"rate\")\n"
   ]
  },
  {
   "cell_type": "code",
   "execution_count": 3,
   "id": "29597010-f8a0-484e-b94e-9cf1455e9125",
   "metadata": {},
   "outputs": [
    {
     "name": "stdin",
     "output_type": "stream",
     "text": [
      "demand of customer 'lemon tea'\n",
      "user choice('masala tea','normal tea','lemon tea') 'lemon tea'\n"
     ]
    },
    {
     "name": "stdout",
     "output_type": "stream",
     "text": [
      "tea\n"
     ]
    }
   ],
   "source": [
    "choice=input(\"demand of customer\")\n",
    "operator=input(\"user choice('masala tea','normal tea','lemon tea')\")\n",
    "if operator =='masala tea':\n",
    "    print ('milk','water','sugar','tea leaves','masala')\n",
    "if operator =='lemon tea':\n",
    "    print ('lemon','water','sugar','tea leaves','masala')\n",
    "else:\n",
    "    print( 'tea')\n",
    "    \n",
    "\n",
    "\n"
   ]
  },
  {
   "cell_type": "code",
   "execution_count": 2,
   "id": "0620a03b-ebb8-4aeb-ae5e-28554416fd31",
   "metadata": {},
   "outputs": [
    {
     "name": "stdin",
     "output_type": "stream",
     "text": [
      "enter the tea you want (lemon/black/masala): lemon\n"
     ]
    },
    {
     "name": "stdout",
     "output_type": "stream",
     "text": [
      "lemon\n",
      "water\n",
      "tea leaves\n"
     ]
    }
   ],
   "source": [
    "choice=input(\"enter the tea you want (lemon/black/masala):\")\n",
    "if choice==\"lemon\":\n",
    "    print(\"lemon\")\n",
    "    print(\"water\")\n",
    "    print(\"tea leaves\")\n",
    "elif choice==\"black\":\n",
    "    print(\"water\")\n",
    "    print(\"tea leaves\")\n",
    "elif choice==\"masala\":\n",
    "    print(\"water\")\n",
    "    print(\"tea leaves\")\n",
    "    print(\"milk\")\n",
    "    print(\"ginger\")\n",
    "else:\n",
    "    print(\"tea\")"
   ]
  },
  {
   "cell_type": "code",
   "execution_count": 2,
   "id": "9ec61a56-c4b1-4abe-a705-b46968f710ec",
   "metadata": {},
   "outputs": [
    {
     "name": "stdin",
     "output_type": "stream",
     "text": [
      "tea lemon\n",
      "enter operator (milk/water/cardamom/sugar/ginger/lemon): lemon\n"
     ]
    },
    {
     "name": "stdout",
     "output_type": "stream",
     "text": [
      "lemon tea\n"
     ]
    }
   ],
   "source": [
    "num=input(\"tea\")\n",
    "operator=input(\"enter operator (milk/water/cardamom/sugar/ginger/lemon):\")\n",
    "if operator== 'milk':\n",
    "    print(\"normal tea\")\n",
    "elif operator== 'lemon':\n",
    "    print(\"lemon tea\")\n",
    "elif operator== 'ginger':\n",
    "     print(\"masala tea\")\n",
    "else:\n",
    "    print(\"operator:\")\n",
    "\n"
   ]
  },
  {
   "cell_type": "code",
   "execution_count": 8,
   "id": "93ba464a-cd5f-4411-9ca7-ca9816857909",
   "metadata": {},
   "outputs": [
    {
     "name": "stdin",
     "output_type": "stream",
     "text": [
      "tea rate\n",
      "enter operator (milk/water/cardamom/sugar/ginger/lemon): 45\n"
     ]
    },
    {
     "name": "stdout",
     "output_type": "stream",
     "text": [
      "operator:\n"
     ]
    }
   ],
   "source": [
    "num=input(\"tea\")\n",
    "operator=input(\"enter operator (milk/water/cardamom/sugar/ginger/lemon):\")\n",
    "if operator== 'milk':\n",
    "    print(\"normal tea\")\n",
    "elif operator== 'lemon':\n",
    "    print(\"lemon tea\")\n",
    "elif operator== 'ginger':\n",
    "     print(\"masala tea\")\n",
    "else:\n",
    "    print(\"operator:\")\n"
   ]
  },
  {
   "cell_type": "code",
   "execution_count": 1,
   "id": "05985fb8-7f09-4ead-b841-1918cf1ded47",
   "metadata": {},
   "outputs": [
    {
     "name": "stdin",
     "output_type": "stream",
     "text": [
      "choice of tea  \"water+milk+sugar+tea_leaves\":\n"
     ]
    },
    {
     "name": "stdout",
     "output_type": "stream",
     "text": [
      "tea\n"
     ]
    }
   ],
   "source": [
    "choice=input(\"choice of tea\")\n",
    "if choice== \"water+milk+sugar+tea_leaves\":\n",
    "    print(\"normal tea\")\n",
    "if choice== \"water+milk+sugar+tea_leaves\":\n",
    "    print(\"masala tea\")\n",
    "if choice== \"water+milk+sugar+tea_leaves+cardamom\":\n",
    "    print(\"cardamom tea\")\n",
    "if choice== \"water+milk+sugar+tea_leaves\":\n",
    "    print(\"lemon tea\")\n",
    "else:\n",
    "    print(\"tea\")\n",
    "    "
   ]
  },
  {
   "cell_type": "code",
   "execution_count": 4,
   "id": "bd8a577b-4f51-46ef-a66a-36143f282d4e",
   "metadata": {},
   "outputs": [
    {
     "name": "stdin",
     "output_type": "stream",
     "text": [
      "tea tea customer demand\n",
      "enter operator (milk/cardamom/ginger/lemon): lemon\n"
     ]
    },
    {
     "name": "stdout",
     "output_type": "stream",
     "text": [
      "lemon tea\n"
     ]
    }
   ],
   "source": [
    "num=input(\"tea\")\n",
    "operator=input(\"enter operator (milk/cardamom/ginger/lemon):\")\n",
    "if operator== 'milk':\n",
    "    print(\"normal tea\")\n",
    "elif operator== 'lemon':\n",
    "    print(\"lemon tea\")\n",
    "elif operator== 'ginger':\n",
    "     print(\"masala tea\")\n",
    "else:\n",
    "    print(\"operator:\")\n"
   ]
  },
  {
   "cell_type": "code",
   "execution_count": 9,
   "id": "dea4a417-42c5-4f1f-b5c4-56c2b0198922",
   "metadata": {},
   "outputs": [
    {
     "name": "stdin",
     "output_type": "stream",
     "text": [
      "enter a number 89,90\n"
     ]
    },
    {
     "name": "stdout",
     "output_type": "stream",
     "text": [
      "<class 'set'>\n"
     ]
    }
   ],
   "source": [
    "num1=set(input(\"enter a number\"))\n",
    "print(type(num1))\n",
    "\n"
   ]
  },
  {
   "cell_type": "code",
   "execution_count": 8,
   "id": "f7232603-5857-4ac9-b848-a991f9103445",
   "metadata": {},
   "outputs": [
    {
     "name": "stdin",
     "output_type": "stream",
     "text": [
      "enter a number [78,78]\n"
     ]
    },
    {
     "name": "stdout",
     "output_type": "stream",
     "text": [
      "<class 'list'>\n"
     ]
    }
   ],
   "source": [
    "num2=list(input(\"enter a number\"))\n",
    "print(type(num2))"
   ]
  },
  {
   "cell_type": "code",
   "execution_count": 14,
   "id": "6c9a9341-081c-4c1a-895f-6cfccccfc950",
   "metadata": {},
   "outputs": [
    {
     "name": "stdin",
     "output_type": "stream",
     "text": [
      "enter a number 67\n"
     ]
    },
    {
     "ename": "ValueError",
     "evalue": "dictionary update sequence element #0 has length 1; 2 is required",
     "output_type": "error",
     "traceback": [
      "\u001b[1;31m---------------------------------------------------------------------------\u001b[0m",
      "\u001b[1;31mValueError\u001b[0m                                Traceback (most recent call last)",
      "Cell \u001b[1;32mIn[14], line 1\u001b[0m\n\u001b[1;32m----> 1\u001b[0m num3\u001b[38;5;241m=\u001b[39m\u001b[38;5;28mdict\u001b[39m(\u001b[38;5;28minput\u001b[39m(\u001b[38;5;124m\"\u001b[39m\u001b[38;5;124menter a number\u001b[39m\u001b[38;5;124m\"\u001b[39m))\n\u001b[0;32m      2\u001b[0m \u001b[38;5;28mprint\u001b[39m(\u001b[38;5;28mtype\u001b[39m(num3))\n",
      "\u001b[1;31mValueError\u001b[0m: dictionary update sequence element #0 has length 1; 2 is required"
     ]
    }
   ],
   "source": [
    "num3=dict(input(\"enter a number\"))\n",
    "print(type(num3))"
   ]
  },
  {
   "cell_type": "code",
   "execution_count": 12,
   "id": "61de377c-8cfe-4428-92cd-b27353950736",
   "metadata": {},
   "outputs": [
    {
     "name": "stdin",
     "output_type": "stream",
     "text": [
      "enter a number 56,87\n"
     ]
    },
    {
     "name": "stdout",
     "output_type": "stream",
     "text": [
      "<class 'tuple'>\n"
     ]
    }
   ],
   "source": [
    "num4=tuple(input(\"enter a number\"))\n",
    "print(type(num4))\n",
    "           "
   ]
  },
  {
   "cell_type": "markdown",
   "id": "b9b67884-72c8-423d-a497-a891f595b715",
   "metadata": {},
   "source": [
    "## get multiple inputs from a user in one line:use of split() function"
   ]
  },
  {
   "cell_type": "markdown",
   "id": "d960e2b1-0618-472f-9ca6-dbba0f4b5538",
   "metadata": {},
   "source": [
    "in python ,it is possible to get multiple values from the user in one line. we can accept two or three valuse from thr user \n",
    "\n",
    "for examples ,in a single executive of the input () function ,we can ask the user his/her name,name age ,and phonr number amd store it in three different variables \n",
    "lets see how to do this \n",
    "take each input separated by space split input string using split () get  the values of individual input \n",
    "\n",
    "here are a few common use cases for the split () function:\n",
    "* (1) tokenizing a string: if you have a string that contains multiple words or values separetd by a specific character (such as space, comma or any other delimeter ), you can use split() to split the string into individual tokens .for example :"
   ]
  },
  {
   "cell_type": "code",
   "execution_count": 6,
   "id": "314c0808-d4db-4cdb-839b-0c081bbc302f",
   "metadata": {},
   "outputs": [
    {
     "name": "stdout",
     "output_type": "stream",
     "text": [
      "['hello', 'how', 'are', 'you']\n",
      "<class 'list'>\n"
     ]
    }
   ],
   "source": [
    "sentence=\"hello how are you\"\n",
    "words=sentence.split()   ## splitting by default \n",
    "print(words)\n",
    "print(type(words))"
   ]
  },
  {
   "cell_type": "code",
   "execution_count": 21,
   "id": "75126c22-6c03-46bf-bd5e-36cfbcfc8f4a",
   "metadata": {},
   "outputs": [
    {
     "name": "stdout",
     "output_type": "stream",
     "text": [
      "['10', '89', '45', '78', '89', '65', '43', '']\n"
     ]
    }
   ],
   "source": [
    "numbers=\"10,89,45,78,89,65,43,\"\n",
    "values=numbers.split(\",\")\n",
    "print(values)"
   ]
  },
  {
   "cell_type": "code",
   "execution_count": 23,
   "id": "48b2174b-d3bf-418b-9cbb-ddfb420daf94",
   "metadata": {},
   "outputs": [
    {
     "name": "stdout",
     "output_type": "stream",
     "text": [
      "['hello', 'how', 'are', 'you']\n",
      "<class 'list'>\n"
     ]
    }
   ],
   "source": [
    "sentence=\"hello how are you\"\n",
    "words=sentence.split(\" \")\n",
    "print(words)\n",
    "print(type(words))"
   ]
  },
  {
   "cell_type": "code",
   "execution_count": 4,
   "id": "efb0ec2e-c40f-4610-8400-f79ed5cfe517",
   "metadata": {},
   "outputs": [
    {
     "ename": "SyntaxError",
     "evalue": "invalid syntax (955607553.py, line 2)",
     "output_type": "error",
     "traceback": [
      "\u001b[1;36m  Cell \u001b[1;32mIn[4], line 2\u001b[1;36m\u001b[0m\n\u001b[1;33m    words=sentence.split(,)\u001b[0m\n\u001b[1;37m                         ^\u001b[0m\n\u001b[1;31mSyntaxError\u001b[0m\u001b[1;31m:\u001b[0m invalid syntax\n"
     ]
    }
   ],
   "source": [
    "sentence=\"hello how are you\"\n",
    "words=sentence.split(,)\n",
    "print(words)\n",
    "print(type(words))"
   ]
  },
  {
   "cell_type": "code",
   "execution_count": 3,
   "id": "8d05706c-d65f-45aa-bfa3-1c21954f8e3e",
   "metadata": {},
   "outputs": [
    {
     "name": "stdout",
     "output_type": "stream",
     "text": [
      "['hello how are you']\n",
      "<class 'list'>\n"
     ]
    }
   ],
   "source": [
    "sentence=\"hello how are you\"\n",
    "words=sentence.split('*')\n",
    "print(words)\n",
    "print(type(words))"
   ]
  },
  {
   "cell_type": "code",
   "execution_count": 1,
   "id": "5b230470-2389-4a3b-beb6-82fe0b8a6215",
   "metadata": {},
   "outputs": [
    {
     "name": "stdout",
     "output_type": "stream",
     "text": [
      "['hello how are you']\n",
      "<class 'list'>\n"
     ]
    }
   ],
   "source": [
    "sentence=\"hello how are you\"\n",
    "words=sentence.split('+')\n",
    "print(words)\n",
    "print(type(words))"
   ]
  },
  {
   "cell_type": "code",
   "execution_count": 2,
   "id": "d06864d1-1ac4-4c0a-8695-786abe071dcc",
   "metadata": {},
   "outputs": [
    {
     "ename": "TypeError",
     "evalue": "must be str or None, not int",
     "output_type": "error",
     "traceback": [
      "\u001b[1;31m---------------------------------------------------------------------------\u001b[0m",
      "\u001b[1;31mTypeError\u001b[0m                                 Traceback (most recent call last)",
      "Cell \u001b[1;32mIn[2], line 2\u001b[0m\n\u001b[0;32m      1\u001b[0m sentence\u001b[38;5;241m=\u001b[39m\u001b[38;5;124m\"\u001b[39m\u001b[38;5;124mhello how are you\u001b[39m\u001b[38;5;124m\"\u001b[39m\n\u001b[1;32m----> 2\u001b[0m words\u001b[38;5;241m=\u001b[39msentence\u001b[38;5;241m.\u001b[39msplit(\u001b[38;5;241m1\u001b[39m)\n\u001b[0;32m      3\u001b[0m \u001b[38;5;28mprint\u001b[39m(words)\n\u001b[0;32m      4\u001b[0m \u001b[38;5;28mprint\u001b[39m(\u001b[38;5;28mtype\u001b[39m(words))\n",
      "\u001b[1;31mTypeError\u001b[0m: must be str or None, not int"
     ]
    }
   ],
   "source": [
    "sentence=\"hello how are you\"\n",
    "words=sentence.split(1)\n",
    "print(words)\n",
    "print(type(words))"
   ]
  },
  {
   "cell_type": "code",
   "execution_count": 3,
   "id": "cc756798-e192-4d19-94c1-a1b2a797ec56",
   "metadata": {},
   "outputs": [
    {
     "name": "stdout",
     "output_type": "stream",
     "text": [
      "['hello how are you']\n",
      "<class 'list'>\n"
     ]
    }
   ],
   "source": [
    "sentence=\"hello how are you\"\n",
    "words=sentence.split('1')\n",
    "print(words)\n",
    "print(type(words))"
   ]
  },
  {
   "cell_type": "code",
   "execution_count": 5,
   "id": "06ef209b-ba97-438c-99f6-1bc61f989406",
   "metadata": {},
   "outputs": [
    {
     "name": "stdout",
     "output_type": "stream",
     "text": [
      "['hello', 'how', 'are', 'you']\n",
      "<class 'list'>\n"
     ]
    }
   ],
   "source": [
    "sentence=\"hello how are you\"\n",
    "words=sentence.split()     ## comma by default\n",
    "print(words)\n",
    "print(type(words))"
   ]
  },
  {
   "cell_type": "markdown",
   "id": "41d2af15-3530-4c2a-9d33-dfa61c40d43c",
   "metadata": {},
   "source": [
    "## (2) extracting substrings:\n"
   ]
  },
  {
   "cell_type": "markdown",
   "id": "bc809087-d710-422b-a348-dcd2a45e5e06",
   "metadata": {},
   "source": [
    "if you have a string with a consistent pattern (here star*) and you want to extract specific parts of it ,you can use split () to separate teh string into parts and acess the desired substring .for examples:\n"
   ]
  },
  {
   "cell_type": "code",
   "execution_count": 7,
   "id": "8683a9d5-5f3f-40b7-977d-aa58c665936f",
   "metadata": {},
   "outputs": [
    {
     "name": "stdout",
     "output_type": "stream",
     "text": [
      "2023 06 06\n"
     ]
    }
   ],
   "source": [
    "date=\"2023*06*06\"\n",
    "year,month,days=date.split(\"*\")\n",
    "print(year,month,days)"
   ]
  },
  {
   "cell_type": "code",
   "execution_count": 10,
   "id": "32c51b6b-7c2f-4f66-b6e5-2396ad7032a4",
   "metadata": {},
   "outputs": [
    {
     "name": "stdout",
     "output_type": "stream",
     "text": [
      "['this ', 'book', 'is', 'good']\n"
     ]
    }
   ],
   "source": [
    "terminator=\"this +book+is+good\"\n",
    "harry_potter=terminator.split(\"+\")\n",
    "print(harry_potter)"
   ]
  },
  {
   "cell_type": "code",
   "execution_count": 17,
   "id": "bfc7d8d9-31a6-4a91-8652-10ecb0b11092",
   "metadata": {},
   "outputs": [
    {
     "name": "stdout",
     "output_type": "stream",
     "text": [
      "['23+67*89']\n"
     ]
    }
   ],
   "source": [
    "aqsa=\"23+67*89\"\n",
    "sona=aqsa.split(\"+,*\")\n",
    "print(sona)"
   ]
  },
  {
   "cell_type": "code",
   "execution_count": 23,
   "id": "f9d35d4a-4d7d-4106-8942-38d020a072b5",
   "metadata": {},
   "outputs": [
    {
     "name": "stdout",
     "output_type": "stream",
     "text": [
      "['this', 'is', 'the', 'very', 'good']\n"
     ]
    }
   ],
   "source": [
    "operator = \"this*is*the*very*good\"\n",
    "off=operator.split(\"*\")\n",
    "print(off)"
   ]
  },
  {
   "cell_type": "code",
   "execution_count": 26,
   "id": "0b5b9d4a-12bc-4127-86ff-f011326fabd1",
   "metadata": {},
   "outputs": [
    {
     "name": "stdout",
     "output_type": "stream",
     "text": [
      "john 25 85.5\n",
      "<class 'str'>\n"
     ]
    }
   ],
   "source": [
    "data=\"john,25,85.5\"\n",
    "name,age,marks=data.split(\",\")\n",
    "print(name,age,marks)\n",
    "print(type(data))"
   ]
  },
  {
   "cell_type": "code",
   "execution_count": 1,
   "id": "5443f231-2d76-4c21-9334-b7b98f14792c",
   "metadata": {},
   "outputs": [
    {
     "ename": "ValueError",
     "evalue": "not enough values to unpack (expected 3, got 2)",
     "output_type": "error",
     "traceback": [
      "\u001b[1;31m---------------------------------------------------------------------------\u001b[0m",
      "\u001b[1;31mValueError\u001b[0m                                Traceback (most recent call last)",
      "Cell \u001b[1;32mIn[1], line 2\u001b[0m\n\u001b[0;32m      1\u001b[0m data\u001b[38;5;241m=\u001b[39m\u001b[38;5;124m\"\u001b[39m\u001b[38;5;124mjohn,25,85.5\u001b[39m\u001b[38;5;124m\"\u001b[39m\n\u001b[1;32m----> 2\u001b[0m name,age,marks\u001b[38;5;241m=\u001b[39mdata\u001b[38;5;241m.\u001b[39msplit(\u001b[38;5;124m\"\u001b[39m\u001b[38;5;124m25\u001b[39m\u001b[38;5;124m\"\u001b[39m)\n\u001b[0;32m      3\u001b[0m \u001b[38;5;28mprint\u001b[39m(name,age,marks)\n\u001b[0;32m      4\u001b[0m \u001b[38;5;28mprint\u001b[39m(\u001b[38;5;28mtype\u001b[39m(data))\n",
      "\u001b[1;31mValueError\u001b[0m: not enough values to unpack (expected 3, got 2)"
     ]
    }
   ],
   "source": [
    "data=\"john,25,85.5\"\n",
    "name,age,marks=data.split(\"25\")\n",
    "print(name,age,marks)\n",
    "print(type(data))"
   ]
  },
  {
   "cell_type": "code",
   "execution_count": 9,
   "id": "720eff76-9dbe-4b96-befe-fe52676a6b16",
   "metadata": {},
   "outputs": [
    {
     "name": "stdout",
     "output_type": "stream",
     "text": [
      "['john ', ' 85.5']\n"
     ]
    }
   ],
   "source": [
    "data= \"john 25 85.5\"\n",
    "name=(data.split(\"25\"))\n",
    "print(name)\n"
   ]
  },
  {
   "cell_type": "code",
   "execution_count": 4,
   "id": "2d3266a6-d4d7-4d09-a120-b86bf29aa2c9",
   "metadata": {},
   "outputs": [
    {
     "name": "stdout",
     "output_type": "stream",
     "text": [
      "['', '*90*34']\n"
     ]
    }
   ],
   "source": [
    "date=\"23*90*34\"\n",
    "newdate=date.split(\"23\")\n",
    "print(newdate)"
   ]
  },
  {
   "cell_type": "markdown",
   "id": "a5f820c6-c0ea-4afc-b826-ee8b4aa20d2a",
   "metadata": {},
   "source": [
    "its important to note the split() returns()a list of substring ,and you can specify the delimetre an argument to the function .if an no delimiter is provided ,its split the string ny white space charcter by default "
   ]
  },
  {
   "cell_type": "code",
   "execution_count": 10,
   "id": "4e74bcb6-fc81-490c-998e-43c7ecbe413d",
   "metadata": {},
   "outputs": [
    {
     "name": "stdin",
     "output_type": "stream",
     "text": [
      "enter the name ,age, percentage separerate by $ aqsa$22$34\n"
     ]
    },
    {
     "name": "stdout",
     "output_type": "stream",
     "text": [
      "/n\n",
      "user details: aqsa 22 34\n"
     ]
    }
   ],
   "source": [
    "name,age,marks,=input(\"enter the name ,age, percentage separerate by $\").split(\"$\")\n",
    "print(\"/n\")\n",
    "print(\"user details:\",name,age,marks)"
   ]
  },
  {
   "cell_type": "code",
   "execution_count": 60,
   "id": "2851766e-27f8-422b-ba5d-2cf1a8cd23d8",
   "metadata": {},
   "outputs": [
    {
     "name": "stdin",
     "output_type": "stream",
     "text": [
      "enter three name: aqsa sona sonal\n"
     ]
    }
   ],
   "source": [
    "num1=input(\"enter three name:\")"
   ]
  },
  {
   "cell_type": "raw",
   "id": "f53b8dee-8dab-4bc6-bc4f-6ee66c582712",
   "metadata": {},
   "source": [
    "num1=input(\"enter three name:\").split()\n",
    "print(\"name:\",num1)\n"
   ]
  },
  {
   "cell_type": "code",
   "execution_count": 68,
   "id": "4df4ed04-f2d5-40c5-8d00-646ac5a1fd4e",
   "metadata": {},
   "outputs": [
    {
     "name": "stdin",
     "output_type": "stream",
     "text": [
      "enter three name: aqsa$me$you\n"
     ]
    },
    {
     "name": "stdout",
     "output_type": "stream",
     "text": [
      "name: ['aqsa', 'me', 'you']\n"
     ]
    }
   ],
   "source": [
    "num1=input(\"enter three name:\").split(\"$\")\n",
    "print(\"name:\",num1)\n",
    "\n"
   ]
  },
  {
   "cell_type": "code",
   "execution_count": 2,
   "id": "f9e3b387-fce8-4db1-8ff7-83d431f84ab2",
   "metadata": {},
   "outputs": [
    {
     "name": "stdin",
     "output_type": "stream",
     "text": [
      "enter a four name aqsa*sona*sapmna*rahul\n"
     ]
    },
    {
     "name": "stdout",
     "output_type": "stream",
     "text": [
      "['aqsa', 'sona', 'sapmna', 'rahul']\n"
     ]
    }
   ],
   "source": [
    "num2=input(\"enter a four name\").split(\"*\")\n",
    "print(num2)"
   ]
  },
  {
   "cell_type": "code",
   "execution_count": 3,
   "id": "7476bbb3-d2d1-4a91-a27a-ea87b77acc6d",
   "metadata": {},
   "outputs": [
    {
     "name": "stdin",
     "output_type": "stream",
     "text": [
      "enter the number 1+2+3+4+\n"
     ]
    },
    {
     "name": "stdout",
     "output_type": "stream",
     "text": [
      "['1', '2', '3', '4', '']\n"
     ]
    }
   ],
   "source": [
    "num3=input(\"enter the number\").split(\"+\")\n",
    "print(num3)"
   ]
  },
  {
   "cell_type": "code",
   "execution_count": 7,
   "id": "abdf1a29-d6a2-4039-aebb-b4af042a0762",
   "metadata": {},
   "outputs": [
    {
     "name": "stdin",
     "output_type": "stream",
     "text": [
      "enter three name: aqsa,sona,sonal\n"
     ]
    },
    {
     "name": "stdout",
     "output_type": "stream",
     "text": [
      "['aqsa', 'sona', 'sonal']\n"
     ]
    }
   ],
   "source": [
    "num1=input(\"enter three name:\").split(\",\")\n",
    "\n",
    "print(num1)\n"
   ]
  },
  {
   "cell_type": "code",
   "execution_count": 1,
   "id": "7b44db3e-fbf9-4c2b-8379-bd694a350d98",
   "metadata": {},
   "outputs": [
    {
     "name": "stdin",
     "output_type": "stream",
     "text": [
      "enter the ingredient water#lemon#tealeaves\n"
     ]
    },
    {
     "name": "stdout",
     "output_type": "stream",
     "text": [
      "user choice: ['water', 'lemon', 'tealeaves']\n",
      "lemon tea\n"
     ]
    }
   ],
   "source": [
    "ingredient=input(\"enter the ingredient\").split(\"#\")\n",
    "print(\"user choice:\",ingredient)\n",
    "print(\"lemon tea\")\n"
   ]
  },
  {
   "cell_type": "code",
   "execution_count": null,
   "id": "09d3a0fa-00d0-4b9c-a867-db27175b459c",
   "metadata": {},
   "outputs": [],
   "source": [
    "ingredient1=input(\"enter a ingredient\").split(\"#\")\n",
    "ingredient2=input(\"enter a ingredient\").split(\"#\")\n",
    "ingredient3=input(\"enter a ingredient\").split(\"#\")\n",
    "ingredient4=input(\"enter a ingredient\").split(\"#\")\n",
    "ingredient5=input(\"enter a ingredient\").split(\"#\")\n",
    "choice=input(\"user choice:\")\n",
    "if ingredient1==\n",
    "\n",
    "\n",
    "                  "
   ]
  },
  {
   "cell_type": "code",
   "execution_count": null,
   "id": "e2693025-e86c-4991-9f0b-44b9ba5e9830",
   "metadata": {},
   "outputs": [],
   "source": [
    "ingredient=input(\"enter the ingredient\").split(\",\")\n",
    "\n"
   ]
  },
  {
   "cell_type": "code",
   "execution_count": 6,
   "id": "759fba1d-bacf-4983-979b-1873b68a077f",
   "metadata": {},
   "outputs": [
    {
     "name": "stdin",
     "output_type": "stream",
     "text": [
      "name aqsa$mahak\n"
     ]
    },
    {
     "name": "stdout",
     "output_type": "stream",
     "text": [
      "['aqsa', 'mahak']\n"
     ]
    }
   ],
   "source": [
    "name=input(\"name\").split(\"$\")\n",
    "print(name)\n",
    "\n"
   ]
  },
  {
   "cell_type": "code",
   "execution_count": 7,
   "id": "ae567441-59b7-4fcf-9839-6a9d09d687fd",
   "metadata": {},
   "outputs": [
    {
     "name": "stdin",
     "output_type": "stream",
     "text": [
      "name,class, rollno,subject aqsa#class_12#52#english\n"
     ]
    },
    {
     "name": "stdout",
     "output_type": "stream",
     "text": [
      "['aqsa', 'class_12', '52', 'english']\n"
     ]
    }
   ],
   "source": [
    "student=input(\"name,class, rollno,subject\").split(\"#\")\n",
    "print(student)"
   ]
  },
  {
   "cell_type": "code",
   "execution_count": 7,
   "id": "ba0dab9e-adcb-4c0d-8c55-33b92d329a50",
   "metadata": {},
   "outputs": [
    {
     "name": "stdin",
     "output_type": "stream",
     "text": [
      "name aqsa mahak\n"
     ]
    },
    {
     "name": "stdout",
     "output_type": "stream",
     "text": [
      "['aqsa', 'mahak']\n"
     ]
    }
   ],
   "source": [
    "terminator=input(\"name\").split()\n",
    "print(terminator)\n"
   ]
  },
  {
   "cell_type": "code",
   "execution_count": null,
   "id": "c9508bae-4e0f-49b4-833a-af79dba7bf66",
   "metadata": {},
   "outputs": [],
   "source": [
    "a for loop is used to repeat a block od code a specific number of times ,or for each items in a sequence (like a list ,string ,etc,).\n"
   ]
  },
  {
   "cell_type": "code",
   "execution_count": null,
   "id": "4c865eb6-686a-4201-94ec-db00bfdb3a85",
   "metadata": {},
   "outputs": [],
   "source": []
  }
 ],
 "metadata": {
  "kernelspec": {
   "display_name": "Python 3 (ipykernel)",
   "language": "python",
   "name": "python3"
  },
  "language_info": {
   "codemirror_mode": {
    "name": "ipython",
    "version": 3
   },
   "file_extension": ".py",
   "mimetype": "text/x-python",
   "name": "python",
   "nbconvert_exporter": "python",
   "pygments_lexer": "ipython3",
   "version": "3.13.5"
  }
 },
 "nbformat": 4,
 "nbformat_minor": 5
}
