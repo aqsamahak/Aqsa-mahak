{
 "cells": [
  {
   "cell_type": "markdown",
   "id": "caedf572-5176-4284-929c-4a5984ea2b95",
   "metadata": {},
   "source": [
    "print(\"hello world)"
   ]
  },
  {
   "cell_type": "code",
   "execution_count": 3,
   "id": "391cb7a4-d439-4333-a82d-a5c977ab1937",
   "metadata": {},
   "outputs": [
    {
     "ename": "NameError",
     "evalue": "name 'Print' is not defined",
     "output_type": "error",
     "traceback": [
      "\u001b[1;31m---------------------------------------------------------------------------\u001b[0m",
      "\u001b[1;31mNameError\u001b[0m                                 Traceback (most recent call last)",
      "Cell \u001b[1;32mIn[3], line 1\u001b[0m\n\u001b[1;32m----> 1\u001b[0m Print(\u001b[38;5;124m\"\u001b[39m\u001b[38;5;124mhello world\u001b[39m\u001b[38;5;124m\"\u001b[39m)\n",
      "\u001b[1;31mNameError\u001b[0m: name 'Print' is not defined"
     ]
    }
   ],
   "source": [
    "Print(\"hello world\")"
   ]
  },
  {
   "cell_type": "code",
   "execution_count": 5,
   "id": "7235879e-44d4-47c5-8876-18b570c7b286",
   "metadata": {},
   "outputs": [
    {
     "ename": "SyntaxError",
     "evalue": "unterminated string literal (detected at line 1) (3262661024.py, line 1)",
     "output_type": "error",
     "traceback": [
      "\u001b[1;36m  Cell \u001b[1;32mIn[5], line 1\u001b[1;36m\u001b[0m\n\u001b[1;33m    print(\"hello world)\u001b[0m\n\u001b[1;37m          ^\u001b[0m\n\u001b[1;31mSyntaxError\u001b[0m\u001b[1;31m:\u001b[0m unterminated string literal (detected at line 1)\n"
     ]
    }
   ],
   "source": [
    "print(\"hello world)\n"
   ]
  },
  {
   "cell_type": "code",
   "execution_count": 5,
   "id": "615ee949-740d-4267-8b95-0682d65c6fec",
   "metadata": {},
   "outputs": [],
   "source": [
    "x=12"
   ]
  },
  {
   "cell_type": "markdown",
   "id": "186113de-ed13-4165-b78e-9ef4c53f7b2a",
   "metadata": {},
   "source": [
    "comment in python"
   ]
  },
  {
   "cell_type": "code",
   "execution_count": 11,
   "id": "e5ab25af-c173-428a-9785-d671ae695071",
   "metadata": {},
   "outputs": [
    {
     "name": "stdout",
     "output_type": "stream",
     "text": [
      "iam writing in comment\n"
     ]
    }
   ],
   "source": [
    "print(\"iam writing in comment\")                     # iam practising python     "
   ]
  },
  {
   "cell_type": "code",
   "execution_count": 7,
   "id": "aca3ee40-976c-443a-951a-7426e8d76bdb",
   "metadata": {},
   "outputs": [
    {
     "name": "stdout",
     "output_type": "stream",
     "text": [
      "i am aqsa mahak\n"
     ]
    }
   ],
   "source": [
    "print (\"i am aqsa mahak\")                         # this star is for decoration "
   ]
  },
  {
   "cell_type": "markdown",
   "id": "62867d7c-d875-4a90-96a2-2b2380b0d8de",
   "metadata": {},
   "source": [
    "# heading"
   ]
  },
  {
   "cell_type": "markdown",
   "id": "392ded75-ebb0-4189-9b4e-5f96b72be6cf",
   "metadata": {},
   "source": [
    "\n"
   ]
  },
  {
   "cell_type": "markdown",
   "id": "0b3aa3cd-8cc3-4634-8bf7-bb108220e34c",
   "metadata": {},
   "source": [
    "# escape sequences: \\n and \\t"
   ]
  },
  {
   "cell_type": "code",
   "execution_count": 4,
   "id": "a7e6a9d0-ce63-4fc4-9d56-978889addb92",
   "metadata": {},
   "outputs": [
    {
     "name": "stdout",
     "output_type": "stream",
     "text": [
      "aqsa mahak is in\n",
      " her room\n"
     ]
    }
   ],
   "source": [
    "print(\"aqsa mahak is in\\n her room\")"
   ]
  },
  {
   "cell_type": "code",
   "execution_count": 5,
   "id": "99854f03-1dca-4d08-9af6-709f827a3163",
   "metadata": {},
   "outputs": [
    {
     "name": "stdout",
     "output_type": "stream",
     "text": [
      "python is in \n",
      " programming language\n"
     ]
    }
   ],
   "source": [
    "print (\"python is in \\n programming language\")"
   ]
  },
  {
   "cell_type": "code",
   "execution_count": 6,
   "id": "f93a29a3-0085-4efd-a4dc-6696e1a0c290",
   "metadata": {},
   "outputs": [
    {
     "name": "stdout",
     "output_type": "stream",
     "text": [
      "she is doing\t her homework\n"
     ]
    }
   ],
   "source": [
    "print(\"she is doing\\t her homework\")"
   ]
  },
  {
   "cell_type": "code",
   "execution_count": 11,
   "id": "c0ac1b8a-7c96-40eb-8513-700c0385c678",
   "metadata": {},
   "outputs": [
    {
     "name": "stdout",
     "output_type": "stream",
     "text": [
      "aqsa is\n",
      " making food\n"
     ]
    }
   ],
   "source": [
    "print(\"aqsa is\\n making food\")"
   ]
  },
  {
   "cell_type": "code",
   "execution_count": 13,
   "id": "283131ea-5dfc-49c6-bd9c-0414dd551cc8",
   "metadata": {},
   "outputs": [
    {
     "name": "stdout",
     "output_type": "stream",
     "text": [
      "gold rates \n",
      "  is high\n"
     ]
    }
   ],
   "source": [
    "print(\"gold rates \\n  is high\")"
   ]
  },
  {
   "cell_type": "code",
   "execution_count": 15,
   "id": "2e709139-7f94-4bb6-87b1-8efbde506843",
   "metadata": {},
   "outputs": [
    {
     "name": "stdout",
     "output_type": "stream",
     "text": [
      "*\n",
      "* *\n",
      "*   *\n",
      "*     *\n",
      "*       *\n",
      "*         *\n",
      "************\n"
     ]
    }
   ],
   "source": [
    "print(\"*\\n* *\\n*   *\\n*     *\\n*       *\\n*         *\\n************\")"
   ]
  },
  {
   "cell_type": "code",
   "execution_count": 39,
   "id": "b2dd7182-4d6d-42a7-b019-cb084ce4c6ae",
   "metadata": {},
   "outputs": [
    {
     "name": "stdout",
     "output_type": "stream",
     "text": [
      "| \\ \n",
      "|  \\ \n",
      "|   \\ \n",
      "|    \\ \n",
      "|     \\ \n",
      "|______\\ \n"
     ]
    }
   ],
   "source": [
    "print(\"| \\ \\n|  \\ \\n|   \\ \\n|    \\ \\n|     \\ \\n|______\\ \")"
   ]
  },
  {
   "cell_type": "code",
   "execution_count": 64,
   "id": "beb9b4a1-3434-4db4-9708-2de32a4d8cdf",
   "metadata": {},
   "outputs": [
    {
     "name": "stdout",
     "output_type": "stream",
     "text": [
      "     *****\n",
      "    *     *\n",
      "   *       *\n",
      "   *  aqsa *\n",
      "    *     *\n",
      "      ****\n"
     ]
    }
   ],
   "source": [
    "print(\"     *****\\n    *     *\\n   *       *\\n   *  aqsa *\\n    *     *\\n      ****\")"
   ]
  },
  {
   "cell_type": "code",
   "execution_count": 2,
   "id": "f4ee200a-f0fa-4883-847e-b4eabc736f67",
   "metadata": {},
   "outputs": [
    {
     "name": "stdout",
     "output_type": "stream",
     "text": [
      "______________\n",
      "|            |\n",
      "|     aqsa   |\n",
      "|            |\n",
      "|            |\n",
      "|____________|\n"
     ]
    }
   ],
   "source": [
    "print(\"______________\\n|            |\\n|     aqsa   |\\n|            |\\n|            |\\n|____________|\")"
   ]
  },
  {
   "cell_type": "code",
   "execution_count": 23,
   "id": "9446f616-bc2f-4130-bc36-659106a19489",
   "metadata": {},
   "outputs": [
    {
     "name": "stdout",
     "output_type": "stream",
     "text": [
      "           /\\ \n",
      "          /__\\ \n",
      "         /    \\ \n",
      "   \n"
     ]
    }
   ],
   "source": [
    "print(\"           /\\ \\n          /__\\ \\n         /    \\ \\n   \")"
   ]
  },
  {
   "cell_type": "code",
   "execution_count": 39,
   "id": "e72abae4-7047-4546-80f6-2b66562e713d",
   "metadata": {},
   "outputs": [
    {
     "name": "stdout",
     "output_type": "stream",
     "text": [
      "| \n",
      "|\n",
      "|\n",
      "|\n",
      "|\n",
      "|__________\n"
     ]
    }
   ],
   "source": [
    "print(\"| \\n|\\n|\\n|\\n|\\n|__________\")"
   ]
  },
  {
   "cell_type": "code",
   "execution_count": 49,
   "id": "050a87d6-26bf-4ad6-af85-d792f142480d",
   "metadata": {},
   "outputs": [
    {
     "name": "stdout",
     "output_type": "stream",
     "text": [
      "          /|\n",
      "         / |\n",
      "        /  |\n",
      "       /   |\n",
      "      /____|\n",
      "\n"
     ]
    }
   ],
   "source": [
    "print(\"          /|\\n         / |\\n        /  |\\n       /   |\\n      /____|\\n\")"
   ]
  },
  {
   "cell_type": "code",
   "execution_count": 51,
   "id": "3401b5e9-676d-4dd6-b2f4-a2389cc2f4b1",
   "metadata": {},
   "outputs": [
    {
     "name": "stdout",
     "output_type": "stream",
     "text": [
      "*\n",
      "*\n",
      "*\n",
      "*\n",
      "*********\n",
      "\n"
     ]
    }
   ],
   "source": [
    "print(\"*\\n*\\n*\\n*\\n*********\\n\")"
   ]
  },
  {
   "cell_type": "code",
   "execution_count": null,
   "id": "873eb6af-5955-404d-8c08-e2d57df7fc69",
   "metadata": {},
   "outputs": [],
   "source": []
  }
 ],
 "metadata": {
  "kernelspec": {
   "display_name": "Python 3 (ipykernel)",
   "language": "python",
   "name": "python3"
  },
  "language_info": {
   "codemirror_mode": {
    "name": "ipython",
    "version": 3
   },
   "file_extension": ".py",
   "mimetype": "text/x-python",
   "name": "python",
   "nbconvert_exporter": "python",
   "pygments_lexer": "ipython3",
   "version": "3.13.5"
  }
 },
 "nbformat": 4,
 "nbformat_minor": 5
}
