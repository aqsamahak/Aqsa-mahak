{
 "cells": [
  {
   "cell_type": "markdown",
   "id": "3c26f040-d625-4289-a75b-aedfb4fa2c88",
   "metadata": {},
   "source": [
    "## pyhthon variables"
   ]
  },
  {
   "cell_type": "markdown",
   "id": "69d59560-8860-4d8f-843c-0de110a3cc8c",
   "metadata": {},
   "source": [
    "In pyhton variables are used to store data.that can reference and manipulated during solving the problem a variables is an aasigned a value . in python it \n",
    "is not necessary to declare the data type during assignment of variables act as a place holder data "
   ]
  },
  {
   "cell_type": "code",
   "execution_count": 8,
   "id": "81de861e-6719-42e2-b00e-04ebd9793561",
   "metadata": {},
   "outputs": [
    {
     "name": "stdout",
     "output_type": "stream",
     "text": [
      "swarnika\n"
     ]
    }
   ],
   "source": [
    "name= \"swarnika\"\n",
    "print(name)"
   ]
  },
  {
   "cell_type": "code",
   "execution_count": 1,
   "id": "2791af1f-5c9d-40d3-b9b1-83fc6fee9dc4",
   "metadata": {},
   "outputs": [
    {
     "name": "stdout",
     "output_type": "stream",
     "text": [
      "aqsa\n"
     ]
    }
   ],
   "source": [
    "name= \"aqsa\"\n",
    "print(name)"
   ]
  },
  {
   "cell_type": "code",
   "execution_count": 38,
   "id": "6616c937-bf6e-4dc8-ac20-3d7492e6fbee",
   "metadata": {},
   "outputs": [
    {
     "ename": "TypeError",
     "evalue": "'int' object is not callable",
     "output_type": "error",
     "traceback": [
      "\u001b[1;31m---------------------------------------------------------------------------\u001b[0m",
      "\u001b[1;31mTypeError\u001b[0m                                 Traceback (most recent call last)",
      "Cell \u001b[1;32mIn[38], line 1\u001b[0m\n\u001b[1;32m----> 1\u001b[0m \u001b[38;5;28mprint\u001b[39m(x)\n",
      "\u001b[1;31mTypeError\u001b[0m: 'int' object is not callable"
     ]
    }
   ],
   "source": [
    "\n",
    "print(x)"
   ]
  },
  {
   "cell_type": "code",
   "execution_count": 2,
   "id": "6b273f24-2af8-4d4f-acc8-2e53915cd09c",
   "metadata": {},
   "outputs": [
    {
     "name": "stdout",
     "output_type": "stream",
     "text": [
      "50\n"
     ]
    }
   ],
   "source": [
    "x= 50 \n",
    "print(x)"
   ]
  },
  {
   "cell_type": "code",
   "execution_count": 4,
   "id": "ee33fe95-195b-4025-8c07-67234c9f3f65",
   "metadata": {},
   "outputs": [
    {
     "name": "stdout",
     "output_type": "stream",
     "text": [
      "50\n"
     ]
    }
   ],
   "source": [
    "x=50\n",
    "print(x)"
   ]
  },
  {
   "cell_type": "markdown",
   "id": "9b697b5e-4f02-4193-9555-7700c6038b9a",
   "metadata": {},
   "source": [
    "## Rules for names variables"
   ]
  },
  {
   "cell_type": "markdown",
   "id": "f80267c9-9c56-4bd3-81d1-c6f7c22d1e5b",
   "metadata": {},
   "source": [
    "* variables name can only contain letters , digits ,underscore "
   ]
  },
  {
   "cell_type": "markdown",
   "id": "a86c9b65-5b78-4d83-a0a1-62905d31009d",
   "metadata": {},
   "source": [
    "* a variables name cannot start with number\n",
    "* variables names are case sensitive \n",
    "* avoid using pyhthon keywords "
   ]
  },
  {
   "cell_type": "code",
   "execution_count": 14,
   "id": "06015097-779f-4c7e-9eac-f64904312dff",
   "metadata": {},
   "outputs": [
    {
     "name": "stdout",
     "output_type": "stream",
     "text": [
      "25\n"
     ]
    }
   ],
   "source": [
    "_score =25\n",
    "print(_score)"
   ]
  },
  {
   "cell_type": "code",
   "execution_count": 5,
   "id": "0149426d-4ff0-4ac4-8d54-0d27d1faa0dd",
   "metadata": {},
   "outputs": [
    {
     "name": "stdout",
     "output_type": "stream",
     "text": [
      "25\n"
     ]
    }
   ],
   "source": [
    "_score =25\n",
    "print(_score)"
   ]
  },
  {
   "cell_type": "code",
   "execution_count": 6,
   "id": "993682d1-7a26-4be2-adb9-c419b4e9c711",
   "metadata": {},
   "outputs": [
    {
     "name": "stdout",
     "output_type": "stream",
     "text": [
      "89\n"
     ]
    }
   ],
   "source": [
    "_score=89\n",
    "print(_score)"
   ]
  },
  {
   "cell_type": "code",
   "execution_count": 14,
   "id": "60da7d1b-fa17-4c2e-b18b-c1f6191c0c24",
   "metadata": {},
   "outputs": [
    {
     "ename": "TypeError",
     "evalue": "'int' object is not callable",
     "output_type": "error",
     "traceback": [
      "\u001b[1;31m---------------------------------------------------------------------------\u001b[0m",
      "\u001b[1;31mTypeError\u001b[0m                                 Traceback (most recent call last)",
      "Cell \u001b[1;32mIn[14], line 2\u001b[0m\n\u001b[0;32m      1\u001b[0m X\u001b[38;5;241m=\u001b[39m\u001b[38;5;241m20\u001b[39m\n\u001b[1;32m----> 2\u001b[0m \u001b[38;5;28mprint\u001b[39m(x)\n",
      "\u001b[1;31mTypeError\u001b[0m: 'int' object is not callable"
     ]
    }
   ],
   "source": [
    "X=20\n",
    "print(x)"
   ]
  },
  {
   "cell_type": "code",
   "execution_count": 15,
   "id": "61a57b4d-af02-4921-9a48-9ef97d7f5c0c",
   "metadata": {},
   "outputs": [
    {
     "ename": "SyntaxError",
     "evalue": "cannot assign to literal here. Maybe you meant '==' instead of '='? (123647830.py, line 1)",
     "output_type": "error",
     "traceback": [
      "\u001b[1;36m  Cell \u001b[1;32mIn[15], line 1\u001b[1;36m\u001b[0m\n\u001b[1;33m    1=20\u001b[0m\n\u001b[1;37m    ^\u001b[0m\n\u001b[1;31mSyntaxError\u001b[0m\u001b[1;31m:\u001b[0m cannot assign to literal here. Maybe you meant '==' instead of '='?\n"
     ]
    }
   ],
   "source": [
    "1=20"
   ]
  },
  {
   "cell_type": "code",
   "execution_count": 16,
   "id": "d83af761-d779-4c47-9231-3bbe2f3733c8",
   "metadata": {},
   "outputs": [
    {
     "ename": "SyntaxError",
     "evalue": "cannot assign to expression here. Maybe you meant '==' instead of '='? (1657763922.py, line 1)",
     "output_type": "error",
     "traceback": [
      "\u001b[1;36m  Cell \u001b[1;32mIn[16], line 1\u001b[1;36m\u001b[0m\n\u001b[1;33m    total-student=29\u001b[0m\n\u001b[1;37m    ^\u001b[0m\n\u001b[1;31mSyntaxError\u001b[0m\u001b[1;31m:\u001b[0m cannot assign to expression here. Maybe you meant '==' instead of '='?\n"
     ]
    }
   ],
   "source": [
    "total-student=29\n",
    "print(total-student)\n"
   ]
  },
  {
   "cell_type": "code",
   "execution_count": 17,
   "id": "2da14149-a0f8-430c-8a00-efbebab5bf5c",
   "metadata": {},
   "outputs": [
    {
     "name": "stdout",
     "output_type": "stream",
     "text": [
      "76\n"
     ]
    }
   ],
   "source": [
    "total_student=76\n",
    "print(total_student)"
   ]
  },
  {
   "cell_type": "code",
   "execution_count": 7,
   "id": "655b7f71-cea8-4dff-8193-ae1779298150",
   "metadata": {},
   "outputs": [
    {
     "name": "stdout",
     "output_type": "stream",
     "text": [
      "76\n"
     ]
    }
   ],
   "source": [
    "total_student= 76\n",
    "print(total_student)"
   ]
  },
  {
   "cell_type": "code",
   "execution_count": 8,
   "id": "0941638b-ac42-4ab5-b338-7caeba3b46a6",
   "metadata": {},
   "outputs": [
    {
     "ename": "SyntaxError",
     "evalue": "invalid decimal literal (536451388.py, line 1)",
     "output_type": "error",
     "traceback": [
      "\u001b[1;36m  Cell \u001b[1;32mIn[8], line 1\u001b[1;36m\u001b[0m\n\u001b[1;33m    1_student= 23\u001b[0m\n\u001b[1;37m     ^\u001b[0m\n\u001b[1;31mSyntaxError\u001b[0m\u001b[1;31m:\u001b[0m invalid decimal literal\n"
     ]
    }
   ],
   "source": [
    "1_student= 23\n",
    "print(1_student)"
   ]
  },
  {
   "cell_type": "code",
   "execution_count": 45,
   "id": "49d11a37-67cb-4a5b-94ed-4fd1bfbafb15",
   "metadata": {},
   "outputs": [],
   "source": [
    "x=25\n",
    "print=(X)\n"
   ]
  },
  {
   "cell_type": "code",
   "execution_count": 18,
   "id": "0d46687f-be7f-46c8-bdc7-42121c3ad9a2",
   "metadata": {},
   "outputs": [
    {
     "ename": "SyntaxError",
     "evalue": "cannot assign to True (270943673.py, line 1)",
     "output_type": "error",
     "traceback": [
      "\u001b[1;36m  Cell \u001b[1;32mIn[18], line 1\u001b[1;36m\u001b[0m\n\u001b[1;33m    True =25\u001b[0m\n\u001b[1;37m    ^\u001b[0m\n\u001b[1;31mSyntaxError\u001b[0m\u001b[1;31m:\u001b[0m cannot assign to True\n"
     ]
    }
   ],
   "source": [
    "True =25\n",
    "print(True)\n"
   ]
  },
  {
   "cell_type": "markdown",
   "id": "d0872982-9124-421e-b2bf-c166e09c1bd8",
   "metadata": {},
   "source": [
    "## dynamic typing\n"
   ]
  },
  {
   "cell_type": "markdown",
   "id": "43bdad01-0287-4196-b59e-502cf4a8e6cb",
   "metadata": {},
   "source": [
    "python variables are dynamically typed"
   ]
  },
  {
   "cell_type": "code",
   "execution_count": 40,
   "id": "01ad952a-3bf9-487a-a698-f4e3bc1e3b63",
   "metadata": {},
   "outputs": [
    {
     "name": "stdout",
     "output_type": "stream",
     "text": [
      "20\n"
     ]
    }
   ],
   "source": [
    "x=\"sangeeta\"\n",
    "x=20\n",
    "print (x)"
   ]
  },
  {
   "cell_type": "code",
   "execution_count": 2,
   "id": "23aac07d-f82f-4121-ba54-003320eb0826",
   "metadata": {},
   "outputs": [
    {
     "name": "stdout",
     "output_type": "stream",
     "text": [
      "70\n"
     ]
    }
   ],
   "source": [
    "y=\"aqsa\"\n",
    "y=70\n",
    "print(y)"
   ]
  },
  {
   "cell_type": "code",
   "execution_count": 4,
   "id": "7329f072-e904-47c4-ae9e-9d7f736905ac",
   "metadata": {},
   "outputs": [
    {
     "name": "stdout",
     "output_type": "stream",
     "text": [
      "sona\n"
     ]
    }
   ],
   "source": [
    "x=90\n",
    "x=\"sona\"\n",
    "print(x)\n"
   ]
  },
  {
   "cell_type": "markdown",
   "id": "81055a2d-92ea-4194-b9bf-8085e2a60481",
   "metadata": {},
   "source": [
    "## multiple assignment "
   ]
  },
  {
   "cell_type": "markdown",
   "id": "edd13ea5-20df-4f3d-aaf6-48d057639ec0",
   "metadata": {},
   "source": [
    "python allowes multiple variables in a single line "
   ]
  },
  {
   "cell_type": "code",
   "execution_count": 29,
   "id": "d7e4e38b-b5fb-4c43-ae7b-f7a227abdfad",
   "metadata": {},
   "outputs": [
    {
     "name": "stdout",
     "output_type": "stream",
     "text": [
      "10\n",
      "10\n",
      "10\n",
      "10 10 10\n"
     ]
    }
   ],
   "source": [
    "a,b,c,=10,10,10 \n",
    "print(a)\n",
    "print(b)\n",
    "print(c)\n",
    "print(a,b,c)\n"
   ]
  },
  {
   "cell_type": "code",
   "execution_count": 11,
   "id": "aa4835a1-6fa6-4ea5-ac96-c43ea1e4fc29",
   "metadata": {},
   "outputs": [
    {
     "name": "stdout",
     "output_type": "stream",
     "text": [
      "10\n",
      "10\n",
      "10\n",
      "10 10 10\n"
     ]
    }
   ],
   "source": [
    "p,q,r=10,10,10\n",
    "print(p)\n",
    "print(q)\n",
    "print(r)\n",
    "print(p,q,r)"
   ]
  },
  {
   "cell_type": "markdown",
   "id": "aef4822d-c519-4ca8-aa9f-fbae66d807c1",
   "metadata": {},
   "source": [
    " ## assigning different values "
   ]
  },
  {
   "cell_type": "markdown",
   "id": "a223dcb7-fc21-411c-b246-04dd3f13a84b",
   "metadata": {},
   "source": [
    "* python allows different values to multiples varaibles "
   ]
  },
  {
   "cell_type": "code",
   "execution_count": 34,
   "id": "d470ddab-8ab0-4807-979a-0c50bd78c3c1",
   "metadata": {},
   "outputs": [
    {
     "name": "stdout",
     "output_type": "stream",
     "text": [
      "25 29 mamta\n"
     ]
    }
   ],
   "source": [
    "x=25\n",
    "y=29\n",
    "z=\"mamta\"\n",
    "print(x,y,z)\n"
   ]
  },
  {
   "cell_type": "code",
   "execution_count": 36,
   "id": "b8e93ace-a87d-4d32-9b16-d2caae23f01c",
   "metadata": {},
   "outputs": [
    {
     "name": "stdout",
     "output_type": "stream",
     "text": [
      "25 29 mamta\n"
     ]
    }
   ],
   "source": [
    "x,y,z=25,29,\"mamta\"\n",
    "print(x,y,z)"
   ]
  },
  {
   "cell_type": "code",
   "execution_count": 39,
   "id": "54cb4f2e-7e48-4619-84e6-179771c5891c",
   "metadata": {},
   "outputs": [
    {
     "name": "stdout",
     "output_type": "stream",
     "text": [
      "29 89 67\n"
     ]
    }
   ],
   "source": [
    "a,b,sona =29,89,67\n",
    "print(a,b,sona)\n"
   ]
  },
  {
   "cell_type": "code",
   "execution_count": 41,
   "id": "906a7a1c-6f0c-4744-9b6c-ea198cf9f878",
   "metadata": {},
   "outputs": [
    {
     "name": "stdout",
     "output_type": "stream",
     "text": [
      "22 34 45\n"
     ]
    }
   ],
   "source": [
    "p,q,r=22,34,45\n",
    "print(p,q,r)"
   ]
  },
  {
   "cell_type": "code",
   "execution_count": 1,
   "id": "8b3402c5-42bd-4211-8061-a52b0db2ccfc",
   "metadata": {},
   "outputs": [
    {
     "name": "stdout",
     "output_type": "stream",
     "text": [
      "20 90 89\n"
     ]
    }
   ],
   "source": [
    "a,b,c =20,90,89\n",
    "print(a,b,c)"
   ]
  },
  {
   "cell_type": "code",
   "execution_count": 9,
   "id": "a9ed8437-db90-4508-8b1a-ba9684fb39bb",
   "metadata": {},
   "outputs": [
    {
     "name": "stdout",
     "output_type": "stream",
     "text": [
      "45 56 87\n"
     ]
    }
   ],
   "source": [
    "p,q,r=45,56,87\n",
    "print(p,q,r)"
   ]
  },
  {
   "cell_type": "code",
   "execution_count": null,
   "id": "d8fc1b65-ae1f-4c6b-8619-49157d446c18",
   "metadata": {},
   "outputs": [],
   "source": []
  }
 ],
 "metadata": {
  "kernelspec": {
   "display_name": "Python 3 (ipykernel)",
   "language": "python",
   "name": "python3"
  },
  "language_info": {
   "codemirror_mode": {
    "name": "ipython",
    "version": 3
   },
   "file_extension": ".py",
   "mimetype": "text/x-python",
   "name": "python",
   "nbconvert_exporter": "python",
   "pygments_lexer": "ipython3",
   "version": "3.13.5"
  }
 },
 "nbformat": 4,
 "nbformat_minor": 5
}
