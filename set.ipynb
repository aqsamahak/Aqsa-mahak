{
 "cells": [
  {
   "cell_type": "markdown",
   "id": "c5ca6e9b-cb52-42e7-bedc-c62458362563",
   "metadata": {},
   "source": [
    "## characterstics of set:-"
   ]
  },
  {
   "cell_type": "markdown",
   "id": "49244eb7-7c55-4f20-8eaa-5169280c0e99",
   "metadata": {},
   "source": [
    "a set is a built in data stucture in python with the following 3 characterstics \n",
    "* unordered : the items in the set are unordered ,unlike lists,i:e,it will not maintain the order in which the item are inserted the items will be in a different order each time when we acces the set object their will not be be any index value assigned to each item in  the set\n",
    "* unchangeable : set item must be immutable we can not change the set items but set as a whole is matuable\n",
    "* unique: their can not be two items with the  same value in the set\n",
    "* iterable "
   ]
  },
  {
   "cell_type": "code",
   "execution_count": 67,
   "id": "01ee99fc-9fbb-4ce8-b64b-8ed2358a39d0",
   "metadata": {},
   "outputs": [
    {
     "name": "stdout",
     "output_type": "stream",
     "text": [
      "<class 'set'>\n"
     ]
    }
   ],
   "source": [
    "a={78,90}\n",
    "print(type(a))"
   ]
  },
  {
   "cell_type": "code",
   "execution_count": 69,
   "id": "a408bd55-5bb6-4c37-ac1b-76103fd82f3f",
   "metadata": {},
   "outputs": [
    {
     "name": "stdout",
     "output_type": "stream",
     "text": [
      "<class 'set'>\n"
     ]
    }
   ],
   "source": [
    "b={78,\"aqsa\",(89,78)}\n",
    "print(type(b))"
   ]
  },
  {
   "cell_type": "code",
   "execution_count": 76,
   "id": "e978f3af-5848-4197-964d-3b5d7e7bb9e2",
   "metadata": {},
   "outputs": [
    {
     "name": "stdout",
     "output_type": "stream",
     "text": [
      "<class 'set'>\n"
     ]
    }
   ],
   "source": [
    "c=set([90,89,76,56])\n",
    "print(type(c))"
   ]
  },
  {
   "cell_type": "code",
   "execution_count": 73,
   "id": "b4075e68-fbd3-4aa5-a980-43fab40b3198",
   "metadata": {},
   "outputs": [
    {
     "ename": "TypeError",
     "evalue": "set expected at most 1 argument, got 3",
     "output_type": "error",
     "traceback": [
      "\u001b[1;31m---------------------------------------------------------------------------\u001b[0m",
      "\u001b[1;31mTypeError\u001b[0m                                 Traceback (most recent call last)",
      "Cell \u001b[1;32mIn[73], line 1\u001b[0m\n\u001b[1;32m----> 1\u001b[0m d\u001b[38;5;241m=\u001b[39m\u001b[38;5;28mset\u001b[39m([\u001b[38;5;241m90\u001b[39m,\u001b[38;5;241m89\u001b[39m],[\u001b[38;5;241m90\u001b[39m,\u001b[38;5;241m56\u001b[39m],[\u001b[38;5;241m45\u001b[39m,\u001b[38;5;241m34\u001b[39m])\n\u001b[0;32m      2\u001b[0m \u001b[38;5;28mprint\u001b[39m(\u001b[38;5;28mtype\u001b[39m(d))\n",
      "\u001b[1;31mTypeError\u001b[0m: set expected at most 1 argument, got 3"
     ]
    }
   ],
   "source": [
    "d=set([90,89],[90,56],[45,34])\n",
    "print(type(d))"
   ]
  },
  {
   "cell_type": "code",
   "execution_count": 74,
   "id": "c316688f-40a1-4636-a1f0-bbcc2e220bb2",
   "metadata": {},
   "outputs": [
    {
     "ename": "TypeError",
     "evalue": "set expected at most 1 argument, got 3",
     "output_type": "error",
     "traceback": [
      "\u001b[1;31m---------------------------------------------------------------------------\u001b[0m",
      "\u001b[1;31mTypeError\u001b[0m                                 Traceback (most recent call last)",
      "Cell \u001b[1;32mIn[74], line 1\u001b[0m\n\u001b[1;32m----> 1\u001b[0m d\u001b[38;5;241m=\u001b[39m\u001b[38;5;28mset\u001b[39m([\u001b[38;5;241m90\u001b[39m,\u001b[38;5;241m89\u001b[39m],\u001b[38;5;124m\"\u001b[39m\u001b[38;5;124maqsa\u001b[39m\u001b[38;5;124m\"\u001b[39m,\u001b[38;5;241m78\u001b[39m)\n\u001b[0;32m      2\u001b[0m \u001b[38;5;28mprint\u001b[39m(\u001b[38;5;28mtype\u001b[39m(d))\n",
      "\u001b[1;31mTypeError\u001b[0m: set expected at most 1 argument, got 3"
     ]
    }
   ],
   "source": [
    "d=set([90,89],\"aqsa\",78)\n",
    "print(type(d))"
   ]
  },
  {
   "cell_type": "code",
   "execution_count": 81,
   "id": "c8603521-5ca7-4dc6-8ae1-2016f93c1cce",
   "metadata": {},
   "outputs": [
    {
     "name": "stdout",
     "output_type": "stream",
     "text": [
      "[89, 90, 76, 34]\n"
     ]
    }
   ],
   "source": [
    "aqsa={76,89,90,34}\n",
    "a= list(aqsa)\n",
    "print(a)"
   ]
  },
  {
   "cell_type": "code",
   "execution_count": 82,
   "id": "a487789e-bc04-4fea-8f4b-f638cfa45542",
   "metadata": {},
   "outputs": [
    {
     "name": "stdout",
     "output_type": "stream",
     "text": [
      "{89, 90, 76, 34}\n"
     ]
    }
   ],
   "source": [
    "a=set(a)\n",
    "print(a)"
   ]
  },
  {
   "cell_type": "code",
   "execution_count": 83,
   "id": "9d80786c-5249-43a6-b169-e2f844a5cca2",
   "metadata": {},
   "outputs": [
    {
     "name": "stdout",
     "output_type": "stream",
     "text": [
      "{67, 45, 78, 89, 90}\n"
     ]
    }
   ],
   "source": [
    "aqsa=[90,45,89,78,78,90,90,45,45,67,67]\n",
    "a=set(aqsa)\n",
    "print(a)"
   ]
  },
  {
   "cell_type": "code",
   "execution_count": 84,
   "id": "44e0ed7a-5380-4ae0-93cd-5cd435c9e130",
   "metadata": {},
   "outputs": [
    {
     "name": "stdout",
     "output_type": "stream",
     "text": [
      "[67, 45, 78, 89, 90]\n"
     ]
    }
   ],
   "source": [
    "b=list(a)\n",
    "print(b)"
   ]
  },
  {
   "cell_type": "markdown",
   "id": "cde0a33a-bd61-480b-b458-5796cc286a89",
   "metadata": {},
   "source": [
    "## creating a set"
   ]
  },
  {
   "cell_type": "markdown",
   "id": "44c494ab-c802-4b18-b54e-ea2ea0f1f035",
   "metadata": {},
   "source": [
    "There are following to ways to create a set in python \n",
    "* using {}: the easiet and straight forward way off creating a set by just inclosing of data item inside the {}.the indivisual value are comma separated\n",
    "* using set () contructor : the set object is of type class \"set\" .so we can create a set by calling contructor of class 'set'.\n"
   ]
  },
  {
   "cell_type": "code",
   "execution_count": 86,
   "id": "415e9601-faf2-4541-8c18-e74218847b0e",
   "metadata": {},
   "outputs": [
    {
     "name": "stdout",
     "output_type": "stream",
     "text": [
      "<class 'set'>\n"
     ]
    }
   ],
   "source": [
    "a=set([67,89,78,90])\n",
    "print(type(a))"
   ]
  },
  {
   "cell_type": "code",
   "execution_count": 89,
   "id": "683c7ef9-33fb-4dc5-84e7-a50d479f6ae5",
   "metadata": {},
   "outputs": [
    {
     "name": "stdout",
     "output_type": "stream",
     "text": [
      "<class 'set'>\n"
     ]
    }
   ],
   "source": [
    "b={89,90,34,\"aqsa\",(23,22)}\n",
    "print(type(b))"
   ]
  },
  {
   "cell_type": "code",
   "execution_count": 90,
   "id": "9e08aef6-382f-41bb-aebf-fe7ea5725456",
   "metadata": {},
   "outputs": [
    {
     "name": "stdout",
     "output_type": "stream",
     "text": [
      "<class 'set'>\n"
     ]
    }
   ],
   "source": [
    "d=set(\"aqsa\")\n",
    "print(type(d))"
   ]
  },
  {
   "cell_type": "code",
   "execution_count": 91,
   "id": "0652ac21-67c9-4bb1-aef8-6578c46848c2",
   "metadata": {},
   "outputs": [
    {
     "name": "stdout",
     "output_type": "stream",
     "text": [
      "<class 'set'>\n"
     ]
    }
   ],
   "source": [
    "b=set([45,78])\n",
    "print(type(b))"
   ]
  },
  {
   "cell_type": "code",
   "execution_count": 98,
   "id": "3395d1ab-56c2-4766-82b2-68eb155e315f",
   "metadata": {},
   "outputs": [
    {
     "name": "stdout",
     "output_type": "stream",
     "text": [
      "{'e', 'a', 'l', 'p'}\n"
     ]
    }
   ],
   "source": [
    "aqsa=set(\"appppple\")\n",
    "print(aqsa)"
   ]
  },
  {
   "cell_type": "code",
   "execution_count": 101,
   "id": "7f382d52-e367-4259-9b29-ab289a5d3701",
   "metadata": {},
   "outputs": [
    {
     "name": "stdout",
     "output_type": "stream",
     "text": [
      "{'a', 'q', 's'}\n"
     ]
    }
   ],
   "source": [
    "sona =set(\"aqssssssssssa\")\n",
    "print(sona)"
   ]
  },
  {
   "cell_type": "code",
   "execution_count": 3,
   "id": "becf7665-182d-4db3-8168-975424fb374d",
   "metadata": {},
   "outputs": [
    {
     "name": "stdout",
     "output_type": "stream",
     "text": [
      "{56, 90, 78}\n"
     ]
    }
   ],
   "source": [
    "sona=set([78,90,56])\n",
    "print(sona)"
   ]
  },
  {
   "cell_type": "code",
   "execution_count": 4,
   "id": "b4a4cfc1-c3bb-4f66-b437-ed947b1a400a",
   "metadata": {},
   "outputs": [
    {
     "ename": "TypeError",
     "evalue": "set expected at most 1 argument, got 2",
     "output_type": "error",
     "traceback": [
      "\u001b[1;31m---------------------------------------------------------------------------\u001b[0m",
      "\u001b[1;31mTypeError\u001b[0m                                 Traceback (most recent call last)",
      "Cell \u001b[1;32mIn[4], line 1\u001b[0m\n\u001b[1;32m----> 1\u001b[0m set1\u001b[38;5;241m=\u001b[39m\u001b[38;5;28mset\u001b[39m(\u001b[38;5;241m6\u001b[39m,\u001b[38;5;241m8\u001b[39m)\n\u001b[0;32m      2\u001b[0m \u001b[38;5;28mprint\u001b[39m(\u001b[38;5;28mtype\u001b[39m(set1))\n",
      "\u001b[1;31mTypeError\u001b[0m: set expected at most 1 argument, got 2"
     ]
    }
   ],
   "source": [
    "set1=set(6,8)\n",
    "print(type(set1))            ## only 1 argument"
   ]
  },
  {
   "cell_type": "code",
   "execution_count": 11,
   "id": "94d5455f-feaa-4535-8f4d-83d543f68a0f",
   "metadata": {},
   "outputs": [
    {
     "name": "stdout",
     "output_type": "stream",
     "text": [
      "{90, 45, 78}\n"
     ]
    }
   ],
   "source": [
    "sona=set([90,78,45])\n",
    "print(sona)"
   ]
  },
  {
   "cell_type": "code",
   "execution_count": 1,
   "id": "ad945c16-dd0e-4835-9fe6-3cb880d34d18",
   "metadata": {},
   "outputs": [
    {
     "ename": "TypeError",
     "evalue": "'int' object is not iterable",
     "output_type": "error",
     "traceback": [
      "\u001b[1;31m---------------------------------------------------------------------------\u001b[0m",
      "\u001b[1;31mTypeError\u001b[0m                                 Traceback (most recent call last)",
      "Cell \u001b[1;32mIn[1], line 1\u001b[0m\n\u001b[1;32m----> 1\u001b[0m aqsa\u001b[38;5;241m=\u001b[39m\u001b[38;5;28mset\u001b[39m((\u001b[38;5;241m4\u001b[39m))\n\u001b[0;32m      2\u001b[0m \u001b[38;5;28mprint\u001b[39m(\u001b[38;5;28mtype\u001b[39m(\u001b[38;5;124m\"\u001b[39m\u001b[38;5;124maqsa\u001b[39m\u001b[38;5;124m\"\u001b[39m))\n",
      "\u001b[1;31mTypeError\u001b[0m: 'int' object is not iterable"
     ]
    }
   ],
   "source": [
    "aqsa=set((4))\n",
    "print(type(\"aqsa\"))"
   ]
  },
  {
   "cell_type": "code",
   "execution_count": 7,
   "id": "7b580a21-3609-4977-9d43-499d2f93d31e",
   "metadata": {},
   "outputs": [
    {
     "name": "stdout",
     "output_type": "stream",
     "text": [
      "<class 'set'>\n"
     ]
    }
   ],
   "source": [
    "aqsa=set((4,))\n",
    "print(type(aqsa))\n"
   ]
  },
  {
   "cell_type": "code",
   "execution_count": 6,
   "id": "b6de4c7b-64ed-4535-86d7-aada5c1a01cc",
   "metadata": {},
   "outputs": [
    {
     "name": "stdout",
     "output_type": "stream",
     "text": [
      "<class 'set'>\n"
     ]
    }
   ],
   "source": [
    "set1=set([])\n",
    "print(type(set1))            ## empty set"
   ]
  },
  {
   "cell_type": "code",
   "execution_count": 7,
   "id": "43f13382-d6c7-468b-a5c5-b6e793ef1c75",
   "metadata": {},
   "outputs": [
    {
     "name": "stdout",
     "output_type": "stream",
     "text": [
      "{90, 67, 'aqsa', 78}\n"
     ]
    }
   ],
   "source": [
    "list1=[ 78,90,67,\"aqsa\",]\n",
    "a=set(list1)\n",
    "print(a)"
   ]
  },
  {
   "cell_type": "code",
   "execution_count": 8,
   "id": "e0ec4ccf-0109-4dc4-9a2c-f9615384d210",
   "metadata": {},
   "outputs": [
    {
     "name": "stdout",
     "output_type": "stream",
     "text": [
      "[90, 67, 'aqsa', 78]\n"
     ]
    }
   ],
   "source": [
    "b=list(a)\n",
    "print(b)"
   ]
  },
  {
   "cell_type": "code",
   "execution_count": 9,
   "id": "06cc7244-9125-41f9-b09f-68e7d5d74477",
   "metadata": {},
   "outputs": [
    {
     "name": "stdout",
     "output_type": "stream",
     "text": [
      "67\n",
      "aqsa\n",
      "78\n"
     ]
    }
   ],
   "source": [
    "print(b[1])\n",
    "print(b[2])\n",
    "print(b[3])"
   ]
  },
  {
   "cell_type": "code",
   "execution_count": 15,
   "id": "2b95545e-0ce0-4ef8-b97d-603987092d9a",
   "metadata": {},
   "outputs": [
    {
     "name": "stdout",
     "output_type": "stream",
     "text": [
      "[56, 45, 78, 56, 90, 67]\n"
     ]
    }
   ],
   "source": [
    "set1={90,56,56,67}\n",
    "aqsa=list(set1)\n",
    "set2={78,56,45}\n",
    "sona=list(set2)\n",
    "set3=(sona+aqsa)\n",
    "print(set3)"
   ]
  },
  {
   "cell_type": "code",
   "execution_count": null,
   "id": "b35e6723-bb7e-4f96-b94d-a14e1b184b7c",
   "metadata": {},
   "outputs": [],
   "source": []
  },
  {
   "cell_type": "code",
   "execution_count": null,
   "id": "62b176aa-52cb-4934-8a6f-c0a7438ddae8",
   "metadata": {},
   "outputs": [],
   "source": []
  },
  {
   "cell_type": "code",
   "execution_count": null,
   "id": "fa0d57b7-f051-40f5-b6e0-d5427372811b",
   "metadata": {},
   "outputs": [],
   "source": []
  },
  {
   "cell_type": "code",
   "execution_count": 10,
   "id": "e0f6c95e-89de-4bec-8f41-b450e050bf7d",
   "metadata": {},
   "outputs": [
    {
     "name": "stdout",
     "output_type": "stream",
     "text": [
      "['aqsa', 1.5, 3, 9]\n"
     ]
    }
   ],
   "source": [
    "my_set={3,1.5,9,\"aqsa\"}\n",
    "name =list(my_set)\n",
    "print (name)"
   ]
  },
  {
   "cell_type": "code",
   "execution_count": 11,
   "id": "d477e15f-0b02-4b34-8df3-9eddde05501a",
   "metadata": {},
   "outputs": [
    {
     "name": "stdout",
     "output_type": "stream",
     "text": [
      "1.5\n"
     ]
    }
   ],
   "source": [
    "print(name[1])"
   ]
  },
  {
   "cell_type": "code",
   "execution_count": 12,
   "id": "187ca5e2-3d7b-438a-8d37-7e5eb130097a",
   "metadata": {},
   "outputs": [
    {
     "name": "stdout",
     "output_type": "stream",
     "text": [
      "{89, 34, 67, 78}\n"
     ]
    }
   ],
   "source": [
    "a={67,34,67,78,89}\n",
    "b=list(a)\n",
    "print(a)"
   ]
  },
  {
   "cell_type": "code",
   "execution_count": 13,
   "id": "90e264db-f3ed-47f8-b008-18af7bb0bd55",
   "metadata": {},
   "outputs": [
    {
     "name": "stdout",
     "output_type": "stream",
     "text": [
      "34\n"
     ]
    }
   ],
   "source": [
    "print(b[1])"
   ]
  },
  {
   "cell_type": "code",
   "execution_count": 14,
   "id": "141679ba-63d2-44b6-b482-1016dc7fb1e9",
   "metadata": {},
   "outputs": [
    {
     "name": "stdout",
     "output_type": "stream",
     "text": [
      "{25, 3, 36, 29}\n"
     ]
    }
   ],
   "source": [
    "list1=[25,29,3,3,36]\n",
    "a=set(list1)\n",
    "print(a)"
   ]
  },
  {
   "cell_type": "code",
   "execution_count": 16,
   "id": "752154c9-9f87-4aa5-a3b0-1563a05b6ab4",
   "metadata": {},
   "outputs": [
    {
     "name": "stdout",
     "output_type": "stream",
     "text": [
      "{25, 3, 36, 29}\n"
     ]
    }
   ],
   "source": [
    "list1=(25,29,3,3,36)\n",
    "a=set(list1)\n",
    "print(a)"
   ]
  },
  {
   "cell_type": "code",
   "execution_count": 2,
   "id": "76404714-09c2-4ded-9e22-dcd2b98b7ba9",
   "metadata": {},
   "outputs": [
    {
     "name": "stdout",
     "output_type": "stream",
     "text": [
      "(56, 89, 90, 90)\n"
     ]
    }
   ],
   "source": [
    "a=[56,89,90,90]\n",
    "a=tuple(a)\n",
    "print(a)"
   ]
  },
  {
   "cell_type": "code",
   "execution_count": 5,
   "id": "d4ae1384-2156-4961-86a0-4b201cd196aa",
   "metadata": {},
   "outputs": [
    {
     "name": "stdout",
     "output_type": "stream",
     "text": [
      "89\n",
      "34\n",
      "78\n"
     ]
    }
   ],
   "source": [
    "my_set={34,89,78}\n",
    "for i in my_set:\n",
    "    print(i)"
   ]
  },
  {
   "cell_type": "code",
   "execution_count": 18,
   "id": "4feefb32-556b-4e28-a47e-9458f51f3c92",
   "metadata": {},
   "outputs": [
    {
     "name": "stdout",
     "output_type": "stream",
     "text": [
      "89\n",
      "67\n",
      "45\n",
      "[89, 67, 45]\n"
     ]
    }
   ],
   "source": [
    "namra={45,67,89}\n",
    "for i in namra:\n",
    "    print(i)\n",
    "aqsa=list(namra)\n",
    "print(aqsa)\n"
   ]
  },
  {
   "cell_type": "code",
   "execution_count": 17,
   "id": "af2cfde2-1d6d-42a4-b655-6c56fee30677",
   "metadata": {},
   "outputs": [
    {
     "name": "stdout",
     "output_type": "stream",
     "text": [
      "67\n"
     ]
    }
   ],
   "source": [
    "print(aqsa[1])"
   ]
  },
  {
   "cell_type": "code",
   "execution_count": null,
   "id": "04d27548-2283-4e74-af02-9588b0403014",
   "metadata": {},
   "outputs": [],
   "source": []
  },
  {
   "cell_type": "markdown",
   "id": "c36e4409-3322-4635-a4fd-cbcf740943ba",
   "metadata": {},
   "source": [
    "## create a set from list"
   ]
  },
  {
   "cell_type": "code",
   "execution_count": 6,
   "id": "71d21d72-144e-4e8f-a1bb-e19d8ec26e1b",
   "metadata": {},
   "outputs": [
    {
     "name": "stdout",
     "output_type": "stream",
     "text": [
      "{50, 20, 30}\n"
     ]
    }
   ],
   "source": [
    "a=[20,30,20,30,50,30]\n",
    "a=set(a)\n",
    "print(a)\n"
   ]
  },
  {
   "cell_type": "markdown",
   "id": "58bd5cc6-f743-42e2-8251-76c68790f94c",
   "metadata": {},
   "source": [
    " ## concatenation"
   ]
  },
  {
   "cell_type": "code",
   "execution_count": 10,
   "id": "e2405ce0-8869-42dd-8159-ca34875cb0c6",
   "metadata": {},
   "outputs": [
    {
     "name": "stdout",
     "output_type": "stream",
     "text": [
      "{20}\n"
     ]
    }
   ],
   "source": [
    "set1={20,30,20,30,50,30}\n",
    "set2={2,3,29,39,50,30}\n",
    "set3=(set1-set2)\n",
    "print(set3)"
   ]
  },
  {
   "cell_type": "code",
   "execution_count": 14,
   "id": "7f96713d-99a9-4198-9975-c03bdd361f49",
   "metadata": {},
   "outputs": [
    {
     "ename": "TypeError",
     "evalue": "unsupported operand type(s) for +: 'set' and 'set'",
     "output_type": "error",
     "traceback": [
      "\u001b[1;31m---------------------------------------------------------------------------\u001b[0m",
      "\u001b[1;31mTypeError\u001b[0m                                 Traceback (most recent call last)",
      "Cell \u001b[1;32mIn[14], line 3\u001b[0m\n\u001b[0;32m      1\u001b[0m set1\u001b[38;5;241m=\u001b[39m{\u001b[38;5;241m20\u001b[39m,\u001b[38;5;241m30\u001b[39m,\u001b[38;5;241m20\u001b[39m,\u001b[38;5;241m30\u001b[39m,\u001b[38;5;241m50\u001b[39m,\u001b[38;5;241m30\u001b[39m}\n\u001b[0;32m      2\u001b[0m set2\u001b[38;5;241m=\u001b[39m{\u001b[38;5;241m2\u001b[39m,\u001b[38;5;241m3\u001b[39m,\u001b[38;5;241m29\u001b[39m,\u001b[38;5;241m39\u001b[39m,\u001b[38;5;241m50\u001b[39m,\u001b[38;5;241m30\u001b[39m}\n\u001b[1;32m----> 3\u001b[0m set3\u001b[38;5;241m=\u001b[39m(set1\u001b[38;5;241m+\u001b[39mset2)\n\u001b[0;32m      4\u001b[0m \u001b[38;5;28mprint\u001b[39m(set3)\n",
      "\u001b[1;31mTypeError\u001b[0m: unsupported operand type(s) for +: 'set' and 'set'"
     ]
    }
   ],
   "source": [
    "set1={20,30,20,30,50,30}\n",
    "set2={2,3,29,39,50,30}\n",
    "set3=(set1+set2)\n",
    "print(set3)"
   ]
  },
  {
   "cell_type": "code",
   "execution_count": 12,
   "id": "0b221bfe-d3ef-4083-ba01-cd4a35b14ebd",
   "metadata": {},
   "outputs": [
    {
     "ename": "TypeError",
     "evalue": "unsupported operand type(s) for *: 'set' and 'set'",
     "output_type": "error",
     "traceback": [
      "\u001b[1;31m---------------------------------------------------------------------------\u001b[0m",
      "\u001b[1;31mTypeError\u001b[0m                                 Traceback (most recent call last)",
      "Cell \u001b[1;32mIn[12], line 3\u001b[0m\n\u001b[0;32m      1\u001b[0m set1\u001b[38;5;241m=\u001b[39m{\u001b[38;5;241m20\u001b[39m,\u001b[38;5;241m30\u001b[39m,\u001b[38;5;241m20\u001b[39m,\u001b[38;5;241m30\u001b[39m,\u001b[38;5;241m50\u001b[39m,\u001b[38;5;241m30\u001b[39m}\n\u001b[0;32m      2\u001b[0m set2\u001b[38;5;241m=\u001b[39m{\u001b[38;5;241m2\u001b[39m,\u001b[38;5;241m3\u001b[39m,\u001b[38;5;241m29\u001b[39m,\u001b[38;5;241m39\u001b[39m,\u001b[38;5;241m50\u001b[39m,\u001b[38;5;241m30\u001b[39m}\n\u001b[1;32m----> 3\u001b[0m set3\u001b[38;5;241m=\u001b[39m(set1\u001b[38;5;241m*\u001b[39mset2)\n\u001b[0;32m      4\u001b[0m \u001b[38;5;28mprint\u001b[39m(set3)\n",
      "\u001b[1;31mTypeError\u001b[0m: unsupported operand type(s) for *: 'set' and 'set'"
     ]
    }
   ],
   "source": [
    "set1={20,30,20,30,50,30}\n",
    "set2={2,3,29,39,50,30}\n",
    "set3=(set1*set2)\n",
    "print(set3)"
   ]
  },
  {
   "cell_type": "code",
   "execution_count": 13,
   "id": "fdc7e471-9ccc-4bcd-a975-fc6497044f69",
   "metadata": {},
   "outputs": [
    {
     "ename": "TypeError",
     "evalue": "unsupported operand type(s) for /: 'set' and 'set'",
     "output_type": "error",
     "traceback": [
      "\u001b[1;31m---------------------------------------------------------------------------\u001b[0m",
      "\u001b[1;31mTypeError\u001b[0m                                 Traceback (most recent call last)",
      "Cell \u001b[1;32mIn[13], line 3\u001b[0m\n\u001b[0;32m      1\u001b[0m set1\u001b[38;5;241m=\u001b[39m{\u001b[38;5;241m20\u001b[39m,\u001b[38;5;241m30\u001b[39m,\u001b[38;5;241m20\u001b[39m,\u001b[38;5;241m30\u001b[39m,\u001b[38;5;241m50\u001b[39m,\u001b[38;5;241m30\u001b[39m}\n\u001b[0;32m      2\u001b[0m set2\u001b[38;5;241m=\u001b[39m{\u001b[38;5;241m2\u001b[39m,\u001b[38;5;241m3\u001b[39m,\u001b[38;5;241m29\u001b[39m,\u001b[38;5;241m39\u001b[39m,\u001b[38;5;241m50\u001b[39m,\u001b[38;5;241m30\u001b[39m}\n\u001b[1;32m----> 3\u001b[0m set3\u001b[38;5;241m=\u001b[39m(set1\u001b[38;5;241m/\u001b[39mset2)\n",
      "\u001b[1;31mTypeError\u001b[0m: unsupported operand type(s) for /: 'set' and 'set'"
     ]
    }
   ],
   "source": [
    "set1={20,30,20,30,50,30}\n",
    "set2={2,3,29,39,50,30}\n",
    "set3=(set1/set2)\n"
   ]
  },
  {
   "cell_type": "code",
   "execution_count": 15,
   "id": "ef6b6f98-a8d9-4b57-9a21-15e337b6d039",
   "metadata": {},
   "outputs": [
    {
     "name": "stdout",
     "output_type": "stream",
     "text": [
      "False\n"
     ]
    }
   ],
   "source": [
    "set1={20,30,20,30,50,30}\n",
    "set2={2,3,29,39,50,30}\n",
    "set3=(set1==set2)\n",
    "print(set3)\n"
   ]
  },
  {
   "cell_type": "code",
   "execution_count": 16,
   "id": "33ddb9cc-93e5-4c96-9c5a-5262084e76b3",
   "metadata": {},
   "outputs": [
    {
     "name": "stdout",
     "output_type": "stream",
     "text": [
      "{2, 3, 50, 39, 29, 30}\n"
     ]
    }
   ],
   "source": [
    "set1={20,30,20,30,50,30}\n",
    "set2={2,3,29,39,50,30}\n",
    "set3=(set1 and set2)\n",
    "print(set3)\n",
    "\n",
    "\n",
    "\n"
   ]
  },
  {
   "cell_type": "code",
   "execution_count": 19,
   "id": "dea23b70-707e-4656-b91e-5786e379ffce",
   "metadata": {},
   "outputs": [
    {
     "name": "stdout",
     "output_type": "stream",
     "text": [
      "[50, 20, 30]\n"
     ]
    }
   ],
   "source": [
    "set1={20,30,20,30,50,30}\n",
    "set2={2,3,29,39,50,30}\n",
    "set3=list(set1)\n",
    "print(set3)"
   ]
  },
  {
   "cell_type": "code",
   "execution_count": 20,
   "id": "68558312-0ca2-4cf7-928c-9e251a1e4cd9",
   "metadata": {},
   "outputs": [
    {
     "name": "stdout",
     "output_type": "stream",
     "text": [
      "[2, 3, 50, 39, 29, 30]\n"
     ]
    }
   ],
   "source": [
    "set2=list(set2)\n",
    "print(set2)"
   ]
  },
  {
   "cell_type": "code",
   "execution_count": 21,
   "id": "d91233fe-a8e6-4c80-9d6c-82370a78e744",
   "metadata": {},
   "outputs": [
    {
     "name": "stdout",
     "output_type": "stream",
     "text": [
      "[50, 20, 30, 2, 3, 50, 39, 29, 30]\n"
     ]
    }
   ],
   "source": [
    "print(set3+set2)"
   ]
  },
  {
   "cell_type": "code",
   "execution_count": 22,
   "id": "4411fdce-0ee3-48d3-92a8-73a596309fb6",
   "metadata": {},
   "outputs": [
    {
     "name": "stdout",
     "output_type": "stream",
     "text": [
      "[2, 3, 50, 39, 29, 30]\n"
     ]
    }
   ],
   "source": [
    "a=set(set2)\n",
    "print(set2)"
   ]
  },
  {
   "cell_type": "code",
   "execution_count": 28,
   "id": "5da8bb28-7097-4583-a431-e6758346db5b",
   "metadata": {},
   "outputs": [
    {
     "name": "stdout",
     "output_type": "stream",
     "text": [
      "(89, 90, 67, 45, 78, 67, 78, 45)\n"
     ]
    }
   ],
   "source": [
    "set1={45,67,89,90}\n",
    "tuple1=(78,67,78,45)\n",
    "a=tuple(set1)\n",
    "tuple2=(a+tuple1)\n",
    "print(tuple2)"
   ]
  },
  {
   "cell_type": "code",
   "execution_count": 29,
   "id": "e8065d20-651b-428d-a2a9-f657bb2786a6",
   "metadata": {},
   "outputs": [
    {
     "name": "stdout",
     "output_type": "stream",
     "text": [
      "{67, 45, 78, 89, 90}\n"
     ]
    }
   ],
   "source": [
    "set2=set(tuple2)\n",
    "print(set2)\n"
   ]
  },
  {
   "cell_type": "code",
   "execution_count": 27,
   "id": "bffc018b-e683-46bb-a7be-f1da24fb097f",
   "metadata": {},
   "outputs": [
    {
     "name": "stdout",
     "output_type": "stream",
     "text": [
      "[56, 89, 34]\n",
      "[56, 89, 34, 90, 67, 89, 56]\n"
     ]
    }
   ],
   "source": [
    "list1=[90,67,89,56,]\n",
    "set1={56,89,34,}\n",
    "a=list(set1)\n",
    "print(a)\n",
    "print(a+list1)\n"
   ]
  },
  {
   "cell_type": "code",
   "execution_count": 24,
   "id": "d2e3be31-f16e-4888-878b-b2d73be3bbd9",
   "metadata": {},
   "outputs": [
    {
     "name": "stdout",
     "output_type": "stream",
     "text": [
      "{89, 90, 45}\n",
      "89\n",
      "90\n",
      "45\n"
     ]
    }
   ],
   "source": [
    "list1=[90,45,45,89]\n",
    "aqsa=set(list1)\n",
    "print(aqsa)\n",
    "for i in aqsa:\n",
    "    print(i)"
   ]
  },
  {
   "cell_type": "code",
   "execution_count": 44,
   "id": "e0ca2e23-caaa-4ae6-b37f-70d5036826af",
   "metadata": {},
   "outputs": [
    {
     "name": "stdout",
     "output_type": "stream",
     "text": [
      "<class 'dict'>\n"
     ]
    }
   ],
   "source": [
    "set1={}\n",
    "print(type(set1))\n"
   ]
  },
  {
   "cell_type": "code",
   "execution_count": 47,
   "id": "cbbd217a-afd3-4d85-9325-7d88858f2cda",
   "metadata": {},
   "outputs": [
    {
     "name": "stdout",
     "output_type": "stream",
     "text": [
      "<class 'tuple'>\n"
     ]
    }
   ],
   "source": [
    "tuple2=()\n",
    "print(type(tuple2))"
   ]
  },
  {
   "cell_type": "markdown",
   "id": "fc9d3105-6d8a-40fb-a79e-d6a543152845",
   "metadata": {},
   "source": [
    "## accessing items of a set:set being unordered so no indexing "
   ]
  },
  {
   "cell_type": "code",
   "execution_count": 48,
   "id": "792f93a7-4097-4865-8f78-b0cecf64ad67",
   "metadata": {},
   "outputs": [
    {
     "name": "stdout",
     "output_type": "stream",
     "text": [
      "harry potter\n",
      "altas shrugged\n",
      "angel and demons\n"
     ]
    }
   ],
   "source": [
    "book={\"harry potter\",\"angel and demons\",\"altas shrugged\"}\n",
    "for i in book:\n",
    "    print(i)\n",
    "    \n",
    "      "
   ]
  },
  {
   "cell_type": "code",
   "execution_count": 53,
   "id": "e8136c02-a5f5-4199-9613-c5d83fdaebd2",
   "metadata": {},
   "outputs": [
    {
     "name": "stdout",
     "output_type": "stream",
     "text": [
      "['harry potter', 'altas shrugged', 'angel and demons']\n"
     ]
    }
   ],
   "source": [
    "book={\"harry potter\",\"angel and demons\",\"altas shrugged\"}\n",
    "book=list(book)\n",
    "print(book)"
   ]
  },
  {
   "cell_type": "code",
   "execution_count": 65,
   "id": "bd6d449e-7a8f-4e67-83aa-2c7b7bde6e88",
   "metadata": {},
   "outputs": [
    {
     "name": "stdout",
     "output_type": "stream",
     "text": [
      "harry potter\n",
      "altas shrugged\n",
      "angel and demons\n"
     ]
    }
   ],
   "source": [
    "for i in book:\n",
    "    print(i)"
   ]
  },
  {
   "cell_type": "code",
   "execution_count": 66,
   "id": "3333e78d-36c0-428e-8a45-a8e45b850256",
   "metadata": {},
   "outputs": [
    {
     "name": "stdout",
     "output_type": "stream",
     "text": [
      "['harry potter', 'altas shrugged', 'angel and demons']\n",
      "harry potter\n",
      "altas shrugged\n",
      "angel and demons\n",
      "['altas shrugged', 'angel and demons']\n",
      "['altas shrugged']\n"
     ]
    }
   ],
   "source": [
    "print(book[0::])\n",
    "print(book[0])\n",
    "print(book[1])\n",
    "print(book[2])\n",
    "print(book[1:3])\n",
    "print(book[1:2])                  "
   ]
  },
  {
   "cell_type": "code",
   "execution_count": 1,
   "id": "969c171e-da63-4d45-a212-650e34392baf",
   "metadata": {},
   "outputs": [
    {
     "name": "stdout",
     "output_type": "stream",
     "text": [
      "sona\n",
      "aqsa\n",
      "namra\n"
     ]
    }
   ],
   "source": [
    "set2={\"aqsa\",\"namra\",\"sona\",}\n",
    "for i in set2:\n",
    "    print(i)"
   ]
  },
  {
   "cell_type": "code",
   "execution_count": 2,
   "id": "59039bac-a592-46bf-8a39-8309415d8136",
   "metadata": {},
   "outputs": [
    {
     "name": "stdout",
     "output_type": "stream",
     "text": [
      "['sona', 'aqsa', 'namra']\n"
     ]
    }
   ],
   "source": [
    "sona=list(set2)\n",
    "print(sona)"
   ]
  },
  {
   "cell_type": "code",
   "execution_count": 3,
   "id": "3fe7e4be-d535-4921-9587-c43dcee7eb97",
   "metadata": {},
   "outputs": [
    {
     "name": "stdout",
     "output_type": "stream",
     "text": [
      "sona\n",
      "aqsa\n",
      "namra\n"
     ]
    }
   ],
   "source": [
    "for i in sona:\n",
    "    print(i)"
   ]
  },
  {
   "cell_type": "code",
   "execution_count": 9,
   "id": "e33ab242-50e4-4337-9f08-61db8df95519",
   "metadata": {},
   "outputs": [
    {
     "ename": "TypeError",
     "evalue": "unsupported operand type(s) for +: 'set' and 'set'",
     "output_type": "error",
     "traceback": [
      "\u001b[1;31m---------------------------------------------------------------------------\u001b[0m",
      "\u001b[1;31mTypeError\u001b[0m                                 Traceback (most recent call last)",
      "Cell \u001b[1;32mIn[9], line 3\u001b[0m\n\u001b[0;32m      1\u001b[0m list1\u001b[38;5;241m=\u001b[39m{\u001b[38;5;241m90\u001b[39m,\u001b[38;5;241m89\u001b[39m}\n\u001b[0;32m      2\u001b[0m list2\u001b[38;5;241m=\u001b[39m{\u001b[38;5;241m90\u001b[39m,\u001b[38;5;241m65\u001b[39m}\n\u001b[1;32m----> 3\u001b[0m list3\u001b[38;5;241m=\u001b[39m(list1\u001b[38;5;241m+\u001b[39mlist2)\n\u001b[0;32m      4\u001b[0m \u001b[38;5;28mprint\u001b[39m(list3)\n",
      "\u001b[1;31mTypeError\u001b[0m: unsupported operand type(s) for +: 'set' and 'set'"
     ]
    }
   ],
   "source": [
    "list1={90,89}\n",
    "list2={90,65}\n",
    "list3=(list1+list2)\n",
    "print(list3)"
   ]
  },
  {
   "cell_type": "code",
   "execution_count": 10,
   "id": "a86438a1-3a7a-422e-8891-82761f885aee",
   "metadata": {},
   "outputs": [
    {
     "name": "stdout",
     "output_type": "stream",
     "text": [
      "[89, 90]\n"
     ]
    }
   ],
   "source": [
    "sona=list(list1)\n",
    "print(sona)"
   ]
  },
  {
   "cell_type": "code",
   "execution_count": 11,
   "id": "25b141e1-faa8-4df8-929a-7b8315558df6",
   "metadata": {},
   "outputs": [
    {
     "name": "stdout",
     "output_type": "stream",
     "text": [
      "[65, 90]\n"
     ]
    }
   ],
   "source": [
    "aqsa=list(list2)\n",
    "print(aqsa)"
   ]
  },
  {
   "cell_type": "code",
   "execution_count": null,
   "id": "e279cdb9-2bf8-4032-930d-a58b3050916f",
   "metadata": {},
   "outputs": [],
   "source": []
  },
  {
   "cell_type": "code",
   "execution_count": null,
   "id": "36b971c2-1ce4-44b0-88b4-e688608825c1",
   "metadata": {},
   "outputs": [],
   "source": []
  },
  {
   "cell_type": "markdown",
   "id": "21681a81-ba4d-4544-8fa9-4de4fccfcbbd",
   "metadata": {},
   "source": [
    "## checking if an item exists in a set"
   ]
  },
  {
   "cell_type": "code",
   "execution_count": 15,
   "id": "6161f939-64c2-454a-b08c-c2a6731abf1d",
   "metadata": {},
   "outputs": [
    {
     "data": {
      "text/plain": [
       "False"
      ]
     },
     "execution_count": 15,
     "metadata": {},
     "output_type": "execute_result"
    }
   ],
   "source": [
    "set1={65,89,87,76}\n",
    "151 in set1\n"
   ]
  },
  {
   "cell_type": "code",
   "execution_count": 16,
   "id": "0f219ef0-019d-4cbf-9562-865240bbd83e",
   "metadata": {},
   "outputs": [
    {
     "name": "stdout",
     "output_type": "stream",
     "text": [
      "4\n"
     ]
    }
   ],
   "source": [
    "set1={65,89,87,76}\n",
    "print(len(set1))"
   ]
  },
  {
   "cell_type": "code",
   "execution_count": 17,
   "id": "4307a7b7-6199-4131-ae2a-945166c37ac5",
   "metadata": {},
   "outputs": [
    {
     "data": {
      "text/plain": [
       "True"
      ]
     },
     "execution_count": 17,
     "metadata": {},
     "output_type": "execute_result"
    }
   ],
   "source": [
    "a={90,45,34,23}\n",
    "23 in a"
   ]
  },
  {
   "cell_type": "code",
   "execution_count": 18,
   "id": "7bcf7f36-6572-4ed8-ab4f-c9acc387b9a1",
   "metadata": {},
   "outputs": [
    {
     "name": "stdout",
     "output_type": "stream",
     "text": [
      "4\n"
     ]
    }
   ],
   "source": [
    "print(len(a))"
   ]
  },
  {
   "cell_type": "code",
   "execution_count": 20,
   "id": "21c1e088-d3d6-4f5a-85a2-ff7b34436e58",
   "metadata": {},
   "outputs": [
    {
     "name": "stdout",
     "output_type": "stream",
     "text": [
      "3\n"
     ]
    },
    {
     "data": {
      "text/plain": [
       "False"
      ]
     },
     "execution_count": 20,
     "metadata": {},
     "output_type": "execute_result"
    }
   ],
   "source": [
    "set={65,45,34}\n",
    "print(len(set))\n",
    "150 in set"
   ]
  },
  {
   "cell_type": "raw",
   "id": "98882b27-6d8e-4027-b00e-d7f827abd817",
   "metadata": {},
   "source": []
  },
  {
   "cell_type": "code",
   "execution_count": null,
   "id": "75a0e65a-ee16-4a22-a21c-a5b4e8af5672",
   "metadata": {},
   "outputs": [],
   "source": []
  },
  {
   "cell_type": "markdown",
   "id": "1b720a8b-a691-4329-adbb-4e79fd5834e8",
   "metadata": {},
   "source": [
    "## removing items from a set "
   ]
  },
  {
   "cell_type": "markdown",
   "id": "81216da0-6c01-47cd-bb58-ef28b4fd9e94",
   "metadata": {},
   "source": [
    "* remove()    to remove a single item from a set this method will take one parameter , which is the item to be removed from the set throws a keyerror if an item not present in original set \n",
    "* discard ()    to remove a single item that mey or may not be present in the set this method also takes one parameter ,which is the item to be removed .if that item is present ,it will remove it .it will not throw any error if it is not present\n",
    "* pop() to remove any random item from a set\n",
    "* clear() to remove all items from the set .the output will be an empty list\n",
    "* del set () delete the entire set "
   ]
  },
  {
   "cell_type": "code",
   "execution_count": 25,
   "id": "d3a35fe7-0652-4030-ab42-7e68d663dfa2",
   "metadata": {},
   "outputs": [
    {
     "name": "stdout",
     "output_type": "stream",
     "text": [
      "{33, 22, 90, 78}\n",
      "2063165132352\n"
     ]
    }
   ],
   "source": [
    "set1={78,90,56,33,22}\n",
    "set1.remove(56)\n",
    "print(set1)\n",
    "print(id(set1))"
   ]
  },
  {
   "cell_type": "code",
   "execution_count": 26,
   "id": "bf1feb2d-416a-41b5-b0b2-f0ed301d953f",
   "metadata": {},
   "outputs": [
    {
     "name": "stdout",
     "output_type": "stream",
     "text": [
      "{89, 90}\n"
     ]
    }
   ],
   "source": [
    "set3={90,89,45,45,}\n",
    "set3.remove(45)\n",
    "print(set3)"
   ]
  },
  {
   "cell_type": "code",
   "execution_count": 27,
   "id": "649d231c-e23d-4fac-8b05-4a806539eeab",
   "metadata": {},
   "outputs": [
    {
     "name": "stdout",
     "output_type": "stream",
     "text": [
      "{90}\n"
     ]
    }
   ],
   "source": [
    "set3.remove(89)\n",
    "print(set3)"
   ]
  },
  {
   "cell_type": "code",
   "execution_count": 21,
   "id": "ec246c8e-31b8-4b16-8ff7-663cccd1eaa3",
   "metadata": {},
   "outputs": [
    {
     "name": "stdout",
     "output_type": "stream",
     "text": [
      "{33, 90, 23}\n"
     ]
    }
   ],
   "source": [
    "aqsa={90,45,45,33,23}\n",
    "aqsa.remove(45)\n",
    "print(aqsa)"
   ]
  },
  {
   "cell_type": "code",
   "execution_count": 66,
   "id": "c9c83bc2-461a-4dd2-ac92-46423383a0d5",
   "metadata": {},
   "outputs": [
    {
     "ename": "KeyError",
     "evalue": "100",
     "output_type": "error",
     "traceback": [
      "\u001b[1;31m---------------------------------------------------------------------------\u001b[0m",
      "\u001b[1;31mKeyError\u001b[0m                                  Traceback (most recent call last)",
      "Cell \u001b[1;32mIn[66], line 1\u001b[0m\n\u001b[1;32m----> 1\u001b[0m set1\u001b[38;5;241m.\u001b[39mremove(\u001b[38;5;241m100\u001b[39m)\n\u001b[0;32m      2\u001b[0m \u001b[38;5;28mprint\u001b[39m(set1)\n\u001b[0;32m      3\u001b[0m \u001b[38;5;28mprint\u001b[39m(\u001b[38;5;28mid\u001b[39m(set1))\n",
      "\u001b[1;31mKeyError\u001b[0m: 100"
     ]
    }
   ],
   "source": [
    "set1.remove(100)\n",
    "print(set1)\n",
    "print(id(set1))"
   ]
  },
  {
   "cell_type": "code",
   "execution_count": 67,
   "id": "6f87aa38-91f1-43ed-ac3a-d5362fb71f72",
   "metadata": {},
   "outputs": [
    {
     "name": "stdout",
     "output_type": "stream",
     "text": [
      "{33, 22, 56, 90}\n",
      "2718433856864\n"
     ]
    }
   ],
   "source": [
    "set1={78,90,56,33,22}\n",
    "set1.discard(78)\n",
    "print(set1)\n",
    "print(id(set1))"
   ]
  },
  {
   "cell_type": "code",
   "execution_count": 68,
   "id": "0855916d-0122-4200-89ab-2e71b579e0bf",
   "metadata": {},
   "outputs": [
    {
     "name": "stdout",
     "output_type": "stream",
     "text": [
      "{33, 22, 56, 90}\n",
      "2718433856864\n"
     ]
    }
   ],
   "source": [
    "set1.discard(100)\n",
    "print(set1)\n",
    "print(id(set1))"
   ]
  },
  {
   "cell_type": "code",
   "execution_count": 35,
   "id": "f65900a2-c517-43fb-99ba-1d0cf1b3366c",
   "metadata": {},
   "outputs": [
    {
     "name": "stdout",
     "output_type": "stream",
     "text": [
      "{22, 23, 54, 56}\n"
     ]
    }
   ],
   "source": [
    "set2={34,56,23,22,54}\n",
    "set2.pop()\n",
    "print(set2)"
   ]
  },
  {
   "cell_type": "code",
   "execution_count": 73,
   "id": "77a73b99-0a88-4f9c-b727-1d76479b43c5",
   "metadata": {},
   "outputs": [
    {
     "name": "stdout",
     "output_type": "stream",
     "text": [
      "{34, 45, 78}\n"
     ]
    }
   ],
   "source": [
    "set2={56,78,45,56,34}\n",
    "set2.pop()\n",
    "print(set2)"
   ]
  },
  {
   "cell_type": "code",
   "execution_count": null,
   "id": "9399520d-4f8f-4c11-b0d8-2974363011ba",
   "metadata": {},
   "outputs": [],
   "source": []
  },
  {
   "cell_type": "markdown",
   "id": "696a5771-f036-45ec-a674-6adc6f37ac70",
   "metadata": {},
   "source": [
    "## the following table will summarize the set operation an the  correspoonding set method used \n",
    "1. union : all the items of boths set will be returned . only "
   ]
  },
  {
   "cell_type": "code",
   "execution_count": 33,
   "id": "9c2902c1-4368-4787-9bb4-177b7fad7a69",
   "metadata": {},
   "outputs": [
    {
     "data": {
      "text/plain": [
       "{22, 45, 67, 89, 90, 99}"
      ]
     },
     "execution_count": 33,
     "metadata": {},
     "output_type": "execute_result"
    }
   ],
   "source": [
    "set3={45,67,89,99,}\n",
    "set4={45,90,22,99}\n",
    "set3.union(set4)"
   ]
  },
  {
   "cell_type": "code",
   "execution_count": 32,
   "id": "6d3915c1-c6d9-404f-a0df-915a854eb3b0",
   "metadata": {},
   "outputs": [
    {
     "data": {
      "text/plain": [
       "{34, 45, 67, 79, 89}"
      ]
     },
     "execution_count": 32,
     "metadata": {},
     "output_type": "execute_result"
    }
   ],
   "source": [
    "aqsa={34,45,67,79}\n",
    "sona={45,89,34,79}\n",
    "aqsa.union(sona)"
   ]
  },
  {
   "cell_type": "code",
   "execution_count": 76,
   "id": "f5959ec0-26bf-4e4e-bd85-180ae9c1e48a",
   "metadata": {},
   "outputs": [
    {
     "data": {
      "text/plain": [
       "{34, 45, 67, 89, 809}"
      ]
     },
     "execution_count": 76,
     "metadata": {},
     "output_type": "execute_result"
    }
   ],
   "source": [
    "aqsa={67,89,34,34}\n",
    "sona={809,45,34}\n",
    "aqsa.union(sona)"
   ]
  },
  {
   "cell_type": "code",
   "execution_count": 42,
   "id": "876e6e90-4724-486e-9e2d-bd195844c0ef",
   "metadata": {},
   "outputs": [
    {
     "data": {
      "text/plain": [
       "{45}"
      ]
     },
     "execution_count": 42,
     "metadata": {},
     "output_type": "execute_result"
    }
   ],
   "source": [
    "set3={45,67,89,99,}\n",
    "set4={45,90,22}\n",
    "set3.intersection(set4)\n",
    "\n",
    "\n"
   ]
  },
  {
   "cell_type": "code",
   "execution_count": 38,
   "id": "cc23d919-c86d-419c-ace7-b5fa83665c5f",
   "metadata": {},
   "outputs": [
    {
     "data": {
      "text/plain": [
       "{56}"
      ]
     },
     "execution_count": 38,
     "metadata": {},
     "output_type": "execute_result"
    }
   ],
   "source": [
    "set1={56,56,34}\n",
    "set2={56,78,66}\n",
    "set1.intersection(set2)"
   ]
  },
  {
   "cell_type": "code",
   "execution_count": 41,
   "id": "7c84cf65-4a2e-4a82-87dd-fe397496ef10",
   "metadata": {},
   "outputs": [
    {
     "data": {
      "text/plain": [
       "{23, 34, 45, 78}"
      ]
     },
     "execution_count": 41,
     "metadata": {},
     "output_type": "execute_result"
    }
   ],
   "source": [
    "namra={45,78,34,23}\n",
    "aqsa={45,34,78,34}\n",
    "aqsa.intersection(namra)\n",
    "aqsa.union(namra)"
   ]
  },
  {
   "cell_type": "code",
   "execution_count": 77,
   "id": "d89247b4-70af-4239-b27a-a07c50419f9c",
   "metadata": {},
   "outputs": [
    {
     "data": {
      "text/plain": [
       "{34}"
      ]
     },
     "execution_count": 77,
     "metadata": {},
     "output_type": "execute_result"
    }
   ],
   "source": [
    "set1={34,90,89,34}\n",
    "set2={34,45,23}\n",
    "set1.intersection(set2)"
   ]
  },
  {
   "cell_type": "markdown",
   "id": "6b80d2ce-f16c-4350-b4b2-ad90f2adae51",
   "metadata": {},
   "source": [
    "## the cperation difference returned the uniquw element of the 1 step which are not in 2 set "
   ]
  },
  {
   "cell_type": "code",
   "execution_count": 40,
   "id": "a2c1b986-dbc9-4eab-b500-535799004b0b",
   "metadata": {},
   "outputs": [
    {
     "data": {
      "text/plain": [
       "{67, 89}"
      ]
     },
     "execution_count": 40,
     "metadata": {},
     "output_type": "execute_result"
    }
   ],
   "source": [
    "set1={45,67,89,34}\n",
    "set2={45,34,11,22}\n",
    "set1.difference(set2)"
   ]
  },
  {
   "cell_type": "code",
   "execution_count": 41,
   "id": "c269ada8-a8af-48b5-a2ec-79e2aa38f30c",
   "metadata": {},
   "outputs": [
    {
     "data": {
      "text/plain": [
       "{90, 99}"
      ]
     },
     "execution_count": 41,
     "metadata": {},
     "output_type": "execute_result"
    }
   ],
   "source": [
    "set3={34,78,90,99}\n",
    "set4={2,34,78,89,22}\n",
    "set3.difference(set4)"
   ]
  },
  {
   "cell_type": "markdown",
   "id": "cda1d003-9e73-4b7a-aea2-de5920051dc6",
   "metadata": {},
   "source": [
    "symmetric diffrence : returned the element which are not comman "
   ]
  },
  {
   "cell_type": "code",
   "execution_count": 58,
   "id": "93c883f5-79bb-4315-a9ab-aaa70b2b0d56",
   "metadata": {},
   "outputs": [
    {
     "ename": "AttributeError",
     "evalue": "'set' object has no attribute 'symmetricdifference'",
     "output_type": "error",
     "traceback": [
      "\u001b[1;31m---------------------------------------------------------------------------\u001b[0m",
      "\u001b[1;31mAttributeError\u001b[0m                            Traceback (most recent call last)",
      "Cell \u001b[1;32mIn[58], line 3\u001b[0m\n\u001b[0;32m      1\u001b[0m set1\u001b[38;5;241m=\u001b[39m{\u001b[38;5;241m67\u001b[39m,\u001b[38;5;241m90\u001b[39m,\u001b[38;5;241m78\u001b[39m,\u001b[38;5;241m45\u001b[39m,\u001b[38;5;241m34\u001b[39m}\n\u001b[0;32m      2\u001b[0m set2\u001b[38;5;241m=\u001b[39m{\u001b[38;5;241m45\u001b[39m,\u001b[38;5;241m78\u001b[39m,\u001b[38;5;241m56\u001b[39m,\u001b[38;5;241m34\u001b[39m}\n\u001b[1;32m----> 3\u001b[0m set1\u001b[38;5;241m.\u001b[39msymmetricdifference(set2)\n",
      "\u001b[1;31mAttributeError\u001b[0m: 'set' object has no attribute 'symmetricdifference'"
     ]
    }
   ],
   "source": [
    "set1={67,90,78,45,34}\n",
    "set2={45,78,56,34}\n",
    "set1.symmetricdifference(set2)"
   ]
  },
  {
   "cell_type": "code",
   "execution_count": 74,
   "id": "0d283542-108c-457f-b24e-124c56e12181",
   "metadata": {},
   "outputs": [
    {
     "name": "stdout",
     "output_type": "stream",
     "text": [
      "{67, 56, 90}\n"
     ]
    }
   ],
   "source": [
    "set1={67,90,78,45,34}\n",
    "set2={45,78,56,34}\n",
    "print(set1.symmetric_difference(set2))\n"
   ]
  },
  {
   "cell_type": "code",
   "execution_count": 75,
   "id": "b5fc7f46-1372-4e11-be77-030f777c4a58",
   "metadata": {},
   "outputs": [
    {
     "name": "stdout",
     "output_type": "stream",
     "text": [
      "{33, 67, 78, 22, 89}\n"
     ]
    }
   ],
   "source": [
    "set3={34,67,89,34,78,45}\n",
    "set4={34,45,33,22,33}\n",
    "print(set3.symmetric_difference(set4))"
   ]
  },
  {
   "cell_type": "code",
   "execution_count": 1,
   "id": "e39e1dcb-8b68-458d-9227-4350895e42a4",
   "metadata": {},
   "outputs": [
    {
     "name": "stdout",
     "output_type": "stream",
     "text": [
      "{65, 76, 78, 'aqsa', 23, 90}\n"
     ]
    }
   ],
   "source": [
    "set1={34,78,65,34,23}\n",
    "set2={34,\"aqsa\", 34,76,90,}\n",
    "print(set1.symmetric_difference(set2))"
   ]
  },
  {
   "cell_type": "code",
   "execution_count": null,
   "id": "eaaacc07-e378-44a3-ac99-135f7e816e1f",
   "metadata": {},
   "outputs": [],
   "source": []
  },
  {
   "cell_type": "code",
   "execution_count": null,
   "id": "614ebcc0-d2bf-4701-a175-502905f83b26",
   "metadata": {},
   "outputs": [],
   "source": []
  },
  {
   "cell_type": "code",
   "execution_count": null,
   "id": "d2b7c06b-b68f-49c1-9414-6bd13cc30874",
   "metadata": {},
   "outputs": [],
   "source": []
  }
 ],
 "metadata": {
  "kernelspec": {
   "display_name": "Python 3 (ipykernel)",
   "language": "python",
   "name": "python3"
  },
  "language_info": {
   "codemirror_mode": {
    "name": "ipython",
    "version": 3
   },
   "file_extension": ".py",
   "mimetype": "text/x-python",
   "name": "python",
   "nbconvert_exporter": "python",
   "pygments_lexer": "ipython3",
   "version": "3.13.5"
  }
 },
 "nbformat": 4,
 "nbformat_minor": 5
}
