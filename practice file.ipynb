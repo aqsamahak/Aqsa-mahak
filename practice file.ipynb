{
 "cells": [
  {
   "cell_type": "code",
   "execution_count": 2,
   "id": "162be7c6-31a9-4172-8010-e6a8e0f49159",
   "metadata": {},
   "outputs": [
    {
     "name": "stdout",
     "output_type": "stream",
     "text": [
      "aqsa\n",
      "56\n"
     ]
    }
   ],
   "source": [
    "name=\"aqsa\"              ## variables \n",
    "age=56\n",
    "print(name)\n",
    "print(age)"
   ]
  },
  {
   "cell_type": "code",
   "execution_count": 4,
   "id": "75d60877-fb24-4537-833c-08cc7e8224fd",
   "metadata": {},
   "outputs": [
    {
     "name": "stdout",
     "output_type": "stream",
     "text": [
      "aqsa\n"
     ]
    }
   ],
   "source": [
    "## boolean\n",
    "its_adult=True \n",
    "print(name)\n",
    "\n"
   ]
  },
  {
   "cell_type": "code",
   "execution_count": 6,
   "id": "41604d66-ab18-4ed3-b896-a3e5655a158d",
   "metadata": {},
   "outputs": [
    {
     "data": {
      "text/plain": [
       "True"
      ]
     },
     "execution_count": 6,
     "metadata": {},
     "output_type": "execute_result"
    }
   ],
   "source": [
    "number=(\"aqsa is a number\")\n",
    "\"a\" in  number"
   ]
  },
  {
   "cell_type": "code",
   "execution_count": 5,
   "id": "9bf97956-621f-4efe-8f2d-c4895aceef85",
   "metadata": {},
   "outputs": [
    {
     "name": "stdin",
     "output_type": "stream",
     "text": [
      "name the girl of topper aqsa\n"
     ]
    }
   ],
   "source": [
    "name=input(\"name the girl of topper\")"
   ]
  },
  {
   "cell_type": "code",
   "execution_count": 11,
   "id": "65f45f8c-98e6-4a16-9857-5a1a5ed57767",
   "metadata": {},
   "outputs": [
    {
     "name": "stdin",
     "output_type": "stream",
     "text": [
      "hup sona\n"
     ]
    }
   ],
   "source": [
    "name=(input(\"hup\"))\n"
   ]
  },
  {
   "cell_type": "code",
   "execution_count": 15,
   "id": "d9183c43-b483-4a69-b2c5-99ac8ef774ee",
   "metadata": {},
   "outputs": [
    {
     "name": "stdin",
     "output_type": "stream",
     "text": [
      "what is your name sona\n"
     ]
    },
    {
     "name": "stdout",
     "output_type": "stream",
     "text": [
      "hellosona\n"
     ]
    }
   ],
   "source": [
    "name=input(\"what is your name\")\n",
    "print(\"hello\" + name)"
   ]
  },
  {
   "cell_type": "code",
   "execution_count": 18,
   "id": "eda8b939-1f1e-4bc1-a590-16cf561463e6",
   "metadata": {},
   "outputs": [
    {
     "name": "stdin",
     "output_type": "stream",
     "text": [
      "super hero name: batman\n"
     ]
    },
    {
     "name": "stdout",
     "output_type": "stream",
     "text": [
      " sona super hero name batman\n"
     ]
    }
   ],
   "source": [
    "a=input(\"super hero name:\")\n",
    "name= print(\" sona super hero name \"+ a)"
   ]
  },
  {
   "cell_type": "code",
   "execution_count": 22,
   "id": "c62b202c-a2dd-4716-ac57-65ca831f665f",
   "metadata": {},
   "outputs": [
    {
     "name": "stdin",
     "output_type": "stream",
     "text": [
      "number 3\n",
      "number 2\n"
     ]
    },
    {
     "name": "stdout",
     "output_type": "stream",
     "text": [
      "this is the sum of numbers: 5\n"
     ]
    }
   ],
   "source": [
    "sum1=int(input(\"number\"))\n",
    "sum2=int(input(\"number\"))\n",
    "a=sum1+sum2\n",
    "print( \"this is the sum of numbers:\",a)"
   ]
  },
  {
   "cell_type": "code",
   "execution_count": 4,
   "id": "c75ca122-192d-4bca-8a09-0cc78670ae80",
   "metadata": {},
   "outputs": [
    {
     "name": "stdin",
     "output_type": "stream",
     "text": [
      "operator choice(+,-,*,/,):  \n",
      "aqsa \n"
     ]
    },
    {
     "ename": "ValueError",
     "evalue": "invalid literal for int() with base 10: ''",
     "output_type": "error",
     "traceback": [
      "\u001b[1;31m---------------------------------------------------------------------------\u001b[0m",
      "\u001b[1;31mValueError\u001b[0m                                Traceback (most recent call last)",
      "Cell \u001b[1;32mIn[4], line 2\u001b[0m\n\u001b[0;32m      1\u001b[0m first\u001b[38;5;241m=\u001b[39m\u001b[38;5;28minput\u001b[39m(\u001b[38;5;124m\"\u001b[39m\u001b[38;5;124moperator choice(+,-,*,/,): \u001b[39m\u001b[38;5;124m\"\u001b[39m)\n\u001b[1;32m----> 2\u001b[0m number1\u001b[38;5;241m=\u001b[39m\u001b[38;5;28mint\u001b[39m(\u001b[38;5;28minput\u001b[39m(\u001b[38;5;124m\"\u001b[39m\u001b[38;5;124maqsa\u001b[39m\u001b[38;5;124m\"\u001b[39m))\n\u001b[0;32m      3\u001b[0m number2\u001b[38;5;241m=\u001b[39m\u001b[38;5;28mint\u001b[39m(\u001b[38;5;28minput\u001b[39m(\u001b[38;5;124m\"\u001b[39m\u001b[38;5;124msona\u001b[39m\u001b[38;5;124m\"\u001b[39m))\n\u001b[0;32m      4\u001b[0m \u001b[38;5;28;01mif\u001b[39;00m operator\u001b[38;5;241m==\u001b[39m \u001b[38;5;124m\"\u001b[39m\u001b[38;5;124m+\u001b[39m\u001b[38;5;124m\"\u001b[39m:\n",
      "\u001b[1;31mValueError\u001b[0m: invalid literal for int() with base 10: ''"
     ]
    }
   ],
   "source": [
    "first=input(\"operator choice(+,-,*,/,): \")\n",
    "number1=int(input(\"aqsa\"))\n",
    "number2=int(input(\"sona\"))\n",
    "if operator== \"+\":\n",
    "    print(number1+number2)\n",
    "elif operator== \"-\":\n",
    "    print(number1-number2)\n",
    "else:\n",
    "    print(\"nothing\")"
   ]
  },
  {
   "cell_type": "code",
   "execution_count": 8,
   "id": "43399ccf-f8db-4e8e-837c-7544b6e8ff2d",
   "metadata": {},
   "outputs": [
    {
     "name": "stdout",
     "output_type": "stream",
     "text": [
      "range(0, 12)\n"
     ]
    }
   ],
   "source": [
    "num1=range(12)\n",
    "print(num1)"
   ]
  },
  {
   "cell_type": "code",
   "execution_count": 1,
   "id": "de291001-37ca-4b2a-aa67-aa52b9878902",
   "metadata": {},
   "outputs": [
    {
     "name": "stdout",
     "output_type": "stream",
     "text": [
      "1\n",
      "2\n",
      "3\n",
      "4\n",
      "5\n"
     ]
    }
   ],
   "source": [
    "i=1\n",
    "while i<=5:\n",
    "    print(i)\n",
    "    i=i+1\n"
   ]
  },
  {
   "cell_type": "code",
   "execution_count": 2,
   "id": "3867244b-e1c8-47a4-894b-d445a6ccc828",
   "metadata": {},
   "outputs": [
    {
     "name": "stdout",
     "output_type": "stream",
     "text": [
      "*\n",
      "**\n",
      "***\n",
      "****\n",
      "*****\n"
     ]
    }
   ],
   "source": [
    "i=1\n",
    "while i<=5:\n",
    "    print(i*\"*\")\n",
    "    i=i+1\n"
   ]
  },
  {
   "cell_type": "code",
   "execution_count": 5,
   "id": "a17e7027-af93-4cee-a442-344629522ef0",
   "metadata": {},
   "outputs": [
    {
     "name": "stdout",
     "output_type": "stream",
     "text": [
      "******\n",
      "*****\n",
      "****\n",
      "***\n",
      "**\n",
      "*\n",
      "\n"
     ]
    }
   ],
   "source": [
    "i=6\n",
    "while i>=0:\n",
    "    print(i*\"*\")\n",
    "    i=i-1\n"
   ]
  },
  {
   "cell_type": "code",
   "execution_count": 9,
   "id": "80d46444-30e3-44ac-98d3-1e5b2a4a0f9d",
   "metadata": {},
   "outputs": [
    {
     "name": "stdout",
     "output_type": "stream",
     "text": [
      "1\n",
      "2\n",
      "3\n",
      "4\n"
     ]
    }
   ],
   "source": [
    "for i in range(4):\n",
    "    print(i+1)"
   ]
  },
  {
   "cell_type": "code",
   "execution_count": 13,
   "id": "b619b63f-1cec-4a1c-8086-c5bc7eb9b55c",
   "metadata": {},
   "outputs": [
    {
     "name": "stdout",
     "output_type": "stream",
     "text": [
      " my name is riya and my age is 78\n"
     ]
    }
   ],
   "source": [
    "name=\"riya\"\n",
    "age=78\n",
    "print(f\" my name is {name} and my age is {age}\")"
   ]
  },
  {
   "cell_type": "code",
   "execution_count": 15,
   "id": "4d175993-a9d7-4454-9003-69a56fe1d517",
   "metadata": {},
   "outputs": [
    {
     "ename": "SyntaxError",
     "evalue": "unterminated string literal (detected at line 1) (1996238297.py, line 1)",
     "output_type": "error",
     "traceback": [
      "\u001b[1;36m  Cell \u001b[1;32mIn[15], line 1\u001b[1;36m\u001b[0m\n\u001b[1;33m    print(\"my name is {0} and my age is {1}) .format([riya,78])\u001b[0m\n\u001b[1;37m          ^\u001b[0m\n\u001b[1;31mSyntaxError\u001b[0m\u001b[1;31m:\u001b[0m unterminated string literal (detected at line 1)\n"
     ]
    }
   ],
   "source": [
    "print(\"my name is {0} and my age is {1}) .format([riya,78])"
   ]
  },
  {
   "cell_type": "code",
   "execution_count": 2,
   "id": "4d5199ec-3281-470a-bc16-1ce30c799ecb",
   "metadata": {},
   "outputs": [
    {
     "name": "stdout",
     "output_type": "stream",
     "text": [
      "5\n",
      "6\n",
      "7\n",
      "8\n",
      "9\n"
     ]
    }
   ],
   "source": [
    "for i in range(5,10):\n",
    "    print(i)"
   ]
  },
  {
   "cell_type": "code",
   "execution_count": null,
   "id": "69c3eb46-dac7-4e31-a64c-ab0b4fd555d1",
   "metadata": {},
   "outputs": [],
   "source": [
    "num=1\n",
    "while 1<0:\n",
    "    print(2)"
   ]
  },
  {
   "cell_type": "code",
   "execution_count": null,
   "id": "74ff332e-3161-4c38-9d9e-5546837f2389",
   "metadata": {},
   "outputs": [],
   "source": [
    "for i in "
   ]
  },
  {
   "cell_type": "code",
   "execution_count": null,
   "id": "b1d81ac1-2246-41d6-a6e8-f7d2e44b561f",
   "metadata": {},
   "outputs": [],
   "source": []
  }
 ],
 "metadata": {
  "kernelspec": {
   "display_name": "Python 3 (ipykernel)",
   "language": "python",
   "name": "python3"
  },
  "language_info": {
   "codemirror_mode": {
    "name": "ipython",
    "version": 3
   },
   "file_extension": ".py",
   "mimetype": "text/x-python",
   "name": "python",
   "nbconvert_exporter": "python",
   "pygments_lexer": "ipython3",
   "version": "3.13.5"
  }
 },
 "nbformat": 4,
 "nbformat_minor": 5
}
