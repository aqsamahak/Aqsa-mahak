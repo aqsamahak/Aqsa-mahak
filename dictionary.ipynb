{
 "cells": [
  {
   "cell_type": "markdown",
   "id": "30252181-653d-494f-aa1a-0853db6b39a8",
   "metadata": {},
   "source": [
    "## dictionary"
   ]
  },
  {
   "cell_type": "markdown",
   "id": "670fe8ad-4407-47da-96a3-555df1dfda2d",
   "metadata": {},
   "source": [
    "* defination: a dictionary is a mutable data type that maps unique ,immutable keys to values "
   ]
  },
  {
   "cell_type": "code",
   "execution_count": null,
   "id": "d7242c1b-46ef-48c2-8706-5e39736123ea",
   "metadata": {},
   "outputs": [],
   "source": []
  },
  {
   "cell_type": "code",
   "execution_count": 47,
   "id": "e6239556-77fc-41d2-8982-1a558674e18a",
   "metadata": {},
   "outputs": [
    {
     "name": "stdout",
     "output_type": "stream",
     "text": [
      "{'cousre': 'data science', 'timing': '10am', 'no of student': '100'}\n",
      "2768871131648\n"
     ]
    }
   ],
   "source": [
    "name={\"cousre\":\"data science\",\"timing\":\"10am\", \"no of student\": \"100\"}\n",
    "print(name)\n",
    "print(id(name))"
   ]
  },
  {
   "cell_type": "code",
   "execution_count": 4,
   "id": "23ee2faa-cd17-4042-b727-4143b4c46a07",
   "metadata": {},
   "outputs": [
    {
     "name": "stdout",
     "output_type": "stream",
     "text": [
      "{'course': 'data science', 'timing': '10am', 'no of student': '100'}\n"
     ]
    }
   ],
   "source": [
    "course2={\"course\":\"data analyst \",\"timing\":\"10am\", \"no of student\": \"100\", \"course\":\"data science\"}\n",
    "print(course2)\n"
   ]
  },
  {
   "cell_type": "code",
   "execution_count": 5,
   "id": "408a9803-ee43-4c55-9c1f-8ceae3e6f957",
   "metadata": {},
   "outputs": [
    {
     "name": "stdout",
     "output_type": "stream",
     "text": [
      "{'course1': 'data analyst', 'course2': 'data analyst'}\n"
     ]
    }
   ],
   "source": [
    "a={'course1':'data analyst','course2':'data analyst'}\n",
    "print(a)"
   ]
  },
  {
   "cell_type": "code",
   "execution_count": 6,
   "id": "9a8af6dc-c984-4e7c-9014-a4ef533a4dc8",
   "metadata": {},
   "outputs": [
    {
     "name": "stdout",
     "output_type": "stream",
     "text": [
      "{1: 'prakash', 2: 'aqsa', 3: 'sona'}\n"
     ]
    }
   ],
   "source": [
    "std={1:'prakash',2:'aqsa',3:'sona'}\n",
    "print(std)"
   ]
  },
  {
   "cell_type": "code",
   "execution_count": 7,
   "id": "ca28a864-1474-4aaa-9441-028b13f35c98",
   "metadata": {},
   "outputs": [
    {
     "ename": "TypeError",
     "evalue": "unhashable type: 'list'",
     "output_type": "error",
     "traceback": [
      "\u001b[1;31m---------------------------------------------------------------------------\u001b[0m",
      "\u001b[1;31mTypeError\u001b[0m                                 Traceback (most recent call last)",
      "Cell \u001b[1;32mIn[7], line 1\u001b[0m\n\u001b[1;32m----> 1\u001b[0m innovators\u001b[38;5;241m=\u001b[39m{ [\u001b[38;5;241m1\u001b[39m,\u001b[38;5;241m2\u001b[39m]:\u001b[38;5;124m\"\u001b[39m\u001b[38;5;124msteve jobs\u001b[39m\u001b[38;5;124m\"\u001b[39m,[\u001b[38;5;241m3\u001b[39m,\u001b[38;5;241m4\u001b[39m]:\u001b[38;5;124m\"\u001b[39m\u001b[38;5;124melon musk\u001b[39m\u001b[38;5;124m\"\u001b[39m}\n\u001b[0;32m      2\u001b[0m \u001b[38;5;28mprint\u001b[39m(innovators)\n",
      "\u001b[1;31mTypeError\u001b[0m: unhashable type: 'list'"
     ]
    }
   ],
   "source": [
    "innovators={ [1,2]:\"steve jobs\",[3,4]:\"elon musk\"}\n",
    "print(innovators)"
   ]
  },
  {
   "cell_type": "code",
   "execution_count": 8,
   "id": "aca6a517-bb92-4892-8a8f-7bc0b7f7176b",
   "metadata": {},
   "outputs": [
    {
     "name": "stdout",
     "output_type": "stream",
     "text": [
      "{(1, 2): 'steve jobs', (3, 4): 'elon musk'}\n"
     ]
    }
   ],
   "source": [
    "innovators1={ (1,2):\"steve jobs\",(3,4):\"elon musk\"}\n",
    "print(innovators1)\n"
   ]
  },
  {
   "cell_type": "code",
   "execution_count": 9,
   "id": "530fef92-efb6-4655-a972-c0a7e6330b1a",
   "metadata": {},
   "outputs": [
    {
     "ename": "TypeError",
     "evalue": "unhashable type: 'set'",
     "output_type": "error",
     "traceback": [
      "\u001b[1;31m---------------------------------------------------------------------------\u001b[0m",
      "\u001b[1;31mTypeError\u001b[0m                                 Traceback (most recent call last)",
      "Cell \u001b[1;32mIn[9], line 1\u001b[0m\n\u001b[1;32m----> 1\u001b[0m innovators\u001b[38;5;241m=\u001b[39m{ {\u001b[38;5;241m1\u001b[39m,\u001b[38;5;241m2\u001b[39m}:\u001b[38;5;124m\"\u001b[39m\u001b[38;5;124msteve jobs\u001b[39m\u001b[38;5;124m\"\u001b[39m,[\u001b[38;5;241m3\u001b[39m,\u001b[38;5;241m4\u001b[39m]:\u001b[38;5;124m\"\u001b[39m\u001b[38;5;124melon musk\u001b[39m\u001b[38;5;124m\"\u001b[39m}\n\u001b[0;32m      2\u001b[0m \u001b[38;5;28mprint\u001b[39m(innovators)\n",
      "\u001b[1;31mTypeError\u001b[0m: unhashable type: 'set'"
     ]
    }
   ],
   "source": [
    "innovators={ {1,2}:\"steve jobs\",[3,4]:\"elon musk\"}\n",
    "print(innovators)\n"
   ]
  },
  {
   "cell_type": "code",
   "execution_count": 12,
   "id": "ab3b3388-fef9-402c-9a37-38d531a9210f",
   "metadata": {},
   "outputs": [
    {
     "ename": "TypeError",
     "evalue": "unhashable type: 'dict'",
     "output_type": "error",
     "traceback": [
      "\u001b[1;31m---------------------------------------------------------------------------\u001b[0m",
      "\u001b[1;31mTypeError\u001b[0m                                 Traceback (most recent call last)",
      "Cell \u001b[1;32mIn[12], line 1\u001b[0m\n\u001b[1;32m----> 1\u001b[0m d3\u001b[38;5;241m=\u001b[39m{{\u001b[38;5;124m\"\u001b[39m\u001b[38;5;124mname\u001b[39m\u001b[38;5;124m\"\u001b[39m:\u001b[38;5;124m\"\u001b[39m\u001b[38;5;124maqsa\u001b[39m\u001b[38;5;124m\"\u001b[39m}:\u001b[38;5;124m\"\u001b[39m\u001b[38;5;124msteve jobs\u001b[39m\u001b[38;5;124m\"\u001b[39m,\u001b[38;5;124m\"\u001b[39m\u001b[38;5;124maqsa\u001b[39m\u001b[38;5;124m\"\u001b[39m:\u001b[38;5;124m\"\u001b[39m\u001b[38;5;124mname\u001b[39m\u001b[38;5;124m\"\u001b[39m}\n\u001b[0;32m      2\u001b[0m \u001b[38;5;28mprint\u001b[39m(d3)\n",
      "\u001b[1;31mTypeError\u001b[0m: unhashable type: 'dict'"
     ]
    }
   ],
   "source": [
    "d3={{\"name\":\"aqsa\"}:\"steve jobs\",\"aqsa\":\"name\"}\n",
    "print(d3)"
   ]
  },
  {
   "cell_type": "code",
   "execution_count": 19,
   "id": "dbe62837-af71-414c-8e1a-b6758b6d17c7",
   "metadata": {},
   "outputs": [
    {
     "name": "stdout",
     "output_type": "stream",
     "text": [
      "{1: [3, 4], 2: 'aqsa'}\n"
     ]
    }
   ],
   "source": [
    "terminator={1:[3,4], 2:\"aqsa\"}\n",
    "print(terminator)"
   ]
  },
  {
   "cell_type": "code",
   "execution_count": 20,
   "id": "af574e0a-34b0-4fc4-9a92-84e030473210",
   "metadata": {},
   "outputs": [
    {
     "name": "stdout",
     "output_type": "stream",
     "text": [
      "{1: (3, 4), 2: 'aqsa'}\n"
     ]
    }
   ],
   "source": [
    "terminator1={1:(3,4), 2:\"aqsa\"}\n",
    "print(terminator1)\n"
   ]
  },
  {
   "cell_type": "code",
   "execution_count": 21,
   "id": "0cb18079-2ac2-4834-9bdb-17a06a77d473",
   "metadata": {},
   "outputs": [
    {
     "name": "stdout",
     "output_type": "stream",
     "text": [
      "{1: {'name': 'aqsa'}, 2: 'aqsa'}\n"
     ]
    }
   ],
   "source": [
    "terminator2={1:{\"name\": \"aqsa\"},2:\"aqsa\"}\n",
    "print(terminator2)\n",
    "\n"
   ]
  },
  {
   "cell_type": "code",
   "execution_count": 22,
   "id": "a94ca665-3720-4810-a02e-a83a776e49d6",
   "metadata": {},
   "outputs": [
    {
     "name": "stdout",
     "output_type": "stream",
     "text": [
      "{1: {3, 4}, 2: 'aqsa'}\n"
     ]
    }
   ],
   "source": [
    "terminator3={1:{3,4}, 2:\"aqsa\"}\n",
    "print(terminator3)\n"
   ]
  },
  {
   "cell_type": "code",
   "execution_count": 33,
   "id": "3d225c8c-1682-4c41-a275-86e84aa09344",
   "metadata": {},
   "outputs": [
    {
     "ename": "KeyError",
     "evalue": "1",
     "output_type": "error",
     "traceback": [
      "\u001b[1;31m---------------------------------------------------------------------------\u001b[0m",
      "\u001b[1;31mKeyError\u001b[0m                                  Traceback (most recent call last)",
      "Cell \u001b[1;32mIn[33], line 2\u001b[0m\n\u001b[0;32m      1\u001b[0m system\u001b[38;5;241m=\u001b[39m{\u001b[38;5;124m'\u001b[39m\u001b[38;5;124maqsa\u001b[39m\u001b[38;5;124m'\u001b[39m:[\u001b[38;5;241m4\u001b[39m,\u001b[38;5;241m5\u001b[39m],\u001b[38;5;241m2\u001b[39m:(\u001b[38;5;241m4\u001b[39m)}\n\u001b[1;32m----> 2\u001b[0m \u001b[38;5;28mprint\u001b[39m(system[\u001b[38;5;241m1\u001b[39m])\n",
      "\u001b[1;31mKeyError\u001b[0m: 1"
     ]
    }
   ],
   "source": [
    "system={'aqsa':[4,5],2:(4)}\n",
    "print(system[1])"
   ]
  },
  {
   "cell_type": "code",
   "execution_count": 35,
   "id": "6d363bc2-58cd-478f-b55b-1e1bb0141010",
   "metadata": {},
   "outputs": [
    {
     "name": "stdout",
     "output_type": "stream",
     "text": [
      "100\n"
     ]
    }
   ],
   "source": [
    "name={\"cousre\":\"data science\",\"timing\":\"10am\", \"no of student\": \"100\"}\n",
    "print(name[\"no of student\"])"
   ]
  },
  {
   "cell_type": "code",
   "execution_count": 58,
   "id": "0a2508ac-109b-4ef7-bcb1-1b5ab01e1e1d",
   "metadata": {},
   "outputs": [
    {
     "name": "stdout",
     "output_type": "stream",
     "text": [
      "data science\n"
     ]
    }
   ],
   "source": [
    "name={\"cousre\":\"data science\",\"timing\":\"10am\", \"no of student\": \"100\"}\n",
    "print(name[\"cousre\"])"
   ]
  },
  {
   "cell_type": "code",
   "execution_count": 31,
   "id": "4278ba68-40ce-4533-969f-d2b2f0ec4be9",
   "metadata": {},
   "outputs": [
    {
     "name": "stdout",
     "output_type": "stream",
     "text": [
      "[3, 4]\n"
     ]
    }
   ],
   "source": [
    "terminator3={1:{3,4}, 2:\"aqsa\"}\n",
    "print(terminator[1])\n"
   ]
  },
  {
   "cell_type": "code",
   "execution_count": 48,
   "id": "d10fb9ca-31be-499f-8080-7d0794e10fae",
   "metadata": {},
   "outputs": [
    {
     "name": "stdout",
     "output_type": "stream",
     "text": [
      "2768885289664\n",
      "{'cousre': 'data science', 'timing': '10am', 'no of student': 200}\n",
      "2768885289664\n"
     ]
    }
   ],
   "source": [
    "name={\"cousre\":\"data science\",\"timing\":\"10am\", \"no of student\": \"100\"}\n",
    "print(id(name))\n",
    "name[\"no of student\"]=200\n",
    "print(name)\n",
    "print(id(name))"
   ]
  },
  {
   "cell_type": "code",
   "execution_count": 49,
   "id": "d431ed12-6165-48cf-87a3-9618a0f978bc",
   "metadata": {},
   "outputs": [
    {
     "name": "stdout",
     "output_type": "stream",
     "text": [
      "2768884589376\n",
      "{'cousre': 'aqsa', 'timing': '10am', 'no of student': '100'}\n",
      "2768884589376\n"
     ]
    }
   ],
   "source": [
    "name={\"cousre\":\"data science\",\"timing\":\"10am\", \"no of student\": \"100\"}\n",
    "print(id(name))\n",
    "name[\"cousre\"]=\"aqsa\"\n",
    "print(name)\n",
    "print(id(name))"
   ]
  },
  {
   "cell_type": "code",
   "execution_count": 54,
   "id": "7e661752-da76-48be-a6a9-bfaca7add926",
   "metadata": {},
   "outputs": [
    {
     "ename": "TypeError",
     "evalue": "unhashable type: 'list'",
     "output_type": "error",
     "traceback": [
      "\u001b[1;31m---------------------------------------------------------------------------\u001b[0m",
      "\u001b[1;31mTypeError\u001b[0m                                 Traceback (most recent call last)",
      "Cell \u001b[1;32mIn[54], line 1\u001b[0m\n\u001b[1;32m----> 1\u001b[0m inspector\u001b[38;5;241m=\u001b[39m{ [\u001b[38;5;124m\"\u001b[39m\u001b[38;5;124mclass\u001b[39m\u001b[38;5;124m\"\u001b[39m\u001b[38;5;124m\"\u001b[39m\u001b[38;5;124maqsa\u001b[39m\u001b[38;5;124m\"\u001b[39m]:\u001b[38;5;124m\"\u001b[39m\u001b[38;5;124m100\u001b[39m\u001b[38;5;124m\"\u001b[39m,\u001b[38;5;124m\"\u001b[39m\u001b[38;5;124mstudent\u001b[39m\u001b[38;5;124m\"\u001b[39m:(\u001b[38;5;241m34\u001b[39m,),\u001b[38;5;124m\"\u001b[39m\u001b[38;5;124mno\u001b[39m\u001b[38;5;124m\"\u001b[39m:\u001b[38;5;124m\"\u001b[39m\u001b[38;5;124m788\u001b[39m\u001b[38;5;124m\"\u001b[39m}\n\u001b[0;32m      2\u001b[0m \u001b[38;5;28mprint\u001b[39m(inspector)\n",
      "\u001b[1;31mTypeError\u001b[0m: unhashable type: 'list'"
     ]
    }
   ],
   "source": [
    "inspector={ [\"class\"\"aqsa\"]:\"100\",\"student\":(34,),\"no\":\"788\"}\n",
    "print(inspector)"
   ]
  },
  {
   "cell_type": "code",
   "execution_count": 1,
   "id": "fc3f055e-4c76-43a7-af23-941e1df08d78",
   "metadata": {},
   "outputs": [
    {
     "name": "stdout",
     "output_type": "stream",
     "text": [
      "{('class', 'aqsa'): '100', 'student': (34,), 'no': '788'}\n",
      "<class 'dict'>\n"
     ]
    }
   ],
   "source": [
    "inspector={ (\"class\",\"aqsa\"):\"100\",\"student\":(34,),\"no\":\"788\"}\n",
    "print(inspector)\n",
    "print(type(inspector))"
   ]
  },
  {
   "cell_type": "markdown",
   "id": "14fe8ae6-96b0-48e0-b594-d49aaa4228c4",
   "metadata": {},
   "source": [
    "## get() access()"
   ]
  },
  {
   "cell_type": "code",
   "execution_count": 18,
   "id": "3bd8b690-65d6-4b46-993f-99a0152c48b4",
   "metadata": {},
   "outputs": [
    {
     "name": "stdout",
     "output_type": "stream",
     "text": [
      "mayank\n"
     ]
    }
   ],
   "source": [
    "d={\"name\":\"mayank\",\"age\": 28}\n",
    "print(d[\"name\"])"
   ]
  },
  {
   "cell_type": "code",
   "execution_count": 15,
   "id": "114629f2-a62a-4aad-b7a9-457e8c2973b2",
   "metadata": {},
   "outputs": [
    {
     "name": "stdout",
     "output_type": "stream",
     "text": [
      "name: mayank\n",
      "salary with get: None\n",
      "age with get: None\n"
     ]
    },
    {
     "ename": "KeyError",
     "evalue": "0",
     "output_type": "error",
     "traceback": [
      "\u001b[1;31m---------------------------------------------------------------------------\u001b[0m",
      "\u001b[1;31mKeyError\u001b[0m                                  Traceback (most recent call last)",
      "Cell \u001b[1;32mIn[15], line 5\u001b[0m\n\u001b[0;32m      3\u001b[0m \u001b[38;5;28mprint\u001b[39m(\u001b[38;5;124m\"\u001b[39m\u001b[38;5;124msalary with get:\u001b[39m\u001b[38;5;124m\"\u001b[39m,d\u001b[38;5;241m.\u001b[39mget(\u001b[38;5;124m\"\u001b[39m\u001b[38;5;124msalary\u001b[39m\u001b[38;5;124m\"\u001b[39m))\n\u001b[0;32m      4\u001b[0m \u001b[38;5;28mprint\u001b[39m(\u001b[38;5;124m\"\u001b[39m\u001b[38;5;124mage with get:\u001b[39m\u001b[38;5;124m\"\u001b[39m,d\u001b[38;5;241m.\u001b[39mget(\u001b[38;5;124m\"\u001b[39m\u001b[38;5;124mget\u001b[39m\u001b[38;5;124m\"\u001b[39m))\n\u001b[1;32m----> 5\u001b[0m \u001b[38;5;28mprint\u001b[39m(d[\u001b[38;5;241m0\u001b[39m])\n",
      "\u001b[1;31mKeyError\u001b[0m: 0"
     ]
    }
   ],
   "source": [
    "d={\"name\":\"mayank\",\"age\": 28}\n",
    "print(\"name:\",d[\"name\"])\n",
    "print(\"salary with get:\",d.get(\"salary\"))\n",
    "print(\"age with get:\",d.get(\"get\"))\n",
    "print(d[0])"
   ]
  },
  {
   "cell_type": "code",
   "execution_count": 17,
   "id": "b9299cff-a428-4858-9f77-64315772f6d8",
   "metadata": {},
   "outputs": [
    {
     "name": "stdout",
     "output_type": "stream",
     "text": [
      "None\n"
     ]
    }
   ],
   "source": [
    "print(d.get(\"salary\"))"
   ]
  },
  {
   "cell_type": "code",
   "execution_count": 18,
   "id": "a69cd130-cf4d-4ba6-83ed-7521a5f7e4df",
   "metadata": {},
   "outputs": [
    {
     "name": "stdout",
     "output_type": "stream",
     "text": [
      "28\n"
     ]
    }
   ],
   "source": [
    "print(d.get(\"age\"))"
   ]
  },
  {
   "cell_type": "code",
   "execution_count": 21,
   "id": "3896c8b2-d68d-4f42-a678-7f42dd5d103b",
   "metadata": {},
   "outputs": [
    {
     "name": "stdout",
     "output_type": "stream",
     "text": [
      "sona\n"
     ]
    }
   ],
   "source": [
    "aqsa={3:\"sona\",2:\"aqsa\",4:\"tara\"}\n",
    "print(aqsa.get(3))"
   ]
  },
  {
   "cell_type": "code",
   "execution_count": 22,
   "id": "e1f195d0-cdcb-4749-a13a-069a43de4f15",
   "metadata": {},
   "outputs": [
    {
     "name": "stdout",
     "output_type": "stream",
     "text": [
      "class in sona\n"
     ]
    }
   ],
   "source": [
    "print(\"class in\",aqsa.get(3))"
   ]
  },
  {
   "cell_type": "markdown",
   "id": "fc118ce3-104b-4049-bb03-c84106be8115",
   "metadata": {},
   "source": [
    "## update/insert dictionary"
   ]
  },
  {
   "cell_type": "code",
   "execution_count": 29,
   "id": "0f1a8228-cd81-46e6-b53a-1bd15e4a8531",
   "metadata": {},
   "outputs": [
    {
     "name": "stdout",
     "output_type": "stream",
     "text": [
      "after update: {'a': 1, 'b': 45, 'c': 56}\n"
     ]
    }
   ],
   "source": [
    "d={\"a\":1,\"b\":2,\"c\":3}\n",
    "d.update({\"b\":45,\"c\":56})\n",
    "print(\"after update:\",d)"
   ]
  },
  {
   "cell_type": "code",
   "execution_count": 30,
   "id": "989aab57-05de-4055-ac34-41c3297530a1",
   "metadata": {},
   "outputs": [
    {
     "name": "stdout",
     "output_type": "stream",
     "text": [
      "sona: {'a': 34, 'b': 78, 'c': 90, 'd': 45}\n"
     ]
    }
   ],
   "source": [
    "d1={\"a\":34,\"b\":67,\"c\":90,\"d\":45}\n",
    "d1.update({\"b\":78})\n",
    "print(\"sona:\",d1)"
   ]
  },
  {
   "cell_type": "code",
   "execution_count": 33,
   "id": "8479b938-8d8e-4cd5-88a8-c9de48de987f",
   "metadata": {},
   "outputs": [
    {
     "name": "stdout",
     "output_type": "stream",
     "text": [
      "34\n",
      "78\n",
      "90\n"
     ]
    }
   ],
   "source": [
    "print(d1[\"a\"])\n",
    "print(d1[\"b\"]) \n",
    "print(d1[\"c\"])"
   ]
  },
  {
   "cell_type": "code",
   "execution_count": 74,
   "id": "33edd2fc-f353-413b-85e3-b54d0f727542",
   "metadata": {},
   "outputs": [
    {
     "name": "stdout",
     "output_type": "stream",
     "text": [
      "{'aqsa': 90, 'sona': 89, 'harish': 68}\n",
      "['aqsa', 'sona', 'harish']\n"
     ]
    }
   ],
   "source": [
    "aqsa={\"aqsa\":45,\"sona\":89,\"harish\":68}\n",
    "aqsa.update({\"aqsa\":90})\n",
    "print(aqsa)\n",
    "sona=list(aqsa)\n",
    "print(sona)"
   ]
  },
  {
   "cell_type": "code",
   "execution_count": 17,
   "id": "3cd39023-d4a2-483c-b222-c5f11626dbee",
   "metadata": {},
   "outputs": [
    {
     "name": "stdout",
     "output_type": "stream",
     "text": [
      "{0: 34, 1: 90, 2: 'aqsa', 3: 45}\n"
     ]
    }
   ],
   "source": [
    "d={}\n",
    "d[0]=34\n",
    "d[1]=90\n",
    "d[2]=\"aqsa\"\n",
    "d[3]=45\n",
    "print(d)\n"
   ]
  },
  {
   "cell_type": "code",
   "execution_count": null,
   "id": "18c809f6-dd7b-4bfe-a85f-ad81e9ddcc66",
   "metadata": {},
   "outputs": [],
   "source": []
  },
  {
   "cell_type": "markdown",
   "id": "e14f56c6-65ad-48f7-84ee-c8fc8bc583d7",
   "metadata": {},
   "source": [
    "## pop ()"
   ]
  },
  {
   "cell_type": "code",
   "execution_count": 35,
   "id": "32171a1f-8fb4-41ec-8187-68d2812ff927",
   "metadata": {},
   "outputs": [
    {
     "name": "stdout",
     "output_type": "stream",
     "text": [
      "{'b': 2, 'c': 3, 'd': 4}\n",
      "pop value a: 1 |d now: {'b': 2, 'c': 3, 'd': 4}\n"
     ]
    }
   ],
   "source": [
    "d={\"a\":1,\"b\":2,\"c\":3,\"d\":4}\n",
    "val=d.pop(\"a\")\n",
    "print(d)\n",
    "print(\"pop value a:\",val,\"|d now:\",d)"
   ]
  },
  {
   "cell_type": "code",
   "execution_count": 81,
   "id": "5ab7f14b-16b6-4f3b-807e-ca73998ccdfd",
   "metadata": {},
   "outputs": [
    {
     "name": "stdout",
     "output_type": "stream",
     "text": [
      "34\n",
      "pop value aqsa: 34 |c now: {'sona': 67, 'raghav': 67, 'sonal': 78}\n"
     ]
    }
   ],
   "source": [
    "c={\"aqsa\":34,\"sona\":67,\"raghav\":67,\"sonal\": 78}\n",
    "control=c.pop(\"aqsa\")\n",
    "print(control)\n",
    "print(\"pop value aqsa:\",control,\"|c now:\",c)"
   ]
  },
  {
   "cell_type": "code",
   "execution_count": 1,
   "id": "cd90e40d-2a9f-446c-9a3c-1de2e4a2f311",
   "metadata": {},
   "outputs": [
    {
     "name": "stdout",
     "output_type": "stream",
     "text": [
      "pop_key aqsa: 34 |u now: {'sona': 67, 'raghav': 67, 'sonal': 78}\n",
      "<class 'dict'>\n"
     ]
    }
   ],
   "source": [
    "u={\"aqsa\":34,\"sona\":67,\"raghav\":67,\"sonal\": 78}\n",
    "value= u.pop(\"aqsa\")\n",
    "print(\"pop_key aqsa:\",value,\"|u now:\",u)\n",
    "print(type(u))\n"
   ]
  },
  {
   "cell_type": "code",
   "execution_count": 6,
   "id": "f4aff475-4c5d-4ea6-8082-ca7c9f9c751a",
   "metadata": {},
   "outputs": [
    {
     "name": "stdout",
     "output_type": "stream",
     "text": [
      "78\n"
     ]
    }
   ],
   "source": [
    "sona=u.pop(\"sonal\")\n",
    "print(sona)"
   ]
  },
  {
   "cell_type": "code",
   "execution_count": 26,
   "id": "c293c1ff-3303-4b24-9303-47e65db5ee55",
   "metadata": {},
   "outputs": [
    {
     "name": "stdout",
     "output_type": "stream",
     "text": [
      "popped is raghav: 67 |now u: {'aqsa': 34, 'sona': 67, 'sonal': 78}\n",
      "<class 'dict'>\n",
      "['aqsa', 'sona', 'sonal']\n"
     ]
    }
   ],
   "source": [
    "u={\"aqsa\":34,\"sona\":67,\"raghav\":67,\"sonal\": 78}\n",
    "samra=u.pop(\"raghav\")\n",
    "print(\"popped is raghav:\",samra,\"|now u:\",u)\n",
    "print(type(u))\n",
    "namra=list(u)\n",
    "print(namra)"
   ]
  },
  {
   "cell_type": "code",
   "execution_count": 87,
   "id": "2e9ff5f5-3f74-4d58-827e-b23196dd2e51",
   "metadata": {},
   "outputs": [
    {
     "name": "stdout",
     "output_type": "stream",
     "text": [
      "['sona', 'raghav', 'sonal']\n"
     ]
    }
   ],
   "source": [
    "sapna=list(u)\n",
    "print(sapna)"
   ]
  },
  {
   "cell_type": "markdown",
   "id": "db56eb7a-5a55-4c26-8861-6f12d69a7c04",
   "metadata": {},
   "source": [
    "## pop item\n"
   ]
  },
  {
   "cell_type": "code",
   "execution_count": 14,
   "id": "734fbc1b-a70d-468d-82da-5b1fb48126fc",
   "metadata": {},
   "outputs": [
    {
     "name": "stdout",
     "output_type": "stream",
     "text": [
      "('c', 90)\n",
      "pop item: ('c', 90) |now d1: {'a': 12, 'b': 45}\n",
      "<class 'tuple'>\n"
     ]
    }
   ],
   "source": [
    "d1={\"a\":12,\"b\":45,\"c\":90}\n",
    "items=d1.popitem()\n",
    "print(items)\n",
    "print(\"pop item:\",items,\"|now d1:\" ,d1)\n",
    "print(type(items))\n"
   ]
  },
  {
   "cell_type": "code",
   "execution_count": 15,
   "id": "e34fc183-67cb-47f2-a350-3ba0206fc10a",
   "metadata": {},
   "outputs": [
    {
     "name": "stdout",
     "output_type": "stream",
     "text": [
      "['c', 90]\n"
     ]
    }
   ],
   "source": [
    "kunal=list(items)\n",
    "print(kunal)"
   ]
  },
  {
   "cell_type": "code",
   "execution_count": 31,
   "id": "d9bb8438-83a9-453b-88bb-574b2455720f",
   "metadata": {},
   "outputs": [
    {
     "name": "stdout",
     "output_type": "stream",
     "text": [
      "{'a': 12, 'b': 45, 2: 45}\n"
     ]
    }
   ],
   "source": [
    "d1={\"a\":12,\"b\":45,\"c\":90}\n",
    "d1.popitem()\n",
    "d1[2]=45\n",
    "print(d1)"
   ]
  },
  {
   "cell_type": "code",
   "execution_count": 44,
   "id": "3d61f73a-a295-4a56-8f08-f3b559434c59",
   "metadata": {},
   "outputs": [
    {
     "name": "stdout",
     "output_type": "stream",
     "text": [
      "('c', 90)\n",
      "pop item: ('c', 90) |d1 now: {'a': 12, 'b': 45}\n",
      "<class 'dict'>\n",
      "['a', 'b']\n"
     ]
    }
   ],
   "source": [
    "d1={\"a\":12,\"b\":45,\"c\":90}\n",
    "sona =d1.popitem()\n",
    "print(sona)\n",
    "print(\"pop item:\",sona,\"|d1 now:\" ,d1)\n",
    "print(type(d1))\n",
    "sona=list(d1)\n",
    "print(sona)\n"
   ]
  },
  {
   "cell_type": "code",
   "execution_count": 43,
   "id": "f16c9894-6aa8-4b5b-a7f4-3324c221c5b8",
   "metadata": {},
   "outputs": [
    {
     "name": "stdout",
     "output_type": "stream",
     "text": [
      "['a', 'b']\n"
     ]
    }
   ],
   "source": [
    "sona=list(d1)\n",
    "print(sona)\n"
   ]
  },
  {
   "cell_type": "code",
   "execution_count": 6,
   "id": "5d6d7b0f-2e62-47d4-8338-8890d014d5b1",
   "metadata": {},
   "outputs": [
    {
     "name": "stdout",
     "output_type": "stream",
     "text": [
      "{1: 'aqsa', 2: 'namra', 3: 'mantasha'}\n",
      "after the: (4, 'sona') | now is: {1: 'aqsa', 2: 'namra', 3: 'mantasha'}\n"
     ]
    }
   ],
   "source": [
    "t={1:\"aqsa\",2:\"namra\",3:\"mantasha\",4: \"sona\"}\n",
    "a=t.popitem()\n",
    "print(t)\n",
    "print(\"after the:\",a,\"| now is:\" ,t)"
   ]
  },
  {
   "cell_type": "code",
   "execution_count": null,
   "id": "ae6fa32f-bdbe-485c-86c6-2a4b53a614b1",
   "metadata": {},
   "outputs": [],
   "source": []
  },
  {
   "cell_type": "markdown",
   "id": "fa2ed8c5-b4a6-477d-9595-986464ba4e44",
   "metadata": {},
   "source": [
    "##  keys(), value(), item(),"
   ]
  },
  {
   "cell_type": "code",
   "execution_count": 46,
   "id": "6666e22d-13fa-49ad-a811-39b14b281824",
   "metadata": {},
   "outputs": [
    {
     "name": "stdout",
     "output_type": "stream",
     "text": [
      "keys: dict_keys(['name', 'role', 'hobby'])\n"
     ]
    }
   ],
   "source": [
    "d={\"name\":\"aqsa\",\"role\":\"data analyst\",\"hobby\":\"singing\"}\n",
    "print(\"keys:\",d.keys())\n",
    "   "
   ]
  },
  {
   "cell_type": "code",
   "execution_count": 55,
   "id": "c68afdf6-cb79-4c2f-88e6-bc861568594e",
   "metadata": {},
   "outputs": [
    {
     "name": "stdout",
     "output_type": "stream",
     "text": [
      "dict_keys(['name', 'role', 'hobby'])\n",
      "<class 'dict_keys'>\n"
     ]
    }
   ],
   "source": [
    "## storing the key in a variable\n",
    "key_d=d.keys()\n",
    "print(key_d)\n",
    "print(type(key_d))"
   ]
  },
  {
   "cell_type": "code",
   "execution_count": 52,
   "id": "4c22b28d-e342-4afe-b27a-4267ec2c9fcb",
   "metadata": {},
   "outputs": [
    {
     "name": "stdout",
     "output_type": "stream",
     "text": [
      "['name', 'role', 'hobby']\n",
      "<class 'list'>\n"
     ]
    }
   ],
   "source": [
    "list_key=list(key_d)\n",
    "print(list_key)\n",
    "print(type(list_key))"
   ]
  },
  {
   "cell_type": "code",
   "execution_count": 62,
   "id": "869b4e7c-207b-459e-bb4c-a7a30d61b2d4",
   "metadata": {},
   "outputs": [
    {
     "name": "stdout",
     "output_type": "stream",
     "text": [
      "value: dict_values([1, 2, 3, 7])\n"
     ]
    }
   ],
   "source": [
    "d2={\"aqsa\":1,\"sona\":2,\"rahul\":3,\"seema\":7}\n",
    "print(\"value:\",d2.values())"
   ]
  },
  {
   "cell_type": "code",
   "execution_count": 67,
   "id": "1e73b3bd-a709-4457-b848-e05dda357ff7",
   "metadata": {},
   "outputs": [
    {
     "name": "stdout",
     "output_type": "stream",
     "text": [
      "['aqsa', 'sona', 'rahul', 'seema']\n",
      "<class 'list'>\n"
     ]
    }
   ],
   "source": [
    "sona=list(d2)\n",
    "print(sona)\n",
    "print(type(sona))"
   ]
  },
  {
   "cell_type": "code",
   "execution_count": 68,
   "id": "b9345616-79df-4a2f-b56e-af43428f109e",
   "metadata": {},
   "outputs": [
    {
     "name": "stdout",
     "output_type": "stream",
     "text": [
      "item: dict_items([('aqsa', 1), ('sona', 2), ('rahul', 3), ('seema', 7)])\n"
     ]
    }
   ],
   "source": [
    "print(\"item:\",d2.items())"
   ]
  },
  {
   "cell_type": "code",
   "execution_count": 70,
   "id": "30aaed62-7eb9-4431-b8ea-6d2a48d982cf",
   "metadata": {},
   "outputs": [
    {
     "name": "stdout",
     "output_type": "stream",
     "text": [
      "['aqsa', 'sona', 'rahul', 'seema']\n",
      "<class 'list'>\n"
     ]
    }
   ],
   "source": [
    "aqsa=list(d2)\n",
    "print(aqsa)\n",
    "print(type(aqsa))"
   ]
  },
  {
   "cell_type": "code",
   "execution_count": 3,
   "id": "107d35d4-b9d9-4a2b-92e7-a5d195840c7a",
   "metadata": {},
   "outputs": [
    {
     "name": "stdout",
     "output_type": "stream",
     "text": [
      "dict_keys(['a', 'b', 'c'])\n"
     ]
    }
   ],
   "source": [
    "wait={\"a\":2,\"b\":3,\"c\":4}\n",
    "sona=print(wait.keys())"
   ]
  },
  {
   "cell_type": "code",
   "execution_count": 4,
   "id": "4924e6cb-f271-4788-a939-d5454b658f1b",
   "metadata": {},
   "outputs": [
    {
     "name": "stdout",
     "output_type": "stream",
     "text": [
      "['a', 'b', 'c']\n"
     ]
    }
   ],
   "source": [
    "aqsa=list(wait)\n",
    "print(aqsa)"
   ]
  },
  {
   "cell_type": "code",
   "execution_count": 9,
   "id": "ec8b9f09-7787-4750-97e5-fb59b616b66e",
   "metadata": {},
   "outputs": [
    {
     "name": "stdout",
     "output_type": "stream",
     "text": [
      "dict_keys(['aqsa', 'sona', 'namra', 'sapna', 'rahul'])\n",
      "dict_values([50, 48, 34, 89, 56])\n"
     ]
    }
   ],
   "source": [
    "name={\"aqsa\":50,\"sona\":48,\"namra\":34,\"sapna\":89,\"rahul\": 56}\n",
    "mark=print(name.keys())\n",
    "print(name.values())\n"
   ]
  },
  {
   "cell_type": "code",
   "execution_count": 34,
   "id": "8e4668be-05e0-4962-b460-a4e324c09536",
   "metadata": {},
   "outputs": [
    {
     "name": "stdout",
     "output_type": "stream",
     "text": [
      "{'aqsa': 50, 'sona': 48, 'namra': 34, 'sapna': 89, 'rahul': 56, 'orange': 78}\n"
     ]
    }
   ],
   "source": [
    "name={\"aqsa\":50,\"sona\":48,\"namra\":34,\"sapna\":89,\"rahul\": 56}\n",
    "name[\"orange\"] =78\n",
    "print(name)"
   ]
  },
  {
   "cell_type": "code",
   "execution_count": 36,
   "id": "557e9717-6af5-46e2-946d-fad90b19c13e",
   "metadata": {},
   "outputs": [
    {
     "name": "stdout",
     "output_type": "stream",
     "text": [
      "{'sona': 48, 'namra': 34, 'sapna': 89, 'rahul': 56, 'orange': 78}\n"
     ]
    }
   ],
   "source": [
    "name.pop(\"aqsa\")\n",
    "print(name)"
   ]
  },
  {
   "cell_type": "code",
   "execution_count": 40,
   "id": "050f743c-b101-4187-91aa-ebada13cf554",
   "metadata": {},
   "outputs": [
    {
     "name": "stdout",
     "output_type": "stream",
     "text": [
      "True\n",
      "None\n"
     ]
    }
   ],
   "source": [
    "sona=print(\"namra\" in name)\n",
    "print(sona)"
   ]
  },
  {
   "cell_type": "code",
   "execution_count": 61,
   "id": "c903f973-8451-472c-90bf-7d41d62d75c4",
   "metadata": {},
   "outputs": [
    {
     "name": "stdout",
     "output_type": "stream",
     "text": [
      "{'name': 'aqsa', 'age': 21, 'grade': 'a'}\n"
     ]
    }
   ],
   "source": [
    "student={}\n",
    "student[\"name\"]=\"aqsa\"\n",
    "student[\"age\"]=21\n",
    "student[\"grade\"]=\"a\"\n",
    "print(student)"
   ]
  },
  {
   "cell_type": "code",
   "execution_count": 62,
   "id": "02e234ce-5b09-48a9-b2e9-65621af3b2e2",
   "metadata": {},
   "outputs": [
    {
     "name": "stdout",
     "output_type": "stream",
     "text": [
      "dict_keys(['india', 'japan', 'china'])\n"
     ]
    }
   ],
   "source": [
    "world={\"india\":\"delhi\",\"japan\":\"tokyo\",\"china\":\"bizing\"}\n",
    "system=world.keys()\n",
    "print(system)"
   ]
  },
  {
   "cell_type": "code",
   "execution_count": null,
   "id": "b93cab11-9c2e-4b99-a370-36ac8ca872b2",
   "metadata": {},
   "outputs": [],
   "source": []
  },
  {
   "cell_type": "code",
   "execution_count": 65,
   "id": "3fa7c143-5081-4394-b056-798080c176a6",
   "metadata": {},
   "outputs": [
    {
     "name": "stdout",
     "output_type": "stream",
     "text": [
      "{'india': 'delhi', 'japan': 'tokyo', 'china': 'japan'}\n"
     ]
    }
   ],
   "source": [
    "world.update({\"china\":\"japan\"})\n",
    "print(world)\n"
   ]
  },
  {
   "cell_type": "code",
   "execution_count": 72,
   "id": "721599a9-67bb-41db-964e-b347297f6dc8",
   "metadata": {},
   "outputs": [
    {
     "name": "stdout",
     "output_type": "stream",
     "text": [
      "3\n"
     ]
    }
   ],
   "source": [
    "world={\"india\":\"delhi\",\"japan\":\"tokyo\",\"china\":\"bizing\"}\n",
    "print(len(world))\n",
    "\n",
    "\n"
   ]
  },
  {
   "cell_type": "code",
   "execution_count": 73,
   "id": "caa53171-296b-4202-b837-fb7597bf95c7",
   "metadata": {},
   "outputs": [
    {
     "name": "stdout",
     "output_type": "stream",
     "text": [
      "{'japan': 'tokyo', 'china': 'bizing'}\n"
     ]
    }
   ],
   "source": [
    "world={\"india\":\"delhi\",\"japan\":\"tokyo\",\"china\":\"bizing\"}\n",
    "world.pop(\"india\")\n",
    "print(world)"
   ]
  },
  {
   "cell_type": "code",
   "execution_count": 75,
   "id": "0b0c4a68-756b-4c1c-84bb-ad997620e58e",
   "metadata": {},
   "outputs": [
    {
     "name": "stdout",
     "output_type": "stream",
     "text": [
      "{'japan': 'tokyo'}\n"
     ]
    }
   ],
   "source": [
    "world.popitem()\n",
    "print(world)"
   ]
  },
  {
   "cell_type": "markdown",
   "id": "5f229346-008e-4eb2-bbbc-7fb0e470bf61",
   "metadata": {},
   "source": [
    "## input function"
   ]
  },
  {
   "cell_type": "code",
   "execution_count": null,
   "id": "25274091-f762-4f7c-acba-708608c24c81",
   "metadata": {},
   "outputs": [],
   "source": []
  }
 ],
 "metadata": {
  "kernelspec": {
   "display_name": "Python 3 (ipykernel)",
   "language": "python",
   "name": "python3"
  },
  "language_info": {
   "codemirror_mode": {
    "name": "ipython",
    "version": 3
   },
   "file_extension": ".py",
   "mimetype": "text/x-python",
   "name": "python",
   "nbconvert_exporter": "python",
   "pygments_lexer": "ipython3",
   "version": "3.13.5"
  }
 },
 "nbformat": 4,
 "nbformat_minor": 5
}
