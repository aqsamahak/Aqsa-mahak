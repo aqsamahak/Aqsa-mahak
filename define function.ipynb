{
 "cells": [
  {
   "cell_type": "markdown",
   "id": "300b2b15-35ed-47d6-974a-741f6bb92ca1",
   "metadata": {},
   "source": [
    "## python functions"
   ]
  },
  {
   "cell_type": "markdown",
   "id": "f20b1982-63ae-4988-a1d4-fca896023923",
   "metadata": {},
   "source": [
    "* python funtion are a block of statements that does a specific tasks .the ideas is to put some commonly or repeatedly done tas together and make a function  that instead of writing the same code again and again for different inputs we can do the functtion calls to reuse code contained in it over and over again,"
   ]
  },
  {
   "cell_type": "code",
   "execution_count": 5,
   "id": "59c4cca7-7b4a-4f12-86c3-6e4e9bb78410",
   "metadata": {},
   "outputs": [],
   "source": [
    "def multiply (n1,n2):\n",
    "    n3=n1*n2\n",
    "    return n3"
   ]
  },
  {
   "cell_type": "code",
   "execution_count": 6,
   "id": "93ac2e3f-5181-41e7-8fb6-a626f46e62be",
   "metadata": {},
   "outputs": [
    {
     "data": {
      "text/plain": [
       "121"
      ]
     },
     "execution_count": 6,
     "metadata": {},
     "output_type": "execute_result"
    }
   ],
   "source": [
    "multiply(11,11)"
   ]
  },
  {
   "cell_type": "code",
   "execution_count": 10,
   "id": "dfa9f8b0-3e7a-4b26-b9f2-79ddbdfa57db",
   "metadata": {},
   "outputs": [],
   "source": [
    "def fun():\n",
    "   print( \"welcome to ai\")\n"
   ]
  },
  {
   "cell_type": "code",
   "execution_count": 22,
   "id": "eb4b70c0-85c4-4aed-a0a4-8a5d230a9e97",
   "metadata": {},
   "outputs": [
    {
     "name": "stdout",
     "output_type": "stream",
     "text": [
      "welcome to ai\n"
     ]
    }
   ],
   "source": [
    "fun()"
   ]
  },
  {
   "cell_type": "code",
   "execution_count": 27,
   "id": "602fa09b-ed27-4ff0-a87a-19bbe9d0ffc2",
   "metadata": {},
   "outputs": [
    {
     "ename": "SyntaxError",
     "evalue": "invalid syntax (1826546698.py, line 1)",
     "output_type": "error",
     "traceback": [
      "\u001b[1;36m  Cell \u001b[1;32mIn[27], line 1\u001b[1;36m\u001b[0m\n\u001b[1;33m    def fun(float(input(\"enter the name\"):\u001b[0m\n\u001b[1;37m                 ^\u001b[0m\n\u001b[1;31mSyntaxError\u001b[0m\u001b[1;31m:\u001b[0m invalid syntax\n"
     ]
    }
   ],
   "source": [
    "def fun(float(input(\"enter the name\"):\n",
    "    print(\"the name of book\")\n"
   ]
  },
  {
   "cell_type": "code",
   "execution_count": 28,
   "id": "57b92a9c-6219-43f2-abfd-4ed9bf9530aa",
   "metadata": {},
   "outputs": [
    {
     "name": "stdout",
     "output_type": "stream",
     "text": [
      "the name of book\n"
     ]
    }
   ],
   "source": [
    "fun()"
   ]
  },
  {
   "cell_type": "code",
   "execution_count": null,
   "id": "36535413-cdd7-4c30-9c1a-ce2921d3acb9",
   "metadata": {},
   "outputs": [],
   "source": []
  }
 ],
 "metadata": {
  "kernelspec": {
   "display_name": "Python 3 (ipykernel)",
   "language": "python",
   "name": "python3"
  },
  "language_info": {
   "codemirror_mode": {
    "name": "ipython",
    "version": 3
   },
   "file_extension": ".py",
   "mimetype": "text/x-python",
   "name": "python",
   "nbconvert_exporter": "python",
   "pygments_lexer": "ipython3",
   "version": "3.13.5"
  }
 },
 "nbformat": 4,
 "nbformat_minor": 5
}
