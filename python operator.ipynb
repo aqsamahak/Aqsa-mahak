{
 "cells": [
  {
   "cell_type": "markdown",
   "id": "92ac1cdd-696b-42b7-bc84-c195f7ea3a66",
   "metadata": {},
   "source": [
    "# Types of operator"
   ]
  },
  {
   "cell_type": "markdown",
   "id": "540eb54d-ae7f-49f6-87f1-1340d2df83ce",
   "metadata": {},
   "source": [
    " ### Arithmetic operators\n",
    "  "
   ]
  },
  {
   "cell_type": "markdown",
   "id": "fa338ff1-9e8e-4435-8440-bb353e00cedb",
   "metadata": {},
   "source": [
    "* their are five types of arithmetic operator\n",
    "*  +,-,*,/,//,%"
   ]
  },
  {
   "cell_type": "code",
   "execution_count": 4,
   "id": "91b9d512-55ca-46f4-8d1b-eb9a4299efd4",
   "metadata": {},
   "outputs": [
    {
     "name": "stdout",
     "output_type": "stream",
     "text": [
      "45\n"
     ]
    }
   ],
   "source": [
    "class_1= 15\n",
    "class_2= 30\n",
    "total_student=class_1+class_2\n",
    "print(total_student)"
   ]
  },
  {
   "cell_type": "code",
   "execution_count": 5,
   "id": "78720f16-ee03-4a1f-a274-3f05f3383f37",
   "metadata": {},
   "outputs": [
    {
     "name": "stdout",
     "output_type": "stream",
     "text": [
      "10\n"
     ]
    }
   ],
   "source": [
    "room_1= 45\n",
    "room_2= 35\n",
    "total_room=room_1-room_2\n",
    "print(total_room)"
   ]
  },
  {
   "cell_type": "code",
   "execution_count": 15,
   "id": "e9d04822-51d9-45b6-b762-a4bfeb349dbc",
   "metadata": {},
   "outputs": [
    {
     "name": "stdout",
     "output_type": "stream",
     "text": [
      "-11\n"
     ]
    }
   ],
   "source": [
    "_aqsa=45\n",
    "_sona=56\n",
    "total_name=(_aqsa-_sona)\n",
    "print(total_name)"
   ]
  },
  {
   "cell_type": "code",
   "execution_count": null,
   "id": "7acf0450-43e8-4e8a-bd37-5b002d3d947d",
   "metadata": {},
   "outputs": [],
   "source": []
  },
  {
   "cell_type": "code",
   "execution_count": 7,
   "id": "915babce-cdbc-4dd4-951b-1bceb32614f5",
   "metadata": {},
   "outputs": [
    {
     "name": "stdout",
     "output_type": "stream",
     "text": [
      "0.4925373134328358\n"
     ]
    }
   ],
   "source": [
    "marks_2=33\n",
    "marks_3=67\n",
    "total_marks=marks_2/marks_3\n",
    "print(total_marks)"
   ]
  },
  {
   "cell_type": "code",
   "execution_count": 27,
   "id": "53742e42-16f2-4a01-ac8c-43b13b672017",
   "metadata": {},
   "outputs": [
    {
     "name": "stdout",
     "output_type": "stream",
     "text": [
      "25\n"
     ]
    }
   ],
   "source": [
    "total=30\n",
    "absent=5\n",
    "present=total-absent\n",
    "print(present)"
   ]
  },
  {
   "cell_type": "code",
   "execution_count": 9,
   "id": "d9ef0c3c-5a33-4e07-8b78-78aa91fe2c7e",
   "metadata": {},
   "outputs": [
    {
     "name": "stdout",
     "output_type": "stream",
     "text": [
      "11\n"
     ]
    }
   ],
   "source": [
    "total=45\n",
    "absent=34\n",
    "present=total-absent\n",
    "print(present)\n"
   ]
  },
  {
   "cell_type": "code",
   "execution_count": 28,
   "id": "bfa090b8-1ef5-4398-9783-e5b0372d1813",
   "metadata": {},
   "outputs": [
    {
     "name": "stdout",
     "output_type": "stream",
     "text": [
      "174\n"
     ]
    }
   ],
   "source": [
    "class_1=98\n",
    "class_2=76\n",
    "total_class=class_1+class_2\n",
    "print(total_class)"
   ]
  },
  {
   "cell_type": "code",
   "execution_count": 7,
   "id": "7f66b050-121e-4db9-822d-26bbf8cdb107",
   "metadata": {},
   "outputs": [
    {
     "name": "stdout",
     "output_type": "stream",
     "text": [
      "2\n"
     ]
    }
   ],
   "source": [
    "aqsa_1=78\n",
    "sona_2=76\n",
    "total_name=aqsa_1-sona_2\n",
    "print(total_name)"
   ]
  },
  {
   "cell_type": "code",
   "execution_count": 8,
   "id": "0cf9613e-8cd5-4c0b-96ed-8468972e4bd2",
   "metadata": {},
   "outputs": [
    {
     "name": "stdout",
     "output_type": "stream",
     "text": [
      "2\n"
     ]
    }
   ],
   "source": [
    "print(5//2)"
   ]
  },
  {
   "cell_type": "code",
   "execution_count": 9,
   "id": "26637bb0-5d58-4c94-aaec-78bbd5fa44bd",
   "metadata": {},
   "outputs": [
    {
     "name": "stdout",
     "output_type": "stream",
     "text": [
      "2.5\n"
     ]
    }
   ],
   "source": [
    "print(5/2)"
   ]
  },
  {
   "cell_type": "code",
   "execution_count": 10,
   "id": "83a4a0c2-faa7-4c08-b26e-51108fa48404",
   "metadata": {},
   "outputs": [
    {
     "name": "stdout",
     "output_type": "stream",
     "text": [
      "3.0\n"
     ]
    }
   ],
   "source": [
    "print(6/2)"
   ]
  },
  {
   "cell_type": "code",
   "execution_count": 11,
   "id": "d7dd88a8-b5ad-40f5-9886-5924f545e900",
   "metadata": {},
   "outputs": [
    {
     "name": "stdout",
     "output_type": "stream",
     "text": [
      "3\n"
     ]
    }
   ],
   "source": [
    "print(6//2)"
   ]
  },
  {
   "cell_type": "code",
   "execution_count": 12,
   "id": "5f09c2b9-5793-402f-b256-63469fe3917a",
   "metadata": {},
   "outputs": [
    {
     "name": "stdout",
     "output_type": "stream",
     "text": [
      "3.0\n"
     ]
    }
   ],
   "source": [
    "print(6.0/2)\n"
   ]
  },
  {
   "cell_type": "code",
   "execution_count": 13,
   "id": "b5819ca1-2144-4d30-a001-8d8620b95b5d",
   "metadata": {},
   "outputs": [
    {
     "name": "stdout",
     "output_type": "stream",
     "text": [
      "3.0\n"
     ]
    }
   ],
   "source": [
    "print(6.0//2)\n"
   ]
  },
  {
   "cell_type": "code",
   "execution_count": 15,
   "id": "a7bb875a-9dfd-4da6-b19c-b8874dc6acf0",
   "metadata": {},
   "outputs": [
    {
     "name": "stdout",
     "output_type": "stream",
     "text": [
      "0\n"
     ]
    }
   ],
   "source": [
    "print(6%2)"
   ]
  },
  {
   "cell_type": "code",
   "execution_count": 16,
   "id": "bbdaf948-cf21-4afb-890a-62f7e546d43e",
   "metadata": {},
   "outputs": [
    {
     "name": "stdout",
     "output_type": "stream",
     "text": [
      "1\n"
     ]
    }
   ],
   "source": [
    "print(5%2)\n",
    "      "
   ]
  },
  {
   "cell_type": "code",
   "execution_count": 17,
   "id": "54624533-92cb-422d-9eb5-6fce5e7f9d9f",
   "metadata": {},
   "outputs": [
    {
     "name": "stdout",
     "output_type": "stream",
     "text": [
      "2.0\n"
     ]
    }
   ],
   "source": [
    "print(122%2.5)"
   ]
  },
  {
   "cell_type": "code",
   "execution_count": 18,
   "id": "ae968066-9faf-4364-908d-443ead24490a",
   "metadata": {},
   "outputs": [
    {
     "name": "stdout",
     "output_type": "stream",
     "text": [
      "2.0\n"
     ]
    }
   ],
   "source": [
    "print(4.5%2.5)"
   ]
  },
  {
   "cell_type": "code",
   "execution_count": 29,
   "id": "2ed4ccc1-3df1-4427-9067-dbb1d25d36c1",
   "metadata": {},
   "outputs": [
    {
     "name": "stdout",
     "output_type": "stream",
     "text": [
      "0.7444444444444445\n"
     ]
    }
   ],
   "source": [
    "print(6.7/9)"
   ]
  },
  {
   "cell_type": "code",
   "execution_count": 30,
   "id": "c24aeae2-a6f0-422a-a612-d804fb0c421b",
   "metadata": {},
   "outputs": [
    {
     "name": "stdout",
     "output_type": "stream",
     "text": [
      "0.0\n"
     ]
    }
   ],
   "source": [
    "print(6.7//9)"
   ]
  },
  {
   "cell_type": "code",
   "execution_count": 31,
   "id": "e8a094d0-fa55-46a2-9384-f2339c7202ef",
   "metadata": {},
   "outputs": [
    {
     "name": "stdout",
     "output_type": "stream",
     "text": [
      "27\n"
     ]
    }
   ],
   "source": [
    "print(9*3)"
   ]
  },
  {
   "cell_type": "code",
   "execution_count": 32,
   "id": "25cebe55-8002-44ca-ad08-19ee995ddd3c",
   "metadata": {},
   "outputs": [
    {
     "name": "stdout",
     "output_type": "stream",
     "text": [
      "0\n"
     ]
    }
   ],
   "source": [
    "print(27%9)"
   ]
  },
  {
   "cell_type": "code",
   "execution_count": 6,
   "id": "98830e82-ce5f-418c-84b4-ad2ebef26182",
   "metadata": {},
   "outputs": [
    {
     "name": "stdout",
     "output_type": "stream",
     "text": [
      "0\n"
     ]
    }
   ],
   "source": [
    "print(6%3)"
   ]
  },
  {
   "cell_type": "markdown",
   "id": "ea15bdd9-4229-441a-aeae-9b7ef9aef28c",
   "metadata": {},
   "source": [
    "# relational or comparison operator "
   ]
  },
  {
   "cell_type": "markdown",
   "id": "32ae2bc5-4c40-4558-bd16-0415cebeff44",
   "metadata": {},
   "source": [
    "(>,<,>=,<=,==,!)"
   ]
  },
  {
   "cell_type": "code",
   "execution_count": 20,
   "id": "e404e7df-b450-46c6-8a2b-d71285e1ea5a",
   "metadata": {},
   "outputs": [
    {
     "name": "stdout",
     "output_type": "stream",
     "text": [
      "True\n"
     ]
    }
   ],
   "source": [
    "a=34\n",
    "b=45\n",
    "print(a<b)"
   ]
  },
  {
   "cell_type": "code",
   "execution_count": 21,
   "id": "8e716cb2-bd41-4fde-8444-59ca9b8ca204",
   "metadata": {},
   "outputs": [
    {
     "name": "stdout",
     "output_type": "stream",
     "text": [
      "False\n"
     ]
    }
   ],
   "source": [
    "p=90\n",
    "q=45\n",
    "print(q>p)"
   ]
  },
  {
   "cell_type": "code",
   "execution_count": 22,
   "id": "c71b914e-b140-4cb0-bee0-0d6742ca30fb",
   "metadata": {},
   "outputs": [
    {
     "name": "stdout",
     "output_type": "stream",
     "text": [
      "True\n"
     ]
    }
   ],
   "source": [
    "a=45\n",
    "b=45\n",
    "print(a==b)"
   ]
  },
  {
   "cell_type": "code",
   "execution_count": 23,
   "id": "b6a5e048-b025-4e92-8f39-c1ae71d6f927",
   "metadata": {},
   "outputs": [
    {
     "name": "stdout",
     "output_type": "stream",
     "text": [
      "True\n"
     ]
    }
   ],
   "source": [
    "b=50\n",
    "c=67\n",
    "print(b<=c)"
   ]
  },
  {
   "cell_type": "code",
   "execution_count": 25,
   "id": "9b72aea6-9e75-4525-ad54-6ecfd39124ec",
   "metadata": {},
   "outputs": [
    {
     "name": "stdout",
     "output_type": "stream",
     "text": [
      "True\n"
     ]
    }
   ],
   "source": [
    "a=100\n",
    "b=45\n",
    "print(a!=b)"
   ]
  },
  {
   "cell_type": "code",
   "execution_count": 10,
   "id": "107a4e01-ab62-4894-b18d-cfc16845684b",
   "metadata": {},
   "outputs": [
    {
     "name": "stdout",
     "output_type": "stream",
     "text": [
      "True\n"
     ]
    }
   ],
   "source": [
    "r=76\n",
    "q=56\n",
    "print(r>q)"
   ]
  },
  {
   "cell_type": "code",
   "execution_count": 11,
   "id": "b137b44c-0e9f-4770-8201-5f3cd3a9565e",
   "metadata": {},
   "outputs": [
    {
     "name": "stdout",
     "output_type": "stream",
     "text": [
      "True\n"
     ]
    }
   ],
   "source": [
    "a=56\n",
    "b=89\n",
    "print(a!=b)"
   ]
  },
  {
   "cell_type": "code",
   "execution_count": 13,
   "id": "674831e3-8c14-47a1-bb95-59eae2951fd8",
   "metadata": {},
   "outputs": [
    {
     "name": "stdout",
     "output_type": "stream",
     "text": [
      "False\n"
     ]
    }
   ],
   "source": [
    "x=90\n",
    "y=67\n",
    "print(x<=y)"
   ]
  },
  {
   "cell_type": "code",
   "execution_count": 14,
   "id": "078e87fe-ef32-4795-b5f2-6cd122787f1c",
   "metadata": {},
   "outputs": [
    {
     "name": "stdout",
     "output_type": "stream",
     "text": [
      "nice\n"
     ]
    }
   ],
   "source": [
    "x=25\n",
    "if x==25:\n",
    "    print(\"nice\")\n",
    "else:\n",
    "    print(\"not good\")"
   ]
  },
  {
   "cell_type": "code",
   "execution_count": 20,
   "id": "673050fa-a238-499e-aaed-0b4cc6610082",
   "metadata": {},
   "outputs": [
    {
     "name": "stdout",
     "output_type": "stream",
     "text": [
      "nice\n"
     ]
    }
   ],
   "source": [
    "y=78\n",
    "if y==78:\n",
    "  print(\"nice\")\n",
    "else:\n",
    "  print(\"not good\")"
   ]
  },
  {
   "cell_type": "code",
   "execution_count": 41,
   "id": "88cf644f-2d28-41a0-b2cc-88b1a0f38b2f",
   "metadata": {},
   "outputs": [
    {
     "name": "stdout",
     "output_type": "stream",
     "text": [
      "nice\n"
     ]
    }
   ],
   "source": [
    "z=60\n",
    "if z<=60:\n",
    "    print(\"nice\")\n",
    "else:\n",
    "    print(\"not good\")"
   ]
  },
  {
   "cell_type": "code",
   "execution_count": 67,
   "id": "320234fd-0e88-4223-a583-4b8efd0c31ce",
   "metadata": {},
   "outputs": [
    {
     "name": "stdout",
     "output_type": "stream",
     "text": [
      "nice\n"
     ]
    }
   ],
   "source": [
    "y=78\n",
    "if y==78:\n",
    "    print(\"nice\")\n",
    "else:\n",
    "    print(\"not good\")"
   ]
  },
  {
   "cell_type": "markdown",
   "id": "182806ad-bff0-4ab6-91fc-dc44bce02e06",
   "metadata": {},
   "source": [
    "## python logical operator "
   ]
  },
  {
   "cell_type": "markdown",
   "id": "7e9b230f-652f-4bde-8d12-b5376c1b0a93",
   "metadata": {},
   "source": [
    "python logical operator are used to combine conditional statement \n",
    "* their are three logical operators\n",
    " and ,or ,not "
   ]
  },
  {
   "cell_type": "code",
   "execution_count": 27,
   "id": "4f45566c-9bd1-4196-8a43-8c067fb2c693",
   "metadata": {},
   "outputs": [
    {
     "name": "stdout",
     "output_type": "stream",
     "text": [
      "False\n"
     ]
    }
   ],
   "source": [
    "a=False \n",
    "b=False\n",
    "print(a and b)"
   ]
  },
  {
   "cell_type": "code",
   "execution_count": 32,
   "id": "bd275c0a-5267-48e3-8706-a9bcfd7855b6",
   "metadata": {},
   "outputs": [
    {
     "data": {
      "text/plain": [
       "False"
      ]
     },
     "execution_count": 32,
     "metadata": {},
     "output_type": "execute_result"
    }
   ],
   "source": [
    "True and False "
   ]
  },
  {
   "cell_type": "code",
   "execution_count": 34,
   "id": "317dbde1-9124-4149-b39e-422dba0180d6",
   "metadata": {},
   "outputs": [
    {
     "data": {
      "text/plain": [
       "False"
      ]
     },
     "execution_count": 34,
     "metadata": {},
     "output_type": "execute_result"
    }
   ],
   "source": [
    "False and True"
   ]
  },
  {
   "cell_type": "code",
   "execution_count": 29,
   "id": "653de2f8-2817-448e-8720-53e48fe9e273",
   "metadata": {},
   "outputs": [
    {
     "data": {
      "text/plain": [
       "True"
      ]
     },
     "execution_count": 29,
     "metadata": {},
     "output_type": "execute_result"
    }
   ],
   "source": [
    "True or False"
   ]
  },
  {
   "cell_type": "code",
   "execution_count": 30,
   "id": "11993e60-45bf-48da-9224-5e4fb9fa23e2",
   "metadata": {},
   "outputs": [
    {
     "data": {
      "text/plain": [
       "True"
      ]
     },
     "execution_count": 30,
     "metadata": {},
     "output_type": "execute_result"
    }
   ],
   "source": [
    "True or True "
   ]
  },
  {
   "cell_type": "code",
   "execution_count": 31,
   "id": "bb989695-f900-421b-a00e-a81e8be25f16",
   "metadata": {},
   "outputs": [
    {
     "data": {
      "text/plain": [
       "True"
      ]
     },
     "execution_count": 31,
     "metadata": {},
     "output_type": "execute_result"
    }
   ],
   "source": [
    "False or True "
   ]
  },
  {
   "cell_type": "code",
   "execution_count": 33,
   "id": "02d888e5-ddb5-4e11-9990-c64797c9b67c",
   "metadata": {},
   "outputs": [
    {
     "data": {
      "text/plain": [
       "False"
      ]
     },
     "execution_count": 33,
     "metadata": {},
     "output_type": "execute_result"
    }
   ],
   "source": [
    "False or False \n"
   ]
  },
  {
   "cell_type": "code",
   "execution_count": 35,
   "id": "472c0896-b142-434b-914d-714d4dee3594",
   "metadata": {},
   "outputs": [
    {
     "name": "stdout",
     "output_type": "stream",
     "text": [
      "False\n"
     ]
    }
   ],
   "source": [
    "a=10 \n",
    "print(not a)"
   ]
  },
  {
   "cell_type": "code",
   "execution_count": 10,
   "id": "bbf6a8a8-5a9c-4778-baca-f42d1b7f77af",
   "metadata": {},
   "outputs": [
    {
     "name": "stdout",
     "output_type": "stream",
     "text": [
      "True\n"
     ]
    }
   ],
   "source": [
    "b=False \n",
    "print( not b)"
   ]
  },
  {
   "cell_type": "code",
   "execution_count": 12,
   "id": "20cade75-dea9-45f7-9fbe-178a6e76cfe4",
   "metadata": {},
   "outputs": [
    {
     "name": "stdout",
     "output_type": "stream",
     "text": [
      "False\n"
     ]
    }
   ],
   "source": [
    "a=True\n",
    "print(not a)"
   ]
  },
  {
   "cell_type": "code",
   "execution_count": 20,
   "id": "9352f89c-55ef-4f4e-bdb4-725cdf2d1342",
   "metadata": {},
   "outputs": [
    {
     "name": "stdout",
     "output_type": "stream",
     "text": [
      "True\n"
     ]
    }
   ],
   "source": [
    "d=False\n",
    "print(not d)"
   ]
  },
  {
   "cell_type": "markdown",
   "id": "96e699c7-9e78-418a-bacd-1c9c2479e110",
   "metadata": {},
   "source": [
    "## assignment operator (=)"
   ]
  },
  {
   "cell_type": "markdown",
   "id": "1d279681-d160-4c2e-89b5-fa1d4c67fac8",
   "metadata": {},
   "source": [
    "*=,+=,-=\n"
   ]
  },
  {
   "cell_type": "code",
   "execution_count": 61,
   "id": "fb018377-a7bc-42b3-9cae-7a0d628400e6",
   "metadata": {},
   "outputs": [
    {
     "name": "stdout",
     "output_type": "stream",
     "text": [
      "30\n"
     ]
    }
   ],
   "source": [
    "a=5\n",
    "a*=6\n",
    "print (a)"
   ]
  },
  {
   "cell_type": "code",
   "execution_count": 62,
   "id": "208da160-8a82-4417-b0e5-9709f59665e0",
   "metadata": {},
   "outputs": [
    {
     "name": "stdout",
     "output_type": "stream",
     "text": [
      "11\n"
     ]
    }
   ],
   "source": [
    "b=6\n",
    "b+=5\n",
    "print(b)"
   ]
  },
  {
   "cell_type": "code",
   "execution_count": 63,
   "id": "a2093f05-e605-44bf-ba37-04dd554b25fd",
   "metadata": {},
   "outputs": [
    {
     "name": "stdout",
     "output_type": "stream",
     "text": [
      "10\n"
     ]
    }
   ],
   "source": [
    "c=90\n",
    "c-=80\n",
    "print(c)\n"
   ]
  },
  {
   "cell_type": "code",
   "execution_count": 24,
   "id": "3fa1fe8f-2958-4c2b-ba57-703d667235f6",
   "metadata": {},
   "outputs": [
    {
     "name": "stdout",
     "output_type": "stream",
     "text": [
      "20\n"
     ]
    }
   ],
   "source": [
    "s=45\n",
    "t=67\n",
    "t-=2\n",
    "print (t-s)\n"
   ]
  },
  {
   "cell_type": "code",
   "execution_count": 79,
   "id": "4812880a-d782-46b7-9a66-6b05f03d75ce",
   "metadata": {},
   "outputs": [
    {
     "name": "stdout",
     "output_type": "stream",
     "text": [
      "20\n"
     ]
    }
   ],
   "source": [
    "r=2\n",
    "r*=10\n",
    "print(r)"
   ]
  },
  {
   "cell_type": "code",
   "execution_count": 23,
   "id": "58905470-676f-493f-9296-a92989442c58",
   "metadata": {},
   "outputs": [
    {
     "name": "stdout",
     "output_type": "stream",
     "text": [
      "134\n"
     ]
    }
   ],
   "source": [
    "a=4\n",
    "b=90\n",
    "b+=40\n",
    "print(a+b)\n"
   ]
  },
  {
   "cell_type": "code",
   "execution_count": 9,
   "id": "a2c6f259-1cd0-4db8-9c75-d5b6aaa253ec",
   "metadata": {},
   "outputs": [
    {
     "name": "stdout",
     "output_type": "stream",
     "text": [
      "360\n"
     ]
    }
   ],
   "source": [
    "x=90\n",
    "y=2\n",
    "y*=2\n",
    "\n",
    "print(x*y)"
   ]
  },
  {
   "cell_type": "code",
   "execution_count": 7,
   "id": "50145e5b-102e-4697-9b15-6d116e2fbb36",
   "metadata": {},
   "outputs": [
    {
     "name": "stdout",
     "output_type": "stream",
     "text": [
      "2700\n"
     ]
    }
   ],
   "source": [
    "y=45\n",
    "x=60\n",
    "print(x*y)"
   ]
  },
  {
   "cell_type": "markdown",
   "id": "07b29690-9258-4239-a508-f4c356baba02",
   "metadata": {},
   "source": [
    "## identity of python"
   ]
  },
  {
   "cell_type": "markdown",
   "id": "77c7c904-11fb-4f90-b111-63cc7c9f0e50",
   "metadata": {},
   "source": [
    "In python is and not is is the identity operator both are used to check ,if two variables are used in same memory part  \n",
    "if two value variables are equal is does not mean that they are identical"
   ]
  },
  {
   "cell_type": "code",
   "execution_count": 42,
   "id": "da99fc4e-50fa-469f-93f5-b9be93df917e",
   "metadata": {},
   "outputs": [
    {
     "name": "stdout",
     "output_type": "stream",
     "text": [
      "140712315041128\n"
     ]
    }
   ],
   "source": [
    "a=15\n",
    "print(id (a))"
   ]
  },
  {
   "cell_type": "code",
   "execution_count": 43,
   "id": "1fb2401e-fa1c-4913-b5cb-e426f8ec48de",
   "metadata": {},
   "outputs": [
    {
     "name": "stdout",
     "output_type": "stream",
     "text": [
      "140712315041128\n"
     ]
    }
   ],
   "source": [
    "b=15\n",
    "print(id (b))"
   ]
  },
  {
   "cell_type": "code",
   "execution_count": 44,
   "id": "c3f7baac-780d-489a-bc54-d4e12a9c990b",
   "metadata": {},
   "outputs": [
    {
     "data": {
      "text/plain": [
       "True"
      ]
     },
     "execution_count": 44,
     "metadata": {},
     "output_type": "execute_result"
    }
   ],
   "source": [
    "a is b"
   ]
  },
  {
   "cell_type": "code",
   "execution_count": 45,
   "id": "7cc2d3fc-5a4d-4555-972e-1b1d3e6ec9d5",
   "metadata": {},
   "outputs": [
    {
     "name": "stdout",
     "output_type": "stream",
     "text": [
      "140712315041128\n"
     ]
    }
   ],
   "source": [
    "x=15\n",
    "print(id(x))"
   ]
  },
  {
   "cell_type": "code",
   "execution_count": 49,
   "id": "2be72e42-af0b-4fe1-8b63-5c2c98417731",
   "metadata": {},
   "outputs": [
    {
     "name": "stdout",
     "output_type": "stream",
     "text": [
      "140712315043528\n"
     ]
    }
   ],
   "source": [
    "y=90\n",
    "print(id(y))"
   ]
  },
  {
   "cell_type": "code",
   "execution_count": 50,
   "id": "8d66596d-a776-4bee-b3c2-d2d251747934",
   "metadata": {},
   "outputs": [
    {
     "data": {
      "text/plain": [
       "False"
      ]
     },
     "execution_count": 50,
     "metadata": {},
     "output_type": "execute_result"
    }
   ],
   "source": [
    "x is y"
   ]
  },
  {
   "cell_type": "code",
   "execution_count": 55,
   "id": "dbc9cd3b-e410-4e28-8d72-2bfd73eb7cc8",
   "metadata": {},
   "outputs": [
    {
     "data": {
      "text/plain": [
       "True"
      ]
     },
     "execution_count": 55,
     "metadata": {},
     "output_type": "execute_result"
    }
   ],
   "source": [
    "x is not y"
   ]
  },
  {
   "cell_type": "code",
   "execution_count": 51,
   "id": "59429c1f-85fc-41f6-b506-401250385742",
   "metadata": {},
   "outputs": [
    {
     "name": "stdout",
     "output_type": "stream",
     "text": [
      "140712315042088\n"
     ]
    }
   ],
   "source": [
    "y=45\n",
    "print(id(y))"
   ]
  },
  {
   "cell_type": "code",
   "execution_count": 52,
   "id": "a9599b43-b5c7-4fed-a01c-9ff7127b29c6",
   "metadata": {},
   "outputs": [
    {
     "name": "stdout",
     "output_type": "stream",
     "text": [
      "140712315042440\n"
     ]
    }
   ],
   "source": [
    "x=56\n",
    "print(id(x))"
   ]
  },
  {
   "cell_type": "code",
   "execution_count": 53,
   "id": "9c65ec25-1901-42ef-a973-115572d2884f",
   "metadata": {},
   "outputs": [
    {
     "data": {
      "text/plain": [
       "False"
      ]
     },
     "execution_count": 53,
     "metadata": {},
     "output_type": "execute_result"
    }
   ],
   "source": [
    "x is y"
   ]
  },
  {
   "cell_type": "code",
   "execution_count": 54,
   "id": "a9511ea4-a6e2-44e9-b36c-71b5e36055c3",
   "metadata": {},
   "outputs": [
    {
     "data": {
      "text/plain": [
       "True"
      ]
     },
     "execution_count": 54,
     "metadata": {},
     "output_type": "execute_result"
    }
   ],
   "source": [
    "x is not y"
   ]
  },
  {
   "cell_type": "code",
   "execution_count": 56,
   "id": "73574631-6eb5-4e46-9ae9-52891940738a",
   "metadata": {},
   "outputs": [
    {
     "name": "stdout",
     "output_type": "stream",
     "text": [
      "140712315043528\n"
     ]
    }
   ],
   "source": [
    "a=90\n",
    "print(id(a))"
   ]
  },
  {
   "cell_type": "code",
   "execution_count": 57,
   "id": "dc531eee-a980-4429-bffb-2885eebf4019",
   "metadata": {},
   "outputs": [
    {
     "name": "stdout",
     "output_type": "stream",
     "text": [
      "140712315042440\n"
     ]
    }
   ],
   "source": [
    "b=56\n",
    "print (id(b))"
   ]
  },
  {
   "cell_type": "code",
   "execution_count": 58,
   "id": "5a225ade-980b-4551-a326-776c17ce353a",
   "metadata": {},
   "outputs": [
    {
     "data": {
      "text/plain": [
       "False"
      ]
     },
     "execution_count": 58,
     "metadata": {},
     "output_type": "execute_result"
    }
   ],
   "source": [
    "a is b"
   ]
  },
  {
   "cell_type": "code",
   "execution_count": 59,
   "id": "b45fcd35-7c7a-4dae-a542-780e9dc43ee8",
   "metadata": {},
   "outputs": [
    {
     "data": {
      "text/plain": [
       "True"
      ]
     },
     "execution_count": 59,
     "metadata": {},
     "output_type": "execute_result"
    }
   ],
   "source": [
    "a is not b"
   ]
  },
  {
   "cell_type": "code",
   "execution_count": 69,
   "id": "9004b14c-0d1e-4aac-9cc2-1716da698960",
   "metadata": {},
   "outputs": [
    {
     "name": "stdout",
     "output_type": "stream",
     "text": [
      "140712315043528\n"
     ]
    }
   ],
   "source": [
    "g=90\n",
    "print(id(g))"
   ]
  },
  {
   "cell_type": "code",
   "execution_count": 70,
   "id": "f7fd311c-1428-4a12-8c77-c275657c0f1d",
   "metadata": {},
   "outputs": [
    {
     "name": "stdout",
     "output_type": "stream",
     "text": [
      "140712315043496\n"
     ]
    }
   ],
   "source": [
    "h=89\n",
    "print(id(h))"
   ]
  },
  {
   "cell_type": "code",
   "execution_count": 72,
   "id": "8b8546ed-4f5a-4b30-b69e-16c7f3b7f066",
   "metadata": {},
   "outputs": [
    {
     "data": {
      "text/plain": [
       "False"
      ]
     },
     "execution_count": 72,
     "metadata": {},
     "output_type": "execute_result"
    }
   ],
   "source": [
    "g is h"
   ]
  },
  {
   "cell_type": "code",
   "execution_count": 74,
   "id": "8c601ce2-ab81-48e6-a3da-9b0aa1291ecd",
   "metadata": {},
   "outputs": [
    {
     "data": {
      "text/plain": [
       "True"
      ]
     },
     "execution_count": 74,
     "metadata": {},
     "output_type": "execute_result"
    }
   ],
   "source": [
    "g is not h"
   ]
  },
  {
   "cell_type": "code",
   "execution_count": 16,
   "id": "68d2e71a-a630-4719-bb6d-feecd7a68103",
   "metadata": {},
   "outputs": [
    {
     "name": "stdout",
     "output_type": "stream",
     "text": [
      "140712556412616\n"
     ]
    }
   ],
   "source": [
    "y=90\n",
    "print (id(y))"
   ]
  },
  {
   "cell_type": "code",
   "execution_count": 17,
   "id": "c8c593c1-f784-4574-8fac-e412b4335c86",
   "metadata": {},
   "outputs": [
    {
     "name": "stdout",
     "output_type": "stream",
     "text": [
      "140712556412232\n"
     ]
    }
   ],
   "source": [
    "s=78\n",
    "print(id(s))"
   ]
  },
  {
   "cell_type": "code",
   "execution_count": 18,
   "id": "5f1837f3-d942-4780-ab55-bbd7c09f827a",
   "metadata": {},
   "outputs": [
    {
     "data": {
      "text/plain": [
       "False"
      ]
     },
     "execution_count": 18,
     "metadata": {},
     "output_type": "execute_result"
    }
   ],
   "source": [
    "y is s"
   ]
  },
  {
   "cell_type": "code",
   "execution_count": 19,
   "id": "3570eb4d-b173-475e-aac8-9937628ae420",
   "metadata": {},
   "outputs": [
    {
     "data": {
      "text/plain": [
       "True"
      ]
     },
     "execution_count": 19,
     "metadata": {},
     "output_type": "execute_result"
    }
   ],
   "source": [
    "y is not s"
   ]
  },
  {
   "cell_type": "code",
   "execution_count": 12,
   "id": "2683f434-1a71-4ce1-b421-9d70852ed4f1",
   "metadata": {},
   "outputs": [
    {
     "name": "stdout",
     "output_type": "stream",
     "text": [
      "True\n",
      "140710282966472\n",
      "140710282966472\n"
     ]
    }
   ],
   "source": [
    "x=18\n",
    "y=18\n",
    "print(x==y)\n",
    "print(id(x))\n",
    "print(id(y))\n"
   ]
  },
  {
   "cell_type": "code",
   "execution_count": 2,
   "id": "a1dc7c13-22a4-4165-8f1f-786dabc92629",
   "metadata": {},
   "outputs": [
    {
     "name": "stdout",
     "output_type": "stream",
     "text": [
      "True\n"
     ]
    }
   ],
   "source": [
    "print(x is y)"
   ]
  },
  {
   "cell_type": "code",
   "execution_count": 3,
   "id": "960354a7-4577-46c3-96ff-6974156dc9fc",
   "metadata": {},
   "outputs": [
    {
     "name": "stdout",
     "output_type": "stream",
     "text": [
      "False\n"
     ]
    }
   ],
   "source": [
    "print(x != y)"
   ]
  },
  {
   "cell_type": "code",
   "execution_count": 11,
   "id": "794edcb2-2eb4-4e4f-8a13-2c030e73e797",
   "metadata": {},
   "outputs": [
    {
     "name": "stdout",
     "output_type": "stream",
     "text": [
      "True\n",
      "1970207903936\n",
      "1970193455360\n"
     ]
    }
   ],
   "source": [
    "list1=[2]\n",
    "list2=[2]\n",
    "print(list1 == list2)\n",
    "print(id(list1))\n",
    "print(id(list2))"
   ]
  },
  {
   "cell_type": "code",
   "execution_count": 7,
   "id": "a96ebabd-0b14-4b8a-a56c-abde4d527b18",
   "metadata": {},
   "outputs": [
    {
     "name": "stdout",
     "output_type": "stream",
     "text": [
      "False\n"
     ]
    }
   ],
   "source": [
    "print(list1 is list2)"
   ]
  },
  {
   "cell_type": "code",
   "execution_count": 14,
   "id": "059d3b3f-540b-4cd8-b7d5-e11326cca794",
   "metadata": {},
   "outputs": [
    {
     "data": {
      "text/plain": [
       "False"
      ]
     },
     "execution_count": 14,
     "metadata": {},
     "output_type": "execute_result"
    }
   ],
   "source": [
    "a=49\n",
    "num_list=[1,2,3]\n",
    "a==num_list"
   ]
  },
  {
   "cell_type": "code",
   "execution_count": 15,
   "id": "e7d16301-f886-4b5a-9936-0c053eef92ac",
   "metadata": {},
   "outputs": [
    {
     "data": {
      "text/plain": [
       "False"
      ]
     },
     "execution_count": 15,
     "metadata": {},
     "output_type": "execute_result"
    }
   ],
   "source": [
    "a is num_list"
   ]
  },
  {
   "cell_type": "code",
   "execution_count": 17,
   "id": "73e98266-bb4e-46da-aec2-ec9b94373f2e",
   "metadata": {},
   "outputs": [
    {
     "data": {
      "text/plain": [
       "False"
      ]
     },
     "execution_count": 17,
     "metadata": {},
     "output_type": "execute_result"
    }
   ],
   "source": [
    "a in num_list      ## membership"
   ]
  },
  {
   "cell_type": "code",
   "execution_count": 19,
   "id": "a60e3a1e-e284-466d-8afb-db9f226a554e",
   "metadata": {},
   "outputs": [
    {
     "ename": "TypeError",
     "evalue": "argument of type 'int' is not iterable",
     "output_type": "error",
     "traceback": [
      "\u001b[1;31m---------------------------------------------------------------------------\u001b[0m",
      "\u001b[1;31mTypeError\u001b[0m                                 Traceback (most recent call last)",
      "Cell \u001b[1;32mIn[19], line 1\u001b[0m\n\u001b[1;32m----> 1\u001b[0m num_list \u001b[38;5;129;01min\u001b[39;00m a\n",
      "\u001b[1;31mTypeError\u001b[0m: argument of type 'int' is not iterable"
     ]
    }
   ],
   "source": [
    "num_list in a"
   ]
  },
  {
   "cell_type": "code",
   "execution_count": 20,
   "id": "e89091aa-6207-4358-aaff-412386c05a24",
   "metadata": {},
   "outputs": [
    {
     "ename": "TypeError",
     "evalue": "argument of type 'int' is not iterable",
     "output_type": "error",
     "traceback": [
      "\u001b[1;31m---------------------------------------------------------------------------\u001b[0m",
      "\u001b[1;31mTypeError\u001b[0m                                 Traceback (most recent call last)",
      "Cell \u001b[1;32mIn[20], line 3\u001b[0m\n\u001b[0;32m      1\u001b[0m a\u001b[38;5;241m=\u001b[39m\u001b[38;5;241m1\u001b[39m\n\u001b[0;32m      2\u001b[0m num_list\u001b[38;5;241m=\u001b[39m[\u001b[38;5;241m1\u001b[39m,\u001b[38;5;241m2\u001b[39m,\u001b[38;5;241m3\u001b[39m]\n\u001b[1;32m----> 3\u001b[0m num_list \u001b[38;5;129;01min\u001b[39;00m a\n",
      "\u001b[1;31mTypeError\u001b[0m: argument of type 'int' is not iterable"
     ]
    }
   ],
   "source": [
    "a=1\n",
    "num_list=[1,2,3]\n",
    "num_list in a"
   ]
  },
  {
   "cell_type": "code",
   "execution_count": 29,
   "id": "65dd5d20-7678-4328-bcfe-256b05ccd779",
   "metadata": {},
   "outputs": [
    {
     "name": "stdout",
     "output_type": "stream",
     "text": [
      "140710282968392\n",
      "140710282968776\n"
     ]
    }
   ],
   "source": [
    "x=78\n",
    "y=90\n",
    "x==y\n",
    "print(id(x))\n",
    "print(id(y))"
   ]
  },
  {
   "cell_type": "code",
   "execution_count": 30,
   "id": "b536baf5-cd8a-48ba-9f5d-a5e3090cc9ae",
   "metadata": {},
   "outputs": [
    {
     "data": {
      "text/plain": [
       "False"
      ]
     },
     "execution_count": 30,
     "metadata": {},
     "output_type": "execute_result"
    }
   ],
   "source": [
    "y==x"
   ]
  },
  {
   "cell_type": "code",
   "execution_count": 31,
   "id": "381a46c2-a087-4e14-8883-d30eb1b15d8e",
   "metadata": {},
   "outputs": [
    {
     "data": {
      "text/plain": [
       "False"
      ]
     },
     "execution_count": 31,
     "metadata": {},
     "output_type": "execute_result"
    }
   ],
   "source": [
    "x is y"
   ]
  },
  {
   "cell_type": "code",
   "execution_count": 32,
   "id": "47e0a103-0daf-41fe-98cb-2175adfd82dc",
   "metadata": {},
   "outputs": [
    {
     "data": {
      "text/plain": [
       "False"
      ]
     },
     "execution_count": 32,
     "metadata": {},
     "output_type": "execute_result"
    }
   ],
   "source": [
    "y is x"
   ]
  },
  {
   "cell_type": "code",
   "execution_count": null,
   "id": "4e488394-3fe3-4f7b-b335-933eccc2aec0",
   "metadata": {},
   "outputs": [],
   "source": []
  },
  {
   "cell_type": "code",
   "execution_count": null,
   "id": "d37a4c2c-3761-44ba-aacd-fe0a6c23c768",
   "metadata": {},
   "outputs": [],
   "source": []
  }
 ],
 "metadata": {
  "kernelspec": {
   "display_name": "Python 3 (ipykernel)",
   "language": "python",
   "name": "python3"
  },
  "language_info": {
   "codemirror_mode": {
    "name": "ipython",
    "version": 3
   },
   "file_extension": ".py",
   "mimetype": "text/x-python",
   "name": "python",
   "nbconvert_exporter": "python",
   "pygments_lexer": "ipython3",
   "version": "3.13.5"
  }
 },
 "nbformat": 4,
 "nbformat_minor": 5
}
