{
 "cells": [
  {
   "cell_type": "markdown",
   "id": "6cca2a68-e3f6-49de-9ede-05586b25a00d",
   "metadata": {},
   "source": [
    "### Tuple -\n",
    "defination : A tuple is an ordered , immutable collection.\n",
    "* allows duplicates \n",
    "* good for fixed records."
   ]
  },
  {
   "cell_type": "markdown",
   "id": "4fa3ed95-6427-441c-ae51-dceba3e9d48d",
   "metadata": {},
   "source": [
    "#### creating tuple-"
   ]
  },
  {
   "cell_type": "code",
   "execution_count": 2,
   "id": "2378517d-df33-4f23-b173-c50c9b823359",
   "metadata": {},
   "outputs": [
    {
     "name": "stdout",
     "output_type": "stream",
     "text": [
      "tuple: (10, 39, 20)\n",
      "single element tuple: (42,)\n"
     ]
    }
   ],
   "source": [
    "t = (10,39,20)\n",
    "single = (42,)\n",
    "print(\"tuple:\",t )\n",
    "print(\"single element tuple:\",single)"
   ]
  },
  {
   "cell_type": "code",
   "execution_count": 3,
   "id": "53489ffb-2458-4a61-b59a-a27e90e86a28",
   "metadata": {},
   "outputs": [
    {
     "name": "stdout",
     "output_type": "stream",
     "text": [
      "<class 'tuple'>\n"
     ]
    }
   ],
   "source": [
    "print(type(t))"
   ]
  },
  {
   "cell_type": "code",
   "execution_count": 5,
   "id": "a07b81c2-97e8-4877-8b10-2dc33593555e",
   "metadata": {},
   "outputs": [
    {
     "name": "stdout",
     "output_type": "stream",
     "text": [
      "<class 'tuple'>\n"
     ]
    }
   ],
   "source": [
    "print(type(single))"
   ]
  },
  {
   "cell_type": "code",
   "execution_count": 7,
   "id": "0c16cc12-e64c-49db-84f1-91186816f941",
   "metadata": {},
   "outputs": [
    {
     "name": "stdout",
     "output_type": "stream",
     "text": [
      "<class 'tuple'>\n"
     ]
    }
   ],
   "source": [
    "t1 = (\"python\",)\n",
    "print(type(t1))"
   ]
  },
  {
   "cell_type": "code",
   "execution_count": 9,
   "id": "f76253a2-153b-4588-bf9f-d5ceb913ae5e",
   "metadata": {},
   "outputs": [
    {
     "name": "stdout",
     "output_type": "stream",
     "text": [
      "(1, 2, 4)\n",
      "<class 'tuple'>\n"
     ]
    }
   ],
   "source": [
    "t2 = 1,2,4\n",
    "print(t2)\n",
    "print(type(t2))"
   ]
  },
  {
   "cell_type": "code",
   "execution_count": 3,
   "id": "7bbddb1f-8c43-4d57-8d4f-00c04fb3727d",
   "metadata": {},
   "outputs": [
    {
     "name": "stdout",
     "output_type": "stream",
     "text": [
      "<class 'tuple'>\n"
     ]
    }
   ],
   "source": [
    "t3 = 1,\n",
    "print(type(t3))"
   ]
  },
  {
   "cell_type": "markdown",
   "id": "0f45ff88-feab-49ec-b193-1391b219f314",
   "metadata": {},
   "source": [
    "## Tuple methods -"
   ]
  },
  {
   "cell_type": "markdown",
   "id": "41a05c6e-d39b-49c5-a116-11de8fa02c5e",
   "metadata": {},
   "source": [
    "len \n",
    " note : len () is a function , not a method."
   ]
  },
  {
   "cell_type": "code",
   "execution_count": 4,
   "id": "bf366e45-e847-4aa0-b87c-8367e7882d60",
   "metadata": {},
   "outputs": [
    {
     "name": "stdout",
     "output_type": "stream",
     "text": [
      "length= 3\n"
     ]
    }
   ],
   "source": [
    "t = (10,20, 30)\n",
    "print(\"length=\", len(t))"
   ]
  },
  {
   "cell_type": "code",
   "execution_count": 2,
   "id": "44d2b09f-93bc-4ab5-858c-01d84be33591",
   "metadata": {},
   "outputs": [
    {
     "name": "stdout",
     "output_type": "stream",
     "text": [
      "3\n"
     ]
    }
   ],
   "source": [
    "print(len(t))"
   ]
  },
  {
   "cell_type": "markdown",
   "id": "2bd35879-6863-47fb-af12-2d93c0fe2460",
   "metadata": {},
   "source": [
    "## tuple .count()"
   ]
  },
  {
   "cell_type": "code",
   "execution_count": 5,
   "id": "7821833a-24e6-4059-af08-68dcae76dc5e",
   "metadata": {},
   "outputs": [
    {
     "data": {
      "text/plain": [
       "2"
      ]
     },
     "execution_count": 5,
     "metadata": {},
     "output_type": "execute_result"
    }
   ],
   "source": [
    "t2 = (\"elon musk\", \"elon musk\", \"nice\")\n",
    "t2.count(\"elon musk\")"
   ]
  },
  {
   "cell_type": "code",
   "execution_count": 5,
   "id": "e0001085-6c9c-4af6-bb36-97bc01be090f",
   "metadata": {},
   "outputs": [
    {
     "data": {
      "text/plain": [
       "2"
      ]
     },
     "execution_count": 5,
     "metadata": {},
     "output_type": "execute_result"
    }
   ],
   "source": [
    "t = (1,2,3,1,2)\n",
    "t.count(2)"
   ]
  },
  {
   "cell_type": "markdown",
   "id": "c49bd9f6-9a98-4a3f-84df-cb265779aa9c",
   "metadata": {},
   "source": [
    "### tuple.index()"
   ]
  },
  {
   "cell_type": "code",
   "execution_count": 22,
   "id": "b4e4a6b4-c1b9-4b5e-a06a-51ea7ffedb76",
   "metadata": {},
   "outputs": [
    {
     "name": "stdout",
     "output_type": "stream",
     "text": [
      "index of 24: 1\n"
     ]
    }
   ],
   "source": [
    "t1 = (23,24,40,30,24)\n",
    "print(\"index of 24:\" ,t1.index(24))"
   ]
  },
  {
   "cell_type": "code",
   "execution_count": 23,
   "id": "f2a7dbf9-87d8-4cdb-806e-1a51be1e521b",
   "metadata": {},
   "outputs": [
    {
     "name": "stdout",
     "output_type": "stream",
     "text": [
      "0\n"
     ]
    }
   ],
   "source": [
    "t2 = (20, 10,30.9, 20)\n",
    "print(t2.index(20))"
   ]
  },
  {
   "cell_type": "markdown",
   "id": "09fa129c-15b5-4092-b612-601c82086188",
   "metadata": {},
   "source": [
    " ### Indexing  and Slicing-"
   ]
  },
  {
   "cell_type": "code",
   "execution_count": 28,
   "id": "0d758a64-6de7-4aa3-92d2-250ff0ce9262",
   "metadata": {},
   "outputs": [
    {
     "name": "stdout",
     "output_type": "stream",
     "text": [
      "t[0] = a\n",
      "d\n",
      "('a', 'b', 'c')\n"
     ]
    }
   ],
   "source": [
    "t = (\"a\", \"b\", \"c\", \"d\")\n",
    "print(\"t[0] =\",t[0])\n",
    "print(t[-1])\n",
    "print(t[0:3])"
   ]
  },
  {
   "cell_type": "code",
   "execution_count": 10,
   "id": "12b6621d-c79e-4bad-9258-b12580876616",
   "metadata": {},
   "outputs": [
    {
     "name": "stdout",
     "output_type": "stream",
     "text": [
      "('sona', 34, 20, 300, 90)\n",
      "(90, 300, 20, 34, 'sona')\n",
      "('sona', 34, 20, 300, 90)\n"
     ]
    }
   ],
   "source": [
    "tuple1= (\"sona\", 34,20,300,90)\n",
    "print(tuple1[0:])\n",
    "print(tuple1[::-1])\n",
    "print(tuple1[0:6])\n"
   ]
  },
  {
   "cell_type": "markdown",
   "id": "4dd56b96-24c1-4da4-bb5d-45c69fe5e7ca",
   "metadata": {},
   "source": [
    " ### Concatenation and repetetion-"
   ]
  },
  {
   "cell_type": "code",
   "execution_count": 1,
   "id": "fe6e76be-8f29-4452-a52f-6a34ff7fc46b",
   "metadata": {},
   "outputs": [
    {
     "name": "stdout",
     "output_type": "stream",
     "text": [
      "t1 + t2: (2, 4, 3, 8)\n",
      "t1 * t2: (2, 4, 2, 4)\n"
     ]
    }
   ],
   "source": [
    "t1 =(2,4)\n",
    "t2= (3,8)\n",
    "print(\"t1 + t2:\", t1 +t2)\n",
    "print(\"t1 * t2:\",t1*2)"
   ]
  },
  {
   "cell_type": "code",
   "execution_count": 32,
   "id": "bc144cea-c0cc-4525-aa7f-a1af75f015be",
   "metadata": {},
   "outputs": [
    {
     "name": "stdout",
     "output_type": "stream",
     "text": [
      "('sona', 'sona')\n"
     ]
    }
   ],
   "source": [
    "t2 = (\"sona\",)\n",
    "print(t2*2)"
   ]
  },
  {
   "cell_type": "code",
   "execution_count": 33,
   "id": "e3c375be-f355-4659-b4c8-ef42de4d4118",
   "metadata": {},
   "outputs": [
    {
     "name": "stdout",
     "output_type": "stream",
     "text": [
      "(30, 10, 30, 10, 30, 10, 30, 10)\n"
     ]
    }
   ],
   "source": [
    "t3= (30, 10)\n",
    "print(t3*4)"
   ]
  },
  {
   "cell_type": "code",
   "execution_count": 1,
   "id": "10667fed-2504-41dd-9abe-4ac193c33b31",
   "metadata": {},
   "outputs": [
    {
     "name": "stdout",
     "output_type": "stream",
     "text": [
      "(23, 23)\n"
     ]
    }
   ],
   "source": [
    "t2 = (23,)\n",
    "print(t2*2)"
   ]
  },
  {
   "cell_type": "code",
   "execution_count": 38,
   "id": "c1d38111-3676-422d-80f4-dfa730f5c721",
   "metadata": {},
   "outputs": [
    {
     "name": "stdout",
     "output_type": "stream",
     "text": [
      "sona sona sona \n"
     ]
    }
   ],
   "source": [
    "t =\"sona \" # string repetetion\n",
    "print(t*3)"
   ]
  },
  {
   "cell_type": "markdown",
   "id": "9f08890f-e20c-4a6f-ab44-01c2df1f6571",
   "metadata": {},
   "source": [
    "### Membership\n",
    "Membership operators : in , not in"
   ]
  },
  {
   "cell_type": "code",
   "execution_count": 56,
   "id": "0ee30771-3082-4a30-b667-3ec14ca06819",
   "metadata": {},
   "outputs": [
    {
     "name": "stdout",
     "output_type": "stream",
     "text": [
      "True\n",
      "False\n",
      "True\n",
      "False\n"
     ]
    }
   ],
   "source": [
    "t = (1,2,3)\n",
    "print(2 in t)\n",
    "print(4 in t)\n",
    "print(10 not in t) \n",
    "print(2 not in t)"
   ]
  },
  {
   "cell_type": "code",
   "execution_count": 3,
   "id": "ece0c2b9-31b6-414e-b3ee-d803c0578c8b",
   "metadata": {},
   "outputs": [
    {
     "name": "stdout",
     "output_type": "stream",
     "text": [
      "False\n",
      "False\n",
      "True\n",
      "True\n",
      "True\n",
      "Elon\n"
     ]
    }
   ],
   "source": [
    "name1 = (\"Elon\", \"sam\")\n",
    "name2 = (\"Elon\", \"sam\",\"steve\", \"Sam\", \"Bill\")\n",
    "print(name1 in name2)\n",
    "print(name2 in name1)\n",
    "print(\"Elon\" in name1)\n",
    "print(\"sam\" in name2)\n",
    "print(name1[0] in name2) \n",
    "print(name1[0])"
   ]
  },
  {
   "cell_type": "code",
   "execution_count": 46,
   "id": "bea1a0d1-d96a-4bc6-9180-02e6dcf0dbd1",
   "metadata": {},
   "outputs": [
    {
     "name": "stdout",
     "output_type": "stream",
     "text": [
      "False\n"
     ]
    }
   ],
   "source": [
    "print(name1 in name2)"
   ]
  },
  {
   "cell_type": "code",
   "execution_count": 47,
   "id": "38889079-657e-4f24-8033-dab0cf96e34c",
   "metadata": {},
   "outputs": [
    {
     "name": "stdout",
     "output_type": "stream",
     "text": [
      "True\n"
     ]
    }
   ],
   "source": [
    "name1 = (\"Elon\", \"sam\")\n",
    "name3 = ((\"Elon\", \"sam\"),\"steve\")\n",
    "print(name1 in name3)"
   ]
  },
  {
   "cell_type": "code",
   "execution_count": 50,
   "id": "774f9de2-5def-4ef3-969f-fede5564c385",
   "metadata": {},
   "outputs": [
    {
     "name": "stdout",
     "output_type": "stream",
     "text": [
      "True\n",
      "False\n"
     ]
    }
   ],
   "source": [
    "print((\"Elon\",\"sam\") in name3) \n",
    "print(\"Elon\" in name3)"
   ]
  },
  {
   "cell_type": "code",
   "execution_count": 57,
   "id": "cfb18f39-125e-4288-b8a9-6018b2608e2a",
   "metadata": {},
   "outputs": [
    {
     "name": "stdout",
     "output_type": "stream",
     "text": [
      "True\n",
      "False\n"
     ]
    }
   ],
   "source": [
    "list1 = [ 12,33, 23,(20,21),22,12]\n",
    "list2 = [ 22 ,33, 12,80 ]\n",
    "print(22 in list1)\n",
    "print(20 in list1)"
   ]
  },
  {
   "cell_type": "code",
   "execution_count": 58,
   "id": "7df1bec0-f428-49b9-9795-525fd40db277",
   "metadata": {},
   "outputs": [
    {
     "name": "stdout",
     "output_type": "stream",
     "text": [
      "False\n"
     ]
    }
   ],
   "source": [
    "list3 = [ 25, 12,33, 23,(20,21),22,12] \n",
    "print(list1 in list3)"
   ]
  },
  {
   "cell_type": "code",
   "execution_count": 59,
   "id": "95a21c5b-ae0b-413f-8381-9cb2359511fd",
   "metadata": {},
   "outputs": [
    {
     "name": "stdout",
     "output_type": "stream",
     "text": [
      "True\n"
     ]
    }
   ],
   "source": [
    "list3 = [ 25,[ 12,33, 23,(20,21),22,12], 100] \n",
    "print(list1 in list3)"
   ]
  },
  {
   "cell_type": "code",
   "execution_count": 61,
   "id": "1101cc24-573a-431e-a23f-070156baf41e",
   "metadata": {},
   "outputs": [
    {
     "name": "stdout",
     "output_type": "stream",
     "text": [
      "[12, 33, 23, (20, 21), 22, 12, 25, [12, 33, 23, (20, 21), 22, 12], 100]\n"
     ]
    }
   ],
   "source": [
    "A = (list1+ list3) \n",
    "print(A)"
   ]
  },
  {
   "cell_type": "code",
   "execution_count": 63,
   "id": "ca1596fa-be76-428a-b93b-3a0f0f3b43be",
   "metadata": {},
   "outputs": [
    {
     "name": "stdout",
     "output_type": "stream",
     "text": [
      "([12, 33, 23, (20, 21), 22, 12], [22, 33, 12, 80])\n"
     ]
    }
   ],
   "source": [
    "b = (list1,list2) \n",
    "print(b)"
   ]
  },
  {
   "cell_type": "code",
   "execution_count": 2,
   "id": "375f1016-217e-4594-9b5d-a511df12b59c",
   "metadata": {},
   "outputs": [
    {
     "name": "stdout",
     "output_type": "stream",
     "text": [
      "([23, 20], [10, 20, 'sona'], (20, 45))\n"
     ]
    }
   ],
   "source": [
    "A = ([23,20], [ 10,20], (20,45))\n",
    "A[1].append(\"sona\")\n",
    "print(A)"
   ]
  }
 ],
 "metadata": {
  "kernelspec": {
   "display_name": "Python [conda env:base] *",
   "language": "python",
   "name": "conda-base-py"
  },
  "language_info": {
   "codemirror_mode": {
    "name": "ipython",
    "version": 3
   },
   "file_extension": ".py",
   "mimetype": "text/x-python",
   "name": "python",
   "nbconvert_exporter": "python",
   "pygments_lexer": "ipython3",
   "version": "3.13.5"
  }
 },
 "nbformat": 4,
 "nbformat_minor": 5
}
