{
 "cells": [
  {
   "cell_type": "markdown",
   "id": "646e5eca-06c4-4084-8726-0a28d1e478d8",
   "metadata": {},
   "source": [
    "##### 1. Mutable \n",
    "\n",
    "##### 2. Immutable"
   ]
  },
  {
   "cell_type": "markdown",
   "id": "0228f821-a41d-48ba-b0c7-828b255cf8b9",
   "metadata": {},
   "source": [
    "1. Mutable/ Unhashable/sequense data types = these datatypes are those datatypes which can be changed but after changing their memory address do not changes.\n",
    " list , set and dictionary (LSD) are mutable datatypes."
   ]
  },
  {
   "cell_type": "markdown",
   "id": "61aeabc9-44bd-4029-8ca3-184924da3718",
   "metadata": {},
   "source": [
    " List = is a mutable datatype, having following characteristics-\n",
    "* list is mutable that is it can be modified replace or deleted without changing memory address.\n",
    "* it contains duplicate items.\n",
    "* list is ordered i.e. the order of the elements is based in such a way that they can be added in some order.\n",
    "* the items of the list can be accessed directly using their index numbers which starts from 0.\n",
    "* list maycontain  mix type of data.\n",
    "* list are denoted by\"[ ]\".\n",
    "* list can contain duplicates that is list can have 2 items with same value.\n",
    "* list is iterable ."
   ]
  },
  {
   "cell_type": "markdown",
   "id": "4e308404-7ae5-4b9f-a3f2-797d93bf5d8b",
   "metadata": {},
   "source": [
    "### Creating a Python list with different datatypes"
   ]
  },
  {
   "cell_type": "markdown",
   "id": "afd6ff77-2a81-4af0-b763-a1109137652e",
   "metadata": {},
   "source": [
    "the list can be created using either the list constructor or using square brackets [].\n",
    "* using list constructor in general, constructor of a class has its name : simillarly create a list by passing the comma seperated values inside the list.\n",
    "* using [] in this method , we can create a list simply by enclosing the items inside the []."
   ]
  },
  {
   "cell_type": "code",
   "execution_count": 60,
   "id": "2abb6dd4-acdf-4c83-94f5-f3a6a7e76e58",
   "metadata": {},
   "outputs": [
    {
     "name": "stdout",
     "output_type": "stream",
     "text": [
      "[29, 'mamta', (25,), [2, 5, 9]]\n"
     ]
    }
   ],
   "source": [
    "list_items= [ 29, \"mamta\" , (25,) , [2,5,9]]\n",
    "print(list_items)"
   ]
  },
  {
   "cell_type": "code",
   "execution_count": 61,
   "id": "2ed63c7d-f37d-46fb-8610-f1605b5eebfa",
   "metadata": {},
   "outputs": [
    {
     "name": "stdout",
     "output_type": "stream",
     "text": [
      "[(20,), (35,), (50,)]\n"
     ]
    }
   ],
   "source": [
    "list_2 = [ (20,) , (35,), (50,)]\n",
    "print(list_2)"
   ]
  },
  {
   "cell_type": "code",
   "execution_count": 62,
   "id": "5e89e9eb-c605-48a5-adbd-825b344550c0",
   "metadata": {},
   "outputs": [
    {
     "name": "stdout",
     "output_type": "stream",
     "text": [
      "['sona', 24, 2.3, (30,), 'kunwar']\n"
     ]
    }
   ],
   "source": [
    "list_3 = [ \"sona\", 24 , 2.3, (30,), \"kunwar\"]\n",
    "print(list_3)"
   ]
  },
  {
   "cell_type": "code",
   "execution_count": 63,
   "id": "01dca35d-f771-40d2-bad6-0013d94640f8",
   "metadata": {},
   "outputs": [
    {
     "name": "stdout",
     "output_type": "stream",
     "text": [
      "[True, 'False', 'Aqsa', 20.2]\n"
     ]
    }
   ],
   "source": [
    "list_4 =[ True , \"False\" , \"Aqsa\" , 20.2]\n",
    "print(list_4)"
   ]
  },
  {
   "cell_type": "code",
   "execution_count": 64,
   "id": "f98d5e37-bb43-4a59-9b7e-7dc3c65babe1",
   "metadata": {},
   "outputs": [
    {
     "name": "stdout",
     "output_type": "stream",
     "text": [
      "['and', 'or', {40, 20, 30}]\n"
     ]
    }
   ],
   "source": [
    "list_5 = [ \"and\", \"or\", {30,20,40 }]\n",
    "print(list_5)"
   ]
  },
  {
   "cell_type": "code",
   "execution_count": 65,
   "id": "527f2735-0f02-4872-92be-27e450645386",
   "metadata": {},
   "outputs": [
    {
     "name": "stdout",
     "output_type": "stream",
     "text": [
      "['sonakunwar', 20, (21,), {10}]\n"
     ]
    }
   ],
   "source": [
    "list_5 = [(\"sonakunwar\") ,20 , (21,), { 10}]\n",
    "print(list_5)"
   ]
  },
  {
   "cell_type": "markdown",
   "id": "04acfed0-c1f2-4646-a066-7aa011af08c2",
   "metadata": {},
   "source": [
    "### Creating A Python list -"
   ]
  },
  {
   "cell_type": "code",
   "execution_count": 66,
   "id": "98c253dc-3d9d-49cb-b0dd-74fb1e17346c",
   "metadata": {},
   "outputs": [],
   "source": [
    "list1 = [1, 7,90]\n",
    "list_2=  [\"A\",\"q\",\"s\" ,\"a\"]\n",
    "tuple1 = ( 1, 6, 8, 90)\n",
    "set1 = {2, 7,90,67}\n",
    "str1 = \"aditya\" "
   ]
  },
  {
   "cell_type": "code",
   "execution_count": 67,
   "id": "526e60cd-aa8f-40a6-bda4-cd258efe11c5",
   "metadata": {},
   "outputs": [
    {
     "ename": "TypeError",
     "evalue": "'list' object is not callable",
     "output_type": "error",
     "traceback": [
      "\u001b[1;31m---------------------------------------------------------------------------\u001b[0m",
      "\u001b[1;31mTypeError\u001b[0m                                 Traceback (most recent call last)",
      "Cell \u001b[1;32mIn[67], line 1\u001b[0m\n\u001b[1;32m----> 1\u001b[0m list1 \u001b[38;5;241m=\u001b[39m \u001b[38;5;28mlist\u001b[39m(tuple1)\n\u001b[0;32m      2\u001b[0m \u001b[38;5;28mprint\u001b[39m(list1)\n",
      "\u001b[1;31mTypeError\u001b[0m: 'list' object is not callable"
     ]
    }
   ],
   "source": [
    "list1 = list(tuple1)\n",
    "print(list1) "
   ]
  },
  {
   "cell_type": "code",
   "execution_count": null,
   "id": "1ddcef92-4396-45c8-81d4-c413ac051450",
   "metadata": {},
   "outputs": [],
   "source": [
    "name1 = str(list_2)\n",
    "print(name1)"
   ]
  },
  {
   "cell_type": "code",
   "execution_count": null,
   "id": "596b5ed4-0ae3-4dbf-a7f1-8d4bdd1b8226",
   "metadata": {},
   "outputs": [],
   "source": [
    "str_name = \"kavita\"\n",
    "list1 =list(str_name) #type casting\n",
    "print(list1)"
   ]
  },
  {
   "cell_type": "code",
   "execution_count": null,
   "id": "e31c6411-63f8-410e-908d-9aad45ca5611",
   "metadata": {},
   "outputs": [],
   "source": [
    "list1 = list(str1)\n",
    "print(list1)"
   ]
  },
  {
   "cell_type": "code",
   "execution_count": null,
   "id": "9278995e-4de0-493f-9534-f14a8b6a5f50",
   "metadata": {},
   "outputs": [],
   "source": [
    "tuple1 = tuple(str1)\n",
    "print(tuple1) \n"
   ]
  },
  {
   "cell_type": "code",
   "execution_count": null,
   "id": "7fa762ff-adca-43c5-a7de-7d00f24a27d3",
   "metadata": {},
   "outputs": [],
   "source": [
    "tuple(str1)"
   ]
  },
  {
   "cell_type": "code",
   "execution_count": null,
   "id": "8de08c91-1e17-43f2-bdaa-2f95b40dbec8",
   "metadata": {},
   "outputs": [],
   "source": [
    "list1 = list(str1)\n",
    "print(list1)"
   ]
  },
  {
   "cell_type": "code",
   "execution_count": null,
   "id": "1014d765-1777-415e-8020-11dfa68f665a",
   "metadata": {},
   "outputs": [],
   "source": [
    "set1 = set(str1)\n",
    "print(set1)"
   ]
  },
  {
   "cell_type": "code",
   "execution_count": null,
   "id": "1540a0af-0b09-4f29-ab18-2287abb35148",
   "metadata": {},
   "outputs": [],
   "source": [
    "list_mix = [21 ,\"kavita\",35.6, {29,27}]\n",
    "print(len(list_mix))"
   ]
  },
  {
   "cell_type": "code",
   "execution_count": null,
   "id": "16997ddc-a75d-4775-9a55-967400e8835f",
   "metadata": {},
   "outputs": [],
   "source": [
    "name = \"sona\"\n",
    "set_1 = { 1, 20 , 393, 29.9 }\n",
    "list = [ 3, 24, 29 , \"sona\"]"
   ]
  },
  {
   "cell_type": "code",
   "execution_count": null,
   "id": "56d9a742-24f7-4c99-900a-5c6bf4bcd035",
   "metadata": {},
   "outputs": [],
   "source": [
    "name = \"sona\"\n",
    "set_1 = { 1, 20 , 393, 29.9 }\n",
    "list = [ 3, 24, 29 , \"sona\"]\n",
    "set_2 = set(name)\n",
    "print(set_2)"
   ]
  },
  {
   "cell_type": "markdown",
   "id": "6b192b20-b738-4930-96ab-292dac2ae7d9",
   "metadata": {},
   "source": [
    "### Indexing-"
   ]
  },
  {
   "cell_type": "markdown",
   "id": "dcc61951-c0c9-4bc0-bdfd-bf189fe7790e",
   "metadata": {},
   "source": [
    "list is ordered how: accessing items of a list(idexing shows the properrty of list being ordered)\n",
    "* The items in a list can be accessed through indexing and slicing. this section will guide you by accessing the list using the following two ways\n",
    "* using indexing, we can access any items from a list using its index no.\n",
    "* using slicing we can access a range of items from a list."
   ]
  },
  {
   "cell_type": "code",
   "execution_count": null,
   "id": "f6ea5635-1d98-429c-81ea-06de5192a729",
   "metadata": {},
   "outputs": [],
   "source": [
    "list_1 = [20, 49, \"aditya\" , 34.9 ]\n",
    "print(list_1[2])"
   ]
  },
  {
   "cell_type": "code",
   "execution_count": null,
   "id": "6680a179-293d-4bb7-b71a-6122be53621f",
   "metadata": {},
   "outputs": [],
   "source": [
    "list_1 = [20, 49, \"aditya\" , 34.9,50 ,40.2 ,62 ]\n",
    "print(len(list_1))\n",
    "\n",
    "print(list_1[-1]) \n",
    "print(list_1[-7]) \n",
    "print(list_1[-6]) \n",
    "print(len(list_1) +2)\n",
    "print(len(list_1) +5) \n",
    "print(len(list_1) *2) \n",
    "print(list_1[3:]) \n",
    "print(list_1[0:])\n",
    "print(list_1[::-1])\n",
    "print(list_1[2:10]) \n",
    "len(list_1)"
   ]
  },
  {
   "cell_type": "code",
   "execution_count": null,
   "id": "9be4fbc8-3728-4035-99c0-2f00ce9978c8",
   "metadata": {},
   "outputs": [],
   "source": [
    "list_2 = [20, 49,190, 'sona' , 34.9 ,50 ,(40.2 ,62) , 59, 40 ] \n",
    "print(list_2[2:10]) \n",
    "print(list_2[2:7:4])\n",
    "print(list_2[1: 8: 3])\n",
    "print(list_2[0:9:2]) \n",
    "print(list_2[-1:-9:-2])\n",
    "print(list_2[-2:-8:-3]) \n",
    "print(list_2[ 0: 5: 2])\n",
    "print(list_2[::-1])"
   ]
  },
  {
   "cell_type": "code",
   "execution_count": null,
   "id": "17b73ec5-87ae-4b12-9fd1-12dca132bf2e",
   "metadata": {},
   "outputs": [],
   "source": [
    "list_a = [23,34,395,593,109,395,400,\"aqsa\", \"aditya\"]\n",
    "print(list_a[1:4])\n",
    "print(list_a.count(395))"
   ]
  },
  {
   "cell_type": "code",
   "execution_count": null,
   "id": "2a960cea-675c-42c9-8333-28b80d2d76fe",
   "metadata": {},
   "outputs": [],
   "source": [
    "set2 ={ 24,49,(23,42,33),20}\n",
    "print(type(set2))"
   ]
  },
  {
   "cell_type": "code",
   "execution_count": null,
   "id": "0512cf79-aa73-4ff1-92c5-608b05df56e4",
   "metadata": {},
   "outputs": [],
   "source": [
    "tuple4 = ( \"anna\",\"sona\",(23,),(34,50),40)\n",
    "print(type(tuple4))"
   ]
  },
  {
   "cell_type": "code",
   "execution_count": null,
   "id": "672762cc-8311-4046-bdb7-9e3abdc50c95",
   "metadata": {},
   "outputs": [],
   "source": [
    "string_2 =\"Aqsa\"\n",
    "print(type(string_2))\n"
   ]
  },
  {
   "cell_type": "code",
   "execution_count": null,
   "id": "6911841b-7aef-4c78-9a5b-d63df5dbb646",
   "metadata": {},
   "outputs": [],
   "source": [
    "list_3 = [23,34,395,593,109,395,400,\"aqsa\", \"aditya\"]\n",
    "print(type(list_3) )"
   ]
  },
  {
   "cell_type": "code",
   "execution_count": null,
   "id": "e590b537-7e08-4f40-b01d-6ac8c84de28f",
   "metadata": {},
   "outputs": [],
   "source": [
    "list2 =[23,34,395,593,109,395,400]\n",
    "list2 = list(string_2)\n",
    "print(list2)"
   ]
  },
  {
   "cell_type": "code",
   "execution_count": null,
   "id": "b05a9113-c8fd-4bce-a939-ba8cf91f0b2c",
   "metadata": {},
   "outputs": [],
   "source": [
    "list_b =[23,34,395,593,109,395,400]\n",
    "print(len(list_b))"
   ]
  },
  {
   "cell_type": "code",
   "execution_count": null,
   "id": "350cd9a8-06b1-41b4-a625-134ba7ec2bde",
   "metadata": {},
   "outputs": [],
   "source": [
    "list_s = [ 23,43, 45, 90, 29, 90, 20, 45,23]\n",
    "print(list_s[0:10])  # to get each and every item of the list\n",
    "print(list_s[:])\n",
    "print(list_s[0:])\n",
    "print(list_s[::-1]) #reversing the list "
   ]
  },
  {
   "cell_type": "markdown",
   "id": "7ab39511-eac3-467f-b332-663d1dc8a10e",
   "metadata": {},
   "source": [
    "### Iterating a list-"
   ]
  },
  {
   "cell_type": "markdown",
   "id": "fab3c97a-2811-4d4a-bc11-d22770ce2ff0",
   "metadata": {},
   "source": [
    "the object in the list can be itererted over one by one by using a for loop."
   ]
  },
  {
   "cell_type": "code",
   "execution_count": 116,
   "id": "2bfae139-3b59-4388-b6da-389f3937d052",
   "metadata": {},
   "outputs": [
    {
     "name": "stdout",
     "output_type": "stream",
     "text": [
      "[23, 4, 'Geoffrey Hinton', 90.4, 'Sam Altman']\n",
      "23\n",
      "4\n",
      "Geoffrey Hinton\n",
      "90.4\n",
      "Sam Altman\n"
     ]
    }
   ],
   "source": [
    "list1 = [ 23,4, \"Geoffrey Hinton\", 90.4 ,\"Sam Altman\" ]\n",
    "print(list1) #without iteration\n",
    "#iterate a list \n",
    "for i in list1 :\n",
    "    print (i)"
   ]
  },
  {
   "cell_type": "code",
   "execution_count": 117,
   "id": "79b14b07-e518-4875-b013-e6ab06ec8650",
   "metadata": {},
   "outputs": [
    {
     "name": "stdout",
     "output_type": "stream",
     "text": [
      "23\n",
      "34\n",
      "395\n",
      "400\n",
      "aqsa\n"
     ]
    }
   ],
   "source": [
    "my_list = [23,34,395,400,\"aqsa\"]\n",
    "for i in my_list :\n",
    "    print(i)"
   ]
  },
  {
   "cell_type": "code",
   "execution_count": 118,
   "id": "3519e41e-05fb-491f-9d3c-77daa6f84606",
   "metadata": {},
   "outputs": [
    {
     "name": "stdout",
     "output_type": "stream",
     "text": [
      "<class 'int'>\n",
      "123\n",
      "<class 'int'>\n",
      "234\n",
      "<class 'int'>\n",
      "100\n",
      "<class 'str'>\n",
      "354\n",
      "<class 'float'>\n",
      "15.5\n",
      "<class 'int'>\n",
      "243\n",
      "<class 'int'>\n",
      "123\n",
      "<class 'int'>\n",
      "100\n"
     ]
    }
   ],
   "source": [
    "list2= [123,234,100,\"354\",15.5, 243,123, 100]\n",
    "for i in list2:\n",
    "    print(type(i)) \n",
    "    print(i)"
   ]
  },
  {
   "cell_type": "code",
   "execution_count": 119,
   "id": "61d95c61-f6b9-4413-beb0-9fbdd3552865",
   "metadata": {},
   "outputs": [
    {
     "name": "stdout",
     "output_type": "stream",
     "text": [
      "123\n",
      "234\n",
      "100\n",
      "354\n",
      "15.5\n",
      "243\n",
      "123\n",
      "100\n"
     ]
    }
   ],
   "source": [
    "for a in list2:\n",
    "    print(a)"
   ]
  },
  {
   "cell_type": "markdown",
   "id": "0b9cbef4-3514-4080-bd50-b32039f28245",
   "metadata": {},
   "source": [
    "### Adding Elements to the list -"
   ]
  },
  {
   "cell_type": "markdown",
   "id": "e4ceb1d8-0e2a-45d5-adde-83ed77c483de",
   "metadata": {},
   "source": [
    "* append takes only 1 argument.\n",
    "* insert takes 2 arguments .\n",
    "* 'int' object is not iterable for extend."
   ]
  },
  {
   "cell_type": "code",
   "execution_count": 120,
   "id": "a489176c-ff88-4692-9b82-65dc4f44d8b6",
   "metadata": {},
   "outputs": [
    {
     "name": "stdout",
     "output_type": "stream",
     "text": [
      "2150936659392\n"
     ]
    }
   ],
   "source": [
    "list2 =[ 34,25,23,\"Nisha\",34]\n",
    "print(id(list2))"
   ]
  },
  {
   "cell_type": "code",
   "execution_count": 121,
   "id": "73f6b46a-c85a-4b9a-b6f6-4485c1270fba",
   "metadata": {},
   "outputs": [
    {
     "name": "stdout",
     "output_type": "stream",
     "text": [
      "2150936582720\n"
     ]
    }
   ],
   "source": [
    "list_3=[ 34,25,23,\"Nisha\"]\n",
    "print(id(list_3))"
   ]
  },
  {
   "cell_type": "code",
   "execution_count": 122,
   "id": "831bddad-f20b-41dd-a0a5-2cee17deaeb1",
   "metadata": {},
   "outputs": [
    {
     "name": "stdout",
     "output_type": "stream",
     "text": [
      "2150936264000\n"
     ]
    }
   ],
   "source": [
    "list1=[1, 34,25,23,\"Nisha\",34]\n",
    "print(id(list1))"
   ]
  },
  {
   "cell_type": "code",
   "execution_count": 123,
   "id": "cd360306-dfae-4b8d-8168-4113a01d2b20",
   "metadata": {},
   "outputs": [
    {
     "name": "stdout",
     "output_type": "stream",
     "text": [
      "2150936501888\n"
     ]
    }
   ],
   "source": [
    "list1=[1, 34,25,23,\"Nisha\",34] \n",
    "\n",
    "print(id(list1))"
   ]
  },
  {
   "cell_type": "code",
   "execution_count": 124,
   "id": "87c2b17f-514d-4183-a3d0-d0d45579bd1b",
   "metadata": {},
   "outputs": [
    {
     "name": "stdout",
     "output_type": "stream",
     "text": [
      "[1, 34, 25, 23, 'Nisha', 34, 20]\n",
      "2150936501888\n"
     ]
    }
   ],
   "source": [
    "list1.append(20)\n",
    "print(list1)\n",
    "print(id(list1))"
   ]
  },
  {
   "cell_type": "code",
   "execution_count": 125,
   "id": "c46bc63a-9e37-471b-8a15-620effa9eb33",
   "metadata": {},
   "outputs": [
    {
     "name": "stdout",
     "output_type": "stream",
     "text": [
      "[1, 34, 5, 25, 23, 'Nisha', 34, 20]\n"
     ]
    }
   ],
   "source": [
    "list1.insert(2,5)\n",
    "print(list1)"
   ]
  },
  {
   "cell_type": "code",
   "execution_count": 126,
   "id": "d58f40bf-4609-4318-af06-87c5186274f2",
   "metadata": {},
   "outputs": [
    {
     "name": "stdout",
     "output_type": "stream",
     "text": [
      "[1, 34, 5, 25, 23, 'Nisha', 34, 20, 'sona']\n"
     ]
    }
   ],
   "source": [
    "list1.append(\"sona\") # append takes only 1 argument\n",
    "print(list1)"
   ]
  },
  {
   "cell_type": "code",
   "execution_count": 127,
   "id": "83a447b8-fcd1-4ac0-96a3-820793ae71ca",
   "metadata": {},
   "outputs": [
    {
     "name": "stdout",
     "output_type": "stream",
     "text": [
      "[21, 1, 34, 5, 25, 23, 'Nisha', 34, 20, 'sona']\n"
     ]
    }
   ],
   "source": [
    "list1.insert( 0,21) # insert takes 2 arguments \n",
    "print(list1)"
   ]
  },
  {
   "cell_type": "code",
   "execution_count": 128,
   "id": "f4aced6a-f406-4915-826a-c4d380d25f57",
   "metadata": {},
   "outputs": [
    {
     "name": "stdout",
     "output_type": "stream",
     "text": [
      "[[20, 23], 21, 1, 34, 5, 25, 23, 'Nisha', 34, 20, 'sona']\n"
     ]
    }
   ],
   "source": [
    "list1.insert( 0,[20,23])\n",
    "print(list1)"
   ]
  },
  {
   "cell_type": "code",
   "execution_count": 129,
   "id": "5767fc60-8d2d-46d0-9d88-94f27ba620a5",
   "metadata": {},
   "outputs": [
    {
     "name": "stdout",
     "output_type": "stream",
     "text": [
      "[1, 34, 25, 23, 'Nisha', 34, 29]\n"
     ]
    }
   ],
   "source": [
    "list1= [1, 34,25,23,\"Nisha\", 34 ] \n",
    "list1.insert(7,29)\n",
    "print(list1)"
   ]
  },
  {
   "cell_type": "code",
   "execution_count": 130,
   "id": "5d57fbdf-a2e2-47b6-aa54-61cb48b65d0a",
   "metadata": {},
   "outputs": [
    {
     "name": "stdout",
     "output_type": "stream",
     "text": [
      "[1, 34, 25, 23, 'Nisha', 29, 34]\n"
     ]
    }
   ],
   "source": [
    "list1= [1, 34,25,23,\"Nisha\", 34] \n",
    "list1.insert(-1,29)\n",
    "print(list1)"
   ]
  },
  {
   "cell_type": "code",
   "execution_count": 131,
   "id": "7670e17e-60a0-4aa6-9733-85ab5c4e4952",
   "metadata": {},
   "outputs": [
    {
     "name": "stdout",
     "output_type": "stream",
     "text": [
      "['sona', 20, 'aqsa', 'komal', 'anjali', 'A', 'q', 's', 'a']\n"
     ]
    }
   ],
   "source": [
    "list1= [\"sona\", 20, \"aqsa\", \"komal\", \"anjali\"] \n",
    "list1.extend(\"Aqsa\")\n",
    "print(list1)"
   ]
  },
  {
   "cell_type": "code",
   "execution_count": 132,
   "id": "0c1ce1dc-7777-4a21-a1a8-55f12ad705f0",
   "metadata": {},
   "outputs": [
    {
     "name": "stdout",
     "output_type": "stream",
     "text": [
      "['neha', 'sona', 'suman', 'sun', 's', 'u', 'n']\n"
     ]
    }
   ],
   "source": [
    "list_1=[\"neha\", \"sona\", \"suman\", \"sun\"]\n",
    "list_1.extend(\"sun\")\n",
    "print(list_1)"
   ]
  },
  {
   "cell_type": "code",
   "execution_count": 133,
   "id": "1cec8321-e08d-473d-b47c-51fa180dd277",
   "metadata": {},
   "outputs": [
    {
     "name": "stdout",
     "output_type": "stream",
     "text": [
      "['sona', 20, 'aqsa', 'komal', 'anjali', 30]\n"
     ]
    }
   ],
   "source": [
    "list_1= [\"sona\", 20, \"aqsa\", \"komal\", \"anjali\"]\n",
    "list_1.append(30)\n",
    "print(list_1)"
   ]
  },
  {
   "cell_type": "code",
   "execution_count": 134,
   "id": "865eae7c-c0c7-4a6a-99a0-543b31d87b5c",
   "metadata": {},
   "outputs": [
    {
     "name": "stdout",
     "output_type": "stream",
     "text": [
      "['sona', 20, 'aqsa', 'komal', 'anjali', 40, 30]\n"
     ]
    }
   ],
   "source": [
    "list_1.insert(-1,40)\n",
    "print(list_1)"
   ]
  },
  {
   "cell_type": "code",
   "execution_count": 135,
   "id": "0d6808f1-e263-4bb6-a5c4-6191feb2b63e",
   "metadata": {},
   "outputs": [
    {
     "name": "stdout",
     "output_type": "stream",
     "text": [
      "['sona', 20, 'aqsa', 'komal', 'anjali', 40, 30, 100]\n"
     ]
    }
   ],
   "source": [
    "list_1.insert(len(list_1),100)\n",
    "print(list_1)"
   ]
  },
  {
   "cell_type": "code",
   "execution_count": 136,
   "id": "de0312c4-2f01-4072-ae69-0e9759f93d3f",
   "metadata": {},
   "outputs": [
    {
     "name": "stdout",
     "output_type": "stream",
     "text": [
      "['sona', 20, 'aqsa', 'komal', 'anjali', 40, 30, 100, '2', '0']\n"
     ]
    }
   ],
   "source": [
    "list_1.extend(\"20\")\n",
    "print(list_1)"
   ]
  },
  {
   "cell_type": "code",
   "execution_count": 137,
   "id": "d97bbed5-2793-4627-886e-85c5a9673d21",
   "metadata": {},
   "outputs": [
    {
     "name": "stdout",
     "output_type": "stream",
     "text": [
      "None\n"
     ]
    }
   ],
   "source": [
    "list_1= [\"sona\", 20, \"aqsa\", \"komal\", \"anjali\"]\n",
    "list2 = list_1.append(25)\n",
    "print(list2) "
   ]
  },
  {
   "cell_type": "code",
   "execution_count": 138,
   "id": "d0f4e9f8-2f59-4951-bbab-a8b53aeff4d7",
   "metadata": {},
   "outputs": [
    {
     "name": "stdout",
     "output_type": "stream",
     "text": [
      "None\n"
     ]
    }
   ],
   "source": [
    "list_1 = [\"sona\", 20, \"aqsa\", \"komal\", 25,30,\"anjali\"]\n",
    "list2 = list_1.insert(0,30)\n",
    "print(list2)"
   ]
  },
  {
   "cell_type": "code",
   "execution_count": 139,
   "id": "ce01caad-b4ea-4e47-a2dc-948dc2c4131d",
   "metadata": {},
   "outputs": [
    {
     "name": "stdout",
     "output_type": "stream",
     "text": [
      "[30, 'sona', 30, 20, 'aqsa', 'komal', 25, 30, 'anjali']\n"
     ]
    }
   ],
   "source": [
    "list_1.insert(2,30)\n",
    "print(list_1)"
   ]
  },
  {
   "cell_type": "code",
   "execution_count": 140,
   "id": "3a8ab839-b7ad-4371-8f26-1bd932798f8b",
   "metadata": {},
   "outputs": [
    {
     "name": "stdout",
     "output_type": "stream",
     "text": [
      "['sona', 26, 20, 35, 'Aqsa']\n"
     ]
    }
   ],
   "source": [
    "list_a = [\"sona\",26,35,\"Aqsa\"]\n",
    "list_a.insert(2,20)\n",
    "print(list_a) "
   ]
  },
  {
   "cell_type": "code",
   "execution_count": 141,
   "id": "51479b9c-560e-4d71-812c-ec3a0fd59f48",
   "metadata": {},
   "outputs": [
    {
     "name": "stdout",
     "output_type": "stream",
     "text": [
      "[2, 25, 300, 29]\n"
     ]
    }
   ],
   "source": [
    "list_1 =[2 ,25,31,29]\n",
    "list_1[2] = 300\n",
    "print(list_1)"
   ]
  },
  {
   "cell_type": "code",
   "execution_count": 142,
   "id": "1601260b-a8c3-498a-8d5a-af3a53dc1ccc",
   "metadata": {},
   "outputs": [
    {
     "name": "stdout",
     "output_type": "stream",
     "text": [
      "22530029"
     ]
    }
   ],
   "source": [
    " #\n",
    "for i in (list_1):\n",
    "    print(i,end=\"\")"
   ]
  },
  {
   "cell_type": "markdown",
   "id": "6118d93e-90a8-4eb7-b640-317aa63fe18f",
   "metadata": {},
   "source": [
    "## Modifing the item of a list"
   ]
  },
  {
   "cell_type": "code",
   "execution_count": 143,
   "id": "54f844de-8407-4623-b8c8-e0b36f74adc1",
   "metadata": {},
   "outputs": [
    {
     "name": "stdout",
     "output_type": "stream",
     "text": [
      "[24, 45, 30, 20, 92]\n"
     ]
    }
   ],
   "source": [
    "list_a = [24,45,30,50,92]\n",
    "list_a[3] = 20\n",
    "print(list_a)"
   ]
  },
  {
   "cell_type": "code",
   "execution_count": 151,
   "id": "e2691788-3e6f-489a-aeb4-b80bfbc17e32",
   "metadata": {},
   "outputs": [
    {
     "name": "stdout",
     "output_type": "stream",
     "text": [
      "[30, 20, 30, 45, 35]\n"
     ]
    }
   ],
   "source": [
    "list_a[4] = 35\n",
    "print(list_a)"
   ]
  },
  {
   "cell_type": "code",
   "execution_count": 152,
   "id": "3cabc939-bd5e-456c-82dc-6b4e92e38c5d",
   "metadata": {},
   "outputs": [
    {
     "name": "stdout",
     "output_type": "stream",
     "text": [
      "[30, 20, 30, 45, 10]\n"
     ]
    }
   ],
   "source": [
    "list_a[-1] = 10\n",
    "print(list_a)"
   ]
  },
  {
   "cell_type": "code",
   "execution_count": 153,
   "id": "2991ea74-fb2b-4897-8fde-99d31d3b51df",
   "metadata": {},
   "outputs": [
    {
     "name": "stdout",
     "output_type": "stream",
     "text": [
      "[30, 20, 30, 45, 30]\n"
     ]
    }
   ],
   "source": [
    "list_a[-1]= 30\n",
    "print(list_a)"
   ]
  },
  {
   "cell_type": "code",
   "execution_count": 154,
   "id": "b2a080d5-de0c-4282-941d-505b58b848b5",
   "metadata": {},
   "outputs": [
    {
     "name": "stdout",
     "output_type": "stream",
     "text": [
      "[30, 45, 30, 20, 30]\n"
     ]
    }
   ],
   "source": [
    "list_a.reverse()\n",
    "print(list_a)"
   ]
  },
  {
   "cell_type": "code",
   "execution_count": 155,
   "id": "ab6bdeb2-d51e-4436-aaaf-b3e9179d6a70",
   "metadata": {},
   "outputs": [
    {
     "name": "stdout",
     "output_type": "stream",
     "text": [
      "[30, 45, 30, 20, 30]\n"
     ]
    }
   ],
   "source": [
    "\n",
    "list_a[::-1]\n",
    "print(list_a)"
   ]
  },
  {
   "cell_type": "code",
   "execution_count": 156,
   "id": "6e1de907-1cd1-4d33-96a0-b91a37693880",
   "metadata": {},
   "outputs": [
    {
     "name": "stdout",
     "output_type": "stream",
     "text": [
      "[24, 45, 30, 50, 92, 24]\n"
     ]
    }
   ],
   "source": [
    "list_1= [24,45,30,50,92]\n",
    "list_1.extend([24])\n",
    "print(list_1)"
   ]
  },
  {
   "cell_type": "code",
   "execution_count": 157,
   "id": "37dfd985-8547-4d66-944b-be2fda03b857",
   "metadata": {},
   "outputs": [
    {
     "ename": "TypeError",
     "evalue": "'int' object is not iterable",
     "output_type": "error",
     "traceback": [
      "\u001b[1;31m---------------------------------------------------------------------------\u001b[0m",
      "\u001b[1;31mTypeError\u001b[0m                                 Traceback (most recent call last)",
      "Cell \u001b[1;32mIn[157], line 1\u001b[0m\n\u001b[1;32m----> 1\u001b[0m list_1\u001b[38;5;241m.\u001b[39mextend(\u001b[38;5;241m24\u001b[39m)\n\u001b[0;32m      2\u001b[0m \u001b[38;5;28mprint\u001b[39m(list_1)\n",
      "\u001b[1;31mTypeError\u001b[0m: 'int' object is not iterable"
     ]
    }
   ],
   "source": [
    "list_1.extend(24)\n",
    "print(list_1) # these works for iterable datatypes - set, list, string"
   ]
  },
  {
   "cell_type": "code",
   "execution_count": 158,
   "id": "a6d274a3-3319-4235-99d3-6381551e328c",
   "metadata": {},
   "outputs": [
    {
     "name": "stdout",
     "output_type": "stream",
     "text": [
      "[24, 45, 30, 50, 92, 24, '2', '4']\n"
     ]
    }
   ],
   "source": [
    "list_1.extend(\"24\")\n",
    "print(list_1)"
   ]
  },
  {
   "cell_type": "code",
   "execution_count": 159,
   "id": "1e8957d1-02c8-429c-a39d-84c55c1cf4e9",
   "metadata": {},
   "outputs": [
    {
     "name": "stdout",
     "output_type": "stream",
     "text": [
      "[24, 45, 30, 50, 92, 24]\n"
     ]
    }
   ],
   "source": [
    "list_1= [24,45,30,50,92]\n",
    "list_1.extend({24})\n",
    "print(list_1)"
   ]
  },
  {
   "cell_type": "code",
   "execution_count": 160,
   "id": "1aba3140-ab2e-4312-b90d-9183a0f1f137",
   "metadata": {},
   "outputs": [
    {
     "name": "stdout",
     "output_type": "stream",
     "text": [
      "[24, 45, 30, 50, 92, 24, 'sona']\n"
     ]
    }
   ],
   "source": [
    "list_1.append(\"sona\")\n",
    "print(list_1)"
   ]
  },
  {
   "cell_type": "code",
   "execution_count": 161,
   "id": "1ec85424-91f7-488a-b310-3ca38656aa74",
   "metadata": {},
   "outputs": [
    {
     "name": "stdout",
     "output_type": "stream",
     "text": [
      "[24, 45, 30, 50, 92, 24, 'sona', [24]]\n"
     ]
    }
   ],
   "source": [
    "list_1.append([24])\n",
    "print(list_1)"
   ]
  },
  {
   "cell_type": "code",
   "execution_count": 162,
   "id": "7318ec97-f760-43a6-8ee3-a216c0f3d634",
   "metadata": {},
   "outputs": [
    {
     "name": "stdout",
     "output_type": "stream",
     "text": [
      "[24, 45, 30, 50, 92, 24, 'sona', [24], (24, 20)]\n"
     ]
    }
   ],
   "source": [
    "list_1.append((24,20))\n",
    "print(list_1)"
   ]
  },
  {
   "cell_type": "code",
   "execution_count": 163,
   "id": "c035bef9-25e6-4651-9c58-4a82a18fdf48",
   "metadata": {},
   "outputs": [
    {
     "name": "stdout",
     "output_type": "stream",
     "text": [
      "[24, 45, 30, 50, 92, 24, 'sona', [24], (24, 20), {300}]\n"
     ]
    }
   ],
   "source": [
    "list_1.append({300})\n",
    "print(list_1)"
   ]
  },
  {
   "cell_type": "markdown",
   "id": "028972e9-ec8e-4520-b8a6-edb124af2c26",
   "metadata": {},
   "source": [
    "#### Removing elements from a list-"
   ]
  },
  {
   "cell_type": "markdown",
   "id": "67e296db-b1e6-4443-bd24-34520077e91b",
   "metadata": {},
   "source": [
    "* remove(item ) = to remove 1st occurence of item from the list.\n",
    "* pop(index) = removes and returns the items at given index from the list\n",
    "* clear() = to remove all items from list. the output will be an empty list.\n",
    "* del list_name = delete the entire list."
   ]
  },
  {
   "cell_type": "code",
   "execution_count": 2,
   "id": "aef3afcd-b128-45d5-aa2a-6496062371a1",
   "metadata": {},
   "outputs": [
    {
     "name": "stdout",
     "output_type": "stream",
     "text": [
      "[24, 30, 50, 'Aditya', 100]\n"
     ]
    }
   ],
   "source": [
    "list_a = [24,45,30,50,\"Aditya\",100]\n",
    "list_a.remove(45)\n",
    "print(list_a)"
   ]
  },
  {
   "cell_type": "code",
   "execution_count": 165,
   "id": "b74ec9db-4160-491b-b32a-72a3cde88b54",
   "metadata": {},
   "outputs": [
    {
     "name": "stdout",
     "output_type": "stream",
     "text": [
      "[24, 30, 'Aditya', 100]\n"
     ]
    }
   ],
   "source": [
    "list_a.pop(2)\n",
    "print(list_a)"
   ]
  },
  {
   "cell_type": "code",
   "execution_count": 3,
   "id": "6c556504-8e8f-4e04-ab56-3b8a7bc93384",
   "metadata": {},
   "outputs": [
    {
     "name": "stdout",
     "output_type": "stream",
     "text": [
      "[]\n"
     ]
    }
   ],
   "source": [
    "list_a.clear()\n",
    "print(list_a)"
   ]
  },
  {
   "cell_type": "code",
   "execution_count": 4,
   "id": "ff4d0a72-4066-4c71-8058-9f9e8b97b541",
   "metadata": {},
   "outputs": [
    {
     "ename": "NameError",
     "evalue": "name 'list_a' is not defined",
     "output_type": "error",
     "traceback": [
      "\u001b[1;31m---------------------------------------------------------------------------\u001b[0m",
      "\u001b[1;31mNameError\u001b[0m                                 Traceback (most recent call last)",
      "Cell \u001b[1;32mIn[4], line 3\u001b[0m\n\u001b[0;32m      1\u001b[0m list_a \u001b[38;5;241m=\u001b[39m [\u001b[38;5;241m24\u001b[39m,\u001b[38;5;241m45\u001b[39m,\u001b[38;5;241m30\u001b[39m,\u001b[38;5;241m50\u001b[39m,\u001b[38;5;241m100\u001b[39m]\n\u001b[0;32m      2\u001b[0m \u001b[38;5;28;01mdel\u001b[39;00m list_a \n\u001b[1;32m----> 3\u001b[0m \u001b[38;5;28mprint\u001b[39m(list_a)\n",
      "\u001b[1;31mNameError\u001b[0m: name 'list_a' is not defined"
     ]
    }
   ],
   "source": [
    "list_a = [24,45,30,50,100]\n",
    "del list_a \n",
    "print(list_a) \n",
    "# NameError is showing because the list is deleted."
   ]
  },
  {
   "cell_type": "code",
   "execution_count": 5,
   "id": "fb295402-071e-4671-8d71-c961a21ede2e",
   "metadata": {},
   "outputs": [
    {
     "name": "stdout",
     "output_type": "stream",
     "text": [
      "[32, 18, 35, 90]\n"
     ]
    }
   ],
   "source": [
    "list_b = [32,20,18,35,90]\n",
    "list_b.remove(20)\n",
    "print(list(list_b))"
   ]
  },
  {
   "cell_type": "code",
   "execution_count": 6,
   "id": "01d939c6-5ffc-4cf8-8b8c-025154d390b8",
   "metadata": {},
   "outputs": [
    {
     "name": "stdout",
     "output_type": "stream",
     "text": [
      "[32, 18, 90]\n"
     ]
    }
   ],
   "source": [
    "list_b.pop(2)\n",
    "print(list_b)"
   ]
  },
  {
   "cell_type": "code",
   "execution_count": 170,
   "id": "1120f37d-7a0d-4f02-bdc8-869e3cdd97bc",
   "metadata": {},
   "outputs": [
    {
     "name": "stdout",
     "output_type": "stream",
     "text": [
      "[35, 25, 95, 25, 25]\n"
     ]
    }
   ],
   "source": [
    "list1 =[25,35,25,95,25,25]\n",
    "list1.remove(25)\n",
    "print(list1)"
   ]
  },
  {
   "cell_type": "code",
   "execution_count": 171,
   "id": "7a99f9bc-63c4-4591-bbef-5da780f1b8f7",
   "metadata": {},
   "outputs": [
    {
     "ename": "NameError",
     "evalue": "name 'list1' is not defined",
     "output_type": "error",
     "traceback": [
      "\u001b[1;31m---------------------------------------------------------------------------\u001b[0m",
      "\u001b[1;31mNameError\u001b[0m                                 Traceback (most recent call last)",
      "Cell \u001b[1;32mIn[171], line 3\u001b[0m\n\u001b[0;32m      1\u001b[0m list2 \u001b[38;5;241m=\u001b[39m[\u001b[38;5;241m25\u001b[39m,\u001b[38;5;241m35\u001b[39m,\u001b[38;5;241m25\u001b[39m,\u001b[38;5;241m95\u001b[39m,\u001b[38;5;241m25\u001b[39m,\u001b[38;5;241m25\u001b[39m]\n\u001b[0;32m      2\u001b[0m \u001b[38;5;28;01mdel\u001b[39;00m list1\n\u001b[1;32m----> 3\u001b[0m \u001b[38;5;28mprint\u001b[39m(list1)\n",
      "\u001b[1;31mNameError\u001b[0m: name 'list1' is not defined"
     ]
    }
   ],
   "source": [
    "list2 =[25,35,25,95,25,25]\n",
    "del list1\n",
    "print(list1)"
   ]
  },
  {
   "cell_type": "code",
   "execution_count": 172,
   "id": "dfc8ac2b-735e-4d6d-a483-d09f36f8df11",
   "metadata": {},
   "outputs": [
    {
     "name": "stdout",
     "output_type": "stream",
     "text": [
      "[]\n"
     ]
    }
   ],
   "source": [
    "list_b.clear()\n",
    "print(list_b)"
   ]
  },
  {
   "cell_type": "code",
   "execution_count": 173,
   "id": "024e5388-1060-4192-845e-c3a27deb34d9",
   "metadata": {},
   "outputs": [
    {
     "name": "stdout",
     "output_type": "stream",
     "text": [
      "[35, 34, 20, 34, [25, 34]]\n"
     ]
    }
   ],
   "source": [
    "list_1 = [25,35,34,20,34,[25,34]]\n",
    "list_1.remove(25)\n",
    "print(list_1)"
   ]
  },
  {
   "cell_type": "code",
   "execution_count": 174,
   "id": "a9dbdeca-acfc-4c57-b41a-e8af7dab60b5",
   "metadata": {},
   "outputs": [
    {
     "data": {
      "text/plain": [
       "[25, 34]"
      ]
     },
     "execution_count": 174,
     "metadata": {},
     "output_type": "execute_result"
    }
   ],
   "source": [
    "list_1.pop(4) "
   ]
  },
  {
   "cell_type": "code",
   "execution_count": 175,
   "id": "7e1be801-c495-4048-8ca2-c55ea79d35fa",
   "metadata": {},
   "outputs": [
    {
     "name": "stdout",
     "output_type": "stream",
     "text": [
      "[]\n"
     ]
    }
   ],
   "source": [
    "list_1.clear()\n",
    "print(list_1)\n"
   ]
  },
  {
   "cell_type": "code",
   "execution_count": 177,
   "id": "cef95b84-103c-44c2-b8e9-95cd2b9040c4",
   "metadata": {},
   "outputs": [
    {
     "ename": "NameError",
     "evalue": "name 'list_1' is not defined",
     "output_type": "error",
     "traceback": [
      "\u001b[1;31m---------------------------------------------------------------------------\u001b[0m",
      "\u001b[1;31mNameError\u001b[0m                                 Traceback (most recent call last)",
      "Cell \u001b[1;32mIn[177], line 1\u001b[0m\n\u001b[1;32m----> 1\u001b[0m \u001b[38;5;28;01mdel\u001b[39;00m list_1\n\u001b[0;32m      2\u001b[0m \u001b[38;5;28mprint\u001b[39m(list_1)\n",
      "\u001b[1;31mNameError\u001b[0m: name 'list_1' is not defined"
     ]
    }
   ],
   "source": [
    "del list_1\n",
    "print(list_1)"
   ]
  },
  {
   "cell_type": "markdown",
   "id": "30d257a7-6aad-4b5e-b501-697e4408519a",
   "metadata": {},
   "source": [
    "#### Remove the range of items -"
   ]
  },
  {
   "cell_type": "code",
   "execution_count": 178,
   "id": "ff1eb886-f46f-443e-b310-6e104c116447",
   "metadata": {},
   "outputs": [
    {
     "ename": "TypeError",
     "evalue": "'list' object is not callable",
     "output_type": "error",
     "traceback": [
      "\u001b[1;31m---------------------------------------------------------------------------\u001b[0m",
      "\u001b[1;31mTypeError\u001b[0m                                 Traceback (most recent call last)",
      "Cell \u001b[1;32mIn[178], line 1\u001b[0m\n\u001b[1;32m----> 1\u001b[0m list_1 \u001b[38;5;241m=\u001b[39m \u001b[38;5;28mlist\u001b[39m([\u001b[38;5;241m24\u001b[39m,\u001b[38;5;241m45\u001b[39m,\u001b[38;5;241m35\u001b[39m,\u001b[38;5;241m90\u001b[39m,\u001b[38;5;241m56\u001b[39m,\u001b[38;5;241m20\u001b[39m,\u001b[38;5;124m\"\u001b[39m\u001b[38;5;124mraj\u001b[39m\u001b[38;5;124m\"\u001b[39m])\n\u001b[0;32m      2\u001b[0m \u001b[38;5;66;03m#remove range of items\u001b[39;00m\n\u001b[0;32m      3\u001b[0m \u001b[38;5;66;03m# remove item from index 2 -5 \u001b[39;00m\n\u001b[0;32m      4\u001b[0m \u001b[38;5;28;01mdel\u001b[39;00m list_1 [\u001b[38;5;241m2\u001b[39m :\u001b[38;5;241m5\u001b[39m]\n",
      "\u001b[1;31mTypeError\u001b[0m: 'list' object is not callable"
     ]
    }
   ],
   "source": [
    "list_1 = list([24,45,35,90,56,20,\"raj\"])\n",
    "#remove range of items\n",
    "# remove item from index 2 -5 \n",
    "del list_1 [2 :5]\n",
    "print(list_1)\n"
   ]
  },
  {
   "cell_type": "code",
   "execution_count": 179,
   "id": "f0fb6487-71c0-4cd8-965b-1eb85c3050b9",
   "metadata": {},
   "outputs": [
    {
     "ename": "NameError",
     "evalue": "name 'list_1' is not defined",
     "output_type": "error",
     "traceback": [
      "\u001b[1;31m---------------------------------------------------------------------------\u001b[0m",
      "\u001b[1;31mNameError\u001b[0m                                 Traceback (most recent call last)",
      "Cell \u001b[1;32mIn[179], line 1\u001b[0m\n\u001b[1;32m----> 1\u001b[0m \u001b[38;5;28;01mdel\u001b[39;00m list_1[\u001b[38;5;241m0\u001b[39m]\n\u001b[0;32m      2\u001b[0m \u001b[38;5;28mprint\u001b[39m(list_1)\n",
      "\u001b[1;31mNameError\u001b[0m: name 'list_1' is not defined"
     ]
    }
   ],
   "source": [
    "\n",
    "del list_1[0]\n",
    "print(list_1)"
   ]
  },
  {
   "cell_type": "code",
   "execution_count": 180,
   "id": "2bc5c1d8-51ad-47a5-8f86-bf73d81b7819",
   "metadata": {},
   "outputs": [
    {
     "ename": "TypeError",
     "evalue": "'list' object is not callable",
     "output_type": "error",
     "traceback": [
      "\u001b[1;31m---------------------------------------------------------------------------\u001b[0m",
      "\u001b[1;31mTypeError\u001b[0m                                 Traceback (most recent call last)",
      "Cell \u001b[1;32mIn[180], line 1\u001b[0m\n\u001b[1;32m----> 1\u001b[0m list_1 \u001b[38;5;241m=\u001b[39m \u001b[38;5;28mlist\u001b[39m([\u001b[38;5;241m24\u001b[39m,\u001b[38;5;241m45\u001b[39m,\u001b[38;5;241m35\u001b[39m,\u001b[38;5;241m90\u001b[39m,\u001b[38;5;241m56\u001b[39m,\u001b[38;5;124m\"\u001b[39m\u001b[38;5;124mnice\u001b[39m\u001b[38;5;124m\"\u001b[39m,\u001b[38;5;124m\"\u001b[39m\u001b[38;5;124mraj\u001b[39m\u001b[38;5;124m\"\u001b[39m])\n\u001b[0;32m      2\u001b[0m \u001b[38;5;28;01mdel\u001b[39;00m list_1[\u001b[38;5;241m-\u001b[39m\u001b[38;5;241m1\u001b[39m]\n\u001b[0;32m      3\u001b[0m \u001b[38;5;28mprint\u001b[39m(list_1)\n",
      "\u001b[1;31mTypeError\u001b[0m: 'list' object is not callable"
     ]
    }
   ],
   "source": [
    "list_1 = list([24,45,35,90,56,\"nice\",\"raj\"])\n",
    "del list_1[-1]\n",
    "print(list_1)"
   ]
  },
  {
   "cell_type": "code",
   "execution_count": 181,
   "id": "0c7806ae-28b3-4663-bc17-562e6589458e",
   "metadata": {},
   "outputs": [
    {
     "ename": "NameError",
     "evalue": "name 'list_1' is not defined",
     "output_type": "error",
     "traceback": [
      "\u001b[1;31m---------------------------------------------------------------------------\u001b[0m",
      "\u001b[1;31mNameError\u001b[0m                                 Traceback (most recent call last)",
      "Cell \u001b[1;32mIn[181], line 2\u001b[0m\n\u001b[0;32m      1\u001b[0m \u001b[38;5;66;03m#remove all items starting from index\u001b[39;00m\n\u001b[1;32m----> 2\u001b[0m \u001b[38;5;28;01mdel\u001b[39;00m list_1[\u001b[38;5;241m0\u001b[39m:]\n\u001b[0;32m      3\u001b[0m \u001b[38;5;28mprint\u001b[39m(list_1)\n",
      "\u001b[1;31mNameError\u001b[0m: name 'list_1' is not defined"
     ]
    }
   ],
   "source": [
    "#remove all items starting from index\n",
    "del list_1[0:]\n",
    "print(list_1)"
   ]
  },
  {
   "cell_type": "code",
   "execution_count": null,
   "id": "9c88a13c-732c-4fef-a05e-59d170fac741",
   "metadata": {},
   "outputs": [],
   "source": []
  },
  {
   "cell_type": "code",
   "execution_count": 182,
   "id": "2741d96e-cbcc-4367-8d9e-df60c6ee58e8",
   "metadata": {},
   "outputs": [
    {
     "ename": "NameError",
     "evalue": "name 'list_1' is not defined",
     "output_type": "error",
     "traceback": [
      "\u001b[1;31m---------------------------------------------------------------------------\u001b[0m",
      "\u001b[1;31mNameError\u001b[0m                                 Traceback (most recent call last)",
      "Cell \u001b[1;32mIn[182], line 1\u001b[0m\n\u001b[1;32m----> 1\u001b[0m \u001b[38;5;28;01mdel\u001b[39;00m list_1[::\u001b[38;5;241m-\u001b[39m\u001b[38;5;241m1\u001b[39m]\n\u001b[0;32m      2\u001b[0m \u001b[38;5;28mprint\u001b[39m(list_1)\n",
      "\u001b[1;31mNameError\u001b[0m: name 'list_1' is not defined"
     ]
    }
   ],
   "source": [
    "del list_1[::-1]\n",
    "print(list_1)"
   ]
  },
  {
   "cell_type": "code",
   "execution_count": 193,
   "id": "38b0f1d4-1a5a-4c28-8af2-1c98a88508cd",
   "metadata": {},
   "outputs": [],
   "source": [
    "list_1 = [24,45,35,90,56,20,\"raj\"]\n",
    "del list_1[:]\n",
    "del(list_1) "
   ]
  },
  {
   "cell_type": "code",
   "execution_count": 194,
   "id": "44caf739-1dc8-4862-b461-e460e353246d",
   "metadata": {},
   "outputs": [
    {
     "name": "stdout",
     "output_type": "stream",
     "text": [
      "[20]\n"
     ]
    }
   ],
   "source": [
    "list_1= []\n",
    "list_1.append(20)\n",
    "print(list_1)"
   ]
  },
  {
   "cell_type": "code",
   "execution_count": 91,
   "id": "aebea080-397d-41a3-a62d-02da76443efe",
   "metadata": {},
   "outputs": [
    {
     "name": "stdout",
     "output_type": "stream",
     "text": [
      "[20, 30]\n"
     ]
    }
   ],
   "source": [
    "list_1.append(30)\n",
    "print(list_1)"
   ]
  },
  {
   "cell_type": "code",
   "execution_count": 92,
   "id": "ee7c127a-82b2-4c50-9535-011ba7aeeb4f",
   "metadata": {},
   "outputs": [
    {
     "name": "stdout",
     "output_type": "stream",
     "text": [
      "[20, (40, 50), 30]\n"
     ]
    }
   ],
   "source": [
    "list_1.insert(1,(40,50))\n",
    "print(list_1)"
   ]
  },
  {
   "cell_type": "code",
   "execution_count": 93,
   "id": "bcb483b2-fb1e-4b3b-b9dd-d5503b3a05f6",
   "metadata": {},
   "outputs": [
    {
     "name": "stdout",
     "output_type": "stream",
     "text": [
      "[20, (40, 50), 30, 'Nice']\n"
     ]
    }
   ],
   "source": [
    "list_1.append(\"Nice\")\n",
    "print(list_1)"
   ]
  },
  {
   "cell_type": "code",
   "execution_count": 94,
   "id": "1f3f51ba-ca4f-48e3-87d9-ad28af14bb8d",
   "metadata": {},
   "outputs": [
    {
     "name": "stdout",
     "output_type": "stream",
     "text": [
      "[20, (40, 50), 30, 'Nice', '3', '0']\n"
     ]
    }
   ],
   "source": [
    "list_1.extend(\"30\")\n",
    "print(list_1)"
   ]
  },
  {
   "cell_type": "code",
   "execution_count": 95,
   "id": "d0e2f8da-b51c-4a68-8939-0fa55ed459ba",
   "metadata": {},
   "outputs": [
    {
     "ename": "TypeError",
     "evalue": "'list' object is not callable",
     "output_type": "error",
     "traceback": [
      "\u001b[1;31m---------------------------------------------------------------------------\u001b[0m",
      "\u001b[1;31mTypeError\u001b[0m                                 Traceback (most recent call last)",
      "Cell \u001b[1;32mIn[95], line 1\u001b[0m\n\u001b[1;32m----> 1\u001b[0m list2 \u001b[38;5;241m=\u001b[39m \u001b[38;5;28mlist\u001b[39m([]) \n\u001b[0;32m      2\u001b[0m list2\u001b[38;5;241m.\u001b[39mappend((\u001b[38;5;241m20\u001b[39m,\u001b[38;5;241m40\u001b[39m))\n\u001b[0;32m      3\u001b[0m \u001b[38;5;28mprint\u001b[39m(list2)\n",
      "\u001b[1;31mTypeError\u001b[0m: 'list' object is not callable"
     ]
    }
   ],
   "source": [
    "list2 = list([]) \n",
    "list2.append((20,40))\n",
    "print(list2)\n"
   ]
  },
  {
   "cell_type": "code",
   "execution_count": 96,
   "id": "b138c195-23fe-4b53-9958-a02c949a0d26",
   "metadata": {},
   "outputs": [
    {
     "name": "stdout",
     "output_type": "stream",
     "text": [
      "[25, 35, 25, 95, 25, 25, 400]\n"
     ]
    }
   ],
   "source": [
    "list2.append(400)\n",
    "print(list2)"
   ]
  },
  {
   "cell_type": "code",
   "execution_count": 97,
   "id": "eef28f3c-89d9-4dcb-800e-fef2d1c2549d",
   "metadata": {},
   "outputs": [
    {
     "name": "stdout",
     "output_type": "stream",
     "text": [
      "[20, 25, 35, 25, 95, 25, 25, 400]\n"
     ]
    }
   ],
   "source": [
    "list2.insert(0,20)\n",
    "print(list2)"
   ]
  },
  {
   "cell_type": "code",
   "execution_count": 98,
   "id": "cdd257b7-359f-47c0-bcc3-21965958407d",
   "metadata": {},
   "outputs": [
    {
     "name": "stdout",
     "output_type": "stream",
     "text": [
      "[20, 25, 399, 35, 25, 95, 25, 25, 400]\n"
     ]
    }
   ],
   "source": [
    "list2.insert(2,399)\n",
    "print(list2)"
   ]
  },
  {
   "cell_type": "code",
   "execution_count": 99,
   "id": "0e9729b7-308b-4ebc-8817-28ec1806447b",
   "metadata": {},
   "outputs": [
    {
     "name": "stdout",
     "output_type": "stream",
     "text": [
      "[20, 25, 399, 35, 25, 95, 25, 25, 400, 'Nice']\n"
     ]
    }
   ],
   "source": [
    "list2.append(\"Nice\")\n",
    "print(list2)"
   ]
  },
  {
   "cell_type": "code",
   "execution_count": 100,
   "id": "28cb88fb-4bde-4e54-be36-6c440db8c465",
   "metadata": {},
   "outputs": [
    {
     "name": "stdout",
     "output_type": "stream",
     "text": [
      "[20, 25, 399, 35, 25, 95, 25, 25, 400, 'Nice', '3', '0']\n"
     ]
    }
   ],
   "source": [
    "list2.extend(\"30\")\n",
    "print(list2)"
   ]
  },
  {
   "cell_type": "code",
   "execution_count": 101,
   "id": "94efaa05-3c27-4533-8804-6749d1eb2fc3",
   "metadata": {},
   "outputs": [
    {
     "name": "stdout",
     "output_type": "stream",
     "text": [
      "[20, 25, 399, 35, 25, 95, 25, 25, 400, 'Nice', '3', '0', 'sona']\n"
     ]
    }
   ],
   "source": [
    "list2.append(\"sona\")\n",
    "print(list2)"
   ]
  },
  {
   "cell_type": "code",
   "execution_count": 102,
   "id": "f7d6d2af-4cc1-439e-9924-c3e8a1d03de2",
   "metadata": {},
   "outputs": [
    {
     "name": "stdout",
     "output_type": "stream",
     "text": [
      "[20, 25, 399, 35, 25, 95, 25, 25, 400, 'Nice', '3', '0', 'sona', 's', 'o', 'n', 'a']\n"
     ]
    }
   ],
   "source": [
    "list2.extend(\"sona\")\n",
    "print(list2)"
   ]
  },
  {
   "cell_type": "markdown",
   "id": "7ce5a595-715c-487d-a1fc-5b43d39dbcee",
   "metadata": {},
   "source": [
    "### reversing the list-"
   ]
  },
  {
   "cell_type": "code",
   "execution_count": 103,
   "id": "2c0f6f8a-ab9c-4b97-9327-c06ac32bf10d",
   "metadata": {},
   "outputs": [
    {
     "name": "stdout",
     "output_type": "stream",
     "text": [
      "['a', 'n', 'o', 's', 'sona', '0', '3', 'Nice', 400, 25, 25, 95, 25, 35, 399, 25, 20]\n"
     ]
    }
   ],
   "source": [
    "list2.reverse()\n",
    "print(list2)"
   ]
  },
  {
   "cell_type": "code",
   "execution_count": 104,
   "id": "4639eb61-669b-47a5-95f4-97011b63ea94",
   "metadata": {},
   "outputs": [
    {
     "name": "stdout",
     "output_type": "stream",
     "text": [
      "[20, 25, 399, 35, 25, 95, 25, 25, 400, 'Nice', '3', '0', 'sona', 's', 'o', 'n', 'a']\n"
     ]
    }
   ],
   "source": [
    "print(list2[::-1])"
   ]
  },
  {
   "cell_type": "code",
   "execution_count": 4,
   "id": "bd1c3e4e-ccb9-41c4-bd6b-5ba73314cb65",
   "metadata": {},
   "outputs": [
    {
     "data": {
      "text/plain": [
       "2"
      ]
     },
     "execution_count": 4,
     "metadata": {},
     "output_type": "execute_result"
    }
   ],
   "source": [
    "#### FInding an element in a list -\n",
    "list2 = [  20 , 400, (20,3), \"sona\", \"saurabh\" , 300 ]\n",
    "list2.index((20,3)) "
   ]
  },
  {
   "cell_type": "code",
   "execution_count": 106,
   "id": "76f5bed0-0621-4a62-a6c7-207279e598e0",
   "metadata": {},
   "outputs": [
    {
     "data": {
      "text/plain": [
       "5"
      ]
     },
     "execution_count": 106,
     "metadata": {},
     "output_type": "execute_result"
    }
   ],
   "source": [
    "list2.index(300) "
   ]
  },
  {
   "cell_type": "code",
   "execution_count": 107,
   "id": "9709b0d2-2206-4d37-b474-de0dd5544d3c",
   "metadata": {},
   "outputs": [
    {
     "data": {
      "text/plain": [
       "0"
      ]
     },
     "execution_count": 107,
     "metadata": {},
     "output_type": "execute_result"
    }
   ],
   "source": [
    "list2.index(20)"
   ]
  },
  {
   "cell_type": "code",
   "execution_count": 108,
   "id": "ff173f2d-e7c1-49d6-ab57-ba9425a9ff5d",
   "metadata": {},
   "outputs": [
    {
     "name": "stdout",
     "output_type": "stream",
     "text": [
      "300\n"
     ]
    }
   ],
   "source": [
    "print(list2[5]) "
   ]
  },
  {
   "cell_type": "code",
   "execution_count": 109,
   "id": "df38a402-23e9-4ef2-8b84-10c36b89e33d",
   "metadata": {},
   "outputs": [],
   "source": [
    "list2.reverse()"
   ]
  },
  {
   "cell_type": "code",
   "execution_count": 110,
   "id": "c07caacd-641d-42e8-b74b-ac2d1ee3214c",
   "metadata": {},
   "outputs": [
    {
     "name": "stdout",
     "output_type": "stream",
     "text": [
      "[1, 2, 5, 9]\n"
     ]
    }
   ],
   "source": [
    "list1 = [1,2,5,9,8,7] \n",
    "del list1[4:7]\n",
    "print(list1)"
   ]
  },
  {
   "cell_type": "code",
   "execution_count": 111,
   "id": "a80a496d-e640-4567-a8da-0d674686426f",
   "metadata": {},
   "outputs": [
    {
     "name": "stdout",
     "output_type": "stream",
     "text": [
      "[1, 2, 5, 9, 7]\n"
     ]
    }
   ],
   "source": [
    "list1 = [1,2,5,9,8,7] \n",
    "list1.remove(8)\n",
    "print(list1)"
   ]
  },
  {
   "cell_type": "code",
   "execution_count": 112,
   "id": "8fc0d4a3-52f5-412f-a96f-cca18131a070",
   "metadata": {},
   "outputs": [
    {
     "name": "stdout",
     "output_type": "stream",
     "text": [
      "[[1, 2, 5, 9, 7]]\n"
     ]
    }
   ],
   "source": [
    "newlist = []\n",
    "newlist.append(list1)\n",
    "print(newlist)"
   ]
  },
  {
   "cell_type": "markdown",
   "id": "0215c071-43ce-4b94-91cb-8efd9926b481",
   "metadata": {},
   "source": [
    "### Concatenation -"
   ]
  },
  {
   "cell_type": "markdown",
   "id": "19089755-32da-4a51-80d3-10c3fd483224",
   "metadata": {},
   "source": [
    "* Concatenation of 2 lists means merging of 2 list. their are 2 ways to do that using the +operator, using the the extend()method.\n",
    "* the extend append the new list's item at the end of the calling list."
   ]
  },
  {
   "cell_type": "code",
   "execution_count": 199,
   "id": "fc613454-3981-432e-a649-cf3a725f562b",
   "metadata": {},
   "outputs": [
    {
     "name": "stdout",
     "output_type": "stream",
     "text": [
      "[23, 53, 56, 62, 94, 85, 45, 25, 82, 43, 94, 30]\n"
     ]
    }
   ],
   "source": [
    "list_1 = [23,53,56,62,94,85]\n",
    "list_2 = [ 45,25,82,43,94,30]\n",
    "list_1.extend(list_2)\n",
    "print(list_1)"
   ]
  },
  {
   "cell_type": "code",
   "execution_count": 5,
   "id": "6a52dca7-8367-41f0-9b6c-edc9a34a456c",
   "metadata": {},
   "outputs": [
    {
     "name": "stdout",
     "output_type": "stream",
     "text": [
      "[10, 53, 56, 62, 94, 85, 200, 25, 82, 43, 94, 30]\n"
     ]
    }
   ],
   "source": [
    "a = [10,53,56,62,94,85]\n",
    "b = [200,25,82,43,94,30] \n",
    "c = a+b\n",
    "print(c)"
   ]
  },
  {
   "cell_type": "code",
   "execution_count": 115,
   "id": "ace17070-c3f1-4af4-8fce-bdf3feee4c89",
   "metadata": {},
   "outputs": [
    {
     "name": "stdout",
     "output_type": "stream",
     "text": [
      "[24, 45, 30, 50, 92, 32, 20, 18, 35, 90]\n"
     ]
    }
   ],
   "source": [
    "list_a = [24,45,30,50,92]\n",
    "list_b = [32,20 ,18,35,90]\n",
    "list_a.extend(list_b)\n",
    "print(list_a)"
   ]
  },
  {
   "cell_type": "code",
   "execution_count": 6,
   "id": "23947745-8d94-4245-86e0-6b1515618eac",
   "metadata": {},
   "outputs": [
    {
     "name": "stdout",
     "output_type": "stream",
     "text": [
      "[23, 53, 56, 62, 94, 85, 23, 53, 56, 62, 94, 85, 45, 25, 82, 43, 94, 30]\n"
     ]
    }
   ],
   "source": [
    "list_1 = [23,53,56,62,94,85]\n",
    "list_2 = [ 45,25,82,43,94,30]\n",
    "list3 = (list_1+ list_2)\n",
    "list_1.extend(list3)\n",
    "print(list_1)"
   ]
  },
  {
   "cell_type": "code",
   "execution_count": 8,
   "id": "6d0ef76f-9d39-4a6b-b6de-47ab5ac9d5a0",
   "metadata": {},
   "outputs": [
    {
     "name": "stdout",
     "output_type": "stream",
     "text": [
      "[23, 53, 56, 62, 94, 85, 23, 53, 56, 62, 94, 85, 45, 25, 82, 43, 94, 30]\n"
     ]
    }
   ],
   "source": [
    "list_1 = [23,53,56,62,94,85]\n",
    "list_2 = [ 45,25,82,43,94,30]\n",
    "list3 = (list_1+ list_2)\n",
    "list_1.extend(list3)\n",
    "print(list_1)"
   ]
  },
  {
   "cell_type": "code",
   "execution_count": null,
   "id": "4df46b87-acee-4302-b88b-562c80172084",
   "metadata": {},
   "outputs": [],
   "source": []
  }
 ],
 "metadata": {
  "kernelspec": {
   "display_name": "Python 3 (ipykernel)",
   "language": "python",
   "name": "python3"
  },
  "language_info": {
   "codemirror_mode": {
    "name": "ipython",
    "version": 3
   },
   "file_extension": ".py",
   "mimetype": "text/x-python",
   "name": "python",
   "nbconvert_exporter": "python",
   "pygments_lexer": "ipython3",
   "version": "3.13.5"
  }
 },
 "nbformat": 4,
 "nbformat_minor": 5
}
