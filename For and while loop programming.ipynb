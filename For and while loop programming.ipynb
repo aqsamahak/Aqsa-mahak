{
 "cells": [
  {
   "cell_type": "markdown",
   "id": "1e25ac7f-21fc-4589-a06f-6038f24bd5fb",
   "metadata": {},
   "source": [
    "## Basic for loop in Python -"
   ]
  },
  {
   "cell_type": "markdown",
   "id": "bc7f64a0-3404-4024-98be-d866c72acfb8",
   "metadata": {},
   "source": [
    " a for loop is uded to repeat a block of code a specific number of time,or for each item in sequence (like a list,string,etc.). "
   ]
  },
  {
   "cell_type": "markdown",
   "id": "e5d2c961-0640-4880-bdf9-5a0c6fe06c07",
   "metadata": {},
   "source": [
    "* Syntax \n",
    "* for variable in sequence:\n",
    "    #code block(indented)"
   ]
  },
  {
   "cell_type": "code",
   "execution_count": 13,
   "id": "4efeec4e-5342-4380-89fe-5e1d9599ccbf",
   "metadata": {},
   "outputs": [
    {
     "name": "stdout",
     "output_type": "stream",
     "text": [
      "apple banana cherry "
     ]
    }
   ],
   "source": [
    "# example 1\n",
    "fruits = [\"apple\", \"banana\",\"cherry\"]\n",
    "for fruit in fruits:\n",
    "    print(fruit,end=\" \")"
   ]
  },
  {
   "cell_type": "code",
   "execution_count": 14,
   "id": "ebbf0e95-115c-47ae-b08f-09822a3f127a",
   "metadata": {},
   "outputs": [
    {
     "name": "stdout",
     "output_type": "stream",
     "text": [
      "apple\n",
      "banana\n",
      "cherry\n"
     ]
    }
   ],
   "source": [
    "\n",
    "fruits = [\"apple\", \"banana\",\"cherry\"]\n",
    "for fruit in fruits:\n",
    "    print(fruit)"
   ]
  },
  {
   "cell_type": "code",
   "execution_count": 15,
   "id": "e43b6fac-d882-416a-98d1-9df25c7e46eb",
   "metadata": {},
   "outputs": [
    {
     "name": "stdout",
     "output_type": "stream",
     "text": [
      "23\n",
      "43\n",
      "90\n",
      "20\n"
     ]
    }
   ],
   "source": [
    "numbers =[ 23,43,90,20]\n",
    "for num in numbers:\n",
    "    print(num)"
   ]
  },
  {
   "cell_type": "code",
   "execution_count": 16,
   "id": "7652ffb2-332f-49bd-b9af-3be798a42107",
   "metadata": {},
   "outputs": [
    {
     "name": "stdout",
     "output_type": "stream",
     "text": [
      "23 43 90 20 "
     ]
    }
   ],
   "source": [
    "numbers =[ 23,43,90,20]\n",
    "for i in numbers:\n",
    "    print(i,end=\" \")"
   ]
  },
  {
   "cell_type": "code",
   "execution_count": 17,
   "id": "90369544-c3a4-4275-a980-b355ad7a6b02",
   "metadata": {},
   "outputs": [
    {
     "name": "stdout",
     "output_type": "stream",
     "text": [
      "apple $$ banana $$ cherry $$ "
     ]
    }
   ],
   "source": [
    "\n",
    "fruits = [\"apple\", \"banana\",\"cherry\"]\n",
    "for fruit in fruits:\n",
    "    print(fruit,end=\" $$ \")"
   ]
  },
  {
   "cell_type": "code",
   "execution_count": 18,
   "id": "6ea671a2-6b0c-42e9-ba15-4d7d9dea89a9",
   "metadata": {},
   "outputs": [
    {
     "name": "stdout",
     "output_type": "stream",
     "text": [
      "apple\n",
      "banana\n",
      "cherry\n"
     ]
    }
   ],
   "source": [
    "\n",
    "fruits = [\"apple\", \"banana\",\"cherry\"]\n",
    "for fruit in fruits:\n",
    "    print(fruit,end=\"\\n\")"
   ]
  },
  {
   "cell_type": "code",
   "execution_count": 19,
   "id": "cf2a7c17-4aa6-4c11-9b9f-9109f931bca3",
   "metadata": {},
   "outputs": [
    {
     "name": "stdout",
     "output_type": "stream",
     "text": [
      "apple,banana,cherry,"
     ]
    }
   ],
   "source": [
    "\n",
    "fruits = [\"apple\", \"banana\",\"cherry\"]\n",
    "for fruit in fruits:\n",
    "    print(fruit,end=\",\")"
   ]
  },
  {
   "cell_type": "code",
   "execution_count": 20,
   "id": "5a7e905b-e058-403c-bcb7-0fdc8efeef85",
   "metadata": {},
   "outputs": [
    {
     "name": "stdout",
     "output_type": "stream",
     "text": [
      "apple\tbanana\tcherry\t"
     ]
    }
   ],
   "source": [
    "\n",
    "fruits = [\"apple\", \"banana\",\"cherry\"]\n",
    "for fruit in fruits:\n",
    "    print(fruit,end=\"\\t\")"
   ]
  },
  {
   "cell_type": "code",
   "execution_count": 21,
   "id": "d5de9ebd-ac4b-4d0b-9783-d5bc4fc9ae62",
   "metadata": {},
   "outputs": [
    {
     "name": "stdout",
     "output_type": "stream",
     "text": [
      "apple sweet\n",
      "banana sweet\n",
      "cherry sweet\n"
     ]
    }
   ],
   "source": [
    "\n",
    "fruits = [\"apple\", \"banana\",\"cherry\"]\n",
    "for fruit in fruits:\n",
    "    print(fruit,end= \" sweet\\n\")"
   ]
  },
  {
   "cell_type": "code",
   "execution_count": 22,
   "id": "e80831bd-322c-40b4-9067-fc4395192182",
   "metadata": {},
   "outputs": [
    {
     "name": "stdout",
     "output_type": "stream",
     "text": [
      "apple=sweet\n",
      "banana=sweet\n",
      "cherry=sweet\n"
     ]
    }
   ],
   "source": [
    "\n",
    "fruits = [\"apple\", \"banana\",\"cherry\"]\n",
    "for fruit in fruits:\n",
    "    print(fruit,end=\"=sweet\\n\")"
   ]
  },
  {
   "cell_type": "code",
   "execution_count": 23,
   "id": "1a4eee88-bf1b-4605-b2eb-7442a4084763",
   "metadata": {},
   "outputs": [
    {
     "name": "stdout",
     "output_type": "stream",
     "text": [
      "apple,\n",
      "banana,\n",
      "cherry\n"
     ]
    }
   ],
   "source": [
    "fruits = (\"apple, banana, cherry\").split()\n",
    "for fruit in fruits:\n",
    "    print(fruit,end=\"\\n\")"
   ]
  },
  {
   "cell_type": "code",
   "execution_count": null,
   "id": "fe70f77b-5baa-42b7-8aea-89fed2f477db",
   "metadata": {},
   "outputs": [],
   "source": []
  },
  {
   "cell_type": "markdown",
   "id": "65996458-7a91-4400-be51-d04474067f1e",
   "metadata": {},
   "source": [
    "using range() with for loop \n",
    "range (start).stop, step) is often used with for to repeat something multiple times "
   ]
  },
  {
   "cell_type": "code",
   "execution_count": 9,
   "id": "6e91d378-8708-401c-91cb-c4b836126c70",
   "metadata": {},
   "outputs": [
    {
     "name": "stdout",
     "output_type": "stream",
     "text": [
      "13\n",
      "15\n",
      "17\n",
      "19\n",
      "21\n",
      "23\n"
     ]
    }
   ],
   "source": [
    "for i in range (13,25,2):\n",
    "    print(i)"
   ]
  },
  {
   "cell_type": "code",
   "execution_count": 25,
   "id": "c2d102de-8713-4810-9a99-d6171355c864",
   "metadata": {},
   "outputs": [
    {
     "name": "stdout",
     "output_type": "stream",
     "text": [
      "0\n",
      "1\n",
      "2\n",
      "3\n",
      "4\n",
      "5\n"
     ]
    }
   ],
   "source": [
    "for i in range(6):\n",
    "    print(i) "
   ]
  },
  {
   "cell_type": "code",
   "execution_count": 26,
   "id": "c8e7ce07-706f-4c61-9fe8-60ad80c23ab4",
   "metadata": {},
   "outputs": [
    {
     "name": "stdout",
     "output_type": "stream",
     "text": [
      "0\n",
      "1\n",
      "2\n",
      "3\n",
      "4\n",
      "5\n",
      "6\n"
     ]
    }
   ],
   "source": [
    "i =2\n",
    "for i in range(7):\n",
    "    print(i)"
   ]
  },
  {
   "cell_type": "markdown",
   "id": "c8057b84-0ef2-4716-aab4-b5af26f0e533",
   "metadata": {},
   "source": [
    " ## Nested for loop-"
   ]
  },
  {
   "cell_type": "markdown",
   "id": "b71bd71c-79d2-4ff0-8a8e-5cb7bade0f0f",
   "metadata": {},
   "source": [
    "A nested loop is when one for loop is inside another."
   ]
  },
  {
   "cell_type": "code",
   "execution_count": 27,
   "id": "bfdb66b6-a9ef-4f2e-8599-c3b3263d1f84",
   "metadata": {},
   "outputs": [
    {
     "ename": "_IncompleteInputError",
     "evalue": "incomplete input (517706269.py, line 3)",
     "output_type": "error",
     "traceback": [
      "\u001b[1;36m  Cell \u001b[1;32mIn[27], line 3\u001b[1;36m\u001b[0m\n\u001b[1;33m    \u001b[0m\n\u001b[1;37m    ^\u001b[0m\n\u001b[1;31m_IncompleteInputError\u001b[0m\u001b[1;31m:\u001b[0m incomplete input\n"
     ]
    }
   ],
   "source": [
    "for i in outer_loop:\n",
    "    for j in inner_loop:\n",
    "        "
   ]
  },
  {
   "cell_type": "code",
   "execution_count": 28,
   "id": "6cea5218-a14a-454c-9159-7ad5f629cd2e",
   "metadata": {},
   "outputs": [],
   "source": [
    "# RANGE IS ITERABLE"
   ]
  },
  {
   "cell_type": "code",
   "execution_count": 5,
   "id": "55fe30f9-071f-4b79-bafe-d9a8382a7880",
   "metadata": {},
   "outputs": [
    {
     "name": "stdout",
     "output_type": "stream",
     "text": [
      "nexuz\n",
      "i=0,j =0\n",
      "i=0,j =1\n",
      "nexuz\n",
      "i=1,j =0\n",
      "i=1,j =1\n",
      "nexuz\n",
      "i=2,j =0\n",
      "i=2,j =1\n"
     ]
    }
   ],
   "source": [
    "for i in range(3): \n",
    "    print(\"nexuz\")      #outer loop runs 3 times\n",
    "    for j in range(2):  # inner loop runs 2 times for each outer\n",
    "        print(f\"i={i},j ={j}\")\n",
    "    "
   ]
  },
  {
   "cell_type": "code",
   "execution_count": 30,
   "id": "09d96827-8cdb-4b21-9cb3-13dbbf29ba68",
   "metadata": {},
   "outputs": [
    {
     "name": "stdout",
     "output_type": "stream",
     "text": [
      "i=0,j=0\n",
      "i=0,j=1\n",
      "i=1,j=0\n",
      "i=1,j=1\n",
      "i=2,j=0\n",
      "i=2,j=1\n"
     ]
    }
   ],
   "source": [
    "for i in range(3):   #outer loop runs 3 times\n",
    "    for j in range(2):  # inner loop runs 2 times for each outer\n",
    "        print(f\"i={i},j={j}\")"
   ]
  },
  {
   "cell_type": "code",
   "execution_count": 6,
   "id": "268f4eb0-6484-44a5-b718-29a9cf9eb5a5",
   "metadata": {},
   "outputs": [
    {
     "name": "stdout",
     "output_type": "stream",
     "text": [
      "i=0,j=0\n",
      "i=0,j=1\n",
      "nexuz\n",
      "i=1,j=0\n",
      "i=1,j=1\n",
      "nexuz\n",
      "i=2,j=0\n",
      "i=2,j=1\n",
      "nexuz\n"
     ]
    }
   ],
   "source": [
    "for i in range(3):   #outer loop runs 3 times\n",
    "    for j in range(2):  # inner loop runs 2 times for each outer\n",
    "        print(f\"i={i},j={j}\")\n",
    "    print(\"nexuz\")"
   ]
  },
  {
   "cell_type": "code",
   "execution_count": 31,
   "id": "4572093c-6f80-485c-9b65-d29d61e852e1",
   "metadata": {},
   "outputs": [
    {
     "name": "stdout",
     "output_type": "stream",
     "text": [
      "j 34\n",
      "j 34\n",
      "j 34\n",
      "j 34\n",
      "j 34\n"
     ]
    }
   ],
   "source": [
    "for j in range(5):\n",
    "    print(\"j\",34)\n",
    "    "
   ]
  },
  {
   "cell_type": "code",
   "execution_count": 7,
   "id": "2bd8122f-a897-4cc1-a919-e867f80a94d7",
   "metadata": {},
   "outputs": [
    {
     "name": "stdout",
     "output_type": "stream",
     "text": [
      "nexuz\n",
      "i=0,j=0\n",
      "nexuz\n",
      "i=0,j=1\n",
      "nexuz\n",
      "i=1,j=0\n",
      "nexuz\n",
      "i=1,j=1\n",
      "nexuz\n",
      "i=2,j=0\n",
      "nexuz\n",
      "i=2,j=1\n"
     ]
    }
   ],
   "source": [
    "for i in range(3):   #outer loop runs 3 times\n",
    "    for j in range(2): \n",
    "        print(\"nexuz\")  # inner loop runs 2 times for each outer\n",
    "        print(f\"i={i},j={j}\")\n",
    "    "
   ]
  },
  {
   "cell_type": "markdown",
   "id": "e45db3a0-ec81-416f-8a10-ca23b0a92b20",
   "metadata": {},
   "source": [
    "### Building loop skills"
   ]
  },
  {
   "cell_type": "code",
   "execution_count": 32,
   "id": "58d8f525-2d5d-454e-81f3-2e737f9468c9",
   "metadata": {},
   "outputs": [
    {
     "name": "stdout",
     "output_type": "stream",
     "text": [
      "me\n",
      "meme\n",
      "mememe\n",
      "memememe\n",
      "mememememe\n"
     ]
    }
   ],
   "source": [
    "# right angled triangle\n",
    "rows = 5\n",
    "\n",
    "for i in range(1, rows + 1):\n",
    "    print(\"me\" * i)"
   ]
  },
  {
   "cell_type": "code",
   "execution_count": 33,
   "id": "01ce6ccc-1754-42e9-ac2d-5c226b7dde28",
   "metadata": {},
   "outputs": [
    {
     "name": "stdout",
     "output_type": "stream",
     "text": [
      "meme\n",
      "mememe\n",
      "memememe\n",
      "mememememe\n",
      "memememememe\n",
      "mememememememe\n"
     ]
    }
   ],
   "source": [
    "rows = 5\n",
    "\n",
    "for i in range(2, rows + 3):\n",
    "    print(\"me\" * i)"
   ]
  },
  {
   "cell_type": "code",
   "execution_count": 34,
   "id": "d4486e83-703e-4b14-b872-8214795f0731",
   "metadata": {},
   "outputs": [
    {
     "name": "stdout",
     "output_type": "stream",
     "text": [
      "meme\n",
      "mememe\n",
      "memememe\n",
      "mememememe\n",
      "memememememe\n",
      "mememememememe\n"
     ]
    }
   ],
   "source": [
    "rows = 5\n",
    "\n",
    "for i in range(2, rows + 3):\n",
    "    print(\"me\" * i)"
   ]
  },
  {
   "cell_type": "markdown",
   "id": "ad91e995-da48-4c40-99df-7a8c8a53c9c9",
   "metadata": {},
   "source": [
    "#the range is from 1 - 6 , therefore i has values \n",
    "* for i = 1 the output will be \"me\"*1\n",
    "* for i = 2 the output will be \"me\"*2= \"meme\"\n",
    "* for i = 2 the output will be \"me\"*3= \"mememe\"\n"
   ]
  },
  {
   "cell_type": "code",
   "execution_count": null,
   "id": "e185529d-5735-4fb1-9656-8c301117842d",
   "metadata": {},
   "outputs": [],
   "source": []
  },
  {
   "cell_type": "code",
   "execution_count": 35,
   "id": "00b335a3-1a81-4b26-8ff1-4d6f152fd95c",
   "metadata": {},
   "outputs": [
    {
     "name": "stdout",
     "output_type": "stream",
     "text": [
      "me\n",
      "mememememe\n",
      "mememememememememe\n",
      "mememememememememememememe\n"
     ]
    }
   ],
   "source": [
    "rows = 12 \n",
    "\n",
    "for i in range(1, rows +2,4):\n",
    "    print(\"me\" * i)"
   ]
  },
  {
   "cell_type": "code",
   "execution_count": 36,
   "id": "986ea7a7-80e3-41e0-973c-78cf0867ce29",
   "metadata": {},
   "outputs": [
    {
     "name": "stdout",
     "output_type": "stream",
     "text": [
      "1\n",
      "6\n",
      "11\n",
      "16\n",
      "21\n",
      "26\n"
     ]
    }
   ],
   "source": [
    "rows = 27\n",
    "\n",
    "for i in range(1, rows ,5):\n",
    "    print(1* i)"
   ]
  },
  {
   "cell_type": "code",
   "execution_count": 37,
   "id": "c78bb148-95e9-4bbf-adc1-d413a0d6d163",
   "metadata": {},
   "outputs": [
    {
     "name": "stdout",
     "output_type": "stream",
     "text": [
      "0\n",
      "1\n",
      "2\n",
      "3\n",
      "4\n"
     ]
    }
   ],
   "source": [
    "for i in range(5):\n",
    "    print(i)"
   ]
  },
  {
   "cell_type": "code",
   "execution_count": 38,
   "id": "6d80e812-ebf3-4629-b5e8-85fb26f8d1c5",
   "metadata": {},
   "outputs": [
    {
     "name": "stdout",
     "output_type": "stream",
     "text": [
      "\n",
      "aqsa\n",
      "aqsaaqsa\n",
      "aqsaaqsaaqsa\n",
      "aqsaaqsaaqsaaqsa\n",
      "aqsaaqsaaqsaaqsaaqsa\n",
      "aqsaaqsaaqsaaqsaaqsaaqsa\n",
      "aqsaaqsaaqsaaqsaaqsaaqsaaqsa\n"
     ]
    }
   ],
   "source": [
    "for i in range(8):\n",
    "    print(\"aqsa\"*i)"
   ]
  },
  {
   "cell_type": "code",
   "execution_count": 39,
   "id": "ef7fe339-5e26-4c65-8de0-680ad9d649c9",
   "metadata": {},
   "outputs": [
    {
     "name": "stdout",
     "output_type": "stream",
     "text": [
      "0\n",
      "1\n",
      "2\n",
      "3\n"
     ]
    }
   ],
   "source": [
    "for aqsa in range(4):\n",
    "    print(aqsa)"
   ]
  },
  {
   "cell_type": "code",
   "execution_count": 40,
   "id": "e850aa01-944f-4a0e-ad39-43bb285c4227",
   "metadata": {},
   "outputs": [
    {
     "name": "stdout",
     "output_type": "stream",
     "text": [
      "\n",
      "me\n",
      "meme\n",
      "mememe\n",
      "memememe\n",
      "mememememe\n",
      "memememememe\n",
      "mememememememe\n"
     ]
    }
   ],
   "source": [
    "for i in range(8):\n",
    "    print(\"me\"*i)"
   ]
  },
  {
   "cell_type": "code",
   "execution_count": null,
   "id": "5cbd2c61-ffa8-44f4-814a-9f524283a9a5",
   "metadata": {},
   "outputs": [],
   "source": []
  },
  {
   "cell_type": "code",
   "execution_count": 41,
   "id": "2fbccdaf-cd95-4cc8-a1d2-4eab0658f35e",
   "metadata": {},
   "outputs": [
    {
     "name": "stdout",
     "output_type": "stream",
     "text": [
      "2\n",
      "5\n",
      "8\n",
      "11\n",
      "14\n"
     ]
    }
   ],
   "source": [
    "for i in range(2,15,3):\n",
    "    print(i)"
   ]
  },
  {
   "cell_type": "code",
   "execution_count": 42,
   "id": "b15f779c-d8e5-4ccd-a805-9f86078b77ce",
   "metadata": {},
   "outputs": [
    {
     "name": "stdout",
     "output_type": "stream",
     "text": [
      "0\n",
      "\n",
      "1\n",
      "aqsa\n",
      "2\n",
      "aqsaaqsa\n",
      "3\n",
      "aqsaaqsaaqsa\n",
      "4\n",
      "aqsaaqsaaqsaaqsa\n",
      "5\n",
      "aqsaaqsaaqsaaqsaaqsa\n",
      "6\n",
      "aqsaaqsaaqsaaqsaaqsaaqsa\n",
      "7\n",
      "aqsaaqsaaqsaaqsaaqsaaqsaaqsa\n",
      "8\n",
      "aqsaaqsaaqsaaqsaaqsaaqsaaqsaaqsa\n",
      "9\n",
      "aqsaaqsaaqsaaqsaaqsaaqsaaqsaaqsaaqsa\n",
      "10\n",
      "aqsaaqsaaqsaaqsaaqsaaqsaaqsaaqsaaqsaaqsa\n",
      "11\n",
      "aqsaaqsaaqsaaqsaaqsaaqsaaqsaaqsaaqsaaqsaaqsa\n"
     ]
    }
   ],
   "source": [
    "row =78\n",
    "for i in range(12):\n",
    "    print(i)\n",
    "    print(\"aqsa\"*i)\n"
   ]
  },
  {
   "cell_type": "code",
   "execution_count": 43,
   "id": "745d248b-430e-40c8-bfe3-21d0a6a3172e",
   "metadata": {},
   "outputs": [
    {
     "name": "stdout",
     "output_type": "stream",
     "text": [
      "\n",
      "a\n",
      "aa\n",
      "aaa\n",
      "aaaa\n"
     ]
    }
   ],
   "source": [
    "for i in range(5):\n",
    "    print(\"a\"*i)"
   ]
  },
  {
   "cell_type": "code",
   "execution_count": 9,
   "id": "6fbe66af-7f2b-46f7-acf6-c7492fb17f40",
   "metadata": {},
   "outputs": [
    {
     "name": "stdout",
     "output_type": "stream",
     "text": [
      "1 \n",
      "2 2 \n",
      "3 3 3 \n",
      "4 4 4 4 \n",
      "5 5 5 5 5 \n"
     ]
    }
   ],
   "source": [
    "row=5\n",
    "for i in range(1,row+1):\n",
    "    for j in range(1 ,i + 1):\n",
    "        print(i,end=\" \")\n",
    "    print()"
   ]
  },
  {
   "cell_type": "code",
   "execution_count": 17,
   "id": "32743de2-4ddc-469a-af7d-006809806ad0",
   "metadata": {},
   "outputs": [
    {
     "name": "stdout",
     "output_type": "stream",
     "text": [
      "1 \n",
      "2 2 \n",
      "3 3 3 \n",
      "4 4 4 4 \n",
      "5 5 5 5 5 \n"
     ]
    }
   ],
   "source": [
    "row=12\n",
    "for i in range(1,6):\n",
    "    for j in range(1,i+1):\n",
    "        print(i,end=\" \")\n",
    "    print()\n",
    "        \n",
    "    "
   ]
  },
  {
   "cell_type": "code",
   "execution_count": 47,
   "id": "59a53c9f-79dc-4b4d-8073-b323a4041745",
   "metadata": {},
   "outputs": [
    {
     "name": "stdout",
     "output_type": "stream",
     "text": [
      "1 \n",
      "2 2 \n",
      "3 3 3 \n",
      "4 4 4 4 \n",
      "5 5 5 5 5 \n"
     ]
    }
   ],
   "source": [
    "row=12\n",
    "for i in range(1,6):\n",
    "    for j in range(1,i+1):\n",
    "        print(i,end=\" \")\n",
    "    print()\n",
    "        \n",
    "    "
   ]
  },
  {
   "cell_type": "code",
   "execution_count": 5,
   "id": "717b21b2-e207-45a7-a80f-4e802fc0b017",
   "metadata": {},
   "outputs": [
    {
     "name": "stdout",
     "output_type": "stream",
     "text": [
      "12\n",
      "123\n",
      "1234\n",
      "12345\n",
      "123456\n",
      "1234567\n"
     ]
    }
   ],
   "source": [
    "row=14\n",
    "for i in range(2,8):\n",
    "    for a in range(1,i+1):\n",
    "        print(a,end=\"\")\n",
    "    print()"
   ]
  },
  {
   "cell_type": "code",
   "execution_count": 47,
   "id": "f1a246e9-8ad8-404d-86eb-fdfe869753e0",
   "metadata": {},
   "outputs": [
    {
     "ename": "TypeError",
     "evalue": "'list' object cannot be interpreted as an integer",
     "output_type": "error",
     "traceback": [
      "\u001b[1;31m---------------------------------------------------------------------------\u001b[0m",
      "\u001b[1;31mTypeError\u001b[0m                                 Traceback (most recent call last)",
      "Cell \u001b[1;32mIn[47], line 3\u001b[0m\n\u001b[0;32m      1\u001b[0m row\u001b[38;5;241m=\u001b[39m\u001b[38;5;241m14\u001b[39m\n\u001b[0;32m      2\u001b[0m \u001b[38;5;28;01mfor\u001b[39;00m i \u001b[38;5;129;01min\u001b[39;00m \u001b[38;5;28mrange\u001b[39m(\u001b[38;5;241m1\u001b[39m,\u001b[38;5;241m8\u001b[39m):\n\u001b[1;32m----> 3\u001b[0m     \u001b[38;5;28;01mfor\u001b[39;00m j \u001b[38;5;129;01min\u001b[39;00m \u001b[38;5;28mrange\u001b[39m([\u001b[38;5;241m90\u001b[39m,\u001b[38;5;241m90\u001b[39m]):\n\u001b[0;32m      4\u001b[0m         \u001b[38;5;28mprint\u001b[39m(j,end\u001b[38;5;241m=\u001b[39m\u001b[38;5;124m\"\u001b[39m\u001b[38;5;124m\"\u001b[39m)\n\u001b[0;32m      5\u001b[0m     \u001b[38;5;28mprint\u001b[39m(j)\n",
      "\u001b[1;31mTypeError\u001b[0m: 'list' object cannot be interpreted as an integer"
     ]
    }
   ],
   "source": [
    "row=14\n",
    "for i in range(1,8):\n",
    "    for j in range([90,90]):\n",
    "        print(j,end=\"\")\n",
    "    print(j)"
   ]
  },
  {
   "cell_type": "code",
   "execution_count": 6,
   "id": "8ab3fd07-e953-4bf7-ad37-8f6c8a2e28b1",
   "metadata": {},
   "outputs": [
    {
     "name": "stdout",
     "output_type": "stream",
     "text": [
      "4 5 \n",
      "4 5 6 \n",
      "4 5 6 7 \n",
      "4 5 6 7 8 \n",
      "4 5 6 7 8 9 \n"
     ]
    }
   ],
   "source": [
    "row=14\n",
    "for i in range(5,10):\n",
    "    for j in range(4,i+1):\n",
    "        print(j,end=\" \")\n",
    "    print()\n",
    "    "
   ]
  },
  {
   "cell_type": "code",
   "execution_count": 7,
   "id": "c763c999-5bba-4e46-9dd0-a0682a5780c4",
   "metadata": {},
   "outputs": [
    {
     "name": "stdout",
     "output_type": "stream",
     "text": [
      "2 3 4 \n",
      "2 3 4 5 \n",
      "2 3 4 5 6 \n",
      "2 3 4 5 6 7 \n",
      "2 3 4 5 6 7 8 \n",
      "2 3 4 5 6 7 8 9 \n",
      "2 3 4 5 6 7 8 9 10 \n",
      "2 3 4 5 6 7 8 9 10 11 \n",
      "2 3 4 5 6 7 8 9 10 11 12 \n",
      "2 3 4 5 6 7 8 9 10 11 12 13 \n"
     ]
    }
   ],
   "source": [
    "row=12\n",
    "for i in range(4,12+2):\n",
    "    for j in range(2,i+1):\n",
    "        print(j,end=\" \")\n",
    "    print()"
   ]
  },
  {
   "cell_type": "code",
   "execution_count": 8,
   "id": "8be6b7c2-8cf3-4d43-b04f-10b1c6543aa0",
   "metadata": {},
   "outputs": [
    {
     "name": "stdout",
     "output_type": "stream",
     "text": [
      "3 4 5 6 7 8 9 10 11 12 13 \n",
      "3 4 5 6 7 8 9 10 11 12 13 14 \n",
      "3 4 5 6 7 8 9 10 11 12 13 14 15 \n",
      "3 4 5 6 7 8 9 10 11 12 13 14 15 16 \n"
     ]
    }
   ],
   "source": [
    "row=12\n",
    "for i in range(10,14):\n",
    "    for j in range(3,i+4):\n",
    "        print(j,end=\" \")\n",
    "    print()"
   ]
  },
  {
   "cell_type": "code",
   "execution_count": 18,
   "id": "1e30cd4f-1971-456a-8e8d-4626685d31e8",
   "metadata": {},
   "outputs": [
    {
     "name": "stdout",
     "output_type": "stream",
     "text": [
      "2 3 4 5 6 7 8 \n",
      "2 3 4 5 6 7 8 9 \n",
      "2 3 4 5 6 7 8 9 10 \n",
      "2 3 4 5 6 7 8 9 10 11 \n",
      "2 3 4 5 6 7 8 9 10 11 12 \n",
      "2 3 4 5 6 7 8 9 10 11 12 13 \n",
      "2 3 4 5 6 7 8 9 10 11 12 13 14 \n",
      "2 3 4 5 6 7 8 9 10 11 12 13 14 15 \n",
      "2 3 4 5 6 7 8 9 10 11 12 13 14 15 16 \n",
      "2 3 4 5 6 7 8 9 10 11 12 13 14 15 16 17 \n"
     ]
    }
   ],
   "source": [
    "\n",
    "for i in range(4,14):\n",
    "    for j in range(2,i+5):\n",
    "        print(j,end=\" \")\n",
    "    print()"
   ]
  },
  {
   "cell_type": "code",
   "execution_count": null,
   "id": "7d564415-dc98-47f6-b863-c69ba230abdb",
   "metadata": {},
   "outputs": [],
   "source": []
  },
  {
   "cell_type": "code",
   "execution_count": null,
   "id": "d478bd49-197f-4ed1-9c56-5215f70f1236",
   "metadata": {},
   "outputs": [],
   "source": []
  },
  {
   "cell_type": "code",
   "execution_count": null,
   "id": "3c15f490-732f-4391-a749-916c7d4e71ec",
   "metadata": {},
   "outputs": [],
   "source": []
  },
  {
   "cell_type": "code",
   "execution_count": null,
   "id": "2c27a526-3524-4732-8a14-b15170a4d428",
   "metadata": {},
   "outputs": [],
   "source": []
  },
  {
   "cell_type": "markdown",
   "id": "bf6f0598-047c-4d8d-a6ad-4761e1a082c4",
   "metadata": {},
   "source": [
    "## while loop"
   ]
  },
  {
   "cell_type": "markdown",
   "id": "4748c988-2d98-48fe-8718-561ceb7fef3d",
   "metadata": {},
   "source": [
    "what is while loop"
   ]
  },
  {
   "cell_type": "markdown",
   "id": "83a3479f-fa3b-4ee6-84ab-33ad60646f3e",
   "metadata": {},
   "source": [
    "a while loop repeats a block of code as long as a condition is true "
   ]
  },
  {
   "cell_type": "code",
   "execution_count": 49,
   "id": "a7255729-8dc6-4665-9bd9-cfae358525e4",
   "metadata": {},
   "outputs": [
    {
     "name": "stdout",
     "output_type": "stream",
     "text": [
      "1\n",
      "2\n",
      "3\n",
      "4\n",
      "5\n",
      "get up it is time to study\n"
     ]
    }
   ],
   "source": [
    "i=1\n",
    "while i <=5:\n",
    "    print(i)\n",
    "    \n",
    "    i=i+1\n",
    "print(\"get up it is time to study\")"
   ]
  },
  {
   "cell_type": "code",
   "execution_count": 50,
   "id": "7b6b3899-ebd0-415d-9a7e-ff740799914d",
   "metadata": {},
   "outputs": [
    {
     "name": "stdout",
     "output_type": "stream",
     "text": [
      "1\n",
      "2\n",
      "3\n",
      "4\n",
      "5\n",
      "6\n",
      "get up it is time to study\n"
     ]
    }
   ],
   "source": [
    "i=1\n",
    "while i<=6:\n",
    "    print(i)\n",
    "    \n",
    "    i=i+1\n",
    "print(\"get up it is time to study\")"
   ]
  },
  {
   "cell_type": "code",
   "execution_count": 51,
   "id": "506e7ad3-b981-40de-9121-878e48303e97",
   "metadata": {},
   "outputs": [
    {
     "name": "stdout",
     "output_type": "stream",
     "text": [
      "1\n",
      "2\n",
      "3\n",
      "4\n",
      "5\n",
      "6\n",
      "get up it is time to study\n"
     ]
    }
   ],
   "source": [
    "i=1\n",
    "while i<=6:\n",
    "    print(i)\n",
    "    \n",
    "    i=i+1\n",
    "print(\"get up it is time to study\")"
   ]
  },
  {
   "cell_type": "code",
   "execution_count": 52,
   "id": "f6363043-4df6-4dd9-8f15-8ce4f4bcae21",
   "metadata": {},
   "outputs": [
    {
     "name": "stdout",
     "output_type": "stream",
     "text": [
      "get up it is time to study\n"
     ]
    }
   ],
   "source": [
    "i=1\n",
    "while i>=5:\n",
    "    print(i)\n",
    "    \n",
    "    i=i+1\n",
    "print(\"get up it is time to study\")"
   ]
  },
  {
   "cell_type": "code",
   "execution_count": 53,
   "id": "326ba28d-e669-4de0-b100-b15b6481b297",
   "metadata": {},
   "outputs": [],
   "source": [
    "i=6\n",
    "while 6<=5:\n",
    "    print(\"aqsa\")\n",
    "    "
   ]
  },
  {
   "cell_type": "code",
   "execution_count": 54,
   "id": "f6a53b30-22c5-4b7c-96d5-26a4a20aac1f",
   "metadata": {},
   "outputs": [
    {
     "name": "stdout",
     "output_type": "stream",
     "text": [
      "10\n",
      "11\n",
      "12\n",
      "13\n",
      "14\n",
      "15\n",
      "16\n",
      "17\n",
      "18\n",
      "19\n",
      "20\n",
      "stop\n"
     ]
    }
   ],
   "source": [
    "i=10\n",
    "while i<=20:\n",
    "    print(i)\n",
    "\n",
    "    i=i+1\n",
    "print(\"stop\")"
   ]
  },
  {
   "cell_type": "code",
   "execution_count": 55,
   "id": "beca907e-274f-465b-9f16-e6e228f612e6",
   "metadata": {},
   "outputs": [
    {
     "name": "stdout",
     "output_type": "stream",
     "text": [
      "10\n",
      "11\n",
      "12\n",
      "13\n",
      "14\n",
      "15\n",
      "16\n",
      "17\n",
      "18\n",
      "19\n",
      "20\n",
      "stop\n"
     ]
    }
   ],
   "source": [
    "i=10\n",
    "while i<=20:\n",
    "    print(i)\n",
    "\n",
    "    i=i+1\n",
    "print(\"stop\")"
   ]
  },
  {
   "cell_type": "code",
   "execution_count": 56,
   "id": "b3187597-1d56-4be7-90f9-4a20eb20768d",
   "metadata": {},
   "outputs": [
    {
     "name": "stdout",
     "output_type": "stream",
     "text": [
      "1\n",
      "5\n",
      "9\n",
      "13\n",
      "17\n",
      "stop\n"
     ]
    }
   ],
   "source": [
    "i=1\n",
    "while i<=20:\n",
    "    print(i)\n",
    "\n",
    "    i=i+4\n",
    "print(\"stop\")"
   ]
  },
  {
   "cell_type": "code",
   "execution_count": 57,
   "id": "bb3591c7-7c16-4046-9ab4-4d25541b1973",
   "metadata": {},
   "outputs": [
    {
     "name": "stdout",
     "output_type": "stream",
     "text": [
      "2\n",
      "6\n",
      "10\n",
      "14\n",
      "18\n",
      "stop the run\n"
     ]
    }
   ],
   "source": [
    "a=2\n",
    "while a<=20:\n",
    "    print(a)\n",
    "\n",
    "    a=a+4\n",
    "print(\"stop the run\")"
   ]
  },
  {
   "cell_type": "code",
   "execution_count": 58,
   "id": "dc4a516b-5efb-4ace-80f5-85f52766d8a2",
   "metadata": {},
   "outputs": [
    {
     "name": "stdout",
     "output_type": "stream",
     "text": [
      "14\n",
      "15\n",
      "16\n",
      "17\n",
      "18\n",
      "19\n",
      "20\n",
      "21\n",
      "22\n",
      "23\n",
      "24\n",
      "25\n",
      "stop\n"
     ]
    }
   ],
   "source": [
    "i=14\n",
    "while i<=25:\n",
    "    print(i)\n",
    "    i=i+1\n",
    "print(\"stop\")"
   ]
  },
  {
   "cell_type": "code",
   "execution_count": 9,
   "id": "395a4804-8968-476c-a184-393284d172c4",
   "metadata": {},
   "outputs": [
    {
     "name": "stdout",
     "output_type": "stream",
     "text": [
      "1 aqsa\n",
      "2 aqsa\n",
      "3 aqsa\n",
      "4 aqsa\n",
      "5 aqsa\n",
      "6 aqsa\n",
      "7 aqsa\n",
      "8 aqsa\n",
      "9 aqsa\n",
      "10 aqsa\n",
      "11 aqsa\n",
      "12 aqsa\n",
      "13 aqsa\n",
      "14 aqsa\n",
      "15 aqsa\n",
      "16 aqsa\n",
      "17 aqsa\n",
      "18 aqsa\n",
      "19 aqsa\n",
      "20 aqsa\n",
      "21 aqsa\n",
      "22 aqsa\n",
      "23 aqsa\n",
      "24 aqsa\n",
      "25 aqsa\n",
      "26 aqsa\n",
      "27 aqsa\n",
      "28 aqsa\n",
      "29 aqsa\n",
      "30 aqsa\n",
      "31 aqsa\n",
      "32 aqsa\n",
      "33 aqsa\n",
      "hello 34\n"
     ]
    }
   ],
   "source": [
    "i=1\n",
    "while i<34:\n",
    "    print(i,\"aqsa\")\n",
    "    i=i+1\n",
    "print(\"hello\",i)"
   ]
  },
  {
   "cell_type": "code",
   "execution_count": 1,
   "id": "a03fa127-5ce8-4bfa-9a8b-aab88f197e50",
   "metadata": {},
   "outputs": [
    {
     "name": "stdout",
     "output_type": "stream",
     "text": [
      "hello\n",
      "hello\n",
      "hello\n",
      "hello\n",
      "hello\n",
      "hello\n",
      "stop\n"
     ]
    }
   ],
   "source": [
    "i=5\n",
    "while i<=10:\n",
    "   print(\"hello\")\n",
    "   i=i+1\n",
    "print(\"stop\")"
   ]
  },
  {
   "cell_type": "code",
   "execution_count": 61,
   "id": "badb8cd8-df77-462a-9854-a6a4f98026ee",
   "metadata": {},
   "outputs": [
    {
     "name": "stdout",
     "output_type": "stream",
     "text": [
      "aqsa 23\n",
      "aqsa 24\n",
      "aqsa 25\n",
      "aqsa 26\n",
      "aqsa 27\n",
      "aqsa 28\n",
      "aqsa 29\n",
      "aqsa 30\n",
      "aqsa 31\n",
      "aqsa 32\n",
      "aqsa 33\n",
      "aqsa 34\n",
      "stop\n"
     ]
    }
   ],
   "source": [
    "num=23\n",
    "while num<=34:\n",
    "    print(\"aqsa\",num)\n",
    "    num=num+1\n",
    "print(\"stop\")"
   ]
  },
  {
   "cell_type": "code",
   "execution_count": 10,
   "id": "cfbfcea2-b4e4-49ca-ab4e-2cced6397ae9",
   "metadata": {},
   "outputs": [
    {
     "name": "stdout",
     "output_type": "stream",
     "text": [
      "found at idx 1\n"
     ]
    }
   ],
   "source": [
    "list=[89,78,89,45,34,22]\n",
    "x=78\n",
    "i=0\n",
    "while i<len(list):\n",
    "    if(list[i]==x):\n",
    "        print(\"found at idx\",i)\n",
    "    i=i+1"
   ]
  },
  {
   "cell_type": "code",
   "execution_count": 11,
   "id": "297745c5-112e-481d-972f-db5836787d77",
   "metadata": {},
   "outputs": [
    {
     "name": "stdout",
     "output_type": "stream",
     "text": [
      "hello\n",
      "hello\n",
      "7\n"
     ]
    }
   ],
   "source": [
    "i=5\n",
    "while i<7:\n",
    "    print(\"hello\")\n",
    "    i=i+1\n",
    "print(i)"
   ]
  },
  {
   "cell_type": "code",
   "execution_count": 12,
   "id": "c33db407-b198-472d-93f1-625fdb95592a",
   "metadata": {},
   "outputs": [
    {
     "name": "stdout",
     "output_type": "stream",
     "text": [
      "10\n",
      "9\n",
      "8\n",
      "7\n",
      "6\n",
      "5\n",
      "4\n",
      "3\n",
      "2\n",
      "1\n",
      "enough 0\n"
     ]
    }
   ],
   "source": [
    "num=10\n",
    "while num>=1:\n",
    "    print(num)\n",
    "    num=num-1\n",
    "print(\"enough\",num)"
   ]
  },
  {
   "cell_type": "code",
   "execution_count": 25,
   "id": "e998afdd-6f95-46cc-8d14-26580881df52",
   "metadata": {},
   "outputs": [
    {
     "name": "stdout",
     "output_type": "stream",
     "text": [
      "aqsa 10\n",
      "aqsa 9\n",
      "aqsa 8\n",
      "aqsa 7\n",
      "aqsa 6\n",
      "aqsa 5\n",
      "aqsa 4\n",
      "aqsa 3\n",
      "aqsa 2\n",
      "aqsa 1\n",
      "enough and stop the situation  0\n"
     ]
    }
   ],
   "source": [
    "a=10\n",
    "while a>=1:\n",
    "    print(\"aqsa\",a)\n",
    "    a=a-1\n",
    "print(\"enough and stop the situation \",a)"
   ]
  },
  {
   "cell_type": "code",
   "execution_count": 14,
   "id": "eb47201a-92a5-4a83-ad3a-7f50bdbafc85",
   "metadata": {},
   "outputs": [
    {
     "name": "stdout",
     "output_type": "stream",
     "text": [
      "3\n",
      "6\n",
      "9\n",
      "12\n",
      "15\n",
      "18\n",
      "21\n",
      "24\n",
      "27\n",
      "30\n",
      "table of three\n"
     ]
    }
   ],
   "source": [
    "i=1\n",
    "while i<=10:\n",
    "   print(3*i)\n",
    "   i=i+1\n",
    "print(\"table of three\")"
   ]
  },
  {
   "cell_type": "code",
   "execution_count": 15,
   "id": "7e25f6ce-ba1a-4504-8fb0-a6533cd0cf2b",
   "metadata": {},
   "outputs": [
    {
     "name": "stdout",
     "output_type": "stream",
     "text": [
      "1\n",
      "2\n",
      "3\n",
      "4\n",
      "5\n",
      "6\n",
      "7\n",
      "8\n",
      "9\n",
      "10\n",
      "stop 11\n"
     ]
    }
   ],
   "source": [
    "num=1\n",
    "while num<=10:\n",
    "    print(num)\n",
    "    num=num+1\n",
    "print(\"stop\",num)"
   ]
  },
  {
   "cell_type": "code",
   "execution_count": 16,
   "id": "643353ad-7096-4c17-b357-95168decdb78",
   "metadata": {},
   "outputs": [
    {
     "name": "stdout",
     "output_type": "stream",
     "text": [
      "4 1\n",
      "8 2\n",
      "12 3\n",
      "16 4\n",
      "20 5\n",
      "24 6\n",
      "28 7\n",
      "32 8\n",
      "36 9\n",
      "40 10\n",
      "table of three 11\n"
     ]
    }
   ],
   "source": [
    "i=1\n",
    "while i<=10:\n",
    "   print(4*i,i)\n",
    "   i=i+1\n",
    "print(\"table of three\",i)"
   ]
  },
  {
   "cell_type": "code",
   "execution_count": 17,
   "id": "d8652511-0bf5-476d-a0fd-a1de25b56dac",
   "metadata": {},
   "outputs": [
    {
     "name": "stdout",
     "output_type": "stream",
     "text": [
      "found at idx 1\n",
      "find\n"
     ]
    }
   ],
   "source": [
    "list=[89,78,89,45,34,22]\n",
    "x=78\n",
    "i=0\n",
    "while i<len(list):\n",
    "    if(list[i]==x):\n",
    "        print(\"found at idx\",i)\n",
    "    i=i+1\n",
    "print(\"find\")"
   ]
  },
  {
   "cell_type": "code",
   "execution_count": 13,
   "id": "da14c67b-8aa6-4b76-a637-d7f5751e5607",
   "metadata": {},
   "outputs": [
    {
     "name": "stdout",
     "output_type": "stream",
     "text": [
      "1 \n",
      "2 2 \n",
      "3 3 3 \n",
      "4 4 4 4 \n",
      "5 5 5 5 5 \n"
     ]
    }
   ],
   "source": [
    "for i in range(1,6):\n",
    "   for j in range(1,i+1):\n",
    "    print(i,end=\" \")\n",
    "   print()"
   ]
  },
  {
   "cell_type": "code",
   "execution_count": null,
   "id": "1de7155c-a170-48b2-96f7-93c15e046323",
   "metadata": {},
   "outputs": [],
   "source": []
  },
  {
   "cell_type": "code",
   "execution_count": 23,
   "id": "5d70ae91-269c-4494-8ebf-9cb0e1944ae9",
   "metadata": {},
   "outputs": [
    {
     "name": "stdout",
     "output_type": "stream",
     "text": [
      "2\n",
      "23\n",
      "234\n",
      "2345\n",
      "23456\n",
      "234567\n",
      "2345678\n",
      "23456789\n",
      "2345678910\n",
      "234567891011\n",
      "23456789101112\n",
      "2345678910111213\n",
      "234567891011121314\n",
      "23456789101112131415\n",
      "2345678910111213141516\n",
      "234567891011121314151617\n",
      "23456789101112131415161718\n",
      "2345678910111213141516171819\n"
     ]
    }
   ],
   "source": [
    "for i in range(2,20):\n",
    "    for j in range(2,i+1):\n",
    "     print(j,end=\"\")\n",
    "    print()"
   ]
  },
  {
   "cell_type": "code",
   "execution_count": 1,
   "id": "d379ef37-c74a-49d6-aae2-91eb8219a671",
   "metadata": {},
   "outputs": [
    {
     "name": "stdout",
     "output_type": "stream",
     "text": [
      "2\n",
      "4\n",
      "6\n",
      "8\n",
      "10\n",
      "12\n",
      "14\n",
      "16\n",
      "18\n",
      "20\n"
     ]
    }
   ],
   "source": [
    "i=1\n",
    "while i<=10:\n",
    "    print(i*2)\n",
    "    i=i+1\n",
    "    "
   ]
  },
  {
   "cell_type": "code",
   "execution_count": 4,
   "id": "44577f35-f53a-4884-a4b0-8d7e41c4b704",
   "metadata": {},
   "outputs": [
    {
     "ename": "NameError",
     "evalue": "name 'add_to_cart' is not defined",
     "output_type": "error",
     "traceback": [
      "\u001b[1;31m---------------------------------------------------------------------------\u001b[0m",
      "\u001b[1;31mNameError\u001b[0m                                 Traceback (most recent call last)",
      "Cell \u001b[1;32mIn[4], line 2\u001b[0m\n\u001b[0;32m      1\u001b[0m shopping_cart \u001b[38;5;241m=\u001b[39m {}\n\u001b[1;32m----> 2\u001b[0m add_to_cart(\u001b[38;5;124m'\u001b[39m\u001b[38;5;124mshopping_cart\u001b[39m\u001b[38;5;124m'\u001b[39m,\u001b[38;5;124m\"\u001b[39m\u001b[38;5;124mapple\u001b[39m\u001b[38;5;124m\"\u001b[39m, \u001b[38;5;241m1.20\u001b[39m)\n\u001b[0;32m      3\u001b[0m add_to_cart(\u001b[38;5;124m'\u001b[39m\u001b[38;5;124mshopping_cart\u001b[39m\u001b[38;5;124m'\u001b[39m, \u001b[38;5;124m\"\u001b[39m\u001b[38;5;124mbanana\u001b[39m\u001b[38;5;124m\"\u001b[39m, \u001b[38;5;241m20\u001b[39m)\n\u001b[0;32m      4\u001b[0m add_to_cart(\u001b[38;5;124m'\u001b[39m\u001b[38;5;124mshopping_cart\u001b[39m\u001b[38;5;124m'\u001b[39m,\u001b[38;5;124m\"\u001b[39m\u001b[38;5;124mpizza\u001b[39m\u001b[38;5;124m\"\u001b[39m,\u001b[38;5;241m78\u001b[39m)\n",
      "\u001b[1;31mNameError\u001b[0m: name 'add_to_cart' is not defined"
     ]
    }
   ],
   "source": [
    "shopping_cart = {}\n",
    "add_to_cart('shopping_cart',\"apple\", 1.20)\n",
    "add_to_cart('shopping_cart', \"banana\", 20)\n",
    "add_to_cart('shopping_cart',\"pizza\",78)\n",
    "add_to_cart('shopping_cart',\"chocolate\",100)\n",
    "show_cart('shopping_cart')\n"
   ]
  },
  {
   "cell_type": "code",
   "execution_count": 2,
   "id": "52cee6b7-1510-4a58-90b2-f423cb930aa6",
   "metadata": {},
   "outputs": [
    {
     "name": "stdout",
     "output_type": "stream",
     "text": [
      "Apple: $1.20\n",
      "Banana: $0.50\n",
      "Milk: $2.00\n",
      "Total: $3.70\n",
      "Apple: $1.20\n",
      "Milk: $2.00\n",
      "Total: $3.20\n"
     ]
    }
   ],
   "source": [
    "def add_to_cart(cart, item, price):\n",
    "    cart[item] = price\n",
    "\n",
    "def show_cart(cart):\n",
    "    if not cart:\n",
    "        print(\"Your cart is empty.\")\n",
    "    else:\n",
    "        for item, price in cart.items():\n",
    "            print(f\"{item}: ${price:.2f}\")\n",
    "        print(f\"Total: ${sum(cart.values()):.2f}\")\n",
    "\n",
    "def remove_from_cart(cart, item):\n",
    "    if item in cart:\n",
    "        del cart[item]\n",
    "    else:\n",
    "        print(f\"{item} not found in the cart.\")\n",
    "\n",
    "# Main program\n",
    "shopping_cart = {}\n",
    "add_to_cart(shopping_cart, \"Apple\", 1.20)\n",
    "add_to_cart(shopping_cart, \"Banana\", 0.50)\n",
    "add_to_cart(shopping_cart, \"Milk\", 2.00)\n",
    "show_cart(shopping_cart)\n",
    "\n",
    "remove_from_cart(shopping_cart, \"Banana\")\n",
    "show_cart(shopping_cart)\n"
   ]
  },
  {
   "cell_type": "code",
   "execution_count": 6,
   "id": "8bdcf65f-c6fd-41d8-a91d-2e99f5fc21a9",
   "metadata": {},
   "outputs": [],
   "source": [
    "def add_to_cart(cart,item,price):\n",
    "    cart[item]=price\n",
    "def show_cart(cart):\n",
    "    if not  cart :\n",
    "        print(\"this is the empty card\")\n",
    "def remove_from_cart(cart ,item):\n",
    "    if item in cart :\n",
    "        del cart[item]\n",
    "    else:\n",
    "        print(\"not found\")\n",
    "shopping_cart = {}\n",
    "add_to_cart(shopping_cart, \"Apple\", 1.20)\n",
    "add_to_cart(shopping_cart, \"Banana\", 0.50)\n",
    "add_to_cart(shopping_cart, \"Milk\", 2.00)\n",
    "show_cart(shopping_cart)\n",
    "\n",
    "remove_from_cart(shopping_cart, \"Banana\")\n",
    "show_cart(shopping_cart)\n",
    "\n"
   ]
  },
  {
   "cell_type": "code",
   "execution_count": 7,
   "id": "8eb4a62c-6e9a-4d36-9ee8-35ca6a02b7b5",
   "metadata": {},
   "outputs": [],
   "source": [
    "def add_the_cart(cart,item,price):\n",
    "   cart[item]=price\n",
    "def show_cart(cart):\n",
    "    if not cart:\n",
    "        print(\"not found\")\n",
    "def remove_from_cart(item ,price):\n",
    "     if item in cart:\n",
    "         del cart[item]\n",
    "     else:\n",
    "        print(\"not in found\")\n",
    "shopping_cart={}\n",
    "add_the_cart(shopping_cart,\"pizza\",56)\n",
    "add_the_cart(shopping_cart,\"kurti\",100)\n",
    "add_the_cart(shopping_cart,\"burger\",50)\n",
    "show_cart(shopping_cart)\n",
    "\n",
    "    "
   ]
  },
  {
   "cell_type": "markdown",
   "id": "fb21b833-8ff2-4bdd-b36c-d7fa0aa45d8d",
   "metadata": {},
   "source": [
    "## python function"
   ]
  },
  {
   "cell_type": "code",
   "execution_count": null,
   "id": "a0ee0765-3c7d-4140-805b-69c24c9fb14b",
   "metadata": {},
   "outputs": [],
   "source": [
    "def multiply (n1,n2)"
   ]
  },
  {
   "cell_type": "code",
   "execution_count": null,
   "id": "cb568f7b-834c-4661-aa03-8799ab577e3e",
   "metadata": {},
   "outputs": [],
   "source": []
  }
 ],
 "metadata": {
  "kernelspec": {
   "display_name": "Python 3 (ipykernel)",
   "language": "python",
   "name": "python3"
  },
  "language_info": {
   "codemirror_mode": {
    "name": "ipython",
    "version": 3
   },
   "file_extension": ".py",
   "mimetype": "text/x-python",
   "name": "python",
   "nbconvert_exporter": "python",
   "pygments_lexer": "ipython3",
   "version": "3.13.5"
  }
 },
 "nbformat": 4,
 "nbformat_minor": 5
}
